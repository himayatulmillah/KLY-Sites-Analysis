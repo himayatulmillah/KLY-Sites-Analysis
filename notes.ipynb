{
 "cells": [
  {
   "cell_type": "code",
   "execution_count": 1,
   "metadata": {
    "extensions": {
     "jupyter_dashboards": {
      "version": 1,
      "views": {
       "grid_default": {},
       "report_default": {
        "hidden": true
       }
      }
     }
    }
   },
   "outputs": [],
   "source": [
    "#conda install \"notebook>=5.3\" \"ipywidgets>=7.5\""
   ]
  },
  {
   "cell_type": "code",
   "execution_count": 1,
   "metadata": {
    "extensions": {
     "jupyter_dashboards": {
      "version": 1,
      "views": {
       "grid_default": {},
       "report_default": {
        "hidden": true
       }
      }
     }
    }
   },
   "outputs": [],
   "source": [
    "import os\n",
    "import pandas as pd\n",
    "import matplotlib.pyplot as plt\n",
    "import seaborn as sns"
   ]
  },
  {
   "cell_type": "code",
   "execution_count": 2,
   "metadata": {
    "extensions": {
     "jupyter_dashboards": {
      "version": 1,
      "views": {
       "grid_default": {},
       "report_default": {
        "hidden": true
       }
      }
     }
    }
   },
   "outputs": [],
   "source": [
    "\"\"\"\n",
    "install with $ pip install plotly==4.14.3 \n",
    "or $ conda install -c plotly plotly=4.14.3\n",
    "\"\"\"\n",
    "import plotly.express as px"
   ]
  },
  {
   "cell_type": "code",
   "execution_count": 3,
   "metadata": {
    "extensions": {
     "jupyter_dashboards": {
      "version": 1,
      "views": {
       "grid_default": {},
       "report_default": {
        "hidden": false
       }
      }
     }
    }
   },
   "outputs": [
    {
     "name": "stdout",
     "output_type": "stream",
     "text": [
      "10.csv (56250, 19)\n",
      "11.csv (56250, 19)\n",
      "12.csv (56250, 19)\n",
      "13.csv (56250, 19)\n",
      "14.csv (56250, 19)\n",
      "8.csv (56250, 19)\n",
      "9.csv (56250, 19)\n",
      "Shape of all_data: (393750, 19)\n"
     ]
    },
    {
     "data": {
      "text/html": [
       "<div>\n",
       "<style scoped>\n",
       "    .dataframe tbody tr th:only-of-type {\n",
       "        vertical-align: middle;\n",
       "    }\n",
       "\n",
       "    .dataframe tbody tr th {\n",
       "        vertical-align: top;\n",
       "    }\n",
       "\n",
       "    .dataframe thead th {\n",
       "        text-align: right;\n",
       "    }\n",
       "</style>\n",
       "<table border=\"1\" class=\"dataframe\">\n",
       "  <thead>\n",
       "    <tr style=\"text-align: right;\">\n",
       "      <th></th>\n",
       "      <th>id</th>\n",
       "      <th>browser_id</th>\n",
       "      <th>os_id</th>\n",
       "      <th>domain_id</th>\n",
       "      <th>device_info_id</th>\n",
       "      <th>visit_id</th>\n",
       "      <th>visitor_id</th>\n",
       "      <th>user_id</th>\n",
       "      <th>device_id</th>\n",
       "      <th>login_status</th>\n",
       "      <th>user_agent</th>\n",
       "      <th>platform</th>\n",
       "      <th>referrer</th>\n",
       "      <th>time</th>\n",
       "      <th>event_time</th>\n",
       "      <th>connection</th>\n",
       "      <th>year</th>\n",
       "      <th>month</th>\n",
       "      <th>day\\n</th>\n",
       "    </tr>\n",
       "  </thead>\n",
       "  <tbody>\n",
       "    <tr>\n",
       "      <th>0</th>\n",
       "      <td>cc8d7394-8fa2-480d-bc5f-2362177e9061</td>\n",
       "      <td>pale moon;28.16.0</td>\n",
       "      <td>windows;7</td>\n",
       "      <td>bukalapak.com</td>\n",
       "      <td>;other</td>\n",
       "      <td>162eb0cb-92d4-4bfd-a49f-666e8c8761ff</td>\n",
       "      <td>8eca0aa0-f83d-4f37-92f4-fecd5169c4f0</td>\n",
       "      <td>NaN</td>\n",
       "      <td>NaN</td>\n",
       "      <td>False</td>\n",
       "      <td>Mozilla/5.0 (Windows NT 6.1; Win64; x64; rv:68...</td>\n",
       "      <td>web-desktop</td>\n",
       "      <td>https://www.bukalapak.com/payment/transactions...</td>\n",
       "      <td>2021-02-10T09:12:45.000Z</td>\n",
       "      <td>2021-02-10T09:12:45.000Z</td>\n",
       "      <td>NaN</td>\n",
       "      <td>2021</td>\n",
       "      <td>2</td>\n",
       "      <td>10</td>\n",
       "    </tr>\n",
       "    <tr>\n",
       "      <th>1</th>\n",
       "      <td>0beb15cb-ff11-4e05-9d12-9c06b4d7acd3</td>\n",
       "      <td>chrome mobile;80.0.3987</td>\n",
       "      <td>android;10</td>\n",
       "      <td>m.liputan6.com</td>\n",
       "      <td>generic;generic smartphone</td>\n",
       "      <td>a00d0354-d67a-4c0c-89fc-3f3b0faceb10</td>\n",
       "      <td>f81a4b87-af9b-4e97-9ebc-b3c1f81e6280</td>\n",
       "      <td>NaN</td>\n",
       "      <td>NaN</td>\n",
       "      <td>False</td>\n",
       "      <td>Mozilla/5.0 (Linux; Android 10; V2026) AppleWe...</td>\n",
       "      <td>web-mobile</td>\n",
       "      <td>https://m.liputan6.com/showbiz/read/4479253/al...</td>\n",
       "      <td>2021-02-10T23:23:55.000Z</td>\n",
       "      <td>2021-02-10T23:23:55.000Z</td>\n",
       "      <td>NaN</td>\n",
       "      <td>2021</td>\n",
       "      <td>2</td>\n",
       "      <td>10</td>\n",
       "    </tr>\n",
       "    <tr>\n",
       "      <th>2</th>\n",
       "      <td>ccad1699-30c9-40b3-8a33-cda4df0613ec</td>\n",
       "      <td>pale moon;28.15.0</td>\n",
       "      <td>windows;10</td>\n",
       "      <td>bukalapak.com</td>\n",
       "      <td>;other</td>\n",
       "      <td>1065b1eb-8b54-4b91-9d32-ac9238809f32</td>\n",
       "      <td>59166c52-b4e8-40b2-8641-6a445394e257</td>\n",
       "      <td>NaN</td>\n",
       "      <td>NaN</td>\n",
       "      <td>False</td>\n",
       "      <td>Mozilla/5.0 (Windows NT 10.0; Win64; x64; rv:6...</td>\n",
       "      <td>web-desktop</td>\n",
       "      <td>https://www.bukalapak.com/payment/purchases/BL...</td>\n",
       "      <td>2021-02-10T10:13:53.000Z</td>\n",
       "      <td>2021-02-10T10:13:53.000Z</td>\n",
       "      <td>NaN</td>\n",
       "      <td>2021</td>\n",
       "      <td>2</td>\n",
       "      <td>10</td>\n",
       "    </tr>\n",
       "  </tbody>\n",
       "</table>\n",
       "</div>"
      ],
      "text/plain": [
       "                                     id               browser_id       os_id  \\\n",
       "0  cc8d7394-8fa2-480d-bc5f-2362177e9061        pale moon;28.16.0   windows;7   \n",
       "1  0beb15cb-ff11-4e05-9d12-9c06b4d7acd3  chrome mobile;80.0.3987  android;10   \n",
       "2  ccad1699-30c9-40b3-8a33-cda4df0613ec        pale moon;28.15.0  windows;10   \n",
       "\n",
       "        domain_id              device_info_id  \\\n",
       "0   bukalapak.com                      ;other   \n",
       "1  m.liputan6.com  generic;generic smartphone   \n",
       "2   bukalapak.com                      ;other   \n",
       "\n",
       "                               visit_id                            visitor_id  \\\n",
       "0  162eb0cb-92d4-4bfd-a49f-666e8c8761ff  8eca0aa0-f83d-4f37-92f4-fecd5169c4f0   \n",
       "1  a00d0354-d67a-4c0c-89fc-3f3b0faceb10  f81a4b87-af9b-4e97-9ebc-b3c1f81e6280   \n",
       "2  1065b1eb-8b54-4b91-9d32-ac9238809f32  59166c52-b4e8-40b2-8641-6a445394e257   \n",
       "\n",
       "   user_id  device_id  login_status  \\\n",
       "0      NaN        NaN         False   \n",
       "1      NaN        NaN         False   \n",
       "2      NaN        NaN         False   \n",
       "\n",
       "                                          user_agent     platform  \\\n",
       "0  Mozilla/5.0 (Windows NT 6.1; Win64; x64; rv:68...  web-desktop   \n",
       "1  Mozilla/5.0 (Linux; Android 10; V2026) AppleWe...   web-mobile   \n",
       "2  Mozilla/5.0 (Windows NT 10.0; Win64; x64; rv:6...  web-desktop   \n",
       "\n",
       "                                            referrer  \\\n",
       "0  https://www.bukalapak.com/payment/transactions...   \n",
       "1  https://m.liputan6.com/showbiz/read/4479253/al...   \n",
       "2  https://www.bukalapak.com/payment/purchases/BL...   \n",
       "\n",
       "                       time                event_time connection  year month  \\\n",
       "0  2021-02-10T09:12:45.000Z  2021-02-10T09:12:45.000Z        NaN  2021     2   \n",
       "1  2021-02-10T23:23:55.000Z  2021-02-10T23:23:55.000Z        NaN  2021     2   \n",
       "2  2021-02-10T10:13:53.000Z  2021-02-10T10:13:53.000Z        NaN  2021     2   \n",
       "\n",
       "  day\\n  \n",
       "0    10  \n",
       "1    10  \n",
       "2    10  "
      ]
     },
     "execution_count": 3,
     "metadata": {},
     "output_type": "execute_result"
    }
   ],
   "source": [
    "# Get all dataset name in directory\n",
    "files = [file for file in os.listdir('./Resources')]\n",
    "all_data = pd.DataFrame()\n",
    "\n",
    "# Looping to read all dataset\n",
    "for file in files[1:]:\n",
    "    # Get column name\n",
    "    f = open('./Resources/'+file, \"r\")\n",
    "    col_names = f.readline().split(\",\")\n",
    "    \n",
    "    # Load dataset\n",
    "    df = pd.read_csv('./Resources/'+file, names=col_names, skiprows=1, low_memory=False)\n",
    "    print(f'Shape of {file}', df.shape)\n",
    "    \n",
    "    # Merge dataset\n",
    "    all_data = pd.concat([all_data, df])\n",
    "    \n",
    "all_data.reset_index(drop=True, inplace=True)\n",
    "print('Shape of all_data:', all_data.shape)\n",
    "\n",
    "# The first three rows of all dataset\n",
    "all_data.head(3)"
   ]
  },
  {
   "cell_type": "markdown",
   "metadata": {
    "extensions": {
     "jupyter_dashboards": {
      "version": 1,
      "views": {
       "grid_default": {},
       "report_default": {
        "hidden": false
       }
      }
     }
    }
   },
   "source": [
    "You can refer to these glossaries for details of each field attributes (in sequences)\n",
    "<li><b>id</b> : record ID</li>\n",
    "<li><b>browser_id</b> : browser type</li>\n",
    "<li><b>os_id</b> : Operating System type</li>\n",
    "<li><b>domain_id</b> : domain or subdomain of webpage</li>\n",
    "<li><b>device_info_id</b> : device detail information</li>\n",
    "<li><b>visit_id</b>: users session id</li>\n",
    "<li><b>visitor_id</b> : unique user id</li>\n",
    "<li><b>user_id</b> : user login id</li>\n",
    "<li><b>device_id</b> : device ID</li>\n",
    "<li><b>login_status</b> : boolean status of user login</li>\n",
    "<li><b>user_agent</b> : browsers user agent details</li>\n",
    "<li><b>platform</b> : device platform, ie desktop or mobile</li>\n",
    "<li><b>referrer</b> : attribution of the visit, source of visitor coming from</li>\n",
    "<li><b>time</b> : users visit time</li>\n",
    "<li><b>event_time</b> : logging time</li>\n",
    "<li><b>connection</b> : type of user connection</li>\n",
    "<li><b>year</b> : year number</li>\n",
    "<li><b>month</b> : month number</li>\n",
    "<li><b>day</b> : day number</li>"
   ]
  },
  {
   "cell_type": "code",
   "execution_count": 4,
   "metadata": {
    "extensions": {
     "jupyter_dashboards": {
      "version": 1,
      "views": {
       "grid_default": {},
       "report_default": {
        "hidden": false
       }
      }
     }
    },
    "scrolled": true
   },
   "outputs": [
    {
     "data": {
      "text/plain": [
       "id                393750\n",
       "browser_id          1384\n",
       "os_id                257\n",
       "domain_id             88\n",
       "device_info_id      2448\n",
       "visit_id          387503\n",
       "visitor_id        378370\n",
       "user_id            15988\n",
       "device_id              0\n",
       "login_status           2\n",
       "user_agent         91912\n",
       "platform               3\n",
       "referrer          121288\n",
       "time              278476\n",
       "event_time        278862\n",
       "connection             3\n",
       "year                   3\n",
       "month                  3\n",
       "day\\n                  8\n",
       "dtype: int64"
      ]
     },
     "execution_count": 4,
     "metadata": {},
     "output_type": "execute_result"
    }
   ],
   "source": [
    "all_data.nunique()"
   ]
  },
  {
   "cell_type": "markdown",
   "metadata": {
    "extensions": {
     "jupyter_dashboards": {
      "version": 1,
      "views": {
       "grid_default": {},
       "report_default": {
        "hidden": false
       }
      }
     }
    }
   },
   "source": [
    "Drop column that containe generate id like 'id', 'visit_id', and 'visitor_id', that column doesn't help our analysis and our model at this project."
   ]
  },
  {
   "cell_type": "code",
   "execution_count": 5,
   "metadata": {
    "extensions": {
     "jupyter_dashboards": {
      "version": 1,
      "views": {
       "grid_default": {},
       "report_default": {
        "hidden": true
       }
      }
     }
    }
   },
   "outputs": [],
   "source": [
    "# drop 'id', 'visit_id', and 'visitor_id'\n",
    "all_data.drop(columns=['id', 'visit_id', 'visitor_id'], axis=1, inplace=True)"
   ]
  },
  {
   "cell_type": "markdown",
   "metadata": {
    "extensions": {
     "jupyter_dashboards": {
      "version": 1,
      "views": {
       "grid_default": {},
       "report_default": {
        "hidden": false
       }
      }
     }
    }
   },
   "source": [
    "### Check missing values"
   ]
  },
  {
   "cell_type": "code",
   "execution_count": 6,
   "metadata": {
    "extensions": {
     "jupyter_dashboards": {
      "version": 1,
      "views": {
       "grid_default": {},
       "report_default": {
        "hidden": false
       }
      }
     }
    },
    "scrolled": true
   },
   "outputs": [
    {
     "name": "stdout",
     "output_type": "stream",
     "text": [
      "Missing values of [domain_id] column: 15 or 0.0%\n",
      "Missing values of [user_id] column: 376852 or 95.71%\n",
      "Missing values of [device_id] column: 393750 or 100.0%\n",
      "Missing values of [referrer] column: 14 or 0.0%\n",
      "Missing values of [connection] column: 393736 or 100.0%\n"
     ]
    }
   ],
   "source": [
    "drop_col = []\n",
    "for col in all_data.columns:\n",
    "    miss_val = all_data[col].isna().sum()\n",
    "    if miss_val > 0:\n",
    "        print(f'Missing values of [{col}] column: {miss_val} or {round((miss_val / all_data.shape[0]) * 100, 2)}%')\n",
    "        if ((miss_val / all_data.shape[0]) * 100) > 95 :\n",
    "            drop_col.append(col)"
   ]
  },
  {
   "cell_type": "markdown",
   "metadata": {
    "extensions": {
     "jupyter_dashboards": {
      "version": 1,
      "views": {
       "grid_default": {},
       "report_default": {
        "hidden": false
       }
      }
     }
    }
   },
   "source": [
    "As we know that there are many missing values in 'user_id', 'device_id' and 'connection' columns (above 95%), we can just drop that columns by set <code>axis=1</code>. Another way to deal with missing value from 'domain_id' and 'reffer' by drop the rows of data that contain a missing value using <code>.dropna()</code> function."
   ]
  },
  {
   "cell_type": "code",
   "execution_count": 7,
   "metadata": {
    "extensions": {
     "jupyter_dashboards": {
      "version": 1,
      "views": {
       "grid_default": {},
       "report_default": {
        "hidden": false
       }
      }
     }
    }
   },
   "outputs": [
    {
     "data": {
      "text/plain": [
       "(393735, 13)"
      ]
     },
     "execution_count": 7,
     "metadata": {},
     "output_type": "execute_result"
    }
   ],
   "source": [
    "# drop 'domain_id', 'user_id' and 'device_id' columns\n",
    "all_data.drop(columns=drop_col, axis=1, inplace=True)\n",
    "all_data.dropna(inplace=True)\n",
    "\n",
    "# check shape of data\n",
    "all_data.shape"
   ]
  },
  {
   "cell_type": "code",
   "execution_count": 8,
   "metadata": {
    "extensions": {
     "jupyter_dashboards": {
      "version": 1,
      "views": {
       "grid_default": {},
       "report_default": {
        "hidden": false
       }
      }
     }
    },
    "scrolled": true
   },
   "outputs": [
    {
     "name": "stdout",
     "output_type": "stream",
     "text": [
      "login_status\n",
      "[False, True]\n",
      "==============\n",
      "platform\n",
      "['web-desktop', 'web-mobile', '\\\\\"Accept\\\\\":\\\\\"text/html']\n",
      "==============\n",
      "year\n",
      "[2021, '2021', 'web-desktop']\n",
      "==============\n",
      "month\n",
      "[2, '2', 'https://www.bukalapak.com/c/kesehatan-2359/kesehatan-wanita?page=1533&search%5Btodays_deal%5D=1']\n",
      "==============\n",
      "day\n",
      "\n",
      "[10, 11, 12, 13, 14, '8', '2021-02-08T06:48:18.000Z', 9]\n",
      "==============\n"
     ]
    }
   ],
   "source": [
    "for col in all_data.columns:\n",
    "    if all_data[col].nunique() < 10:\n",
    "        print(f'{col}')\n",
    "        print(all_data[col].unique().tolist())\n",
    "        print('==============')"
   ]
  },
  {
   "cell_type": "markdown",
   "metadata": {
    "extensions": {
     "jupyter_dashboards": {
      "version": 1,
      "views": {
       "grid_default": {},
       "report_default": {
        "hidden": false
       }
      }
     }
    }
   },
   "source": [
    "There is a unique value for year and month columns (2021-2), drop row that contain year except 2021 then drop year and month columns."
   ]
  },
  {
   "cell_type": "code",
   "execution_count": 9,
   "metadata": {
    "extensions": {
     "jupyter_dashboards": {
      "version": 1,
      "views": {
       "grid_default": {},
       "report_default": {
        "hidden": false
       }
      }
     }
    }
   },
   "outputs": [
    {
     "data": {
      "text/plain": [
       "year     2\n",
       "month    2\n",
       "date     8\n",
       "dtype: int64"
      ]
     },
     "execution_count": 9,
     "metadata": {},
     "output_type": "execute_result"
    }
   ],
   "source": [
    "all_data.rename(columns={'day\\n': 'date'}, inplace=True)\n",
    "all_data.replace({'year':{'2021': 2021}, \n",
    "                  'month':{'2': 2}, \n",
    "                  'date':{'8': 8}}, inplace=True)\n",
    "all_data[['year', 'month', 'date']].nunique()"
   ]
  },
  {
   "cell_type": "code",
   "execution_count": 10,
   "metadata": {
    "extensions": {
     "jupyter_dashboards": {
      "version": 1,
      "views": {
       "grid_default": {},
       "report_default": {
        "hidden": false
       }
      }
     }
    },
    "scrolled": true
   },
   "outputs": [
    {
     "data": {
      "text/html": [
       "<div>\n",
       "<style scoped>\n",
       "    .dataframe tbody tr th:only-of-type {\n",
       "        vertical-align: middle;\n",
       "    }\n",
       "\n",
       "    .dataframe tbody tr th {\n",
       "        vertical-align: top;\n",
       "    }\n",
       "\n",
       "    .dataframe thead th {\n",
       "        text-align: right;\n",
       "    }\n",
       "</style>\n",
       "<table border=\"1\" class=\"dataframe\">\n",
       "  <thead>\n",
       "    <tr style=\"text-align: right;\">\n",
       "      <th></th>\n",
       "      <th>browser_id</th>\n",
       "      <th>os_id</th>\n",
       "      <th>domain_id</th>\n",
       "      <th>device_info_id</th>\n",
       "      <th>login_status</th>\n",
       "      <th>user_agent</th>\n",
       "      <th>platform</th>\n",
       "      <th>referrer</th>\n",
       "      <th>time</th>\n",
       "      <th>event_time</th>\n",
       "      <th>year</th>\n",
       "      <th>month</th>\n",
       "      <th>date</th>\n",
       "    </tr>\n",
       "  </thead>\n",
       "  <tbody>\n",
       "    <tr>\n",
       "      <th>300962</th>\n",
       "      <td>other;</td>\n",
       "      <td>mac os x;10.9.5</td>\n",
       "      <td>bukalapak.com</td>\n",
       "      <td>;other</td>\n",
       "      <td>False</td>\n",
       "      <td>Mozilla/5.0 (Macintosh; Intel Mac OS X 10_9_5)...</td>\n",
       "      <td>\\\"Accept\\\":\\\"text/html</td>\n",
       "      <td>application/xhtml+xml</td>\n",
       "      <td>application/xml;q=0.9</td>\n",
       "      <td>image/webp</td>\n",
       "      <td>web-desktop</td>\n",
       "      <td>https://www.bukalapak.com/c/kesehatan-2359/kes...</td>\n",
       "      <td>2021-02-08T06:48:18.000Z</td>\n",
       "    </tr>\n",
       "  </tbody>\n",
       "</table>\n",
       "</div>"
      ],
      "text/plain": [
       "       browser_id            os_id      domain_id device_info_id  \\\n",
       "300962     other;  mac os x;10.9.5  bukalapak.com         ;other   \n",
       "\n",
       "        login_status                                         user_agent  \\\n",
       "300962         False  Mozilla/5.0 (Macintosh; Intel Mac OS X 10_9_5)...   \n",
       "\n",
       "                      platform               referrer                   time  \\\n",
       "300962  \\\"Accept\\\":\\\"text/html  application/xhtml+xml  application/xml;q=0.9   \n",
       "\n",
       "        event_time         year  \\\n",
       "300962  image/webp  web-desktop   \n",
       "\n",
       "                                                    month  \\\n",
       "300962  https://www.bukalapak.com/c/kesehatan-2359/kes...   \n",
       "\n",
       "                            date  \n",
       "300962  2021-02-08T06:48:18.000Z  "
      ]
     },
     "execution_count": 10,
     "metadata": {},
     "output_type": "execute_result"
    }
   ],
   "source": [
    "all_data[all_data['year'] != 2021]"
   ]
  },
  {
   "cell_type": "code",
   "execution_count": 11,
   "metadata": {
    "extensions": {
     "jupyter_dashboards": {
      "version": 1,
      "views": {
       "grid_default": {},
       "report_default": {
        "hidden": false
       }
      }
     }
    }
   },
   "outputs": [
    {
     "data": {
      "text/html": [
       "<div>\n",
       "<style scoped>\n",
       "    .dataframe tbody tr th:only-of-type {\n",
       "        vertical-align: middle;\n",
       "    }\n",
       "\n",
       "    .dataframe tbody tr th {\n",
       "        vertical-align: top;\n",
       "    }\n",
       "\n",
       "    .dataframe thead th {\n",
       "        text-align: right;\n",
       "    }\n",
       "</style>\n",
       "<table border=\"1\" class=\"dataframe\">\n",
       "  <thead>\n",
       "    <tr style=\"text-align: right;\">\n",
       "      <th></th>\n",
       "      <th>browser_id</th>\n",
       "      <th>os_id</th>\n",
       "      <th>domain_id</th>\n",
       "      <th>device_info_id</th>\n",
       "      <th>login_status</th>\n",
       "      <th>user_agent</th>\n",
       "      <th>platform</th>\n",
       "      <th>referrer</th>\n",
       "      <th>time</th>\n",
       "      <th>event_time</th>\n",
       "      <th>date</th>\n",
       "    </tr>\n",
       "  </thead>\n",
       "  <tbody>\n",
       "    <tr>\n",
       "      <th>300961</th>\n",
       "      <td>facebook;300.0.0</td>\n",
       "      <td>android;8.1.0</td>\n",
       "      <td>m.kapanlagi.com</td>\n",
       "      <td>generic_android;wv</td>\n",
       "      <td>False</td>\n",
       "      <td>Mozilla/5.0 (Linux; Android 8.1.0; CPH1803 Bui...</td>\n",
       "      <td>web-mobile</td>\n",
       "      <td>https://m.kapanlagi.com/foto/berita-foto/indon...</td>\n",
       "      <td>2021-02-08T22:14:58.000Z</td>\n",
       "      <td>2021-02-08T22:14:58.000Z</td>\n",
       "      <td>8</td>\n",
       "    </tr>\n",
       "    <tr>\n",
       "      <th>300962</th>\n",
       "      <td>facebook;289.0.0</td>\n",
       "      <td>android;10</td>\n",
       "      <td>m.kapanlagi.com</td>\n",
       "      <td>vivo;vivo 1938</td>\n",
       "      <td>False</td>\n",
       "      <td>Mozilla/5.0 (Linux; Android 10; vivo 1938 Buil...</td>\n",
       "      <td>web-mobile</td>\n",
       "      <td>https://m.kapanlagi.com/foto/berita-foto/indon...</td>\n",
       "      <td>2021-02-08T19:39:44.000Z</td>\n",
       "      <td>2021-02-08T19:39:44.000Z</td>\n",
       "      <td>8</td>\n",
       "    </tr>\n",
       "  </tbody>\n",
       "</table>\n",
       "</div>"
      ],
      "text/plain": [
       "              browser_id          os_id        domain_id      device_info_id  \\\n",
       "300961  facebook;300.0.0  android;8.1.0  m.kapanlagi.com  generic_android;wv   \n",
       "300962  facebook;289.0.0     android;10  m.kapanlagi.com      vivo;vivo 1938   \n",
       "\n",
       "        login_status                                         user_agent  \\\n",
       "300961         False  Mozilla/5.0 (Linux; Android 8.1.0; CPH1803 Bui...   \n",
       "300962         False  Mozilla/5.0 (Linux; Android 10; vivo 1938 Buil...   \n",
       "\n",
       "          platform                                           referrer  \\\n",
       "300961  web-mobile  https://m.kapanlagi.com/foto/berita-foto/indon...   \n",
       "300962  web-mobile  https://m.kapanlagi.com/foto/berita-foto/indon...   \n",
       "\n",
       "                            time                event_time date  \n",
       "300961  2021-02-08T22:14:58.000Z  2021-02-08T22:14:58.000Z    8  \n",
       "300962  2021-02-08T19:39:44.000Z  2021-02-08T19:39:44.000Z    8  "
      ]
     },
     "execution_count": 11,
     "metadata": {},
     "output_type": "execute_result"
    }
   ],
   "source": [
    "all_data.drop([300962], inplace=True)\n",
    "all_data.reset_index(drop=True, inplace=True)\n",
    "all_data.drop(columns=['year', 'month'], axis=1, inplace=True)\n",
    "all_data[300961:300963]"
   ]
  },
  {
   "cell_type": "markdown",
   "metadata": {
    "extensions": {
     "jupyter_dashboards": {
      "version": 1,
      "views": {
       "grid_default": {},
       "report_default": {
        "hidden": false
       }
      }
     }
    }
   },
   "source": [
    "### Convert Dtype"
   ]
  },
  {
   "cell_type": "code",
   "execution_count": 12,
   "metadata": {
    "extensions": {
     "jupyter_dashboards": {
      "version": 1,
      "views": {
       "grid_default": {},
       "report_default": {
        "hidden": false
       }
      }
     }
    },
    "scrolled": false
   },
   "outputs": [
    {
     "name": "stdout",
     "output_type": "stream",
     "text": [
      "<class 'pandas.core.frame.DataFrame'>\n",
      "RangeIndex: 393734 entries, 0 to 393733\n",
      "Data columns (total 11 columns):\n",
      " #   Column          Non-Null Count   Dtype \n",
      "---  ------          --------------   ----- \n",
      " 0   browser_id      393734 non-null  object\n",
      " 1   os_id           393734 non-null  object\n",
      " 2   domain_id       393734 non-null  object\n",
      " 3   device_info_id  393734 non-null  object\n",
      " 4   login_status    393734 non-null  bool  \n",
      " 5   user_agent      393734 non-null  object\n",
      " 6   platform        393734 non-null  object\n",
      " 7   referrer        393734 non-null  object\n",
      " 8   time            393734 non-null  object\n",
      " 9   event_time      393734 non-null  object\n",
      " 10  date            393734 non-null  object\n",
      "dtypes: bool(1), object(10)\n",
      "memory usage: 30.4+ MB\n"
     ]
    }
   ],
   "source": [
    "all_data.info()"
   ]
  },
  {
   "cell_type": "code",
   "execution_count": 13,
   "metadata": {
    "extensions": {
     "jupyter_dashboards": {
      "version": 1,
      "views": {
       "grid_default": {},
       "report_default": {
        "hidden": false
       }
      }
     }
    },
    "scrolled": true
   },
   "outputs": [
    {
     "data": {
      "text/plain": [
       "browser_id          1383\n",
       "os_id                257\n",
       "domain_id             88\n",
       "device_info_id      2448\n",
       "login_status           2\n",
       "user_agent         91908\n",
       "platform               2\n",
       "referrer          121286\n",
       "time              278469\n",
       "event_time        278855\n",
       "date                   7\n",
       "dtype: int64"
      ]
     },
     "execution_count": 13,
     "metadata": {},
     "output_type": "execute_result"
    }
   ],
   "source": [
    "all_data.nunique()"
   ]
  },
  {
   "cell_type": "markdown",
   "metadata": {
    "extensions": {
     "jupyter_dashboards": {
      "version": 1,
      "views": {
       "grid_default": {},
       "report_default": {
        "hidden": false
       }
      }
     }
    }
   },
   "source": [
    "There are 2 columns that contain datetime value, 'time' and 'event_time' columns. Convert that columns using <code>.to_datetime()</code> function."
   ]
  },
  {
   "cell_type": "code",
   "execution_count": 14,
   "metadata": {
    "extensions": {
     "jupyter_dashboards": {
      "version": 1,
      "views": {
       "grid_default": {},
       "report_default": {
        "hidden": true
       }
      }
     }
    }
   },
   "outputs": [],
   "source": [
    "# convert 'time' and 'event_time' columns as datetime\n",
    "all_data['time'] = pd.to_datetime(all_data['time']).dt.tz_localize(None)\n",
    "all_data['event_time'] = pd.to_datetime(all_data['event_time']).dt.tz_localize(None)"
   ]
  },
  {
   "cell_type": "markdown",
   "metadata": {
    "extensions": {
     "jupyter_dashboards": {
      "version": 1,
      "views": {
       "grid_default": {},
       "report_default": {
        "hidden": false
       }
      }
     }
    }
   },
   "source": [
    "### Feature engineering"
   ]
  },
  {
   "cell_type": "code",
   "execution_count": 15,
   "metadata": {
    "extensions": {
     "jupyter_dashboards": {
      "version": 1,
      "views": {
       "grid_default": {},
       "report_default": {
        "hidden": false
       }
      }
     }
    },
    "scrolled": false
   },
   "outputs": [
    {
     "data": {
      "text/html": [
       "<div>\n",
       "<style scoped>\n",
       "    .dataframe tbody tr th:only-of-type {\n",
       "        vertical-align: middle;\n",
       "    }\n",
       "\n",
       "    .dataframe tbody tr th {\n",
       "        vertical-align: top;\n",
       "    }\n",
       "\n",
       "    .dataframe thead th {\n",
       "        text-align: right;\n",
       "    }\n",
       "</style>\n",
       "<table border=\"1\" class=\"dataframe\">\n",
       "  <thead>\n",
       "    <tr style=\"text-align: right;\">\n",
       "      <th></th>\n",
       "      <th>browser_id</th>\n",
       "      <th>os_id</th>\n",
       "      <th>domain_id</th>\n",
       "      <th>device_info_id</th>\n",
       "      <th>login_status</th>\n",
       "      <th>user_agent</th>\n",
       "      <th>platform</th>\n",
       "      <th>referrer</th>\n",
       "      <th>time</th>\n",
       "      <th>event_time</th>\n",
       "      <th>date</th>\n",
       "    </tr>\n",
       "  </thead>\n",
       "  <tbody>\n",
       "    <tr>\n",
       "      <th>0</th>\n",
       "      <td>pale moon;28.16.0</td>\n",
       "      <td>windows;7</td>\n",
       "      <td>bukalapak.com</td>\n",
       "      <td>;other</td>\n",
       "      <td>False</td>\n",
       "      <td>Mozilla/5.0 (Windows NT 6.1; Win64; x64; rv:68...</td>\n",
       "      <td>web-desktop</td>\n",
       "      <td>https://www.bukalapak.com/payment/transactions...</td>\n",
       "      <td>2021-02-10 09:12:45</td>\n",
       "      <td>2021-02-10 09:12:45</td>\n",
       "      <td>10</td>\n",
       "    </tr>\n",
       "    <tr>\n",
       "      <th>1</th>\n",
       "      <td>chrome mobile;80.0.3987</td>\n",
       "      <td>android;10</td>\n",
       "      <td>m.liputan6.com</td>\n",
       "      <td>generic;generic smartphone</td>\n",
       "      <td>False</td>\n",
       "      <td>Mozilla/5.0 (Linux; Android 10; V2026) AppleWe...</td>\n",
       "      <td>web-mobile</td>\n",
       "      <td>https://m.liputan6.com/showbiz/read/4479253/al...</td>\n",
       "      <td>2021-02-10 23:23:55</td>\n",
       "      <td>2021-02-10 23:23:55</td>\n",
       "      <td>10</td>\n",
       "    </tr>\n",
       "    <tr>\n",
       "      <th>2</th>\n",
       "      <td>pale moon;28.15.0</td>\n",
       "      <td>windows;10</td>\n",
       "      <td>bukalapak.com</td>\n",
       "      <td>;other</td>\n",
       "      <td>False</td>\n",
       "      <td>Mozilla/5.0 (Windows NT 10.0; Win64; x64; rv:6...</td>\n",
       "      <td>web-desktop</td>\n",
       "      <td>https://www.bukalapak.com/payment/purchases/BL...</td>\n",
       "      <td>2021-02-10 10:13:53</td>\n",
       "      <td>2021-02-10 10:13:53</td>\n",
       "      <td>10</td>\n",
       "    </tr>\n",
       "  </tbody>\n",
       "</table>\n",
       "</div>"
      ],
      "text/plain": [
       "                browser_id       os_id       domain_id  \\\n",
       "0        pale moon;28.16.0   windows;7   bukalapak.com   \n",
       "1  chrome mobile;80.0.3987  android;10  m.liputan6.com   \n",
       "2        pale moon;28.15.0  windows;10   bukalapak.com   \n",
       "\n",
       "               device_info_id  login_status  \\\n",
       "0                      ;other         False   \n",
       "1  generic;generic smartphone         False   \n",
       "2                      ;other         False   \n",
       "\n",
       "                                          user_agent     platform  \\\n",
       "0  Mozilla/5.0 (Windows NT 6.1; Win64; x64; rv:68...  web-desktop   \n",
       "1  Mozilla/5.0 (Linux; Android 10; V2026) AppleWe...   web-mobile   \n",
       "2  Mozilla/5.0 (Windows NT 10.0; Win64; x64; rv:6...  web-desktop   \n",
       "\n",
       "                                            referrer                time  \\\n",
       "0  https://www.bukalapak.com/payment/transactions... 2021-02-10 09:12:45   \n",
       "1  https://m.liputan6.com/showbiz/read/4479253/al... 2021-02-10 23:23:55   \n",
       "2  https://www.bukalapak.com/payment/purchases/BL... 2021-02-10 10:13:53   \n",
       "\n",
       "           event_time date  \n",
       "0 2021-02-10 09:12:45   10  \n",
       "1 2021-02-10 23:23:55   10  \n",
       "2 2021-02-10 10:13:53   10  "
      ]
     },
     "execution_count": 15,
     "metadata": {},
     "output_type": "execute_result"
    }
   ],
   "source": [
    "all_data.head(3)"
   ]
  },
  {
   "cell_type": "markdown",
   "metadata": {
    "extensions": {
     "jupyter_dashboards": {
      "version": 1,
      "views": {
       "grid_default": {},
       "report_default": {
        "hidden": false
       }
      }
     }
    }
   },
   "source": [
    "Before start out analysis, we can get more information with feature engineering proccess."
   ]
  },
  {
   "cell_type": "code",
   "execution_count": 16,
   "metadata": {
    "extensions": {
     "jupyter_dashboards": {
      "version": 1,
      "views": {
       "grid_default": {},
       "report_default": {
        "hidden": true
       }
      }
     }
    },
    "scrolled": true
   },
   "outputs": [],
   "source": [
    "df_new = all_data.copy().drop('event_time', axis=1)\n",
    "df_new.set_index('time', inplace=True)\n",
    "# extract 'browser_id', 'os_id', 'device_info_id' columns\n",
    "for col in list(['browser_id', 'os_id', 'device_info_id']):\n",
    "    col_name = col.split('_')[0]\n",
    "    df_new[col_name] = df_new[col].apply(lambda x: x.split(';')[0])\n",
    "    df_new[col_name+'_type'] = df_new[col].apply(lambda x: x.split(';')[1])\n",
    "\n",
    "# drop original columns\n",
    "df_new.drop(columns=['browser_id', 'os_id', 'device_info_id'], axis=1, inplace=True)\n",
    "\n",
    "# replace '' to 'other' value in 'device' column\n",
    "df_new.replace({'device': {'': 'undefined'}}, inplace=True)"
   ]
  },
  {
   "cell_type": "code",
   "execution_count": 17,
   "metadata": {
    "extensions": {
     "jupyter_dashboards": {
      "version": 1,
      "views": {
       "grid_default": {},
       "report_default": {
        "hidden": true
       }
      }
     }
    }
   },
   "outputs": [],
   "source": [
    "# create function for split and get domain\n",
    "#def get_name_domain(res):\n",
    "#    if len(res) >= 4 or res[-2] in list(['000webhostapp', 'blogspot']):\n",
    "#        res, dom = '.'.join(res[:-2]), '.'.join(res[-2:])\n",
    "#    elif len(res) == 3 and len(res[1]) > 3:\n",
    "#        res, dom = '.'.join(res[:-1]), res[2]\n",
    "#    else:\n",
    "#        res, dom = res[0], '.'.join(res[1:])\n",
    "#    return res, dom\n",
    "\n",
    "def split_domain(domain_name):\n",
    "    if domain_name[-14:] == 'translate.goog':\n",
    "        domain_name = '.'.join(domain_name.split('.')[0].split('-')[2:])\n",
    "        \n",
    "    if domain_name[:2] == 'm.':\n",
    "        site = domain_name[2:].split('.')\n",
    "    else:\n",
    "        site = domain_name.split('.')\n",
    "    #site, domain = get_name_domain(site)[0], get_name_domain(site)[1]\n",
    "    return '.'.join(site)"
   ]
  },
  {
   "cell_type": "code",
   "execution_count": 18,
   "metadata": {
    "extensions": {
     "jupyter_dashboards": {
      "version": 1,
      "views": {
       "grid_default": {},
       "report_default": {
        "hidden": true
       }
      }
     }
    }
   },
   "outputs": [],
   "source": [
    "# extract 'domain_id' column\n",
    "#df_new['situs'] = df_new['domain_id'].apply(lambda x: split_domain(x)[0])\n",
    "df_new['domain'] = df_new['domain_id'].apply(lambda x: split_domain(x))\n",
    "\n",
    "# drop original column\n",
    "df_new.drop(columns=['domain_id'], axis=1, inplace=True)"
   ]
  },
  {
   "cell_type": "code",
   "execution_count": 19,
   "metadata": {
    "extensions": {
     "jupyter_dashboards": {
      "version": 1,
      "views": {
       "grid_default": {},
       "report_default": {
        "hidden": true
       }
      }
     }
    },
    "scrolled": true
   },
   "outputs": [],
   "source": [
    "# extract 'time' and 'event_time' column\n",
    "#for col in list(['time', 'event_time']):\n",
    "#    df_new[col+'_hms'] = df_new[col].dt.time\n",
    "\n",
    "# drop original columns\n",
    "#df_new.drop(columns=['time', 'event_time'], axis=1, inplace=True)"
   ]
  },
  {
   "cell_type": "code",
   "execution_count": 20,
   "metadata": {
    "extensions": {
     "jupyter_dashboards": {
      "version": 1,
      "views": {
       "grid_default": {},
       "report_default": {
        "hidden": false
       }
      }
     }
    },
    "scrolled": true
   },
   "outputs": [
    {
     "data": {
      "text/plain": [
       "login_status         2\n",
       "user_agent       91908\n",
       "platform             2\n",
       "referrer        121286\n",
       "date                 7\n",
       "browser            102\n",
       "browser_type      1059\n",
       "os                  12\n",
       "os_type            242\n",
       "device              44\n",
       "device_type       2307\n",
       "domain              66\n",
       "dtype: int64"
      ]
     },
     "execution_count": 20,
     "metadata": {},
     "output_type": "execute_result"
    }
   ],
   "source": [
    "df_new.nunique()"
   ]
  },
  {
   "cell_type": "code",
   "execution_count": 21,
   "metadata": {
    "extensions": {
     "jupyter_dashboards": {
      "version": 1,
      "views": {
       "grid_default": {},
       "report_default": {
        "hidden": false
       }
      }
     }
    },
    "scrolled": false
   },
   "outputs": [
    {
     "name": "stdout",
     "output_type": "stream",
     "text": [
      "<class 'pandas.core.frame.DataFrame'>\n",
      "DatetimeIndex: 393734 entries, 2021-02-10 09:12:45 to 2021-02-09 19:44:11\n",
      "Data columns (total 12 columns):\n",
      " #   Column        Non-Null Count   Dtype \n",
      "---  ------        --------------   ----- \n",
      " 0   login_status  393734 non-null  bool  \n",
      " 1   user_agent    393734 non-null  object\n",
      " 2   platform      393734 non-null  object\n",
      " 3   referrer      393734 non-null  object\n",
      " 4   date          393734 non-null  object\n",
      " 5   browser       393734 non-null  object\n",
      " 6   browser_type  393734 non-null  object\n",
      " 7   os            393734 non-null  object\n",
      " 8   os_type       393734 non-null  object\n",
      " 9   device        393734 non-null  object\n",
      " 10  device_type   393734 non-null  object\n",
      " 11  domain        393734 non-null  object\n",
      "dtypes: bool(1), object(11)\n",
      "memory usage: 36.4+ MB\n"
     ]
    }
   ],
   "source": [
    "df_new.info()"
   ]
  },
  {
   "cell_type": "code",
   "execution_count": 22,
   "metadata": {
    "extensions": {
     "jupyter_dashboards": {
      "version": 1,
      "views": {
       "grid_default": {},
       "report_default": {
        "hidden": false
       }
      }
     }
    }
   },
   "outputs": [
    {
     "data": {
      "text/html": [
       "<div>\n",
       "<style scoped>\n",
       "    .dataframe tbody tr th:only-of-type {\n",
       "        vertical-align: middle;\n",
       "    }\n",
       "\n",
       "    .dataframe tbody tr th {\n",
       "        vertical-align: top;\n",
       "    }\n",
       "\n",
       "    .dataframe thead th {\n",
       "        text-align: right;\n",
       "    }\n",
       "</style>\n",
       "<table border=\"1\" class=\"dataframe\">\n",
       "  <thead>\n",
       "    <tr style=\"text-align: right;\">\n",
       "      <th></th>\n",
       "      <th>login_status</th>\n",
       "      <th>user_agent</th>\n",
       "      <th>platform</th>\n",
       "      <th>referrer</th>\n",
       "      <th>date</th>\n",
       "      <th>browser</th>\n",
       "      <th>browser_type</th>\n",
       "      <th>os</th>\n",
       "      <th>os_type</th>\n",
       "      <th>device</th>\n",
       "      <th>device_type</th>\n",
       "      <th>domain</th>\n",
       "    </tr>\n",
       "    <tr>\n",
       "      <th>time</th>\n",
       "      <th></th>\n",
       "      <th></th>\n",
       "      <th></th>\n",
       "      <th></th>\n",
       "      <th></th>\n",
       "      <th></th>\n",
       "      <th></th>\n",
       "      <th></th>\n",
       "      <th></th>\n",
       "      <th></th>\n",
       "      <th></th>\n",
       "      <th></th>\n",
       "    </tr>\n",
       "  </thead>\n",
       "  <tbody>\n",
       "    <tr>\n",
       "      <th>2021-02-10 09:12:45</th>\n",
       "      <td>False</td>\n",
       "      <td>Mozilla/5.0 (Windows NT 6.1; Win64; x64; rv:68...</td>\n",
       "      <td>web-desktop</td>\n",
       "      <td>https://www.bukalapak.com/payment/transactions...</td>\n",
       "      <td>10</td>\n",
       "      <td>pale moon</td>\n",
       "      <td>28.16.0</td>\n",
       "      <td>windows</td>\n",
       "      <td>7</td>\n",
       "      <td>undefined</td>\n",
       "      <td>other</td>\n",
       "      <td>bukalapak.com</td>\n",
       "    </tr>\n",
       "    <tr>\n",
       "      <th>2021-02-10 23:23:55</th>\n",
       "      <td>False</td>\n",
       "      <td>Mozilla/5.0 (Linux; Android 10; V2026) AppleWe...</td>\n",
       "      <td>web-mobile</td>\n",
       "      <td>https://m.liputan6.com/showbiz/read/4479253/al...</td>\n",
       "      <td>10</td>\n",
       "      <td>chrome mobile</td>\n",
       "      <td>80.0.3987</td>\n",
       "      <td>android</td>\n",
       "      <td>10</td>\n",
       "      <td>generic</td>\n",
       "      <td>generic smartphone</td>\n",
       "      <td>liputan6.com</td>\n",
       "    </tr>\n",
       "    <tr>\n",
       "      <th>2021-02-10 10:13:53</th>\n",
       "      <td>False</td>\n",
       "      <td>Mozilla/5.0 (Windows NT 10.0; Win64; x64; rv:6...</td>\n",
       "      <td>web-desktop</td>\n",
       "      <td>https://www.bukalapak.com/payment/purchases/BL...</td>\n",
       "      <td>10</td>\n",
       "      <td>pale moon</td>\n",
       "      <td>28.15.0</td>\n",
       "      <td>windows</td>\n",
       "      <td>10</td>\n",
       "      <td>undefined</td>\n",
       "      <td>other</td>\n",
       "      <td>bukalapak.com</td>\n",
       "    </tr>\n",
       "    <tr>\n",
       "      <th>2021-02-10 22:18:02</th>\n",
       "      <td>False</td>\n",
       "      <td>Mozilla/5.0 (Linux; Android 10; RMX1821) Apple...</td>\n",
       "      <td>web-mobile</td>\n",
       "      <td>https://m.bukalapak.com/p-gs/rumah-tangga/furn...</td>\n",
       "      <td>10</td>\n",
       "      <td>chrome mobile</td>\n",
       "      <td>87.0.4280</td>\n",
       "      <td>android</td>\n",
       "      <td>10</td>\n",
       "      <td>generic</td>\n",
       "      <td>generic smartphone</td>\n",
       "      <td>bukalapak.com</td>\n",
       "    </tr>\n",
       "    <tr>\n",
       "      <th>2021-02-10 14:14:59</th>\n",
       "      <td>False</td>\n",
       "      <td>Mozilla/5.0 (Linux; Android 10; SM-G965F) Appl...</td>\n",
       "      <td>web-mobile</td>\n",
       "      <td>https://m.merdeka.com/foto/artis/1272931/20210...</td>\n",
       "      <td>10</td>\n",
       "      <td>chrome mobile</td>\n",
       "      <td>88.0.4324</td>\n",
       "      <td>android</td>\n",
       "      <td>10</td>\n",
       "      <td>samsung</td>\n",
       "      <td>samsung sm-g965f</td>\n",
       "      <td>merdeka.com</td>\n",
       "    </tr>\n",
       "  </tbody>\n",
       "</table>\n",
       "</div>"
      ],
      "text/plain": [
       "                     login_status  \\\n",
       "time                                \n",
       "2021-02-10 09:12:45         False   \n",
       "2021-02-10 23:23:55         False   \n",
       "2021-02-10 10:13:53         False   \n",
       "2021-02-10 22:18:02         False   \n",
       "2021-02-10 14:14:59         False   \n",
       "\n",
       "                                                            user_agent  \\\n",
       "time                                                                     \n",
       "2021-02-10 09:12:45  Mozilla/5.0 (Windows NT 6.1; Win64; x64; rv:68...   \n",
       "2021-02-10 23:23:55  Mozilla/5.0 (Linux; Android 10; V2026) AppleWe...   \n",
       "2021-02-10 10:13:53  Mozilla/5.0 (Windows NT 10.0; Win64; x64; rv:6...   \n",
       "2021-02-10 22:18:02  Mozilla/5.0 (Linux; Android 10; RMX1821) Apple...   \n",
       "2021-02-10 14:14:59  Mozilla/5.0 (Linux; Android 10; SM-G965F) Appl...   \n",
       "\n",
       "                        platform  \\\n",
       "time                               \n",
       "2021-02-10 09:12:45  web-desktop   \n",
       "2021-02-10 23:23:55   web-mobile   \n",
       "2021-02-10 10:13:53  web-desktop   \n",
       "2021-02-10 22:18:02   web-mobile   \n",
       "2021-02-10 14:14:59   web-mobile   \n",
       "\n",
       "                                                              referrer date  \\\n",
       "time                                                                          \n",
       "2021-02-10 09:12:45  https://www.bukalapak.com/payment/transactions...   10   \n",
       "2021-02-10 23:23:55  https://m.liputan6.com/showbiz/read/4479253/al...   10   \n",
       "2021-02-10 10:13:53  https://www.bukalapak.com/payment/purchases/BL...   10   \n",
       "2021-02-10 22:18:02  https://m.bukalapak.com/p-gs/rumah-tangga/furn...   10   \n",
       "2021-02-10 14:14:59  https://m.merdeka.com/foto/artis/1272931/20210...   10   \n",
       "\n",
       "                           browser browser_type       os os_type     device  \\\n",
       "time                                                                          \n",
       "2021-02-10 09:12:45      pale moon      28.16.0  windows       7  undefined   \n",
       "2021-02-10 23:23:55  chrome mobile    80.0.3987  android      10    generic   \n",
       "2021-02-10 10:13:53      pale moon      28.15.0  windows      10  undefined   \n",
       "2021-02-10 22:18:02  chrome mobile    87.0.4280  android      10    generic   \n",
       "2021-02-10 14:14:59  chrome mobile    88.0.4324  android      10    samsung   \n",
       "\n",
       "                            device_type         domain  \n",
       "time                                                    \n",
       "2021-02-10 09:12:45               other  bukalapak.com  \n",
       "2021-02-10 23:23:55  generic smartphone   liputan6.com  \n",
       "2021-02-10 10:13:53               other  bukalapak.com  \n",
       "2021-02-10 22:18:02  generic smartphone  bukalapak.com  \n",
       "2021-02-10 14:14:59    samsung sm-g965f    merdeka.com  "
      ]
     },
     "execution_count": 22,
     "metadata": {},
     "output_type": "execute_result"
    }
   ],
   "source": [
    "df_new.head()"
   ]
  },
  {
   "cell_type": "markdown",
   "metadata": {
    "extensions": {
     "jupyter_dashboards": {
      "version": 1,
      "views": {
       "grid_default": {},
       "report_default": {
        "hidden": false
       }
      }
     }
    }
   },
   "source": [
    "# Exploratory Data Analysis"
   ]
  },
  {
   "cell_type": "code",
   "execution_count": 23,
   "metadata": {
    "extensions": {
     "jupyter_dashboards": {
      "version": 1,
      "views": {
       "grid_default": {},
       "report_default": {
        "hidden": false
       }
      }
     }
    }
   },
   "outputs": [
    {
     "data": {
      "text/html": [
       "<div>\n",
       "<style scoped>\n",
       "    .dataframe tbody tr th:only-of-type {\n",
       "        vertical-align: middle;\n",
       "    }\n",
       "\n",
       "    .dataframe tbody tr th {\n",
       "        vertical-align: top;\n",
       "    }\n",
       "\n",
       "    .dataframe thead th {\n",
       "        text-align: right;\n",
       "    }\n",
       "</style>\n",
       "<table border=\"1\" class=\"dataframe\">\n",
       "  <thead>\n",
       "    <tr style=\"text-align: right;\">\n",
       "      <th></th>\n",
       "      <th>login_status</th>\n",
       "      <th>user_agent</th>\n",
       "      <th>platform</th>\n",
       "      <th>referrer</th>\n",
       "      <th>date</th>\n",
       "      <th>browser</th>\n",
       "      <th>browser_type</th>\n",
       "      <th>os</th>\n",
       "      <th>os_type</th>\n",
       "      <th>device</th>\n",
       "      <th>device_type</th>\n",
       "      <th>domain</th>\n",
       "    </tr>\n",
       "  </thead>\n",
       "  <tbody>\n",
       "    <tr>\n",
       "      <th>count</th>\n",
       "      <td>393734</td>\n",
       "      <td>393734</td>\n",
       "      <td>393734</td>\n",
       "      <td>393734</td>\n",
       "      <td>393734</td>\n",
       "      <td>393734</td>\n",
       "      <td>393734</td>\n",
       "      <td>393734</td>\n",
       "      <td>393734</td>\n",
       "      <td>393734</td>\n",
       "      <td>393734</td>\n",
       "      <td>393734</td>\n",
       "    </tr>\n",
       "    <tr>\n",
       "      <th>unique</th>\n",
       "      <td>2</td>\n",
       "      <td>91908</td>\n",
       "      <td>2</td>\n",
       "      <td>121286</td>\n",
       "      <td>7</td>\n",
       "      <td>102</td>\n",
       "      <td>1059</td>\n",
       "      <td>12</td>\n",
       "      <td>242</td>\n",
       "      <td>44</td>\n",
       "      <td>2307</td>\n",
       "      <td>66</td>\n",
       "    </tr>\n",
       "    <tr>\n",
       "      <th>top</th>\n",
       "      <td>False</td>\n",
       "      <td>Mozilla/5.0 (Windows NT 10.0; Win64; x64) Appl...</td>\n",
       "      <td>web-mobile</td>\n",
       "      <td>https://m.vidio.com/live/665-rcti</td>\n",
       "      <td>9</td>\n",
       "      <td>chrome mobile</td>\n",
       "      <td>88.0.4324</td>\n",
       "      <td>android</td>\n",
       "      <td>10</td>\n",
       "      <td>generic</td>\n",
       "      <td>generic smartphone</td>\n",
       "      <td>brilio.net</td>\n",
       "    </tr>\n",
       "    <tr>\n",
       "      <th>freq</th>\n",
       "      <td>376836</td>\n",
       "      <td>11946</td>\n",
       "      <td>341397</td>\n",
       "      <td>2759</td>\n",
       "      <td>56250</td>\n",
       "      <td>178700</td>\n",
       "      <td>112851</td>\n",
       "      <td>329295</td>\n",
       "      <td>136476</td>\n",
       "      <td>94184</td>\n",
       "      <td>94169</td>\n",
       "      <td>83984</td>\n",
       "    </tr>\n",
       "  </tbody>\n",
       "</table>\n",
       "</div>"
      ],
      "text/plain": [
       "       login_status                                         user_agent  \\\n",
       "count        393734                                             393734   \n",
       "unique            2                                              91908   \n",
       "top           False  Mozilla/5.0 (Windows NT 10.0; Win64; x64) Appl...   \n",
       "freq         376836                                              11946   \n",
       "\n",
       "          platform                           referrer    date        browser  \\\n",
       "count       393734                             393734  393734         393734   \n",
       "unique           2                             121286       7            102   \n",
       "top     web-mobile  https://m.vidio.com/live/665-rcti       9  chrome mobile   \n",
       "freq        341397                               2759   56250         178700   \n",
       "\n",
       "       browser_type       os os_type   device         device_type      domain  \n",
       "count        393734   393734  393734   393734              393734      393734  \n",
       "unique         1059       12     242       44                2307          66  \n",
       "top       88.0.4324  android      10  generic  generic smartphone  brilio.net  \n",
       "freq         112851   329295  136476    94184               94169       83984  "
      ]
     },
     "execution_count": 23,
     "metadata": {},
     "output_type": "execute_result"
    }
   ],
   "source": [
    "df_new.describe()"
   ]
  },
  {
   "cell_type": "code",
   "execution_count": 24,
   "metadata": {
    "extensions": {
     "jupyter_dashboards": {
      "version": 1,
      "views": {
       "grid_default": {},
       "report_default": {
        "hidden": false
       }
      }
     }
    },
    "scrolled": false
   },
   "outputs": [],
   "source": [
    "#for date in range(8, 15):\n",
    "    # check top value on each date\n",
    "#    print(f'\\033[1mTop value on each column at {date}-2-2021\\033[0m')\n",
    "#    for col in df_new.columns:\n",
    "#        top = df_new[df_new['date'] == date][col].describe().top\n",
    "#        freq = df_new[df_new['date'] == date][col].describe().freq\n",
    "#        print('|', col, ':', (freq, top))\n",
    "#    print('=============================================================\\n')"
   ]
  },
  {
   "cell_type": "markdown",
   "metadata": {
    "extensions": {
     "jupyter_dashboards": {
      "version": 1,
      "views": {
       "grid_default": {},
       "report_default": {
        "hidden": false
       }
      }
     }
    }
   },
   "source": [
    "##  Visualization of data distribution"
   ]
  },
  {
   "cell_type": "markdown",
   "metadata": {
    "extensions": {
     "jupyter_dashboards": {
      "version": 1,
      "views": {
       "grid_default": {},
       "report_default": {
        "hidden": false
       }
      }
     }
    }
   },
   "source": [
    "### 'login_status'  and 'platform' column"
   ]
  },
  {
   "cell_type": "code",
   "execution_count": 25,
   "metadata": {
    "extensions": {
     "jupyter_dashboards": {
      "version": 1,
      "views": {
       "grid_default": {},
       "report_default": {
        "hidden": false
       }
      }
     }
    },
    "scrolled": false
   },
   "outputs": [
    {
     "data": {
      "text/plain": [
       "False    376836\n",
       "True      16898\n",
       "Name: login_status, dtype: int64"
      ]
     },
     "execution_count": 25,
     "metadata": {},
     "output_type": "execute_result"
    }
   ],
   "source": [
    "df_new['login_status'].value_counts()"
   ]
  },
  {
   "cell_type": "code",
   "execution_count": 26,
   "metadata": {
    "extensions": {
     "jupyter_dashboards": {
      "version": 1,
      "views": {
       "grid_default": {},
       "report_default": {
        "hidden": false
       }
      }
     }
    },
    "scrolled": false
   },
   "outputs": [
    {
     "data": {
      "text/plain": [
       "web-mobile     341397\n",
       "web-desktop     52337\n",
       "Name: platform, dtype: int64"
      ]
     },
     "execution_count": 26,
     "metadata": {},
     "output_type": "execute_result"
    }
   ],
   "source": [
    "df_new['platform'].value_counts()"
   ]
  },
  {
   "cell_type": "code",
   "execution_count": 27,
   "metadata": {
    "extensions": {
     "jupyter_dashboards": {
      "version": 1,
      "views": {
       "grid_default": {},
       "report_default": {
        "hidden": false
       }
      }
     }
    }
   },
   "outputs": [
    {
     "data": {
      "image/png": "[encoded data removed]",
      "text/plain": [
       "<Figure size 1080x432 with 2 Axes>"
      ]
     },
     "metadata": {},
     "output_type": "display_data"
    }
   ],
   "source": [
    "# Make figure and axes\n",
    "fig, axs = plt.subplots(1, 2, figsize=(15,6))\n",
    "\n",
    "for ax, col in zip(range(0,2), list(['login_status', 'platform'])):\n",
    "    val = df_new[col].value_counts()\n",
    "    labels = val.index.tolist()\n",
    "    axs[ax].pie(val, labels=labels, autopct='%.0f%%', colors=['lightskyblue', 'gold'], explode=[0, 0.2])\n",
    "    axs[ax].set_title(f'Data Distribution of {col}')\n",
    "plt.show()"
   ]
  },
  {
   "cell_type": "code",
   "execution_count": 131,
   "metadata": {
    "extensions": {
     "jupyter_dashboards": {
      "version": 1,
      "views": {
       "grid_default": {},
       "report_default": {
        "hidden": false
       }
      }
     }
    }
   },
   "outputs": [
    {
     "data": {
      "image/png": "[encoded data removed]",
      "text/plain": [
       "<Figure size 720x360 with 1 Axes>"
      ]
     },
     "metadata": {
      "needs_background": "light"
     },
     "output_type": "display_data"
    }
   ],
   "source": [
    "plt.figure(figsize=(10,5))\n",
    "ax = sns.countplot(data=df_new, y='login_status', hue='platform', palette='cool')\n",
    "plt.xlabel('Count in Thousand')\n",
    "labels, locations = plt.xticks()\n",
    "plt.xticks(labels, (labels/1000).astype(int))\n",
    "plt.legend(loc='lower right')\n",
    "\n",
    "for p in ax.patches:\n",
    "    if p.get_width() > 300000:\n",
    "        x = p.get_x() + p.get_width() - 26000\n",
    "    else:\n",
    "        x = p.get_x() + p.get_width() + 2000\n",
    "    y = p.get_y() + p.get_height()/1.8\n",
    "    ax.annotate(p.get_width(), (x, y))\n",
    "\n",
    "plt.show()"
   ]
  },
  {
   "cell_type": "markdown",
   "metadata": {
    "extensions": {
     "jupyter_dashboards": {
      "version": 1,
      "views": {
       "grid_default": {},
       "report_default": {
        "hidden": false
       }
      }
     }
    }
   },
   "source": [
    "# Question"
   ]
  },
  {
   "cell_type": "markdown",
   "metadata": {
    "extensions": {
     "jupyter_dashboards": {
      "version": 1,
      "views": {
       "grid_default": {},
       "report_default": {
        "hidden": false
       }
      }
     }
    }
   },
   "source": [
    "<ol>\n",
    "    <li>Conduct 1 EDA from this dataset and present the exploratory, you could use presentation deck/docs/jupyter notebook, etc. Using statistics method or ML model is a plus</li>\n",
    "    <li>After conducting the EDA, what kind of insight that you could extract from this datasets? If you could tell us a stories around this data, it is a plus</li>\n",
    "    <li>Answer this questions:</li>\n",
    "    <ul>\n",
    "        <li>What kind of tools that you use to work on this dataset?</li>\n",
    "        <li>Please let us know why and describe the significant advantage of that tools.</li>\n",
    "    </ul>\n",
    "    <li>How could we know the retention % of the users on each domain ?</li>\n",
    "    <li>Can you give insight on favorable used browsers, devices, OS and platform ?</li>\n",
    "    <li>Could you show the method on how to get the numbers & describe the overlapping users between each domain ?</li>\n",
    "</ol>"
   ]
  },
  {
   "cell_type": "markdown",
   "metadata": {
    "extensions": {
     "jupyter_dashboards": {
      "version": 1,
      "views": {
       "grid_default": {
        "hidden": true
       },
       "report_default": {
        "hidden": true
       }
      }
     }
    }
   },
   "source": [
    "##  Retention % of the users on each domain"
   ]
  },
  {
   "cell_type": "code",
   "execution_count": 29,
   "metadata": {
    "extensions": {
     "jupyter_dashboards": {
      "version": 1,
      "views": {
       "grid_default": {},
       "report_default": {
        "hidden": false
       }
      }
     }
    },
    "scrolled": false
   },
   "outputs": [
    {
     "data": {
      "text/html": [
       "<div>\n",
       "<style scoped>\n",
       "    .dataframe tbody tr th:only-of-type {\n",
       "        vertical-align: middle;\n",
       "    }\n",
       "\n",
       "    .dataframe tbody tr th {\n",
       "        vertical-align: top;\n",
       "    }\n",
       "\n",
       "    .dataframe thead th {\n",
       "        text-align: right;\n",
       "    }\n",
       "</style>\n",
       "<table border=\"1\" class=\"dataframe\">\n",
       "  <thead>\n",
       "    <tr style=\"text-align: right;\">\n",
       "      <th></th>\n",
       "      <th>domain_top10</th>\n",
       "      <th>retention%</th>\n",
       "    </tr>\n",
       "  </thead>\n",
       "  <tbody>\n",
       "    <tr>\n",
       "      <th>brilio.net</th>\n",
       "      <td>83984</td>\n",
       "      <td>21.33</td>\n",
       "    </tr>\n",
       "    <tr>\n",
       "      <th>kapanlagi.com</th>\n",
       "      <td>82896</td>\n",
       "      <td>21.05</td>\n",
       "    </tr>\n",
       "    <tr>\n",
       "      <th>merdeka.com</th>\n",
       "      <td>64099</td>\n",
       "      <td>16.28</td>\n",
       "    </tr>\n",
       "    <tr>\n",
       "      <th>vidio.com</th>\n",
       "      <td>42147</td>\n",
       "      <td>10.70</td>\n",
       "    </tr>\n",
       "    <tr>\n",
       "      <th>liputan6.com</th>\n",
       "      <td>39549</td>\n",
       "      <td>10.04</td>\n",
       "    </tr>\n",
       "    <tr>\n",
       "      <th>bukalapak.com</th>\n",
       "      <td>35977</td>\n",
       "      <td>9.14</td>\n",
       "    </tr>\n",
       "    <tr>\n",
       "      <th>bola.com</th>\n",
       "      <td>12969</td>\n",
       "      <td>3.29</td>\n",
       "    </tr>\n",
       "    <tr>\n",
       "      <th>bola.net</th>\n",
       "      <td>11500</td>\n",
       "      <td>2.92</td>\n",
       "    </tr>\n",
       "    <tr>\n",
       "      <th>dream.co.id</th>\n",
       "      <td>7866</td>\n",
       "      <td>2.00</td>\n",
       "    </tr>\n",
       "    <tr>\n",
       "      <th>fimela.com</th>\n",
       "      <td>6795</td>\n",
       "      <td>1.73</td>\n",
       "    </tr>\n",
       "    <tr>\n",
       "      <th>others</th>\n",
       "      <td>5952</td>\n",
       "      <td>1.51</td>\n",
       "    </tr>\n",
       "  </tbody>\n",
       "</table>\n",
       "</div>"
      ],
      "text/plain": [
       "               domain_top10  retention%\n",
       "brilio.net            83984       21.33\n",
       "kapanlagi.com         82896       21.05\n",
       "merdeka.com           64099       16.28\n",
       "vidio.com             42147       10.70\n",
       "liputan6.com          39549       10.04\n",
       "bukalapak.com         35977        9.14\n",
       "bola.com              12969        3.29\n",
       "bola.net              11500        2.92\n",
       "dream.co.id            7866        2.00\n",
       "fimela.com             6795        1.73\n",
       "others                 5952        1.51"
      ]
     },
     "execution_count": 29,
     "metadata": {},
     "output_type": "execute_result"
    }
   ],
   "source": [
    "# get top 10 domain\n",
    "domain_top10 = df_new.domain.value_counts().head(10).index.tolist()\n",
    "# create new column and assign domain value if in domain_top10 list\n",
    "df_new['domain_top10'] = df_new['domain'].apply(lambda x: x if (x in domain_top10) else 'others')\n",
    "\n",
    "# calculate domain retention\n",
    "domain_retention = pd.DataFrame(df_new['domain_top10'].value_counts())\n",
    "domain_retention['retention%'] = round((domain_retention['domain_top10']/df_new['domain_top10'].count()*100),2)\n",
    "domain_retention"
   ]
  },
  {
   "cell_type": "code",
   "execution_count": 30,
   "metadata": {
    "extensions": {
     "jupyter_dashboards": {
      "version": 1,
      "views": {
       "grid_default": {},
       "report_default": {
        "hidden": false
       }
      }
     }
    }
   },
   "outputs": [
    {
     "data": {
      "image/png": "[encoded data removed]",
      "text/plain": [
       "<Figure size 1080x504 with 1 Axes>"
      ]
     },
     "metadata": {
      "needs_background": "light"
     },
     "output_type": "display_data"
    }
   ],
   "source": [
    "plt.rcParams['xtick.bottom'] = plt.rcParams['xtick.labelbottom'] = False\n",
    "plt.rcParams['xtick.top'] = plt.rcParams['xtick.labeltop'] = True\n",
    "\n",
    "plt.figure(figsize=(15,7))\n",
    "ax = sns.countplot(data=df_new, y='domain_top10', order = df_new['domain_top10'].value_counts().index, palette='cool')\n",
    "\n",
    "plt.title('Domain Count in Thousand')\n",
    "plt.xlabel('')\n",
    "plt.ylabel('')\n",
    "labels, locations = plt.xticks()\n",
    "plt.xticks(labels, (labels/1000).astype(int))\n",
    "plt.xlim(0)\n",
    "\n",
    "plt.grid(color='darkgray', linestyle=':', linewidth=0.5)\n",
    "\n",
    "for p in ax.patches:\n",
    "    x = p.get_x() + p.get_width() + 700\n",
    "    y = p.get_y() + p.get_height()/1.8\n",
    "    ax.annotate(p.get_width(), (x, y))\n",
    "\n",
    "plt.show()"
   ]
  },
  {
   "cell_type": "code",
   "execution_count": 124,
   "metadata": {
    "extensions": {
     "jupyter_dashboards": {
      "version": 1,
      "views": {
       "grid_default": {},
       "report_default": {
        "hidden": false
       }
      }
     }
    }
   },
   "outputs": [
    {
     "data": {
      "image/png": "[encoded data removed]",
      "text/plain": [
       "<Figure size 576x576 with 1 Axes>"
      ]
     },
     "metadata": {},
     "output_type": "display_data"
    }
   ],
   "source": [
    "fig = plt.figure(figsize=(8,8))\n",
    "ax = fig.add_axes([0, 0, 1, 1])\n",
    "ax.axis('equal')\n",
    "labels = domain_retention.index.tolist()\n",
    "retention = domain_retention['retention%']\n",
    "explode = [0, 0, 0, 0, 0, 0, 0, 0, 0, 0, 0.2]\n",
    "color = ['lightskyblue', 'gold', 'brown', 'violet', 'blue', 'red', 'green', 'gray', 'cyan', 'pink', 'orange']\n",
    "ax.pie(retention, labels=labels, autopct='%.2f%%', explode=explode, pctdistance=0.85, colors=color)\n",
    "plt.title('Domain Retention (%)', fontsize=14, color='blue')\n",
    "\n",
    "#draw circle\n",
    "centre_circle = plt.Circle((0,0),0.70,fc='white')\n",
    "f = plt.gcf()\n",
    "f.gca().add_artist(centre_circle)\n",
    "\n",
    "plt.show()"
   ]
  },
  {
   "cell_type": "markdown",
   "metadata": {
    "extensions": {
     "jupyter_dashboards": {
      "version": 1,
      "views": {
       "grid_default": {},
       "report_default": {
        "hidden": false
       }
      }
     }
    }
   },
   "source": [
    "##  Retention % of the users on each device"
   ]
  },
  {
   "cell_type": "code",
   "execution_count": 113,
   "metadata": {},
   "outputs": [
    {
     "data": {
      "text/html": [
       "<div>\n",
       "<style scoped>\n",
       "    .dataframe tbody tr th:only-of-type {\n",
       "        vertical-align: middle;\n",
       "    }\n",
       "\n",
       "    .dataframe tbody tr th {\n",
       "        vertical-align: top;\n",
       "    }\n",
       "\n",
       "    .dataframe thead th {\n",
       "        text-align: right;\n",
       "    }\n",
       "</style>\n",
       "<table border=\"1\" class=\"dataframe\">\n",
       "  <thead>\n",
       "    <tr style=\"text-align: right;\">\n",
       "      <th></th>\n",
       "      <th>device_top10</th>\n",
       "      <th>retention%</th>\n",
       "    </tr>\n",
       "  </thead>\n",
       "  <tbody>\n",
       "    <tr>\n",
       "      <th>generic</th>\n",
       "      <td>94184</td>\n",
       "      <td>23.92</td>\n",
       "    </tr>\n",
       "    <tr>\n",
       "      <th>samsung</th>\n",
       "      <td>84770</td>\n",
       "      <td>21.53</td>\n",
       "    </tr>\n",
       "    <tr>\n",
       "      <th>generic_android</th>\n",
       "      <td>58815</td>\n",
       "      <td>14.94</td>\n",
       "    </tr>\n",
       "    <tr>\n",
       "      <th>xiaomi</th>\n",
       "      <td>52776</td>\n",
       "      <td>13.40</td>\n",
       "    </tr>\n",
       "    <tr>\n",
       "      <th>undefined</th>\n",
       "      <td>47524</td>\n",
       "      <td>12.07</td>\n",
       "    </tr>\n",
       "    <tr>\n",
       "      <th>vivo</th>\n",
       "      <td>22410</td>\n",
       "      <td>5.69</td>\n",
       "    </tr>\n",
       "    <tr>\n",
       "      <th>apple</th>\n",
       "      <td>16862</td>\n",
       "      <td>4.28</td>\n",
       "    </tr>\n",
       "    <tr>\n",
       "      <th>asus</th>\n",
       "      <td>6521</td>\n",
       "      <td>1.66</td>\n",
       "    </tr>\n",
       "    <tr>\n",
       "      <th>other</th>\n",
       "      <td>5194</td>\n",
       "      <td>1.32</td>\n",
       "    </tr>\n",
       "    <tr>\n",
       "      <th>huawei</th>\n",
       "      <td>2673</td>\n",
       "      <td>0.68</td>\n",
       "    </tr>\n",
       "    <tr>\n",
       "      <th>lg</th>\n",
       "      <td>2005</td>\n",
       "      <td>0.51</td>\n",
       "    </tr>\n",
       "  </tbody>\n",
       "</table>\n",
       "</div>"
      ],
      "text/plain": [
       "                 device_top10  retention%\n",
       "generic                 94184       23.92\n",
       "samsung                 84770       21.53\n",
       "generic_android         58815       14.94\n",
       "xiaomi                  52776       13.40\n",
       "undefined               47524       12.07\n",
       "vivo                    22410        5.69\n",
       "apple                   16862        4.28\n",
       "asus                     6521        1.66\n",
       "other                    5194        1.32\n",
       "huawei                   2673        0.68\n",
       "lg                       2005        0.51"
      ]
     },
     "execution_count": 113,
     "metadata": {},
     "output_type": "execute_result"
    }
   ],
   "source": [
    "# get top 10 device\n",
    "device_top10 = df_new.device.value_counts().head(10).index.tolist()\n",
    "# create new column and assign device value if in device_top10 list\n",
    "df_new['device_top10'] = df_new['device'].apply(lambda x: x if (x in device_top10) else 'other')\n",
    "\n",
    "# calculate device retention\n",
    "device_retention = pd.DataFrame(df_new['device_top10'].value_counts())\n",
    "device_retention['retention%'] = round((device_retention['device_top10']/df_new['device_top10'].count()*100),2)\n",
    "device_retention"
   ]
  },
  {
   "cell_type": "code",
   "execution_count": 114,
   "metadata": {
    "scrolled": false
   },
   "outputs": [
    {
     "data": {
      "image/png": "[encoded data removed]",
      "text/plain": [
       "<Figure size 1080x504 with 1 Axes>"
      ]
     },
     "metadata": {
      "needs_background": "light"
     },
     "output_type": "display_data"
    }
   ],
   "source": [
    "plt.rcParams['xtick.bottom'] = plt.rcParams['xtick.labelbottom'] = False\n",
    "plt.rcParams['xtick.top'] = plt.rcParams['xtick.labeltop'] = True\n",
    "\n",
    "plt.figure(figsize=(15,7))\n",
    "ax = sns.countplot(data=df_new, y='device_top10', order = df_new['device_top10'].value_counts().index, palette='cool')\n",
    "\n",
    "plt.title('Device Count in Thousand')\n",
    "plt.xlabel('')\n",
    "plt.ylabel('')\n",
    "labels, locations = plt.xticks()\n",
    "plt.xticks(labels, (labels/1000).astype(int))\n",
    "plt.xlim(0)\n",
    "\n",
    "plt.grid(color='darkgray', linestyle=':', linewidth=0.5)\n",
    "\n",
    "for p in ax.patches:\n",
    "    x = p.get_x() + p.get_width() + 700\n",
    "    y = p.get_y() + p.get_height()/1.8\n",
    "    ax.annotate(p.get_width(), (x, y))\n",
    "\n",
    "plt.show()"
   ]
  },
  {
   "cell_type": "code",
   "execution_count": 123,
   "metadata": {
    "extensions": {
     "jupyter_dashboards": {
      "version": 1,
      "views": {
       "grid_default": {
        "hidden": true
       },
       "report_default": {
        "hidden": true
       }
      }
     }
    },
    "scrolled": false
   },
   "outputs": [
    {
     "data": {
      "image/png": "[encoded data removed]",
      "text/plain": [
       "<Figure size 576x576 with 1 Axes>"
      ]
     },
     "metadata": {},
     "output_type": "display_data"
    }
   ],
   "source": [
    "fig = plt.figure(figsize=(8,8))\n",
    "ax = fig.add_axes([0, 0, 1, 1])\n",
    "ax.axis('equal')\n",
    "labels = device_retention.index.tolist()\n",
    "retention = device_retention['retention%']\n",
    "explode = [0, 0, 0, 0, 0, 0, 0, 0, 0.2, 0, 0]\n",
    "color = ['lightskyblue', 'gold', 'brown', 'violet', 'blue', 'red', 'green', 'gray', 'cyan', 'pink', 'orange']\n",
    "ax.pie(retention, labels=labels, autopct='%.2f%%', explode=explode, pctdistance=0.85, colors=color)\n",
    "plt.title('Device Retention (%)', fontsize=14, color='blue')\n",
    "\n",
    "#draw circle\n",
    "centre_circle = plt.Circle((0,0),0.70,fc='white')\n",
    "f = plt.gcf()\n",
    "f.gca().add_artist(centre_circle)\n",
    "\n",
    "plt.show()"
   ]
  },
  {
   "cell_type": "markdown",
   "metadata": {
    "extensions": {
     "jupyter_dashboards": {
      "version": 1,
      "views": {
       "grid_default": {
        "hidden": true
       },
       "report_default": {
        "hidden": true
       }
      }
     }
    }
   },
   "source": [
    "##  Retention % of the users on each browser"
   ]
  },
  {
   "cell_type": "code",
   "execution_count": 116,
   "metadata": {},
   "outputs": [],
   "source": [
    "def get_browser(data):\n",
    "    if data[0:5] == 'blios':\n",
    "        data= 'ios'\n",
    "    elif 'opera' in data.split(' '):\n",
    "        data= 'opera'\n",
    "    elif 'chrome' in data.split(' '):\n",
    "        data= 'chrome'\n",
    "    elif 'safari' in data.split(' '):\n",
    "        data= 'safari'\n",
    "    elif 'firefox' in data.split(' '):\n",
    "        data= 'firefox'\n",
    "    return data"
   ]
  },
  {
   "cell_type": "code",
   "execution_count": 117,
   "metadata": {},
   "outputs": [
    {
     "data": {
      "text/html": [
       "<div>\n",
       "<style scoped>\n",
       "    .dataframe tbody tr th:only-of-type {\n",
       "        vertical-align: middle;\n",
       "    }\n",
       "\n",
       "    .dataframe tbody tr th {\n",
       "        vertical-align: top;\n",
       "    }\n",
       "\n",
       "    .dataframe thead th {\n",
       "        text-align: right;\n",
       "    }\n",
       "</style>\n",
       "<table border=\"1\" class=\"dataframe\">\n",
       "  <thead>\n",
       "    <tr style=\"text-align: right;\">\n",
       "      <th></th>\n",
       "      <th>browser_top10</th>\n",
       "      <th>retention%</th>\n",
       "    </tr>\n",
       "  </thead>\n",
       "  <tbody>\n",
       "    <tr>\n",
       "      <th>chrome</th>\n",
       "      <td>228184</td>\n",
       "      <td>57.95</td>\n",
       "    </tr>\n",
       "    <tr>\n",
       "      <th>facebook</th>\n",
       "      <td>107986</td>\n",
       "      <td>27.43</td>\n",
       "    </tr>\n",
       "    <tr>\n",
       "      <th>safari</th>\n",
       "      <td>10306</td>\n",
       "      <td>2.62</td>\n",
       "    </tr>\n",
       "    <tr>\n",
       "      <th>samsung internet</th>\n",
       "      <td>8243</td>\n",
       "      <td>2.09</td>\n",
       "    </tr>\n",
       "    <tr>\n",
       "      <th>other</th>\n",
       "      <td>8154</td>\n",
       "      <td>2.07</td>\n",
       "    </tr>\n",
       "    <tr>\n",
       "      <th>uc browser</th>\n",
       "      <td>6788</td>\n",
       "      <td>1.72</td>\n",
       "    </tr>\n",
       "    <tr>\n",
       "      <th>firefox</th>\n",
       "      <td>6464</td>\n",
       "      <td>1.64</td>\n",
       "    </tr>\n",
       "    <tr>\n",
       "      <th>pale moon</th>\n",
       "      <td>5324</td>\n",
       "      <td>1.35</td>\n",
       "    </tr>\n",
       "    <tr>\n",
       "      <th>bacaberita app</th>\n",
       "      <td>4279</td>\n",
       "      <td>1.09</td>\n",
       "    </tr>\n",
       "    <tr>\n",
       "      <th>opera</th>\n",
       "      <td>4182</td>\n",
       "      <td>1.06</td>\n",
       "    </tr>\n",
       "    <tr>\n",
       "      <th>miuibrowser</th>\n",
       "      <td>3824</td>\n",
       "      <td>0.97</td>\n",
       "    </tr>\n",
       "  </tbody>\n",
       "</table>\n",
       "</div>"
      ],
      "text/plain": [
       "                  browser_top10  retention%\n",
       "chrome                   228184       57.95\n",
       "facebook                 107986       27.43\n",
       "safari                    10306        2.62\n",
       "samsung internet           8243        2.09\n",
       "other                      8154        2.07\n",
       "uc browser                 6788        1.72\n",
       "firefox                    6464        1.64\n",
       "pale moon                  5324        1.35\n",
       "bacaberita app             4279        1.09\n",
       "opera                      4182        1.06\n",
       "miuibrowser                3824        0.97"
      ]
     },
     "execution_count": 117,
     "metadata": {},
     "output_type": "execute_result"
    }
   ],
   "source": [
    "# get cleaning browser\n",
    "df_new['browser_top10'] = df_new['browser'].apply(lambda x: get_browser(x))\n",
    "# get top 10 browser\n",
    "browser_top10 = df_new.browser_top10.value_counts().head(10).index.tolist()\n",
    "# assign browser value if in browser_top10 list\n",
    "df_new['browser_top10'] = df_new['browser_top10'].apply(lambda x: x if (x in browser_top10) else 'other')\n",
    "\n",
    "# calculate device retention\n",
    "browser_retention = pd.DataFrame(df_new['browser_top10'].value_counts())\n",
    "browser_retention['retention%'] = round((browser_retention['browser_top10']/df_new['browser_top10'].count()*100),2)\n",
    "browser_retention"
   ]
  },
  {
   "cell_type": "code",
   "execution_count": 118,
   "metadata": {},
   "outputs": [
    {
     "data": {
      "image/png": "[encoded data removed]",
      "text/plain": [
       "<Figure size 1080x504 with 1 Axes>"
      ]
     },
     "metadata": {
      "needs_background": "light"
     },
     "output_type": "display_data"
    }
   ],
   "source": [
    "plt.rcParams['xtick.bottom'] = plt.rcParams['xtick.labelbottom'] = False\n",
    "plt.rcParams['xtick.top'] = plt.rcParams['xtick.labeltop'] = True\n",
    "\n",
    "plt.figure(figsize=(15,7))\n",
    "ax = sns.countplot(data=df_new, y='browser_top10', order = df_new['browser_top10'].value_counts().index, palette='cool')\n",
    "\n",
    "plt.title('Browser Count in Thousand')\n",
    "plt.xlabel('')\n",
    "plt.ylabel('')\n",
    "labels, locations = plt.xticks()\n",
    "plt.xticks(labels, (labels/1000).astype(int))\n",
    "plt.xlim(0)\n",
    "\n",
    "plt.grid(color='darkgray', linestyle=':', linewidth=0.5)\n",
    "\n",
    "for p in ax.patches:\n",
    "    x = p.get_x() + p.get_width() + 700\n",
    "    y = p.get_y() + p.get_height()/1.8\n",
    "    ax.annotate(p.get_width(), (x, y))\n",
    "\n",
    "plt.show()"
   ]
  },
  {
   "cell_type": "code",
   "execution_count": 129,
   "metadata": {},
   "outputs": [
    {
     "data": {
      "image/png": "[encoded data removed]",
      "text/plain": [
       "<Figure size 576x576 with 1 Axes>"
      ]
     },
     "metadata": {},
     "output_type": "display_data"
    }
   ],
   "source": [
    "fig = plt.figure(figsize=(8,8))\n",
    "ax = fig.add_axes([0, 0, 1, 1])\n",
    "ax.axis('equal')\n",
    "labels = browser_retention.index.tolist()\n",
    "retention = browser_retention['retention%']\n",
    "explode = [0, 0, 0, 0, 0.2, 0, 0, 0, 0, 0, 0]\n",
    "color = ['lightskyblue', 'gold', 'brown', 'violet', 'blue', 'red', 'green', 'gray', 'cyan', 'pink', 'orange']\n",
    "ax.pie(retention, labels=labels, autopct='%.2f%%', explode=explode, pctdistance=0.85, colors=color, startangle=30)\n",
    "plt.title('Browser Retention (%)', fontsize=14, color='blue')\n",
    "\n",
    "#draw circle\n",
    "centre_circle = plt.Circle((0,0),0.70,fc='white')\n",
    "f = plt.gcf()\n",
    "f.gca().add_artist(centre_circle)\n",
    "\n",
    "plt.show()"
   ]
  },
  {
   "cell_type": "markdown",
   "metadata": {
    "extensions": {
     "jupyter_dashboards": {
      "version": 1,
      "views": {
       "grid_default": {},
       "report_default": {
        "hidden": false
       }
      }
     }
    }
   },
   "source": [
    "##  Favorable used browsers, devices, OS and platform "
   ]
  },
  {
   "cell_type": "code",
   "execution_count": 36,
   "metadata": {
    "extensions": {
     "jupyter_dashboards": {
      "version": 1,
      "views": {
       "grid_default": {},
       "report_default": {
        "hidden": false
       }
      }
     }
    }
   },
   "outputs": [
    {
     "name": "stdout",
     "output_type": "stream",
     "text": [
      "Favorable used \u001b[1mbrowser\u001b[0m is \u001b[1mchrome mobile\u001b[0m for 178700 users (45.39%)\n",
      "Favorable used \u001b[1mdevice\u001b[0m is \u001b[1mgeneric\u001b[0m for 94184 users (23.92%)\n",
      "Favorable used \u001b[1mos\u001b[0m is \u001b[1mandroid\u001b[0m for 329295 users (83.63%)\n",
      "Favorable used \u001b[1mplatform\u001b[0m is \u001b[1mweb-mobile\u001b[0m for 341397 users (86.71%)\n"
     ]
    }
   ],
   "source": [
    "for col in list(['browser', 'device', 'os', 'platform']):\n",
    "    val_count = df_new[col].value_counts()\n",
    "    fav, number, percent = val_count.index[0], val_count[0], round((val_count[0]/df_new[col].count()*100), 2)\n",
    "    print(f'Favorable used \\033[1m{col}\\033[0m is \\033[1m{fav}\\033[0m for {number} users ({percent}%)')"
   ]
  },
  {
   "cell_type": "code",
   "execution_count": 136,
   "metadata": {
    "extensions": {
     "jupyter_dashboards": {
      "version": 1,
      "views": {
       "grid_default": {},
       "report_default": {
        "hidden": false
       }
      }
     }
    }
   },
   "outputs": [
    {
     "data": {
      "text/html": [
       "<div>\n",
       "<style scoped>\n",
       "    .dataframe tbody tr th:only-of-type {\n",
       "        vertical-align: middle;\n",
       "    }\n",
       "\n",
       "    .dataframe tbody tr th {\n",
       "        vertical-align: top;\n",
       "    }\n",
       "\n",
       "    .dataframe thead th {\n",
       "        text-align: right;\n",
       "    }\n",
       "</style>\n",
       "<table border=\"1\" class=\"dataframe\">\n",
       "  <thead>\n",
       "    <tr style=\"text-align: right;\">\n",
       "      <th></th>\n",
       "      <th>domain_top10</th>\n",
       "      <th>platform</th>\n",
       "      <th>browser_top10</th>\n",
       "      <th>device_top10</th>\n",
       "      <th>count</th>\n",
       "    </tr>\n",
       "  </thead>\n",
       "  <tbody>\n",
       "    <tr>\n",
       "      <th>0</th>\n",
       "      <td>merdeka.com</td>\n",
       "      <td>web-mobile</td>\n",
       "      <td>chrome</td>\n",
       "      <td>generic</td>\n",
       "      <td>15831</td>\n",
       "    </tr>\n",
       "    <tr>\n",
       "      <th>1</th>\n",
       "      <td>brilio.net</td>\n",
       "      <td>web-mobile</td>\n",
       "      <td>facebook</td>\n",
       "      <td>generic</td>\n",
       "      <td>12904</td>\n",
       "    </tr>\n",
       "    <tr>\n",
       "      <th>2</th>\n",
       "      <td>brilio.net</td>\n",
       "      <td>web-mobile</td>\n",
       "      <td>facebook</td>\n",
       "      <td>samsung</td>\n",
       "      <td>12075</td>\n",
       "    </tr>\n",
       "    <tr>\n",
       "      <th>3</th>\n",
       "      <td>merdeka.com</td>\n",
       "      <td>web-mobile</td>\n",
       "      <td>chrome</td>\n",
       "      <td>samsung</td>\n",
       "      <td>11649</td>\n",
       "    </tr>\n",
       "    <tr>\n",
       "      <th>4</th>\n",
       "      <td>bukalapak.com</td>\n",
       "      <td>web-desktop</td>\n",
       "      <td>chrome</td>\n",
       "      <td>undefined</td>\n",
       "      <td>10837</td>\n",
       "    </tr>\n",
       "  </tbody>\n",
       "</table>\n",
       "</div>"
      ],
      "text/plain": [
       "    domain_top10     platform browser_top10 device_top10  count\n",
       "0    merdeka.com   web-mobile        chrome      generic  15831\n",
       "1     brilio.net   web-mobile      facebook      generic  12904\n",
       "2     brilio.net   web-mobile      facebook      samsung  12075\n",
       "3    merdeka.com   web-mobile        chrome      samsung  11649\n",
       "4  bukalapak.com  web-desktop        chrome    undefined  10837"
      ]
     },
     "execution_count": 136,
     "metadata": {},
     "output_type": "execute_result"
    }
   ],
   "source": [
    "df_group = (df_new.groupby(['domain_top10', 'platform', 'browser_top10', 'device_top10'])['login_status']\n",
    "            .count()\n",
    "            .reset_index()\n",
    "            .rename(columns={'login_status':'count'}))\n",
    "df_group = df_group.sort_values(by='count', ascending=False).reset_index(drop=True)\n",
    "df_group.head()"
   ]
  },
  {
   "cell_type": "code",
   "execution_count": 137,
   "metadata": {
    "extensions": {
     "jupyter_dashboards": {
      "version": 1,
      "views": {
       "grid_default": {},
       "report_default": {
        "hidden": false
       }
      }
     }
    }
   },
   "outputs": [
    {
     "data": {
      "application/vnd.plotly.v1+json": {
       "config": {
        "plotlyServerURL": "https://plot.ly"
       },
       "data": [
        {
         "branchvalues": "total",
         "customdata": [
          [
           6
          ],
          [
           4
          ],
          [
           3
          ],
          [
           4
          ],
          [
           1
          ],
          [
           1
          ],
          [
           4
          ],
          [
           17
          ],
          [
           9
          ],
          [
           29
          ],
          [
           76
          ],
          [
           60
          ],
          [
           21
          ],
          [
           73
          ],
          [
           13
          ],
          [
           30
          ],
          [
           71
          ],
          [
           212
          ],
          [
           286
          ],
          [
           15
          ],
          [
           213
          ],
          [
           1
          ],
          [
           1
          ],
          [
           18
          ],
          [
           2
          ],
          [
           2
          ],
          [
           12
          ],
          [
           1
          ],
          [
           1
          ],
          [
           1
          ],
          [
           1
          ],
          [
           5
          ],
          [
           32
          ],
          [
           1499
          ],
          [
           49
          ],
          [
           114
          ],
          [
           18
          ],
          [
           1739
          ],
          [
           113
          ],
          [
           71
          ],
          [
           54
          ],
          [
           11
          ],
          [
           1
          ],
          [
           3
          ],
          [
           3
          ],
          [
           1
          ],
          [
           1
          ],
          [
           4
          ],
          [
           5
          ],
          [
           6
          ],
          [
           1
          ],
          [
           2
          ],
          [
           1
          ],
          [
           1
          ],
          [
           2
          ],
          [
           1
          ],
          [
           1
          ],
          [
           2
          ],
          [
           3
          ],
          [
           11
          ],
          [
           1
          ],
          [
           8
          ],
          [
           1
          ],
          [
           8
          ],
          [
           5
          ],
          [
           14
          ],
          [
           150
          ],
          [
           37
          ],
          [
           187
          ],
          [
           212
          ],
          [
           26
          ],
          [
           69
          ],
          [
           437
          ],
          [
           374
          ],
          [
           631
          ],
          [
           24
          ],
          [
           306
          ],
          [
           6
          ],
          [
           93
          ],
          [
           12
          ],
          [
           1
          ],
          [
           1
          ],
          [
           9
          ],
          [
           19
          ],
          [
           24
          ],
          [
           6
          ],
          [
           26
          ],
          [
           570
          ],
          [
           290
          ],
          [
           481
          ],
          [
           438
          ],
          [
           237
          ],
          [
           408
          ],
          [
           768
          ],
          [
           1761
          ],
          [
           2470
          ],
          [
           156
          ],
          [
           1589
          ],
          [
           6
          ],
          [
           11
          ],
          [
           4
          ],
          [
           7
          ],
          [
           3
          ],
          [
           10
          ],
          [
           13
          ],
          [
           2
          ],
          [
           9
          ],
          [
           1
          ],
          [
           1
          ],
          [
           2
          ],
          [
           152
          ],
          [
           220
          ],
          [
           661
          ],
          [
           284
          ],
          [
           93
          ],
          [
           112
          ],
          [
           1050
          ],
          [
           611
          ],
          [
           1156
          ],
          [
           42
          ],
          [
           453
          ],
          [
           1
          ],
          [
           1
          ],
          [
           1
          ],
          [
           16
          ],
          [
           670
          ],
          [
           16
          ],
          [
           38
          ],
          [
           2
          ],
          [
           443
          ],
          [
           65
          ],
          [
           31
          ],
          [
           13
          ],
          [
           2
          ],
          [
           1
          ],
          [
           1
          ],
          [
           4
          ],
          [
           10
          ],
          [
           14
          ],
          [
           10
          ],
          [
           1
          ],
          [
           2
          ],
          [
           6
          ],
          [
           17
          ],
          [
           18
          ],
          [
           3
          ],
          [
           1
          ],
          [
           74
          ],
          [
           3
          ],
          [
           4
          ],
          [
           1
          ],
          [
           7
          ],
          [
           14
          ],
          [
           1
          ],
          [
           1
          ],
          [
           6
          ],
          [
           1
          ],
          [
           7
          ],
          [
           1
          ],
          [
           2
          ],
          [
           1
          ],
          [
           1
          ],
          [
           1
          ],
          [
           1
          ],
          [
           4
          ],
          [
           21
          ],
          [
           7
          ],
          [
           20
          ],
          [
           2
          ],
          [
           3
          ],
          [
           12
          ],
          [
           22
          ],
          [
           32
          ],
          [
           3
          ],
          [
           44
          ],
          [
           4272
          ],
          [
           7
          ],
          [
           22
          ],
          [
           19
          ],
          [
           48
          ],
          [
           37
          ],
          [
           4
          ],
          [
           15
          ],
          [
           95
          ],
          [
           39
          ],
          [
           93
          ],
          [
           10
          ],
          [
           96
          ],
          [
           3795
          ],
          [
           1970
          ],
          [
           6383
          ],
          [
           2906
          ],
          [
           1045
          ],
          [
           1661
          ],
          [
           9314
          ],
          [
           9045
          ],
          [
           15831
          ],
          [
           481
          ],
          [
           7596
          ],
          [
           1
          ],
          [
           2
          ],
          [
           2
          ],
          [
           1
          ],
          [
           1
          ],
          [
           1
          ],
          [
           27
          ],
          [
           200
          ],
          [
           12904
          ],
          [
           132
          ],
          [
           904
          ],
          [
           73
          ],
          [
           9944
          ],
          [
           998
          ],
          [
           468
          ],
          [
           289
          ],
          [
           35
          ],
          [
           1
          ],
          [
           6
          ],
          [
           16
          ],
          [
           11
          ],
          [
           33
          ],
          [
           1
          ],
          [
           6
          ],
          [
           12
          ],
          [
           15
          ],
          [
           29
          ],
          [
           3
          ],
          [
           7
          ],
          [
           5
          ],
          [
           5
          ],
          [
           12
          ],
          [
           2
          ],
          [
           10
          ],
          [
           14
          ],
          [
           23
          ],
          [
           11
          ],
          [
           1
          ],
          [
           2
          ],
          [
           1
          ],
          [
           1
          ],
          [
           2
          ],
          [
           2
          ],
          [
           59
          ],
          [
           104
          ],
          [
           51
          ],
          [
           96
          ],
          [
           11
          ],
          [
           21
          ],
          [
           50
          ],
          [
           138
          ],
          [
           201
          ],
          [
           10
          ],
          [
           108
          ],
          [
           2
          ],
          [
           2
          ],
          [
           577
          ],
          [
           4
          ],
          [
           1
          ],
          [
           3
          ],
          [
           9
          ],
          [
           23
          ],
          [
           3
          ],
          [
           1
          ],
          [
           11
          ],
          [
           47
          ],
          [
           51
          ],
          [
           3
          ],
          [
           4
          ],
          [
           66
          ],
          [
           22
          ],
          [
           40
          ],
          [
           1
          ],
          [
           37
          ],
          [
           1
          ],
          [
           3
          ],
          [
           6
          ],
          [
           1
          ],
          [
           1
          ],
          [
           7
          ],
          [
           3
          ],
          [
           69
          ],
          [
           216
          ],
          [
           47
          ],
          [
           89
          ],
          [
           10
          ],
          [
           23
          ],
          [
           39
          ],
          [
           122
          ],
          [
           208
          ],
          [
           12
          ],
          [
           574
          ],
          [
           11
          ],
          [
           11
          ],
          [
           66
          ],
          [
           38
          ],
          [
           6
          ],
          [
           13
          ],
          [
           89
          ],
          [
           43
          ],
          [
           58
          ],
          [
           17
          ],
          [
           88
          ],
          [
           2265
          ],
          [
           1127
          ],
          [
           5342
          ],
          [
           2075
          ],
          [
           663
          ],
          [
           1041
          ],
          [
           6959
          ],
          [
           5401
          ],
          [
           9391
          ],
          [
           324
          ],
          [
           5689
          ],
          [
           1
          ],
          [
           5
          ],
          [
           2
          ],
          [
           1
          ],
          [
           17
          ],
          [
           106
          ],
          [
           7964
          ],
          [
           58
          ],
          [
           486
          ],
          [
           41
          ],
          [
           6125
          ],
          [
           553
          ],
          [
           253
          ],
          [
           164
          ],
          [
           32
          ],
          [
           4
          ],
          [
           4
          ],
          [
           8
          ],
          [
           14
          ],
          [
           2
          ],
          [
           1
          ],
          [
           5
          ],
          [
           19
          ],
          [
           12
          ],
          [
           1
          ],
          [
           4
          ],
          [
           3
          ],
          [
           1
          ],
          [
           6
          ],
          [
           1
          ],
          [
           2
          ],
          [
           2
          ],
          [
           41
          ],
          [
           83
          ],
          [
           72
          ],
          [
           88
          ],
          [
           18
          ],
          [
           24
          ],
          [
           55
          ],
          [
           96
          ],
          [
           169
          ],
          [
           3
          ],
          [
           124
          ],
          [
           1
          ],
          [
           251
          ],
          [
           2
          ],
          [
           2
          ],
          [
           1
          ],
          [
           40
          ],
          [
           14
          ],
          [
           1
          ],
          [
           1
          ],
          [
           42
          ],
          [
           7
          ],
          [
           18
          ],
          [
           20
          ],
          [
           1
          ],
          [
           1
          ],
          [
           1
          ],
          [
           1
          ],
          [
           1
          ],
          [
           39
          ],
          [
           142
          ],
          [
           53
          ],
          [
           74
          ],
          [
           13
          ],
          [
           16
          ],
          [
           24
          ],
          [
           101
          ],
          [
           116
          ],
          [
           8
          ],
          [
           437
          ],
          [
           1
          ],
          [
           9
          ],
          [
           84
          ],
          [
           104
          ],
          [
           160
          ],
          [
           128
          ],
          [
           35
          ],
          [
           44
          ],
          [
           318
          ],
          [
           272
          ],
          [
           510
          ],
          [
           14
          ],
          [
           221
          ],
          [
           1
          ],
          [
           2
          ],
          [
           12
          ],
          [
           328
          ],
          [
           7
          ],
          [
           21
          ],
          [
           2
          ],
          [
           200
          ],
          [
           25
          ],
          [
           14
          ],
          [
           15
          ],
          [
           2
          ],
          [
           1
          ],
          [
           2
          ],
          [
           12
          ],
          [
           1
          ],
          [
           2
          ],
          [
           1
          ],
          [
           4
          ],
          [
           5
          ],
          [
           1
          ],
          [
           53
          ],
          [
           3
          ],
          [
           1
          ],
          [
           6
          ],
          [
           3
          ],
          [
           1
          ],
          [
           2
          ],
          [
           1
          ],
          [
           1
          ],
          [
           1
          ],
          [
           2
          ],
          [
           9
          ],
          [
           4
          ],
          [
           1
          ],
          [
           3
          ],
          [
           4
          ],
          [
           4
          ],
          [
           1
          ],
          [
           15
          ],
          [
           1
          ],
          [
           2
          ],
          [
           30
          ],
          [
           15
          ],
          [
           47
          ],
          [
           122
          ],
          [
           6
          ],
          [
           79
          ],
          [
           69
          ],
          [
           496
          ],
          [
           894
          ],
          [
           9
          ],
          [
           112
          ],
          [
           1
          ],
          [
           30
          ],
          [
           1
          ],
          [
           1
          ],
          [
           39
          ],
          [
           3
          ],
          [
           3
          ],
          [
           1
          ],
          [
           1
          ],
          [
           1
          ],
          [
           1
          ],
          [
           1
          ],
          [
           3
          ],
          [
           1
          ],
          [
           1
          ],
          [
           1
          ],
          [
           9
          ],
          [
           3
          ],
          [
           1
          ],
          [
           1
          ],
          [
           2
          ],
          [
           1
          ],
          [
           3
          ],
          [
           3
          ],
          [
           1
          ],
          [
           2
          ],
          [
           2
          ],
          [
           1
          ],
          [
           1
          ],
          [
           3
          ],
          [
           1
          ],
          [
           2
          ],
          [
           6
          ],
          [
           2
          ],
          [
           2
          ],
          [
           13
          ],
          [
           10
          ],
          [
           11
          ],
          [
           4
          ],
          [
           8
          ],
          [
           107
          ],
          [
           108
          ],
          [
           286
          ],
          [
           189
          ],
          [
           50
          ],
          [
           61
          ],
          [
           466
          ],
          [
           299
          ],
          [
           550
          ],
          [
           27
          ],
          [
           239
          ],
          [
           2
          ],
          [
           4
          ],
          [
           1
          ],
          [
           1
          ],
          [
           10
          ],
          [
           1182
          ],
          [
           13
          ],
          [
           75
          ],
          [
           2
          ],
          [
           763
          ],
          [
           86
          ],
          [
           32
          ],
          [
           15
          ],
          [
           3
          ],
          [
           1
          ],
          [
           1
          ],
          [
           1
          ],
          [
           4
          ],
          [
           6
          ],
          [
           9
          ],
          [
           21
          ],
          [
           1
          ],
          [
           3
          ],
          [
           10
          ],
          [
           17
          ],
          [
           30
          ],
          [
           1
          ],
          [
           4
          ],
          [
           1
          ],
          [
           126
          ],
          [
           1
          ],
          [
           1
          ],
          [
           2
          ],
          [
           1
          ],
          [
           1
          ],
          [
           2
          ],
          [
           5
          ],
          [
           5
          ],
          [
           4
          ],
          [
           3
          ],
          [
           7
          ],
          [
           4
          ],
          [
           15
          ],
          [
           1
          ],
          [
           1
          ],
          [
           6
          ],
          [
           41
          ],
          [
           15
          ],
          [
           29
          ],
          [
           4
          ],
          [
           3
          ],
          [
           14
          ],
          [
           38
          ],
          [
           35
          ],
          [
           1
          ],
          [
           90
          ],
          [
           16
          ],
          [
           16
          ],
          [
           79
          ],
          [
           49
          ],
          [
           8
          ],
          [
           11
          ],
          [
           117
          ],
          [
           35
          ],
          [
           79
          ],
          [
           6
          ],
          [
           45
          ],
          [
           1914
          ],
          [
           1722
          ],
          [
           5095
          ],
          [
           2439
          ],
          [
           647
          ],
          [
           1191
          ],
          [
           10223
          ],
          [
           6168
          ],
          [
           11649
          ],
          [
           386
          ],
          [
           4699
          ],
          [
           1
          ],
          [
           3
          ],
          [
           64
          ],
          [
           4
          ],
          [
           49
          ],
          [
           9
          ],
          [
           6
          ],
          [
           2
          ],
          [
           30
          ],
          [
           282
          ],
          [
           12075
          ],
          [
           133
          ],
          [
           968
          ],
          [
           81
          ],
          [
           10717
          ],
          [
           1058
          ],
          [
           579
          ],
          [
           301
          ],
          [
           39
          ],
          [
           1
          ],
          [
           2
          ],
          [
           1
          ],
          [
           1
          ],
          [
           1
          ],
          [
           2
          ],
          [
           4
          ],
          [
           1
          ],
          [
           1
          ],
          [
           34
          ],
          [
           85
          ],
          [
           50
          ],
          [
           108
          ],
          [
           7
          ],
          [
           11
          ],
          [
           47
          ],
          [
           81
          ],
          [
           126
          ],
          [
           3
          ],
          [
           27
          ],
          [
           1
          ],
          [
           1
          ],
          [
           2
          ],
          [
           580
          ],
          [
           5
          ],
          [
           4
          ],
          [
           4
          ],
          [
           43
          ],
          [
           1
          ],
          [
           16
          ],
          [
           119
          ],
          [
           72
          ],
          [
           3
          ],
          [
           10
          ],
          [
           203
          ],
          [
           62
          ],
          [
           100
          ],
          [
           2
          ],
          [
           44
          ],
          [
           3
          ],
          [
           6
          ],
          [
           10
          ],
          [
           16
          ],
          [
           1
          ],
          [
           5
          ],
          [
           9
          ],
          [
           7
          ],
          [
           26
          ],
          [
           4
          ],
          [
           51
          ],
          [
           339
          ],
          [
           402
          ],
          [
           795
          ],
          [
           742
          ],
          [
           97
          ],
          [
           219
          ],
          [
           1478
          ],
          [
           1076
          ],
          [
           1786
          ],
          [
           87
          ],
          [
           985
          ],
          [
           52
          ],
          [
           279
          ],
          [
           80
          ],
          [
           133
          ],
          [
           11
          ],
          [
           24
          ],
          [
           92
          ],
          [
           208
          ],
          [
           202
          ],
          [
           16
          ],
          [
           669
          ],
          [
           672
          ],
          [
           845
          ],
          [
           934
          ],
          [
           10837
          ],
          [
           257
          ],
          [
           299
          ],
          [
           1494
          ],
          [
           2097
          ],
          [
           4323
          ],
          [
           1911
          ],
          [
           8848
          ],
          [
           1
          ],
          [
           1
          ],
          [
           1
          ],
          [
           110
          ],
          [
           221
          ],
          [
           252
          ],
          [
           2236
          ],
          [
           48
          ],
          [
           42
          ],
          [
           509
          ],
          [
           357
          ],
          [
           732
          ],
          [
           304
          ],
          [
           1416
          ],
          [
           1
          ],
          [
           2
          ],
          [
           2
          ],
          [
           1
          ],
          [
           7
          ],
          [
           29
          ],
          [
           3
          ],
          [
           4
          ],
          [
           12
          ],
          [
           17
          ],
          [
           5
          ],
          [
           15
          ],
          [
           9
          ],
          [
           19
          ],
          [
           34
          ],
          [
           321
          ],
          [
           9
          ],
          [
           3
          ],
          [
           41
          ],
          [
           90
          ],
          [
           85
          ],
          [
           47
          ],
          [
           203
          ],
          [
           28
          ],
          [
           48
          ],
          [
           39
          ],
          [
           426
          ],
          [
           19
          ],
          [
           8
          ],
          [
           62
          ],
          [
           242
          ],
          [
           126
          ],
          [
           95
          ],
          [
           397
          ],
          [
           5323
          ],
          [
           1
          ],
          [
           17
          ],
          [
           26
          ],
          [
           35
          ],
          [
           166
          ],
          [
           4
          ],
          [
           20
          ],
          [
           63
          ],
          [
           106
          ],
          [
           151
          ],
          [
           80
          ],
          [
           256
          ],
          [
           1
          ],
          [
           4
          ],
          [
           3
          ],
          [
           6
          ],
          [
           1
          ],
          [
           5
          ],
          [
           6
          ],
          [
           6
          ],
          [
           10
          ],
          [
           10
          ],
          [
           3
          ],
          [
           1
          ],
          [
           2
          ],
          [
           4
          ],
          [
           1
          ],
          [
           3
          ],
          [
           3
          ],
          [
           5
          ],
          [
           1
          ],
          [
           5
          ],
          [
           1
          ],
          [
           1
          ],
          [
           1
          ],
          [
           1
          ],
          [
           166
          ],
          [
           102
          ],
          [
           263
          ],
          [
           261
          ],
          [
           163
          ],
          [
           112
          ],
          [
           614
          ],
          [
           477
          ],
          [
           951
          ],
          [
           215
          ],
          [
           644
          ],
          [
           25
          ],
          [
           136
          ],
          [
           8414
          ],
          [
           79
          ],
          [
           589
          ],
          [
           43
          ],
          [
           6717
          ],
          [
           546
          ],
          [
           275
          ],
          [
           173
          ],
          [
           42
          ],
          [
           1
          ],
          [
           11
          ],
          [
           41
          ],
          [
           17
          ],
          [
           30
          ],
          [
           6
          ],
          [
           13
          ],
          [
           11
          ],
          [
           24
          ],
          [
           36
          ],
          [
           3
          ],
          [
           20
          ],
          [
           274
          ],
          [
           1
          ],
          [
           1
          ],
          [
           1
          ],
          [
           33
          ],
          [
           14
          ],
          [
           4
          ],
          [
           2
          ],
          [
           40
          ],
          [
           18
          ],
          [
           11
          ],
          [
           35
          ],
          [
           34
          ],
          [
           110
          ],
          [
           27
          ],
          [
           48
          ],
          [
           7
          ],
          [
           15
          ],
          [
           17
          ],
          [
           81
          ],
          [
           85
          ],
          [
           7
          ],
          [
           321
          ],
          [
           1
          ],
          [
           1
          ],
          [
           2
          ],
          [
           1
          ],
          [
           4
          ],
          [
           1
          ],
          [
           9
          ],
          [
           4
          ],
          [
           1623
          ],
          [
           1455
          ],
          [
           4081
          ],
          [
           1764
          ],
          [
           525
          ],
          [
           722
          ],
          [
           5579
          ],
          [
           4305
          ],
          [
           7646
          ],
          [
           249
          ],
          [
           3697
          ],
          [
           2
          ],
          [
           2
          ],
          [
           30
          ],
          [
           153
          ],
          [
           8003
          ],
          [
           94
          ],
          [
           518
          ],
          [
           33
          ],
          [
           4924
          ],
          [
           602
          ],
          [
           269
          ],
          [
           161
          ],
          [
           23
          ],
          [
           178
          ],
          [
           131
          ],
          [
           248
          ],
          [
           520
          ],
          [
           34
          ],
          [
           84
          ],
          [
           390
          ],
          [
           480
          ],
          [
           641
          ],
          [
           21
          ],
          [
           896
          ],
          [
           1
          ],
          [
           1
          ],
          [
           32
          ],
          [
           112
          ],
          [
           43
          ],
          [
           108
          ],
          [
           11
          ],
          [
           16
          ],
          [
           47
          ],
          [
           96
          ],
          [
           135
          ],
          [
           6
          ],
          [
           35
          ],
          [
           506
          ],
          [
           32
          ],
          [
           2
          ],
          [
           50
          ],
          [
           46
          ],
          [
           2
          ],
          [
           6
          ],
          [
           58
          ],
          [
           12
          ],
          [
           30
          ],
          [
           1
          ],
          [
           21
          ],
          [
           1
          ],
          [
           1
          ],
          [
           4
          ],
          [
           1
          ],
          [
           2
          ],
          [
           2
          ],
          [
           1
          ],
          [
           45
          ],
          [
           207
          ],
          [
           53
          ],
          [
           103
          ],
          [
           20
          ],
          [
           19
          ],
          [
           51
          ],
          [
           160
          ],
          [
           193
          ],
          [
           7
          ],
          [
           391
          ],
          [
           4272
          ],
          [
           7
          ],
          [
           621.5412087912088
          ],
          [
           796.8595317725752
          ],
          [
           778.6306068601583
          ],
          [
           10707.066004193637
          ],
          [
           239.731884057971
          ],
          [
           262.9298245614035
          ],
          [
           1248.1285162713734
          ],
          [
           1973.1613626176602
          ],
          [
           4073.840592334495
          ],
          [
           1864.4435936702398
          ],
          [
           8575.021901007447
          ],
          [
           2536.533535689807
          ],
          [
           1499.1205869533633
          ],
          [
           5036.455302385962
          ],
          [
           2151.3497705302216
          ],
          [
           699.0666666666667
          ],
          [
           1151.841084504255
          ],
          [
           7864.667262866375
          ],
          [
           6179.552517774683
          ],
          [
           10982.652423051735
          ],
          [
           338.56640181611806
          ],
          [
           5372.66761448033
          ],
          [
           1
          ],
          [
           2
          ],
          [
           46.93684210526316
          ],
          [
           2
          ],
          [
           3.3333333333333335
          ],
          [
           35.273972602739725
          ],
          [
           7.545454545454546
          ],
          [
           4.75
          ],
          [
           1.4
          ],
          [
           1
          ],
          [
           25.17391304347826
          ],
          [
           183.74472573839662
          ],
          [
           9700.37217584654
          ],
          [
           97.12392426850258
          ],
          [
           707.1050080775444
          ],
          [
           56.91216216216216
          ],
          [
           7797.476027973373
          ],
          [
           767.2810570511238
          ],
          [
           387.71478696741855
          ],
          [
           219.56492411467116
          ],
          [
           32.80952380952381
          ],
          [
           110
          ],
          [
           221
          ],
          [
           252
          ],
          [
           2236
          ],
          [
           48
          ],
          [
           42
          ],
          [
           509
          ],
          [
           357
          ],
          [
           731.0027285129604
          ],
          [
           304
          ],
          [
           1416
          ],
          [
           4.818181818181818
          ],
          [
           12.217391304347826
          ],
          [
           9.736842105263158
          ],
          [
           25.392156862745097
          ],
          [
           1.5
          ],
          [
           4.75
          ],
          [
           8.80952380952381
          ],
          [
           15.666666666666666
          ],
          [
           21.72340425531915
          ],
          [
           1.5
          ],
          [
           3.2222222222222223
          ],
          [
           2
          ],
          [
           1
          ],
          [
           7
          ],
          [
           29
          ],
          [
           3
          ],
          [
           4
          ],
          [
           12
          ],
          [
           17
          ],
          [
           5
          ],
          [
           15
          ],
          [
           171.52972972972972
          ],
          [
           125.45255474452554
          ],
          [
           243.19762845849803
          ],
          [
           504.7649253731343
          ],
          [
           34
          ],
          [
           81.16091954022988
          ],
          [
           380.5
          ],
          [
           463.98591549295776
          ],
          [
           619.593373493976
          ],
          [
           21
          ],
          [
           877.5704918032787
          ],
          [
           7.545454545454546
          ],
          [
           15.25
          ],
          [
           30.57894736842105
          ],
          [
           313.23100303951367
          ],
          [
           9
          ],
          [
           3
          ],
          [
           39.13953488372093
          ],
          [
           83.72164948453609
          ],
          [
           82.1590909090909
          ],
          [
           46.041666666666664
          ],
          [
           200.06796116504853
          ],
          [
           39.8936170212766
          ],
          [
           86.86343612334802
          ],
          [
           49.04633204633205
          ],
          [
           89.94396551724138
          ],
          [
           11.872727272727273
          ],
          [
           17.511111111111113
          ],
          [
           44.391304347826086
          ],
          [
           95.37552742616033
          ],
          [
           146.07607192254494
          ],
          [
           6.3076923076923075
          ],
          [
           91.08668730650155
          ],
          [
           26.2
          ],
          [
           45.27450980392157
          ],
          [
           32.083333333333336
          ],
          [
           439.6539660547281
          ],
          [
           14.357142857142858
          ],
          [
           7.222222222222222
          ],
          [
           55.056338028169016
          ],
          [
           230.70866141732284
          ],
          [
           108.36486486486487
          ],
          [
           59.457142857142856
          ],
          [
           380.27710843373495
          ],
          [
           141.61635220125785
          ],
          [
           24.416666666666668
          ],
          [
           115.51836734693877
          ],
          [
           127.28899082568807
          ],
          [
           17.9
          ],
          [
           52.340425531914896
          ],
          [
           282.2877030162413
          ],
          [
           287.7554671968191
          ],
          [
           485.4887839433294
          ],
          [
           18.93548387096774
          ],
          [
           211.1449893390192
          ],
          [
           5323
          ],
          [
           1
          ],
          [
           17
          ],
          [
           22.25
          ],
          [
           77.140625
          ],
          [
           155.61797752808988
          ],
          [
           3.4
          ],
          [
           19.095238095238095
          ],
          [
           56.25
          ],
          [
           92.776
          ],
          [
           133.58285714285714
          ],
          [
           74.83720930232558
          ],
          [
           223.69360269360268
          ],
          [
           570
          ],
          [
           290
          ],
          [
           480.00414937759336
          ],
          [
           438
          ],
          [
           237
          ],
          [
           408
          ],
          [
           767.002600780234
          ],
          [
           1761
          ],
          [
           2470
          ],
          [
           156
          ],
          [
           1589
          ],
          [
           2.5
          ],
          [
           5.2
          ],
          [
           8.384615384615385
          ],
          [
           13.272727272727273
          ],
          [
           1
          ],
          [
           5
          ],
          [
           7.8
          ],
          [
           6.538461538461538
          ],
          [
           21.555555555555557
          ],
          [
           4
          ],
          [
           44.278688524590166
          ],
          [
           336.05263157894734
          ],
          [
           391.39709443099275
          ],
          [
           792.015037593985
          ],
          [
           737.0562248995984
          ],
          [
           97
          ],
          [
           217.02714932126696
          ],
          [
           1477.001352265044
          ],
          [
           1062.234862385321
          ],
          [
           1783.0078256008944
          ],
          [
           87
          ],
          [
           980.0363636363636
          ],
          [
           3
          ],
          [
           1
          ],
          [
           1.6666666666666667
          ],
          [
           4
          ],
          [
           1
          ],
          [
           2.5
          ],
          [
           2.5
          ],
          [
           5
          ],
          [
           1
          ],
          [
           5
          ],
          [
           47.875
          ],
          [
           194.72999035679845
          ],
          [
           54.00709219858156
          ],
          [
           89.82539682539682
          ],
          [
           12.647058823529411
          ],
          [
           18.30909090909091
          ],
          [
           54.15294117647059
          ],
          [
           137.47184986595175
          ],
          [
           162.11111111111111
          ],
          [
           10.12280701754386
          ],
          [
           483.83810270482167
          ],
          [
           513.5226019845645
          ],
          [
           617.1174577634755
          ],
          [
           561.3044741429402
          ],
          [
           6923.928249692889
          ],
          [
           183.026525198939
          ],
          [
           215.44859813084113
          ],
          [
           972.8595009596929
          ],
          [
           1484.604381443299
          ],
          [
           3324.8317821440883
          ],
          [
           1436.3241800152555
          ],
          [
           6977.277253441856
          ],
          [
           2190.5969159343394
          ],
          [
           1072.3389880081895
          ],
          [
           7859.645903990859
          ],
          [
           1660.6072296042291
          ],
          [
           662.3224729603419
          ],
          [
           952.9032511386838
          ],
          [
           7476.250725486045
          ],
          [
           4843.04192619015
          ],
          [
           9396.611540902619
          ],
          [
           267.45885885885883
          ],
          [
           4322.610954964377
          ],
          [
           2073.3090446449223
          ],
          [
           1023.1354782608696
          ],
          [
           7710.088302533816
          ],
          [
           4876.065236123079
          ],
          [
           639.3508771929825
          ],
          [
           906.4528329654157
          ],
          [
           7271.882189731712
          ],
          [
           4579.455232749247
          ],
          [
           8847.01691134027
          ],
          [
           782.372311827957
          ],
          [
           5050.034996559661
          ]
         ],
         "domain": {
          "x": [
           0,
           1
          ],
          "y": [
           0,
           1
          ]
         },
         "hovertemplate": "labels=%{label}<br>count_sum=%{value}<br>parent=%{parent}<br>id=%{id}<br>count=%{color}<extra></extra>",
         "ids": [
          "bola.com/web-desktop/chrome/apple",
          "bola.net/web-desktop/chrome/apple",
          "brilio.net/web-desktop/chrome/apple",
          "bukalapak.com/web-desktop/chrome/apple",
          "fimela.com/web-desktop/chrome/apple",
          "kapanlagi.com/web-desktop/chrome/apple",
          "liputan6.com/web-desktop/chrome/apple",
          "merdeka.com/web-desktop/chrome/apple",
          "others/web-desktop/chrome/apple",
          "vidio.com/web-desktop/chrome/apple",
          "bola.com/web-mobile/chrome/apple",
          "bola.net/web-mobile/chrome/apple",
          "brilio.net/web-mobile/chrome/apple",
          "bukalapak.com/web-mobile/chrome/apple",
          "dream.co.id/web-mobile/chrome/apple",
          "fimela.com/web-mobile/chrome/apple",
          "kapanlagi.com/web-mobile/chrome/apple",
          "liputan6.com/web-mobile/chrome/apple",
          "merdeka.com/web-mobile/chrome/apple",
          "others/web-mobile/chrome/apple",
          "vidio.com/web-mobile/chrome/apple",
          "bola.com/web-desktop/facebook/apple",
          "bola.net/web-desktop/facebook/apple",
          "brilio.net/web-desktop/facebook/apple",
          "bukalapak.com/web-desktop/facebook/apple",
          "dream.co.id/web-desktop/facebook/apple",
          "kapanlagi.com/web-desktop/facebook/apple",
          "liputan6.com/web-desktop/facebook/apple",
          "merdeka.com/web-desktop/facebook/apple",
          "others/web-desktop/facebook/apple",
          "vidio.com/web-desktop/facebook/apple",
          "bola.com/web-mobile/facebook/apple",
          "bola.net/web-mobile/facebook/apple",
          "brilio.net/web-mobile/facebook/apple",
          "bukalapak.com/web-mobile/facebook/apple",
          "dream.co.id/web-mobile/facebook/apple",
          "fimela.com/web-mobile/facebook/apple",
          "kapanlagi.com/web-mobile/facebook/apple",
          "liputan6.com/web-mobile/facebook/apple",
          "merdeka.com/web-mobile/facebook/apple",
          "others/web-mobile/facebook/apple",
          "vidio.com/web-mobile/facebook/apple",
          "bola.com/web-mobile/firefox/apple",
          "bola.net/web-mobile/firefox/apple",
          "bukalapak.com/web-mobile/firefox/apple",
          "dream.co.id/web-mobile/firefox/apple",
          "fimela.com/web-mobile/firefox/apple",
          "kapanlagi.com/web-mobile/firefox/apple",
          "liputan6.com/web-mobile/firefox/apple",
          "merdeka.com/web-mobile/firefox/apple",
          "others/web-mobile/firefox/apple",
          "vidio.com/web-mobile/firefox/apple",
          "bukalapak.com/web-mobile/miuibrowser/apple",
          "liputan6.com/web-mobile/miuibrowser/apple",
          "vidio.com/web-mobile/miuibrowser/apple",
          "bola.net/web-desktop/opera/apple",
          "brilio.net/web-mobile/opera/apple",
          "merdeka.com/web-mobile/opera/apple",
          "brilio.net/web-desktop/other/apple",
          "bukalapak.com/web-desktop/other/apple",
          "fimela.com/web-desktop/other/apple",
          "kapanlagi.com/web-desktop/other/apple",
          "liputan6.com/web-desktop/other/apple",
          "merdeka.com/web-desktop/other/apple",
          "others/web-desktop/other/apple",
          "vidio.com/web-desktop/other/apple",
          "bola.com/web-mobile/other/apple",
          "bola.net/web-mobile/other/apple",
          "brilio.net/web-mobile/other/apple",
          "bukalapak.com/web-mobile/other/apple",
          "dream.co.id/web-mobile/other/apple",
          "fimela.com/web-mobile/other/apple",
          "kapanlagi.com/web-mobile/other/apple",
          "liputan6.com/web-mobile/other/apple",
          "merdeka.com/web-mobile/other/apple",
          "others/web-mobile/other/apple",
          "vidio.com/web-mobile/other/apple",
          "bola.net/web-desktop/safari/apple",
          "brilio.net/web-desktop/safari/apple",
          "bukalapak.com/web-desktop/safari/apple",
          "dream.co.id/web-desktop/safari/apple",
          "fimela.com/web-desktop/safari/apple",
          "kapanlagi.com/web-desktop/safari/apple",
          "liputan6.com/web-desktop/safari/apple",
          "merdeka.com/web-desktop/safari/apple",
          "others/web-desktop/safari/apple",
          "vidio.com/web-desktop/safari/apple",
          "bola.com/web-mobile/safari/apple",
          "bola.net/web-mobile/safari/apple",
          "brilio.net/web-mobile/safari/apple",
          "bukalapak.com/web-mobile/safari/apple",
          "dream.co.id/web-mobile/safari/apple",
          "fimela.com/web-mobile/safari/apple",
          "kapanlagi.com/web-mobile/safari/apple",
          "liputan6.com/web-mobile/safari/apple",
          "merdeka.com/web-mobile/safari/apple",
          "others/web-mobile/safari/apple",
          "vidio.com/web-mobile/safari/apple",
          "bola.com/web-mobile/uc browser/apple",
          "bola.net/web-mobile/uc browser/apple",
          "bukalapak.com/web-mobile/uc browser/apple",
          "fimela.com/web-mobile/uc browser/apple",
          "kapanlagi.com/web-mobile/uc browser/apple",
          "liputan6.com/web-mobile/uc browser/apple",
          "merdeka.com/web-mobile/uc browser/apple",
          "others/web-mobile/uc browser/apple",
          "vidio.com/web-mobile/uc browser/apple",
          "dream.co.id/web-desktop/chrome/asus",
          "liputan6.com/web-desktop/chrome/asus",
          "vidio.com/web-desktop/chrome/asus",
          "bola.com/web-mobile/chrome/asus",
          "bola.net/web-mobile/chrome/asus",
          "brilio.net/web-mobile/chrome/asus",
          "bukalapak.com/web-mobile/chrome/asus",
          "dream.co.id/web-mobile/chrome/asus",
          "fimela.com/web-mobile/chrome/asus",
          "kapanlagi.com/web-mobile/chrome/asus",
          "liputan6.com/web-mobile/chrome/asus",
          "merdeka.com/web-mobile/chrome/asus",
          "others/web-mobile/chrome/asus",
          "vidio.com/web-mobile/chrome/asus",
          "brilio.net/web-desktop/facebook/asus",
          "kapanlagi.com/web-desktop/facebook/asus",
          "bola.com/web-mobile/facebook/asus",
          "bola.net/web-mobile/facebook/asus",
          "brilio.net/web-mobile/facebook/asus",
          "bukalapak.com/web-mobile/facebook/asus",
          "dream.co.id/web-mobile/facebook/asus",
          "fimela.com/web-mobile/facebook/asus",
          "kapanlagi.com/web-mobile/facebook/asus",
          "liputan6.com/web-mobile/facebook/asus",
          "merdeka.com/web-mobile/facebook/asus",
          "others/web-mobile/facebook/asus",
          "vidio.com/web-mobile/facebook/asus",
          "brilio.net/web-desktop/opera/asus",
          "merdeka.com/web-desktop/opera/asus",
          "bola.com/web-mobile/opera/asus",
          "bola.net/web-mobile/opera/asus",
          "brilio.net/web-mobile/opera/asus",
          "bukalapak.com/web-mobile/opera/asus",
          "dream.co.id/web-mobile/opera/asus",
          "fimela.com/web-mobile/opera/asus",
          "kapanlagi.com/web-mobile/opera/asus",
          "liputan6.com/web-mobile/opera/asus",
          "merdeka.com/web-mobile/opera/asus",
          "vidio.com/web-mobile/opera/asus",
          "bola.com/web-desktop/other/asus",
          "bukalapak.com/web-desktop/other/asus",
          "liputan6.com/web-desktop/other/asus",
          "others/web-desktop/other/asus",
          "bola.net/web-mobile/other/asus",
          "brilio.net/web-mobile/other/asus",
          "bukalapak.com/web-mobile/other/asus",
          "dream.co.id/web-mobile/other/asus",
          "fimela.com/web-mobile/other/asus",
          "kapanlagi.com/web-mobile/other/asus",
          "liputan6.com/web-mobile/other/asus",
          "merdeka.com/web-mobile/other/asus",
          "others/web-mobile/other/asus",
          "bola.net/web-mobile/samsung internet/asus",
          "brilio.net/web-mobile/samsung internet/asus",
          "liputan6.com/web-mobile/samsung internet/asus",
          "merdeka.com/web-mobile/samsung internet/asus",
          "vidio.com/web-mobile/samsung internet/asus",
          "bola.com/web-mobile/uc browser/asus",
          "bola.net/web-mobile/uc browser/asus",
          "brilio.net/web-mobile/uc browser/asus",
          "bukalapak.com/web-mobile/uc browser/asus",
          "dream.co.id/web-mobile/uc browser/asus",
          "fimela.com/web-mobile/uc browser/asus",
          "kapanlagi.com/web-mobile/uc browser/asus",
          "liputan6.com/web-mobile/uc browser/asus",
          "merdeka.com/web-mobile/uc browser/asus",
          "others/web-mobile/uc browser/asus",
          "vidio.com/web-mobile/uc browser/asus",
          "brilio.net/web-mobile/bacaberita app/generic",
          "merdeka.com/web-mobile/bacaberita app/generic",
          "bola.com/web-desktop/chrome/generic",
          "bola.net/web-desktop/chrome/generic",
          "brilio.net/web-desktop/chrome/generic",
          "bukalapak.com/web-desktop/chrome/generic",
          "dream.co.id/web-desktop/chrome/generic",
          "fimela.com/web-desktop/chrome/generic",
          "kapanlagi.com/web-desktop/chrome/generic",
          "liputan6.com/web-desktop/chrome/generic",
          "merdeka.com/web-desktop/chrome/generic",
          "others/web-desktop/chrome/generic",
          "vidio.com/web-desktop/chrome/generic",
          "bola.com/web-mobile/chrome/generic",
          "bola.net/web-mobile/chrome/generic",
          "brilio.net/web-mobile/chrome/generic",
          "bukalapak.com/web-mobile/chrome/generic",
          "dream.co.id/web-mobile/chrome/generic",
          "fimela.com/web-mobile/chrome/generic",
          "kapanlagi.com/web-mobile/chrome/generic",
          "liputan6.com/web-mobile/chrome/generic",
          "merdeka.com/web-mobile/chrome/generic",
          "others/web-mobile/chrome/generic",
          "vidio.com/web-mobile/chrome/generic",
          "bola.net/web-desktop/facebook/generic",
          "brilio.net/web-desktop/facebook/generic",
          "kapanlagi.com/web-desktop/facebook/generic",
          "liputan6.com/web-desktop/facebook/generic",
          "others/web-desktop/facebook/generic",
          "vidio.com/web-desktop/facebook/generic",
          "bola.com/web-mobile/facebook/generic",
          "bola.net/web-mobile/facebook/generic",
          "brilio.net/web-mobile/facebook/generic",
          "bukalapak.com/web-mobile/facebook/generic",
          "dream.co.id/web-mobile/facebook/generic",
          "fimela.com/web-mobile/facebook/generic",
          "kapanlagi.com/web-mobile/facebook/generic",
          "liputan6.com/web-mobile/facebook/generic",
          "merdeka.com/web-mobile/facebook/generic",
          "others/web-mobile/facebook/generic",
          "vidio.com/web-mobile/facebook/generic",
          "merdeka.com/web-desktop/firefox/generic",
          "bola.com/web-mobile/firefox/generic",
          "bola.net/web-mobile/firefox/generic",
          "brilio.net/web-mobile/firefox/generic",
          "bukalapak.com/web-mobile/firefox/generic",
          "dream.co.id/web-mobile/firefox/generic",
          "fimela.com/web-mobile/firefox/generic",
          "kapanlagi.com/web-mobile/firefox/generic",
          "liputan6.com/web-mobile/firefox/generic",
          "merdeka.com/web-mobile/firefox/generic",
          "vidio.com/web-mobile/firefox/generic",
          "bola.com/web-mobile/miuibrowser/generic",
          "bola.net/web-mobile/miuibrowser/generic",
          "brilio.net/web-mobile/miuibrowser/generic",
          "bukalapak.com/web-mobile/miuibrowser/generic",
          "fimela.com/web-mobile/miuibrowser/generic",
          "kapanlagi.com/web-mobile/miuibrowser/generic",
          "liputan6.com/web-mobile/miuibrowser/generic",
          "merdeka.com/web-mobile/miuibrowser/generic",
          "vidio.com/web-mobile/miuibrowser/generic",
          "bola.net/web-desktop/opera/generic",
          "brilio.net/web-desktop/opera/generic",
          "bukalapak.com/web-desktop/opera/generic",
          "kapanlagi.com/web-desktop/opera/generic",
          "liputan6.com/web-desktop/opera/generic",
          "merdeka.com/web-desktop/opera/generic",
          "bola.com/web-mobile/opera/generic",
          "bola.net/web-mobile/opera/generic",
          "brilio.net/web-mobile/opera/generic",
          "bukalapak.com/web-mobile/opera/generic",
          "dream.co.id/web-mobile/opera/generic",
          "fimela.com/web-mobile/opera/generic",
          "kapanlagi.com/web-mobile/opera/generic",
          "liputan6.com/web-mobile/opera/generic",
          "merdeka.com/web-mobile/opera/generic",
          "others/web-mobile/opera/generic",
          "vidio.com/web-mobile/opera/generic",
          "bola.net/web-desktop/other/generic",
          "brilio.net/web-desktop/other/generic",
          "bukalapak.com/web-desktop/other/generic",
          "dream.co.id/web-desktop/other/generic",
          "kapanlagi.com/web-desktop/other/generic",
          "liputan6.com/web-desktop/other/generic",
          "merdeka.com/web-desktop/other/generic",
          "others/web-desktop/other/generic",
          "vidio.com/web-desktop/other/generic",
          "bola.com/web-mobile/other/generic",
          "bola.net/web-mobile/other/generic",
          "brilio.net/web-mobile/other/generic",
          "bukalapak.com/web-mobile/other/generic",
          "dream.co.id/web-mobile/other/generic",
          "fimela.com/web-mobile/other/generic",
          "kapanlagi.com/web-mobile/other/generic",
          "liputan6.com/web-mobile/other/generic",
          "merdeka.com/web-mobile/other/generic",
          "others/web-mobile/other/generic",
          "vidio.com/web-mobile/other/generic",
          "brilio.net/web-mobile/safari/generic",
          "bola.com/web-mobile/samsung internet/generic",
          "bola.net/web-mobile/samsung internet/generic",
          "brilio.net/web-mobile/samsung internet/generic",
          "fimela.com/web-mobile/samsung internet/generic",
          "liputan6.com/web-mobile/samsung internet/generic",
          "vidio.com/web-mobile/samsung internet/generic",
          "bola.com/web-mobile/uc browser/generic",
          "bola.net/web-mobile/uc browser/generic",
          "brilio.net/web-mobile/uc browser/generic",
          "bukalapak.com/web-mobile/uc browser/generic",
          "dream.co.id/web-mobile/uc browser/generic",
          "fimela.com/web-mobile/uc browser/generic",
          "kapanlagi.com/web-mobile/uc browser/generic",
          "liputan6.com/web-mobile/uc browser/generic",
          "merdeka.com/web-mobile/uc browser/generic",
          "others/web-mobile/uc browser/generic",
          "vidio.com/web-mobile/uc browser/generic",
          "bola.com/web-desktop/chrome/generic_android",
          "bola.net/web-desktop/chrome/generic_android",
          "brilio.net/web-desktop/chrome/generic_android",
          "bukalapak.com/web-desktop/chrome/generic_android",
          "dream.co.id/web-desktop/chrome/generic_android",
          "fimela.com/web-desktop/chrome/generic_android",
          "kapanlagi.com/web-desktop/chrome/generic_android",
          "liputan6.com/web-desktop/chrome/generic_android",
          "merdeka.com/web-desktop/chrome/generic_android",
          "others/web-desktop/chrome/generic_android",
          "vidio.com/web-desktop/chrome/generic_android",
          "bola.com/web-mobile/chrome/generic_android",
          "bola.net/web-mobile/chrome/generic_android",
          "brilio.net/web-mobile/chrome/generic_android",
          "bukalapak.com/web-mobile/chrome/generic_android",
          "dream.co.id/web-mobile/chrome/generic_android",
          "fimela.com/web-mobile/chrome/generic_android",
          "kapanlagi.com/web-mobile/chrome/generic_android",
          "liputan6.com/web-mobile/chrome/generic_android",
          "merdeka.com/web-mobile/chrome/generic_android",
          "others/web-mobile/chrome/generic_android",
          "vidio.com/web-mobile/chrome/generic_android",
          "bola.net/web-desktop/facebook/generic_android",
          "brilio.net/web-desktop/facebook/generic_android",
          "kapanlagi.com/web-desktop/facebook/generic_android",
          "others/web-desktop/facebook/generic_android",
          "bola.com/web-mobile/facebook/generic_android",
          "bola.net/web-mobile/facebook/generic_android",
          "brilio.net/web-mobile/facebook/generic_android",
          "bukalapak.com/web-mobile/facebook/generic_android",
          "dream.co.id/web-mobile/facebook/generic_android",
          "fimela.com/web-mobile/facebook/generic_android",
          "kapanlagi.com/web-mobile/facebook/generic_android",
          "liputan6.com/web-mobile/facebook/generic_android",
          "merdeka.com/web-mobile/facebook/generic_android",
          "others/web-mobile/facebook/generic_android",
          "vidio.com/web-mobile/facebook/generic_android",
          "bola.com/web-mobile/firefox/generic_android",
          "bola.net/web-mobile/firefox/generic_android",
          "brilio.net/web-mobile/firefox/generic_android",
          "bukalapak.com/web-mobile/firefox/generic_android",
          "dream.co.id/web-mobile/firefox/generic_android",
          "fimela.com/web-mobile/firefox/generic_android",
          "kapanlagi.com/web-mobile/firefox/generic_android",
          "liputan6.com/web-mobile/firefox/generic_android",
          "merdeka.com/web-mobile/firefox/generic_android",
          "others/web-mobile/firefox/generic_android",
          "vidio.com/web-mobile/firefox/generic_android",
          "bukalapak.com/web-mobile/miuibrowser/generic_android",
          "fimela.com/web-mobile/miuibrowser/generic_android",
          "vidio.com/web-mobile/miuibrowser/generic_android",
          "bola.com/web-desktop/opera/generic_android",
          "bukalapak.com/web-desktop/opera/generic_android",
          "vidio.com/web-desktop/opera/generic_android",
          "bola.com/web-mobile/opera/generic_android",
          "bola.net/web-mobile/opera/generic_android",
          "brilio.net/web-mobile/opera/generic_android",
          "bukalapak.com/web-mobile/opera/generic_android",
          "dream.co.id/web-mobile/opera/generic_android",
          "fimela.com/web-mobile/opera/generic_android",
          "kapanlagi.com/web-mobile/opera/generic_android",
          "liputan6.com/web-mobile/opera/generic_android",
          "merdeka.com/web-mobile/opera/generic_android",
          "others/web-mobile/opera/generic_android",
          "vidio.com/web-mobile/opera/generic_android",
          "brilio.net/web-desktop/other/generic_android",
          "bukalapak.com/web-desktop/other/generic_android",
          "others/web-desktop/other/generic_android",
          "bola.com/web-mobile/other/generic_android",
          "bola.net/web-mobile/other/generic_android",
          "brilio.net/web-mobile/other/generic_android",
          "bukalapak.com/web-mobile/other/generic_android",
          "dream.co.id/web-mobile/other/generic_android",
          "fimela.com/web-mobile/other/generic_android",
          "kapanlagi.com/web-mobile/other/generic_android",
          "liputan6.com/web-mobile/other/generic_android",
          "merdeka.com/web-mobile/other/generic_android",
          "vidio.com/web-mobile/other/generic_android",
          "bola.net/web-mobile/samsung internet/generic_android",
          "kapanlagi.com/web-mobile/samsung internet/generic_android",
          "liputan6.com/web-mobile/samsung internet/generic_android",
          "vidio.com/web-mobile/samsung internet/generic_android",
          "liputan6.com/web-desktop/uc browser/generic_android",
          "bola.com/web-mobile/uc browser/generic_android",
          "bola.net/web-mobile/uc browser/generic_android",
          "brilio.net/web-mobile/uc browser/generic_android",
          "bukalapak.com/web-mobile/uc browser/generic_android",
          "dream.co.id/web-mobile/uc browser/generic_android",
          "fimela.com/web-mobile/uc browser/generic_android",
          "kapanlagi.com/web-mobile/uc browser/generic_android",
          "liputan6.com/web-mobile/uc browser/generic_android",
          "merdeka.com/web-mobile/uc browser/generic_android",
          "others/web-mobile/uc browser/generic_android",
          "vidio.com/web-mobile/uc browser/generic_android",
          "merdeka.com/web-desktop/chrome/huawei",
          "vidio.com/web-desktop/chrome/huawei",
          "bola.com/web-mobile/chrome/huawei",
          "bola.net/web-mobile/chrome/huawei",
          "brilio.net/web-mobile/chrome/huawei",
          "bukalapak.com/web-mobile/chrome/huawei",
          "dream.co.id/web-mobile/chrome/huawei",
          "fimela.com/web-mobile/chrome/huawei",
          "kapanlagi.com/web-mobile/chrome/huawei",
          "liputan6.com/web-mobile/chrome/huawei",
          "merdeka.com/web-mobile/chrome/huawei",
          "others/web-mobile/chrome/huawei",
          "vidio.com/web-mobile/chrome/huawei",
          "kapanlagi.com/web-desktop/facebook/huawei",
          "bola.com/web-mobile/facebook/huawei",
          "bola.net/web-mobile/facebook/huawei",
          "brilio.net/web-mobile/facebook/huawei",
          "bukalapak.com/web-mobile/facebook/huawei",
          "dream.co.id/web-mobile/facebook/huawei",
          "fimela.com/web-mobile/facebook/huawei",
          "kapanlagi.com/web-mobile/facebook/huawei",
          "liputan6.com/web-mobile/facebook/huawei",
          "merdeka.com/web-mobile/facebook/huawei",
          "others/web-mobile/facebook/huawei",
          "vidio.com/web-mobile/facebook/huawei",
          "bukalapak.com/web-desktop/opera/huawei",
          "bola.com/web-mobile/opera/huawei",
          "bola.net/web-mobile/opera/huawei",
          "brilio.net/web-mobile/opera/huawei",
          "bukalapak.com/web-mobile/opera/huawei",
          "kapanlagi.com/web-mobile/opera/huawei",
          "liputan6.com/web-mobile/opera/huawei",
          "merdeka.com/web-mobile/opera/huawei",
          "vidio.com/web-mobile/opera/huawei",
          "bukalapak.com/web-desktop/other/huawei",
          "others/web-desktop/other/huawei",
          "brilio.net/web-mobile/other/huawei",
          "bukalapak.com/web-mobile/other/huawei",
          "kapanlagi.com/web-mobile/other/huawei",
          "liputan6.com/web-mobile/other/huawei",
          "merdeka.com/web-mobile/other/huawei",
          "kapanlagi.com/web-mobile/safari/huawei",
          "bola.net/web-mobile/samsung internet/huawei",
          "bukalapak.com/web-mobile/samsung internet/huawei",
          "liputan6.com/web-mobile/samsung internet/huawei",
          "bola.net/web-mobile/uc browser/huawei",
          "bukalapak.com/web-mobile/uc browser/huawei",
          "dream.co.id/web-mobile/uc browser/huawei",
          "kapanlagi.com/web-mobile/uc browser/huawei",
          "liputan6.com/web-mobile/uc browser/huawei",
          "merdeka.com/web-mobile/uc browser/huawei",
          "others/web-mobile/uc browser/huawei",
          "vidio.com/web-mobile/uc browser/huawei",
          "others/web-desktop/chrome/lg",
          "vidio.com/web-desktop/chrome/lg",
          "bola.com/web-mobile/chrome/lg",
          "bola.net/web-mobile/chrome/lg",
          "brilio.net/web-mobile/chrome/lg",
          "bukalapak.com/web-mobile/chrome/lg",
          "dream.co.id/web-mobile/chrome/lg",
          "fimela.com/web-mobile/chrome/lg",
          "kapanlagi.com/web-mobile/chrome/lg",
          "liputan6.com/web-mobile/chrome/lg",
          "merdeka.com/web-mobile/chrome/lg",
          "others/web-mobile/chrome/lg",
          "vidio.com/web-mobile/chrome/lg",
          "bola.net/web-mobile/facebook/lg",
          "brilio.net/web-mobile/facebook/lg",
          "dream.co.id/web-mobile/facebook/lg",
          "fimela.com/web-mobile/facebook/lg",
          "kapanlagi.com/web-mobile/facebook/lg",
          "liputan6.com/web-mobile/facebook/lg",
          "merdeka.com/web-mobile/facebook/lg",
          "others/web-mobile/facebook/lg",
          "bola.com/web-mobile/opera/lg",
          "bola.net/web-mobile/opera/lg",
          "brilio.net/web-mobile/opera/lg",
          "bukalapak.com/web-mobile/opera/lg",
          "kapanlagi.com/web-mobile/opera/lg",
          "liputan6.com/web-mobile/opera/lg",
          "merdeka.com/web-mobile/opera/lg",
          "vidio.com/web-mobile/opera/lg",
          "bukalapak.com/web-desktop/other/lg",
          "bola.com/web-mobile/other/lg",
          "bola.net/web-mobile/other/lg",
          "brilio.net/web-mobile/other/lg",
          "bukalapak.com/web-mobile/other/lg",
          "fimela.com/web-mobile/other/lg",
          "kapanlagi.com/web-mobile/other/lg",
          "liputan6.com/web-mobile/other/lg",
          "merdeka.com/web-mobile/other/lg",
          "others/web-mobile/other/lg",
          "vidio.com/web-mobile/other/lg",
          "bola.com/web-mobile/uc browser/lg",
          "bola.net/web-mobile/uc browser/lg",
          "merdeka.com/web-mobile/uc browser/lg",
          "vidio.com/web-mobile/uc browser/lg",
          "bola.net/web-desktop/chrome/other",
          "brilio.net/web-desktop/chrome/other",
          "bukalapak.com/web-desktop/chrome/other",
          "fimela.com/web-desktop/chrome/other",
          "kapanlagi.com/web-desktop/chrome/other",
          "liputan6.com/web-desktop/chrome/other",
          "merdeka.com/web-desktop/chrome/other",
          "others/web-desktop/chrome/other",
          "vidio.com/web-desktop/chrome/other",
          "bola.com/web-mobile/chrome/other",
          "bola.net/web-mobile/chrome/other",
          "brilio.net/web-mobile/chrome/other",
          "bukalapak.com/web-mobile/chrome/other",
          "dream.co.id/web-mobile/chrome/other",
          "fimela.com/web-mobile/chrome/other",
          "kapanlagi.com/web-mobile/chrome/other",
          "liputan6.com/web-mobile/chrome/other",
          "merdeka.com/web-mobile/chrome/other",
          "others/web-mobile/chrome/other",
          "vidio.com/web-mobile/chrome/other",
          "brilio.net/web-desktop/facebook/other",
          "kapanlagi.com/web-desktop/facebook/other",
          "merdeka.com/web-desktop/facebook/other",
          "bola.com/web-mobile/facebook/other",
          "bola.net/web-mobile/facebook/other",
          "brilio.net/web-mobile/facebook/other",
          "bukalapak.com/web-mobile/facebook/other",
          "dream.co.id/web-mobile/facebook/other",
          "fimela.com/web-mobile/facebook/other",
          "kapanlagi.com/web-mobile/facebook/other",
          "liputan6.com/web-mobile/facebook/other",
          "merdeka.com/web-mobile/facebook/other",
          "others/web-mobile/facebook/other",
          "vidio.com/web-mobile/facebook/other",
          "bola.net/web-desktop/opera/other",
          "kapanlagi.com/web-desktop/opera/other",
          "liputan6.com/web-desktop/opera/other",
          "bola.com/web-mobile/opera/other",
          "bola.net/web-mobile/opera/other",
          "brilio.net/web-mobile/opera/other",
          "bukalapak.com/web-mobile/opera/other",
          "dream.co.id/web-mobile/opera/other",
          "fimela.com/web-mobile/opera/other",
          "kapanlagi.com/web-mobile/opera/other",
          "liputan6.com/web-mobile/opera/other",
          "merdeka.com/web-mobile/opera/other",
          "others/web-mobile/opera/other",
          "vidio.com/web-mobile/opera/other",
          "brilio.net/web-desktop/other/other",
          "bukalapak.com/web-desktop/other/other",
          "liputan6.com/web-desktop/other/other",
          "merdeka.com/web-desktop/other/other",
          "others/web-desktop/other/other",
          "vidio.com/web-desktop/other/other",
          "bola.com/web-mobile/other/other",
          "bola.net/web-mobile/other/other",
          "brilio.net/web-mobile/other/other",
          "bukalapak.com/web-mobile/other/other",
          "kapanlagi.com/web-mobile/other/other",
          "liputan6.com/web-mobile/other/other",
          "merdeka.com/web-mobile/other/other",
          "vidio.com/web-mobile/other/other",
          "vidio.com/web-desktop/safari/other",
          "liputan6.com/web-mobile/samsung internet/other",
          "brilio.net/web-desktop/uc browser/other",
          "bola.com/web-mobile/uc browser/other",
          "bola.net/web-mobile/uc browser/other",
          "brilio.net/web-mobile/uc browser/other",
          "bukalapak.com/web-mobile/uc browser/other",
          "dream.co.id/web-mobile/uc browser/other",
          "fimela.com/web-mobile/uc browser/other",
          "kapanlagi.com/web-mobile/uc browser/other",
          "liputan6.com/web-mobile/uc browser/other",
          "merdeka.com/web-mobile/uc browser/other",
          "others/web-mobile/uc browser/other",
          "vidio.com/web-mobile/uc browser/other",
          "bola.com/web-desktop/chrome/samsung",
          "bola.net/web-desktop/chrome/samsung",
          "brilio.net/web-desktop/chrome/samsung",
          "bukalapak.com/web-desktop/chrome/samsung",
          "dream.co.id/web-desktop/chrome/samsung",
          "fimela.com/web-desktop/chrome/samsung",
          "kapanlagi.com/web-desktop/chrome/samsung",
          "liputan6.com/web-desktop/chrome/samsung",
          "merdeka.com/web-desktop/chrome/samsung",
          "others/web-desktop/chrome/samsung",
          "vidio.com/web-desktop/chrome/samsung",
          "bola.com/web-mobile/chrome/samsung",
          "bola.net/web-mobile/chrome/samsung",
          "brilio.net/web-mobile/chrome/samsung",
          "bukalapak.com/web-mobile/chrome/samsung",
          "dream.co.id/web-mobile/chrome/samsung",
          "fimela.com/web-mobile/chrome/samsung",
          "kapanlagi.com/web-mobile/chrome/samsung",
          "liputan6.com/web-mobile/chrome/samsung",
          "merdeka.com/web-mobile/chrome/samsung",
          "others/web-mobile/chrome/samsung",
          "vidio.com/web-mobile/chrome/samsung",
          "bola.com/web-desktop/facebook/samsung",
          "bola.net/web-desktop/facebook/samsung",
          "brilio.net/web-desktop/facebook/samsung",
          "dream.co.id/web-desktop/facebook/samsung",
          "kapanlagi.com/web-desktop/facebook/samsung",
          "liputan6.com/web-desktop/facebook/samsung",
          "merdeka.com/web-desktop/facebook/samsung",
          "others/web-desktop/facebook/samsung",
          "bola.com/web-mobile/facebook/samsung",
          "bola.net/web-mobile/facebook/samsung",
          "brilio.net/web-mobile/facebook/samsung",
          "bukalapak.com/web-mobile/facebook/samsung",
          "dream.co.id/web-mobile/facebook/samsung",
          "fimela.com/web-mobile/facebook/samsung",
          "kapanlagi.com/web-mobile/facebook/samsung",
          "liputan6.com/web-mobile/facebook/samsung",
          "merdeka.com/web-mobile/facebook/samsung",
          "others/web-mobile/facebook/samsung",
          "vidio.com/web-mobile/facebook/samsung",
          "bola.net/web-mobile/miuibrowser/samsung",
          "liputan6.com/web-mobile/miuibrowser/samsung",
          "bola.com/web-desktop/opera/samsung",
          "bola.net/web-desktop/opera/samsung",
          "brilio.net/web-desktop/opera/samsung",
          "bukalapak.com/web-desktop/opera/samsung",
          "liputan6.com/web-desktop/opera/samsung",
          "others/web-desktop/opera/samsung",
          "vidio.com/web-desktop/opera/samsung",
          "bola.com/web-mobile/opera/samsung",
          "bola.net/web-mobile/opera/samsung",
          "brilio.net/web-mobile/opera/samsung",
          "bukalapak.com/web-mobile/opera/samsung",
          "dream.co.id/web-mobile/opera/samsung",
          "fimela.com/web-mobile/opera/samsung",
          "kapanlagi.com/web-mobile/opera/samsung",
          "liputan6.com/web-mobile/opera/samsung",
          "merdeka.com/web-mobile/opera/samsung",
          "others/web-mobile/opera/samsung",
          "vidio.com/web-mobile/opera/samsung",
          "bola.com/web-desktop/other/samsung",
          "bola.net/web-desktop/other/samsung",
          "brilio.net/web-desktop/other/samsung",
          "bukalapak.com/web-desktop/other/samsung",
          "dream.co.id/web-desktop/other/samsung",
          "liputan6.com/web-desktop/other/samsung",
          "merdeka.com/web-desktop/other/samsung",
          "others/web-desktop/other/samsung",
          "bola.com/web-mobile/other/samsung",
          "bola.net/web-mobile/other/samsung",
          "brilio.net/web-mobile/other/samsung",
          "bukalapak.com/web-mobile/other/samsung",
          "dream.co.id/web-mobile/other/samsung",
          "fimela.com/web-mobile/other/samsung",
          "kapanlagi.com/web-mobile/other/samsung",
          "liputan6.com/web-mobile/other/samsung",
          "merdeka.com/web-mobile/other/samsung",
          "others/web-mobile/other/samsung",
          "vidio.com/web-mobile/other/samsung",
          "bola.com/web-desktop/samsung internet/samsung",
          "bola.net/web-desktop/samsung internet/samsung",
          "brilio.net/web-desktop/samsung internet/samsung",
          "bukalapak.com/web-desktop/samsung internet/samsung",
          "dream.co.id/web-desktop/samsung internet/samsung",
          "fimela.com/web-desktop/samsung internet/samsung",
          "kapanlagi.com/web-desktop/samsung internet/samsung",
          "liputan6.com/web-desktop/samsung internet/samsung",
          "merdeka.com/web-desktop/samsung internet/samsung",
          "others/web-desktop/samsung internet/samsung",
          "vidio.com/web-desktop/samsung internet/samsung",
          "bola.com/web-mobile/samsung internet/samsung",
          "bola.net/web-mobile/samsung internet/samsung",
          "brilio.net/web-mobile/samsung internet/samsung",
          "bukalapak.com/web-mobile/samsung internet/samsung",
          "dream.co.id/web-mobile/samsung internet/samsung",
          "fimela.com/web-mobile/samsung internet/samsung",
          "kapanlagi.com/web-mobile/samsung internet/samsung",
          "liputan6.com/web-mobile/samsung internet/samsung",
          "merdeka.com/web-mobile/samsung internet/samsung",
          "others/web-mobile/samsung internet/samsung",
          "vidio.com/web-mobile/samsung internet/samsung",
          "bola.com/web-mobile/uc browser/samsung",
          "bola.net/web-mobile/uc browser/samsung",
          "brilio.net/web-mobile/uc browser/samsung",
          "bukalapak.com/web-mobile/uc browser/samsung",
          "dream.co.id/web-mobile/uc browser/samsung",
          "fimela.com/web-mobile/uc browser/samsung",
          "kapanlagi.com/web-mobile/uc browser/samsung",
          "liputan6.com/web-mobile/uc browser/samsung",
          "merdeka.com/web-mobile/uc browser/samsung",
          "others/web-mobile/uc browser/samsung",
          "vidio.com/web-mobile/uc browser/samsung",
          "bola.com/web-desktop/chrome/undefined",
          "bola.net/web-desktop/chrome/undefined",
          "brilio.net/web-desktop/chrome/undefined",
          "bukalapak.com/web-desktop/chrome/undefined",
          "dream.co.id/web-desktop/chrome/undefined",
          "fimela.com/web-desktop/chrome/undefined",
          "kapanlagi.com/web-desktop/chrome/undefined",
          "liputan6.com/web-desktop/chrome/undefined",
          "merdeka.com/web-desktop/chrome/undefined",
          "others/web-desktop/chrome/undefined",
          "vidio.com/web-desktop/chrome/undefined",
          "bola.com/web-mobile/chrome/undefined",
          "kapanlagi.com/web-mobile/chrome/undefined",
          "brilio.net/web-desktop/facebook/undefined",
          "bola.com/web-desktop/firefox/undefined",
          "bola.net/web-desktop/firefox/undefined",
          "brilio.net/web-desktop/firefox/undefined",
          "bukalapak.com/web-desktop/firefox/undefined",
          "dream.co.id/web-desktop/firefox/undefined",
          "fimela.com/web-desktop/firefox/undefined",
          "kapanlagi.com/web-desktop/firefox/undefined",
          "liputan6.com/web-desktop/firefox/undefined",
          "merdeka.com/web-desktop/firefox/undefined",
          "others/web-desktop/firefox/undefined",
          "vidio.com/web-desktop/firefox/undefined",
          "bukalapak.com/web-mobile/firefox/undefined",
          "others/web-mobile/firefox/undefined",
          "bola.com/web-desktop/miuibrowser/undefined",
          "bola.net/web-desktop/miuibrowser/undefined",
          "brilio.net/web-desktop/miuibrowser/undefined",
          "bukalapak.com/web-desktop/miuibrowser/undefined",
          "dream.co.id/web-desktop/miuibrowser/undefined",
          "kapanlagi.com/web-desktop/miuibrowser/undefined",
          "liputan6.com/web-desktop/miuibrowser/undefined",
          "merdeka.com/web-desktop/miuibrowser/undefined",
          "others/web-desktop/miuibrowser/undefined",
          "vidio.com/web-desktop/miuibrowser/undefined",
          "bola.com/web-desktop/opera/undefined",
          "bola.net/web-desktop/opera/undefined",
          "brilio.net/web-desktop/opera/undefined",
          "bukalapak.com/web-desktop/opera/undefined",
          "dream.co.id/web-desktop/opera/undefined",
          "fimela.com/web-desktop/opera/undefined",
          "kapanlagi.com/web-desktop/opera/undefined",
          "liputan6.com/web-desktop/opera/undefined",
          "merdeka.com/web-desktop/opera/undefined",
          "others/web-desktop/opera/undefined",
          "vidio.com/web-desktop/opera/undefined",
          "bola.com/web-desktop/other/undefined",
          "bola.net/web-desktop/other/undefined",
          "brilio.net/web-desktop/other/undefined",
          "bukalapak.com/web-desktop/other/undefined",
          "dream.co.id/web-desktop/other/undefined",
          "fimela.com/web-desktop/other/undefined",
          "kapanlagi.com/web-desktop/other/undefined",
          "liputan6.com/web-desktop/other/undefined",
          "merdeka.com/web-desktop/other/undefined",
          "others/web-desktop/other/undefined",
          "vidio.com/web-desktop/other/undefined",
          "bukalapak.com/web-desktop/pale moon/undefined",
          "kapanlagi.com/web-desktop/pale moon/undefined",
          "bola.com/web-desktop/safari/undefined",
          "bola.net/web-desktop/safari/undefined",
          "brilio.net/web-desktop/safari/undefined",
          "bukalapak.com/web-desktop/safari/undefined",
          "dream.co.id/web-desktop/safari/undefined",
          "fimela.com/web-desktop/safari/undefined",
          "kapanlagi.com/web-desktop/safari/undefined",
          "liputan6.com/web-desktop/safari/undefined",
          "merdeka.com/web-desktop/safari/undefined",
          "others/web-desktop/safari/undefined",
          "vidio.com/web-desktop/safari/undefined",
          "bola.com/web-desktop/samsung internet/undefined",
          "bola.net/web-desktop/samsung internet/undefined",
          "brilio.net/web-desktop/samsung internet/undefined",
          "bukalapak.com/web-desktop/samsung internet/undefined",
          "dream.co.id/web-desktop/samsung internet/undefined",
          "fimela.com/web-desktop/samsung internet/undefined",
          "kapanlagi.com/web-desktop/samsung internet/undefined",
          "liputan6.com/web-desktop/samsung internet/undefined",
          "merdeka.com/web-desktop/samsung internet/undefined",
          "vidio.com/web-desktop/samsung internet/undefined",
          "bola.com/web-desktop/uc browser/undefined",
          "bola.net/web-desktop/uc browser/undefined",
          "brilio.net/web-desktop/uc browser/undefined",
          "bukalapak.com/web-desktop/uc browser/undefined",
          "fimela.com/web-desktop/uc browser/undefined",
          "kapanlagi.com/web-desktop/uc browser/undefined",
          "liputan6.com/web-desktop/uc browser/undefined",
          "merdeka.com/web-desktop/uc browser/undefined",
          "others/web-desktop/uc browser/undefined",
          "vidio.com/web-desktop/uc browser/undefined",
          "liputan6.com/web-desktop/chrome/vivo",
          "merdeka.com/web-desktop/chrome/vivo",
          "others/web-desktop/chrome/vivo",
          "vidio.com/web-desktop/chrome/vivo",
          "bola.com/web-mobile/chrome/vivo",
          "bola.net/web-mobile/chrome/vivo",
          "brilio.net/web-mobile/chrome/vivo",
          "bukalapak.com/web-mobile/chrome/vivo",
          "dream.co.id/web-mobile/chrome/vivo",
          "fimela.com/web-mobile/chrome/vivo",
          "kapanlagi.com/web-mobile/chrome/vivo",
          "liputan6.com/web-mobile/chrome/vivo",
          "merdeka.com/web-mobile/chrome/vivo",
          "others/web-mobile/chrome/vivo",
          "vidio.com/web-mobile/chrome/vivo",
          "bola.com/web-mobile/facebook/vivo",
          "bola.net/web-mobile/facebook/vivo",
          "brilio.net/web-mobile/facebook/vivo",
          "bukalapak.com/web-mobile/facebook/vivo",
          "dream.co.id/web-mobile/facebook/vivo",
          "fimela.com/web-mobile/facebook/vivo",
          "kapanlagi.com/web-mobile/facebook/vivo",
          "liputan6.com/web-mobile/facebook/vivo",
          "merdeka.com/web-mobile/facebook/vivo",
          "others/web-mobile/facebook/vivo",
          "vidio.com/web-mobile/facebook/vivo",
          "bukalapak.com/web-desktop/opera/vivo",
          "bola.com/web-mobile/opera/vivo",
          "bola.net/web-mobile/opera/vivo",
          "brilio.net/web-mobile/opera/vivo",
          "bukalapak.com/web-mobile/opera/vivo",
          "dream.co.id/web-mobile/opera/vivo",
          "fimela.com/web-mobile/opera/vivo",
          "kapanlagi.com/web-mobile/opera/vivo",
          "liputan6.com/web-mobile/opera/vivo",
          "merdeka.com/web-mobile/opera/vivo",
          "others/web-mobile/opera/vivo",
          "vidio.com/web-mobile/opera/vivo",
          "bukalapak.com/web-desktop/other/vivo",
          "others/web-desktop/other/vivo",
          "bola.com/web-mobile/other/vivo",
          "bola.net/web-mobile/other/vivo",
          "brilio.net/web-mobile/other/vivo",
          "bukalapak.com/web-mobile/other/vivo",
          "dream.co.id/web-mobile/other/vivo",
          "fimela.com/web-mobile/other/vivo",
          "kapanlagi.com/web-mobile/other/vivo",
          "liputan6.com/web-mobile/other/vivo",
          "merdeka.com/web-mobile/other/vivo",
          "vidio.com/web-mobile/other/vivo",
          "bola.com/web-mobile/uc browser/vivo",
          "bola.net/web-mobile/uc browser/vivo",
          "brilio.net/web-mobile/uc browser/vivo",
          "bukalapak.com/web-mobile/uc browser/vivo",
          "dream.co.id/web-mobile/uc browser/vivo",
          "fimela.com/web-mobile/uc browser/vivo",
          "kapanlagi.com/web-mobile/uc browser/vivo",
          "liputan6.com/web-mobile/uc browser/vivo",
          "merdeka.com/web-mobile/uc browser/vivo",
          "others/web-mobile/uc browser/vivo",
          "vidio.com/web-mobile/uc browser/vivo",
          "bola.com/web-desktop/chrome/xiaomi",
          "brilio.net/web-desktop/chrome/xiaomi",
          "bukalapak.com/web-desktop/chrome/xiaomi",
          "fimela.com/web-desktop/chrome/xiaomi",
          "kapanlagi.com/web-desktop/chrome/xiaomi",
          "liputan6.com/web-desktop/chrome/xiaomi",
          "merdeka.com/web-desktop/chrome/xiaomi",
          "vidio.com/web-desktop/chrome/xiaomi",
          "bola.com/web-mobile/chrome/xiaomi",
          "bola.net/web-mobile/chrome/xiaomi",
          "brilio.net/web-mobile/chrome/xiaomi",
          "bukalapak.com/web-mobile/chrome/xiaomi",
          "dream.co.id/web-mobile/chrome/xiaomi",
          "fimela.com/web-mobile/chrome/xiaomi",
          "kapanlagi.com/web-mobile/chrome/xiaomi",
          "liputan6.com/web-mobile/chrome/xiaomi",
          "merdeka.com/web-mobile/chrome/xiaomi",
          "others/web-mobile/chrome/xiaomi",
          "vidio.com/web-mobile/chrome/xiaomi",
          "brilio.net/web-desktop/facebook/xiaomi",
          "kapanlagi.com/web-desktop/facebook/xiaomi",
          "bola.com/web-mobile/facebook/xiaomi",
          "bola.net/web-mobile/facebook/xiaomi",
          "brilio.net/web-mobile/facebook/xiaomi",
          "bukalapak.com/web-mobile/facebook/xiaomi",
          "dream.co.id/web-mobile/facebook/xiaomi",
          "fimela.com/web-mobile/facebook/xiaomi",
          "kapanlagi.com/web-mobile/facebook/xiaomi",
          "liputan6.com/web-mobile/facebook/xiaomi",
          "merdeka.com/web-mobile/facebook/xiaomi",
          "others/web-mobile/facebook/xiaomi",
          "vidio.com/web-mobile/facebook/xiaomi",
          "bola.com/web-mobile/miuibrowser/xiaomi",
          "bola.net/web-mobile/miuibrowser/xiaomi",
          "brilio.net/web-mobile/miuibrowser/xiaomi",
          "bukalapak.com/web-mobile/miuibrowser/xiaomi",
          "dream.co.id/web-mobile/miuibrowser/xiaomi",
          "fimela.com/web-mobile/miuibrowser/xiaomi",
          "kapanlagi.com/web-mobile/miuibrowser/xiaomi",
          "liputan6.com/web-mobile/miuibrowser/xiaomi",
          "merdeka.com/web-mobile/miuibrowser/xiaomi",
          "others/web-mobile/miuibrowser/xiaomi",
          "vidio.com/web-mobile/miuibrowser/xiaomi",
          "bola.net/web-desktop/opera/xiaomi",
          "bukalapak.com/web-desktop/opera/xiaomi",
          "bola.com/web-mobile/opera/xiaomi",
          "bola.net/web-mobile/opera/xiaomi",
          "brilio.net/web-mobile/opera/xiaomi",
          "bukalapak.com/web-mobile/opera/xiaomi",
          "dream.co.id/web-mobile/opera/xiaomi",
          "fimela.com/web-mobile/opera/xiaomi",
          "kapanlagi.com/web-mobile/opera/xiaomi",
          "liputan6.com/web-mobile/opera/xiaomi",
          "merdeka.com/web-mobile/opera/xiaomi",
          "others/web-mobile/opera/xiaomi",
          "vidio.com/web-mobile/opera/xiaomi",
          "bukalapak.com/web-desktop/other/xiaomi",
          "others/web-desktop/other/xiaomi",
          "bola.net/web-mobile/other/xiaomi",
          "brilio.net/web-mobile/other/xiaomi",
          "bukalapak.com/web-mobile/other/xiaomi",
          "dream.co.id/web-mobile/other/xiaomi",
          "fimela.com/web-mobile/other/xiaomi",
          "kapanlagi.com/web-mobile/other/xiaomi",
          "liputan6.com/web-mobile/other/xiaomi",
          "merdeka.com/web-mobile/other/xiaomi",
          "others/web-mobile/other/xiaomi",
          "vidio.com/web-mobile/other/xiaomi",
          "bola.net/web-mobile/samsung internet/xiaomi",
          "brilio.net/web-mobile/samsung internet/xiaomi",
          "bukalapak.com/web-mobile/samsung internet/xiaomi",
          "fimela.com/web-mobile/samsung internet/xiaomi",
          "liputan6.com/web-mobile/samsung internet/xiaomi",
          "merdeka.com/web-mobile/samsung internet/xiaomi",
          "kapanlagi.com/web-desktop/uc browser/xiaomi",
          "bola.com/web-mobile/uc browser/xiaomi",
          "bola.net/web-mobile/uc browser/xiaomi",
          "brilio.net/web-mobile/uc browser/xiaomi",
          "bukalapak.com/web-mobile/uc browser/xiaomi",
          "dream.co.id/web-mobile/uc browser/xiaomi",
          "fimela.com/web-mobile/uc browser/xiaomi",
          "kapanlagi.com/web-mobile/uc browser/xiaomi",
          "liputan6.com/web-mobile/uc browser/xiaomi",
          "merdeka.com/web-mobile/uc browser/xiaomi",
          "others/web-mobile/uc browser/xiaomi",
          "vidio.com/web-mobile/uc browser/xiaomi",
          "brilio.net/web-mobile/bacaberita app",
          "merdeka.com/web-mobile/bacaberita app",
          "bola.com/web-desktop/chrome",
          "bola.net/web-desktop/chrome",
          "brilio.net/web-desktop/chrome",
          "bukalapak.com/web-desktop/chrome",
          "dream.co.id/web-desktop/chrome",
          "fimela.com/web-desktop/chrome",
          "kapanlagi.com/web-desktop/chrome",
          "liputan6.com/web-desktop/chrome",
          "merdeka.com/web-desktop/chrome",
          "others/web-desktop/chrome",
          "vidio.com/web-desktop/chrome",
          "bola.com/web-mobile/chrome",
          "bola.net/web-mobile/chrome",
          "brilio.net/web-mobile/chrome",
          "bukalapak.com/web-mobile/chrome",
          "dream.co.id/web-mobile/chrome",
          "fimela.com/web-mobile/chrome",
          "kapanlagi.com/web-mobile/chrome",
          "liputan6.com/web-mobile/chrome",
          "merdeka.com/web-mobile/chrome",
          "others/web-mobile/chrome",
          "vidio.com/web-mobile/chrome",
          "bola.com/web-desktop/facebook",
          "bola.net/web-desktop/facebook",
          "brilio.net/web-desktop/facebook",
          "bukalapak.com/web-desktop/facebook",
          "dream.co.id/web-desktop/facebook",
          "kapanlagi.com/web-desktop/facebook",
          "liputan6.com/web-desktop/facebook",
          "merdeka.com/web-desktop/facebook",
          "others/web-desktop/facebook",
          "vidio.com/web-desktop/facebook",
          "bola.com/web-mobile/facebook",
          "bola.net/web-mobile/facebook",
          "brilio.net/web-mobile/facebook",
          "bukalapak.com/web-mobile/facebook",
          "dream.co.id/web-mobile/facebook",
          "fimela.com/web-mobile/facebook",
          "kapanlagi.com/web-mobile/facebook",
          "liputan6.com/web-mobile/facebook",
          "merdeka.com/web-mobile/facebook",
          "others/web-mobile/facebook",
          "vidio.com/web-mobile/facebook",
          "bola.com/web-desktop/firefox",
          "bola.net/web-desktop/firefox",
          "brilio.net/web-desktop/firefox",
          "bukalapak.com/web-desktop/firefox",
          "dream.co.id/web-desktop/firefox",
          "fimela.com/web-desktop/firefox",
          "kapanlagi.com/web-desktop/firefox",
          "liputan6.com/web-desktop/firefox",
          "merdeka.com/web-desktop/firefox",
          "others/web-desktop/firefox",
          "vidio.com/web-desktop/firefox",
          "bola.com/web-mobile/firefox",
          "bola.net/web-mobile/firefox",
          "brilio.net/web-mobile/firefox",
          "bukalapak.com/web-mobile/firefox",
          "dream.co.id/web-mobile/firefox",
          "fimela.com/web-mobile/firefox",
          "kapanlagi.com/web-mobile/firefox",
          "liputan6.com/web-mobile/firefox",
          "merdeka.com/web-mobile/firefox",
          "others/web-mobile/firefox",
          "vidio.com/web-mobile/firefox",
          "bola.com/web-desktop/miuibrowser",
          "bola.net/web-desktop/miuibrowser",
          "brilio.net/web-desktop/miuibrowser",
          "bukalapak.com/web-desktop/miuibrowser",
          "dream.co.id/web-desktop/miuibrowser",
          "kapanlagi.com/web-desktop/miuibrowser",
          "liputan6.com/web-desktop/miuibrowser",
          "merdeka.com/web-desktop/miuibrowser",
          "others/web-desktop/miuibrowser",
          "vidio.com/web-desktop/miuibrowser",
          "bola.com/web-mobile/miuibrowser",
          "bola.net/web-mobile/miuibrowser",
          "brilio.net/web-mobile/miuibrowser",
          "bukalapak.com/web-mobile/miuibrowser",
          "dream.co.id/web-mobile/miuibrowser",
          "fimela.com/web-mobile/miuibrowser",
          "kapanlagi.com/web-mobile/miuibrowser",
          "liputan6.com/web-mobile/miuibrowser",
          "merdeka.com/web-mobile/miuibrowser",
          "others/web-mobile/miuibrowser",
          "vidio.com/web-mobile/miuibrowser",
          "bola.com/web-desktop/opera",
          "bola.net/web-desktop/opera",
          "brilio.net/web-desktop/opera",
          "bukalapak.com/web-desktop/opera",
          "dream.co.id/web-desktop/opera",
          "fimela.com/web-desktop/opera",
          "kapanlagi.com/web-desktop/opera",
          "liputan6.com/web-desktop/opera",
          "merdeka.com/web-desktop/opera",
          "others/web-desktop/opera",
          "vidio.com/web-desktop/opera",
          "bola.com/web-mobile/opera",
          "bola.net/web-mobile/opera",
          "brilio.net/web-mobile/opera",
          "bukalapak.com/web-mobile/opera",
          "dream.co.id/web-mobile/opera",
          "fimela.com/web-mobile/opera",
          "kapanlagi.com/web-mobile/opera",
          "liputan6.com/web-mobile/opera",
          "merdeka.com/web-mobile/opera",
          "others/web-mobile/opera",
          "vidio.com/web-mobile/opera",
          "bola.com/web-desktop/other",
          "bola.net/web-desktop/other",
          "brilio.net/web-desktop/other",
          "bukalapak.com/web-desktop/other",
          "dream.co.id/web-desktop/other",
          "fimela.com/web-desktop/other",
          "kapanlagi.com/web-desktop/other",
          "liputan6.com/web-desktop/other",
          "merdeka.com/web-desktop/other",
          "others/web-desktop/other",
          "vidio.com/web-desktop/other",
          "bola.com/web-mobile/other",
          "bola.net/web-mobile/other",
          "brilio.net/web-mobile/other",
          "bukalapak.com/web-mobile/other",
          "dream.co.id/web-mobile/other",
          "fimela.com/web-mobile/other",
          "kapanlagi.com/web-mobile/other",
          "liputan6.com/web-mobile/other",
          "merdeka.com/web-mobile/other",
          "others/web-mobile/other",
          "vidio.com/web-mobile/other",
          "bukalapak.com/web-desktop/pale moon",
          "kapanlagi.com/web-desktop/pale moon",
          "bola.com/web-desktop/safari",
          "bola.net/web-desktop/safari",
          "brilio.net/web-desktop/safari",
          "bukalapak.com/web-desktop/safari",
          "dream.co.id/web-desktop/safari",
          "fimela.com/web-desktop/safari",
          "kapanlagi.com/web-desktop/safari",
          "liputan6.com/web-desktop/safari",
          "merdeka.com/web-desktop/safari",
          "others/web-desktop/safari",
          "vidio.com/web-desktop/safari",
          "bola.com/web-mobile/safari",
          "bola.net/web-mobile/safari",
          "brilio.net/web-mobile/safari",
          "bukalapak.com/web-mobile/safari",
          "dream.co.id/web-mobile/safari",
          "fimela.com/web-mobile/safari",
          "kapanlagi.com/web-mobile/safari",
          "liputan6.com/web-mobile/safari",
          "merdeka.com/web-mobile/safari",
          "others/web-mobile/safari",
          "vidio.com/web-mobile/safari",
          "bola.com/web-desktop/samsung internet",
          "bola.net/web-desktop/samsung internet",
          "brilio.net/web-desktop/samsung internet",
          "bukalapak.com/web-desktop/samsung internet",
          "dream.co.id/web-desktop/samsung internet",
          "fimela.com/web-desktop/samsung internet",
          "kapanlagi.com/web-desktop/samsung internet",
          "liputan6.com/web-desktop/samsung internet",
          "merdeka.com/web-desktop/samsung internet",
          "others/web-desktop/samsung internet",
          "vidio.com/web-desktop/samsung internet",
          "bola.com/web-mobile/samsung internet",
          "bola.net/web-mobile/samsung internet",
          "brilio.net/web-mobile/samsung internet",
          "bukalapak.com/web-mobile/samsung internet",
          "dream.co.id/web-mobile/samsung internet",
          "fimela.com/web-mobile/samsung internet",
          "kapanlagi.com/web-mobile/samsung internet",
          "liputan6.com/web-mobile/samsung internet",
          "merdeka.com/web-mobile/samsung internet",
          "others/web-mobile/samsung internet",
          "vidio.com/web-mobile/samsung internet",
          "bola.com/web-desktop/uc browser",
          "bola.net/web-desktop/uc browser",
          "brilio.net/web-desktop/uc browser",
          "bukalapak.com/web-desktop/uc browser",
          "fimela.com/web-desktop/uc browser",
          "kapanlagi.com/web-desktop/uc browser",
          "liputan6.com/web-desktop/uc browser",
          "merdeka.com/web-desktop/uc browser",
          "others/web-desktop/uc browser",
          "vidio.com/web-desktop/uc browser",
          "bola.com/web-mobile/uc browser",
          "bola.net/web-mobile/uc browser",
          "brilio.net/web-mobile/uc browser",
          "bukalapak.com/web-mobile/uc browser",
          "dream.co.id/web-mobile/uc browser",
          "fimela.com/web-mobile/uc browser",
          "kapanlagi.com/web-mobile/uc browser",
          "liputan6.com/web-mobile/uc browser",
          "merdeka.com/web-mobile/uc browser",
          "others/web-mobile/uc browser",
          "vidio.com/web-mobile/uc browser",
          "bola.com/web-desktop",
          "bola.net/web-desktop",
          "brilio.net/web-desktop",
          "bukalapak.com/web-desktop",
          "dream.co.id/web-desktop",
          "fimela.com/web-desktop",
          "kapanlagi.com/web-desktop",
          "liputan6.com/web-desktop",
          "merdeka.com/web-desktop",
          "others/web-desktop",
          "vidio.com/web-desktop",
          "bola.com/web-mobile",
          "bola.net/web-mobile",
          "brilio.net/web-mobile",
          "bukalapak.com/web-mobile",
          "dream.co.id/web-mobile",
          "fimela.com/web-mobile",
          "kapanlagi.com/web-mobile",
          "liputan6.com/web-mobile",
          "merdeka.com/web-mobile",
          "others/web-mobile",
          "vidio.com/web-mobile",
          "bola.com",
          "bola.net",
          "brilio.net",
          "bukalapak.com",
          "dream.co.id",
          "fimela.com",
          "kapanlagi.com",
          "liputan6.com",
          "merdeka.com",
          "others",
          "vidio.com"
         ],
         "labels": [
          "apple",
          "apple",
          "apple",
          "apple",
          "apple",
          "apple",
          "apple",
          "apple",
          "apple",
          "apple",
          "apple",
          "apple",
          "apple",
          "apple",
          "apple",
          "apple",
          "apple",
          "apple",
          "apple",
          "apple",
          "apple",
          "apple",
          "apple",
          "apple",
          "apple",
          "apple",
          "apple",
          "apple",
          "apple",
          "apple",
          "apple",
          "apple",
          "apple",
          "apple",
          "apple",
          "apple",
          "apple",
          "apple",
          "apple",
          "apple",
          "apple",
          "apple",
          "apple",
          "apple",
          "apple",
          "apple",
          "apple",
          "apple",
          "apple",
          "apple",
          "apple",
          "apple",
          "apple",
          "apple",
          "apple",
          "apple",
          "apple",
          "apple",
          "apple",
          "apple",
          "apple",
          "apple",
          "apple",
          "apple",
          "apple",
          "apple",
          "apple",
          "apple",
          "apple",
          "apple",
          "apple",
          "apple",
          "apple",
          "apple",
          "apple",
          "apple",
          "apple",
          "apple",
          "apple",
          "apple",
          "apple",
          "apple",
          "apple",
          "apple",
          "apple",
          "apple",
          "apple",
          "apple",
          "apple",
          "apple",
          "apple",
          "apple",
          "apple",
          "apple",
          "apple",
          "apple",
          "apple",
          "apple",
          "apple",
          "apple",
          "apple",
          "apple",
          "apple",
          "apple",
          "apple",
          "apple",
          "apple",
          "asus",
          "asus",
          "asus",
          "asus",
          "asus",
          "asus",
          "asus",
          "asus",
          "asus",
          "asus",
          "asus",
          "asus",
          "asus",
          "asus",
          "asus",
          "asus",
          "asus",
          "asus",
          "asus",
          "asus",
          "asus",
          "asus",
          "asus",
          "asus",
          "asus",
          "asus",
          "asus",
          "asus",
          "asus",
          "asus",
          "asus",
          "asus",
          "asus",
          "asus",
          "asus",
          "asus",
          "asus",
          "asus",
          "asus",
          "asus",
          "asus",
          "asus",
          "asus",
          "asus",
          "asus",
          "asus",
          "asus",
          "asus",
          "asus",
          "asus",
          "asus",
          "asus",
          "asus",
          "asus",
          "asus",
          "asus",
          "asus",
          "asus",
          "asus",
          "asus",
          "asus",
          "asus",
          "asus",
          "asus",
          "asus",
          "asus",
          "asus",
          "asus",
          "generic",
          "generic",
          "generic",
          "generic",
          "generic",
          "generic",
          "generic",
          "generic",
          "generic",
          "generic",
          "generic",
          "generic",
          "generic",
          "generic",
          "generic",
          "generic",
          "generic",
          "generic",
          "generic",
          "generic",
          "generic",
          "generic",
          "generic",
          "generic",
          "generic",
          "generic",
          "generic",
          "generic",
          "generic",
          "generic",
          "generic",
          "generic",
          "generic",
          "generic",
          "generic",
          "generic",
          "generic",
          "generic",
          "generic",
          "generic",
          "generic",
          "generic",
          "generic",
          "generic",
          "generic",
          "generic",
          "generic",
          "generic",
          "generic",
          "generic",
          "generic",
          "generic",
          "generic",
          "generic",
          "generic",
          "generic",
          "generic",
          "generic",
          "generic",
          "generic",
          "generic",
          "generic",
          "generic",
          "generic",
          "generic",
          "generic",
          "generic",
          "generic",
          "generic",
          "generic",
          "generic",
          "generic",
          "generic",
          "generic",
          "generic",
          "generic",
          "generic",
          "generic",
          "generic",
          "generic",
          "generic",
          "generic",
          "generic",
          "generic",
          "generic",
          "generic",
          "generic",
          "generic",
          "generic",
          "generic",
          "generic",
          "generic",
          "generic",
          "generic",
          "generic",
          "generic",
          "generic",
          "generic",
          "generic",
          "generic",
          "generic",
          "generic",
          "generic",
          "generic",
          "generic",
          "generic",
          "generic",
          "generic",
          "generic",
          "generic",
          "generic",
          "generic",
          "generic",
          "generic",
          "generic",
          "generic",
          "generic_android",
          "generic_android",
          "generic_android",
          "generic_android",
          "generic_android",
          "generic_android",
          "generic_android",
          "generic_android",
          "generic_android",
          "generic_android",
          "generic_android",
          "generic_android",
          "generic_android",
          "generic_android",
          "generic_android",
          "generic_android",
          "generic_android",
          "generic_android",
          "generic_android",
          "generic_android",
          "generic_android",
          "generic_android",
          "generic_android",
          "generic_android",
          "generic_android",
          "generic_android",
          "generic_android",
          "generic_android",
          "generic_android",
          "generic_android",
          "generic_android",
          "generic_android",
          "generic_android",
          "generic_android",
          "generic_android",
          "generic_android",
          "generic_android",
          "generic_android",
          "generic_android",
          "generic_android",
          "generic_android",
          "generic_android",
          "generic_android",
          "generic_android",
          "generic_android",
          "generic_android",
          "generic_android",
          "generic_android",
          "generic_android",
          "generic_android",
          "generic_android",
          "generic_android",
          "generic_android",
          "generic_android",
          "generic_android",
          "generic_android",
          "generic_android",
          "generic_android",
          "generic_android",
          "generic_android",
          "generic_android",
          "generic_android",
          "generic_android",
          "generic_android",
          "generic_android",
          "generic_android",
          "generic_android",
          "generic_android",
          "generic_android",
          "generic_android",
          "generic_android",
          "generic_android",
          "generic_android",
          "generic_android",
          "generic_android",
          "generic_android",
          "generic_android",
          "generic_android",
          "generic_android",
          "generic_android",
          "generic_android",
          "generic_android",
          "generic_android",
          "generic_android",
          "generic_android",
          "generic_android",
          "generic_android",
          "generic_android",
          "generic_android",
          "generic_android",
          "generic_android",
          "generic_android",
          "generic_android",
          "generic_android",
          "huawei",
          "huawei",
          "huawei",
          "huawei",
          "huawei",
          "huawei",
          "huawei",
          "huawei",
          "huawei",
          "huawei",
          "huawei",
          "huawei",
          "huawei",
          "huawei",
          "huawei",
          "huawei",
          "huawei",
          "huawei",
          "huawei",
          "huawei",
          "huawei",
          "huawei",
          "huawei",
          "huawei",
          "huawei",
          "huawei",
          "huawei",
          "huawei",
          "huawei",
          "huawei",
          "huawei",
          "huawei",
          "huawei",
          "huawei",
          "huawei",
          "huawei",
          "huawei",
          "huawei",
          "huawei",
          "huawei",
          "huawei",
          "huawei",
          "huawei",
          "huawei",
          "huawei",
          "huawei",
          "huawei",
          "huawei",
          "huawei",
          "huawei",
          "huawei",
          "huawei",
          "huawei",
          "lg",
          "lg",
          "lg",
          "lg",
          "lg",
          "lg",
          "lg",
          "lg",
          "lg",
          "lg",
          "lg",
          "lg",
          "lg",
          "lg",
          "lg",
          "lg",
          "lg",
          "lg",
          "lg",
          "lg",
          "lg",
          "lg",
          "lg",
          "lg",
          "lg",
          "lg",
          "lg",
          "lg",
          "lg",
          "lg",
          "lg",
          "lg",
          "lg",
          "lg",
          "lg",
          "lg",
          "lg",
          "lg",
          "lg",
          "lg",
          "lg",
          "lg",
          "lg",
          "lg",
          "other",
          "other",
          "other",
          "other",
          "other",
          "other",
          "other",
          "other",
          "other",
          "other",
          "other",
          "other",
          "other",
          "other",
          "other",
          "other",
          "other",
          "other",
          "other",
          "other",
          "other",
          "other",
          "other",
          "other",
          "other",
          "other",
          "other",
          "other",
          "other",
          "other",
          "other",
          "other",
          "other",
          "other",
          "other",
          "other",
          "other",
          "other",
          "other",
          "other",
          "other",
          "other",
          "other",
          "other",
          "other",
          "other",
          "other",
          "other",
          "other",
          "other",
          "other",
          "other",
          "other",
          "other",
          "other",
          "other",
          "other",
          "other",
          "other",
          "other",
          "other",
          "other",
          "other",
          "other",
          "other",
          "other",
          "other",
          "other",
          "other",
          "other",
          "other",
          "other",
          "other",
          "other",
          "other",
          "other",
          "samsung",
          "samsung",
          "samsung",
          "samsung",
          "samsung",
          "samsung",
          "samsung",
          "samsung",
          "samsung",
          "samsung",
          "samsung",
          "samsung",
          "samsung",
          "samsung",
          "samsung",
          "samsung",
          "samsung",
          "samsung",
          "samsung",
          "samsung",
          "samsung",
          "samsung",
          "samsung",
          "samsung",
          "samsung",
          "samsung",
          "samsung",
          "samsung",
          "samsung",
          "samsung",
          "samsung",
          "samsung",
          "samsung",
          "samsung",
          "samsung",
          "samsung",
          "samsung",
          "samsung",
          "samsung",
          "samsung",
          "samsung",
          "samsung",
          "samsung",
          "samsung",
          "samsung",
          "samsung",
          "samsung",
          "samsung",
          "samsung",
          "samsung",
          "samsung",
          "samsung",
          "samsung",
          "samsung",
          "samsung",
          "samsung",
          "samsung",
          "samsung",
          "samsung",
          "samsung",
          "samsung",
          "samsung",
          "samsung",
          "samsung",
          "samsung",
          "samsung",
          "samsung",
          "samsung",
          "samsung",
          "samsung",
          "samsung",
          "samsung",
          "samsung",
          "samsung",
          "samsung",
          "samsung",
          "samsung",
          "samsung",
          "samsung",
          "samsung",
          "samsung",
          "samsung",
          "samsung",
          "samsung",
          "samsung",
          "samsung",
          "samsung",
          "samsung",
          "samsung",
          "samsung",
          "samsung",
          "samsung",
          "samsung",
          "samsung",
          "samsung",
          "samsung",
          "samsung",
          "samsung",
          "samsung",
          "samsung",
          "samsung",
          "samsung",
          "samsung",
          "samsung",
          "samsung",
          "samsung",
          "samsung",
          "samsung",
          "samsung",
          "samsung",
          "samsung",
          "samsung",
          "samsung",
          "undefined",
          "undefined",
          "undefined",
          "undefined",
          "undefined",
          "undefined",
          "undefined",
          "undefined",
          "undefined",
          "undefined",
          "undefined",
          "undefined",
          "undefined",
          "undefined",
          "undefined",
          "undefined",
          "undefined",
          "undefined",
          "undefined",
          "undefined",
          "undefined",
          "undefined",
          "undefined",
          "undefined",
          "undefined",
          "undefined",
          "undefined",
          "undefined",
          "undefined",
          "undefined",
          "undefined",
          "undefined",
          "undefined",
          "undefined",
          "undefined",
          "undefined",
          "undefined",
          "undefined",
          "undefined",
          "undefined",
          "undefined",
          "undefined",
          "undefined",
          "undefined",
          "undefined",
          "undefined",
          "undefined",
          "undefined",
          "undefined",
          "undefined",
          "undefined",
          "undefined",
          "undefined",
          "undefined",
          "undefined",
          "undefined",
          "undefined",
          "undefined",
          "undefined",
          "undefined",
          "undefined",
          "undefined",
          "undefined",
          "undefined",
          "undefined",
          "undefined",
          "undefined",
          "undefined",
          "undefined",
          "undefined",
          "undefined",
          "undefined",
          "undefined",
          "undefined",
          "undefined",
          "undefined",
          "undefined",
          "undefined",
          "undefined",
          "undefined",
          "undefined",
          "undefined",
          "undefined",
          "undefined",
          "undefined",
          "undefined",
          "undefined",
          "undefined",
          "undefined",
          "undefined",
          "undefined",
          "undefined",
          "vivo",
          "vivo",
          "vivo",
          "vivo",
          "vivo",
          "vivo",
          "vivo",
          "vivo",
          "vivo",
          "vivo",
          "vivo",
          "vivo",
          "vivo",
          "vivo",
          "vivo",
          "vivo",
          "vivo",
          "vivo",
          "vivo",
          "vivo",
          "vivo",
          "vivo",
          "vivo",
          "vivo",
          "vivo",
          "vivo",
          "vivo",
          "vivo",
          "vivo",
          "vivo",
          "vivo",
          "vivo",
          "vivo",
          "vivo",
          "vivo",
          "vivo",
          "vivo",
          "vivo",
          "vivo",
          "vivo",
          "vivo",
          "vivo",
          "vivo",
          "vivo",
          "vivo",
          "vivo",
          "vivo",
          "vivo",
          "vivo",
          "vivo",
          "vivo",
          "vivo",
          "vivo",
          "vivo",
          "vivo",
          "vivo",
          "vivo",
          "vivo",
          "vivo",
          "vivo",
          "vivo",
          "xiaomi",
          "xiaomi",
          "xiaomi",
          "xiaomi",
          "xiaomi",
          "xiaomi",
          "xiaomi",
          "xiaomi",
          "xiaomi",
          "xiaomi",
          "xiaomi",
          "xiaomi",
          "xiaomi",
          "xiaomi",
          "xiaomi",
          "xiaomi",
          "xiaomi",
          "xiaomi",
          "xiaomi",
          "xiaomi",
          "xiaomi",
          "xiaomi",
          "xiaomi",
          "xiaomi",
          "xiaomi",
          "xiaomi",
          "xiaomi",
          "xiaomi",
          "xiaomi",
          "xiaomi",
          "xiaomi",
          "xiaomi",
          "xiaomi",
          "xiaomi",
          "xiaomi",
          "xiaomi",
          "xiaomi",
          "xiaomi",
          "xiaomi",
          "xiaomi",
          "xiaomi",
          "xiaomi",
          "xiaomi",
          "xiaomi",
          "xiaomi",
          "xiaomi",
          "xiaomi",
          "xiaomi",
          "xiaomi",
          "xiaomi",
          "xiaomi",
          "xiaomi",
          "xiaomi",
          "xiaomi",
          "xiaomi",
          "xiaomi",
          "xiaomi",
          "xiaomi",
          "xiaomi",
          "xiaomi",
          "xiaomi",
          "xiaomi",
          "xiaomi",
          "xiaomi",
          "xiaomi",
          "xiaomi",
          "xiaomi",
          "xiaomi",
          "xiaomi",
          "xiaomi",
          "xiaomi",
          "xiaomi",
          "xiaomi",
          "xiaomi",
          "xiaomi",
          "xiaomi",
          "xiaomi",
          "xiaomi",
          "xiaomi",
          "xiaomi",
          "xiaomi",
          "xiaomi",
          "xiaomi",
          "xiaomi",
          "xiaomi",
          "xiaomi",
          "bacaberita app",
          "bacaberita app",
          "chrome",
          "chrome",
          "chrome",
          "chrome",
          "chrome",
          "chrome",
          "chrome",
          "chrome",
          "chrome",
          "chrome",
          "chrome",
          "chrome",
          "chrome",
          "chrome",
          "chrome",
          "chrome",
          "chrome",
          "chrome",
          "chrome",
          "chrome",
          "chrome",
          "chrome",
          "facebook",
          "facebook",
          "facebook",
          "facebook",
          "facebook",
          "facebook",
          "facebook",
          "facebook",
          "facebook",
          "facebook",
          "facebook",
          "facebook",
          "facebook",
          "facebook",
          "facebook",
          "facebook",
          "facebook",
          "facebook",
          "facebook",
          "facebook",
          "facebook",
          "firefox",
          "firefox",
          "firefox",
          "firefox",
          "firefox",
          "firefox",
          "firefox",
          "firefox",
          "firefox",
          "firefox",
          "firefox",
          "firefox",
          "firefox",
          "firefox",
          "firefox",
          "firefox",
          "firefox",
          "firefox",
          "firefox",
          "firefox",
          "firefox",
          "firefox",
          "miuibrowser",
          "miuibrowser",
          "miuibrowser",
          "miuibrowser",
          "miuibrowser",
          "miuibrowser",
          "miuibrowser",
          "miuibrowser",
          "miuibrowser",
          "miuibrowser",
          "miuibrowser",
          "miuibrowser",
          "miuibrowser",
          "miuibrowser",
          "miuibrowser",
          "miuibrowser",
          "miuibrowser",
          "miuibrowser",
          "miuibrowser",
          "miuibrowser",
          "miuibrowser",
          "opera",
          "opera",
          "opera",
          "opera",
          "opera",
          "opera",
          "opera",
          "opera",
          "opera",
          "opera",
          "opera",
          "opera",
          "opera",
          "opera",
          "opera",
          "opera",
          "opera",
          "opera",
          "opera",
          "opera",
          "opera",
          "opera",
          "other",
          "other",
          "other",
          "other",
          "other",
          "other",
          "other",
          "other",
          "other",
          "other",
          "other",
          "other",
          "other",
          "other",
          "other",
          "other",
          "other",
          "other",
          "other",
          "other",
          "other",
          "other",
          "pale moon",
          "pale moon",
          "safari",
          "safari",
          "safari",
          "safari",
          "safari",
          "safari",
          "safari",
          "safari",
          "safari",
          "safari",
          "safari",
          "safari",
          "safari",
          "safari",
          "safari",
          "safari",
          "safari",
          "safari",
          "safari",
          "safari",
          "safari",
          "safari",
          "samsung internet",
          "samsung internet",
          "samsung internet",
          "samsung internet",
          "samsung internet",
          "samsung internet",
          "samsung internet",
          "samsung internet",
          "samsung internet",
          "samsung internet",
          "samsung internet",
          "samsung internet",
          "samsung internet",
          "samsung internet",
          "samsung internet",
          "samsung internet",
          "samsung internet",
          "samsung internet",
          "samsung internet",
          "samsung internet",
          "samsung internet",
          "samsung internet",
          "uc browser",
          "uc browser",
          "uc browser",
          "uc browser",
          "uc browser",
          "uc browser",
          "uc browser",
          "uc browser",
          "uc browser",
          "uc browser",
          "uc browser",
          "uc browser",
          "uc browser",
          "uc browser",
          "uc browser",
          "uc browser",
          "uc browser",
          "uc browser",
          "uc browser",
          "uc browser",
          "uc browser",
          "web-desktop",
          "web-desktop",
          "web-desktop",
          "web-desktop",
          "web-desktop",
          "web-desktop",
          "web-desktop",
          "web-desktop",
          "web-desktop",
          "web-desktop",
          "web-desktop",
          "web-mobile",
          "web-mobile",
          "web-mobile",
          "web-mobile",
          "web-mobile",
          "web-mobile",
          "web-mobile",
          "web-mobile",
          "web-mobile",
          "web-mobile",
          "web-mobile",
          "bola.com",
          "bola.net",
          "brilio.net",
          "bukalapak.com",
          "dream.co.id",
          "fimela.com",
          "kapanlagi.com",
          "liputan6.com",
          "merdeka.com",
          "others",
          "vidio.com"
         ],
         "marker": {
          "coloraxis": "coloraxis",
          "colors": [
           6,
           4,
           3,
           4,
           1,
           1,
           4,
           17,
           9,
           29,
           76,
           60,
           21,
           73,
           13,
           30,
           71,
           212,
           286,
           15,
           213,
           1,
           1,
           18,
           2,
           2,
           12,
           1,
           1,
           1,
           1,
           5,
           32,
           1499,
           49,
           114,
           18,
           1739,
           113,
           71,
           54,
           11,
           1,
           3,
           3,
           1,
           1,
           4,
           5,
           6,
           1,
           2,
           1,
           1,
           2,
           1,
           1,
           2,
           3,
           11,
           1,
           8,
           1,
           8,
           5,
           14,
           150,
           37,
           187,
           212,
           26,
           69,
           437,
           374,
           631,
           24,
           306,
           6,
           93,
           12,
           1,
           1,
           9,
           19,
           24,
           6,
           26,
           570,
           290,
           481,
           438,
           237,
           408,
           768,
           1761,
           2470,
           156,
           1589,
           6,
           11,
           4,
           7,
           3,
           10,
           13,
           2,
           9,
           1,
           1,
           2,
           152,
           220,
           661,
           284,
           93,
           112,
           1050,
           611,
           1156,
           42,
           453,
           1,
           1,
           1,
           16,
           670,
           16,
           38,
           2,
           443,
           65,
           31,
           13,
           2,
           1,
           1,
           4,
           10,
           14,
           10,
           1,
           2,
           6,
           17,
           18,
           3,
           1,
           74,
           3,
           4,
           1,
           7,
           14,
           1,
           1,
           6,
           1,
           7,
           1,
           2,
           1,
           1,
           1,
           1,
           4,
           21,
           7,
           20,
           2,
           3,
           12,
           22,
           32,
           3,
           44,
           4272,
           7,
           22,
           19,
           48,
           37,
           4,
           15,
           95,
           39,
           93,
           10,
           96,
           3795,
           1970,
           6383,
           2906,
           1045,
           1661,
           9314,
           9045,
           15831,
           481,
           7596,
           1,
           2,
           2,
           1,
           1,
           1,
           27,
           200,
           12904,
           132,
           904,
           73,
           9944,
           998,
           468,
           289,
           35,
           1,
           6,
           16,
           11,
           33,
           1,
           6,
           12,
           15,
           29,
           3,
           7,
           5,
           5,
           12,
           2,
           10,
           14,
           23,
           11,
           1,
           2,
           1,
           1,
           2,
           2,
           59,
           104,
           51,
           96,
           11,
           21,
           50,
           138,
           201,
           10,
           108,
           2,
           2,
           577,
           4,
           1,
           3,
           9,
           23,
           3,
           1,
           11,
           47,
           51,
           3,
           4,
           66,
           22,
           40,
           1,
           37,
           1,
           3,
           6,
           1,
           1,
           7,
           3,
           69,
           216,
           47,
           89,
           10,
           23,
           39,
           122,
           208,
           12,
           574,
           11,
           11,
           66,
           38,
           6,
           13,
           89,
           43,
           58,
           17,
           88,
           2265,
           1127,
           5342,
           2075,
           663,
           1041,
           6959,
           5401,
           9391,
           324,
           5689,
           1,
           5,
           2,
           1,
           17,
           106,
           7964,
           58,
           486,
           41,
           6125,
           553,
           253,
           164,
           32,
           4,
           4,
           8,
           14,
           2,
           1,
           5,
           19,
           12,
           1,
           4,
           3,
           1,
           6,
           1,
           2,
           2,
           41,
           83,
           72,
           88,
           18,
           24,
           55,
           96,
           169,
           3,
           124,
           1,
           251,
           2,
           2,
           1,
           40,
           14,
           1,
           1,
           42,
           7,
           18,
           20,
           1,
           1,
           1,
           1,
           1,
           39,
           142,
           53,
           74,
           13,
           16,
           24,
           101,
           116,
           8,
           437,
           1,
           9,
           84,
           104,
           160,
           128,
           35,
           44,
           318,
           272,
           510,
           14,
           221,
           1,
           2,
           12,
           328,
           7,
           21,
           2,
           200,
           25,
           14,
           15,
           2,
           1,
           2,
           12,
           1,
           2,
           1,
           4,
           5,
           1,
           53,
           3,
           1,
           6,
           3,
           1,
           2,
           1,
           1,
           1,
           2,
           9,
           4,
           1,
           3,
           4,
           4,
           1,
           15,
           1,
           2,
           30,
           15,
           47,
           122,
           6,
           79,
           69,
           496,
           894,
           9,
           112,
           1,
           30,
           1,
           1,
           39,
           3,
           3,
           1,
           1,
           1,
           1,
           1,
           3,
           1,
           1,
           1,
           9,
           3,
           1,
           1,
           2,
           1,
           3,
           3,
           1,
           2,
           2,
           1,
           1,
           3,
           1,
           2,
           6,
           2,
           2,
           13,
           10,
           11,
           4,
           8,
           107,
           108,
           286,
           189,
           50,
           61,
           466,
           299,
           550,
           27,
           239,
           2,
           4,
           1,
           1,
           10,
           1182,
           13,
           75,
           2,
           763,
           86,
           32,
           15,
           3,
           1,
           1,
           1,
           4,
           6,
           9,
           21,
           1,
           3,
           10,
           17,
           30,
           1,
           4,
           1,
           126,
           1,
           1,
           2,
           1,
           1,
           2,
           5,
           5,
           4,
           3,
           7,
           4,
           15,
           1,
           1,
           6,
           41,
           15,
           29,
           4,
           3,
           14,
           38,
           35,
           1,
           90,
           16,
           16,
           79,
           49,
           8,
           11,
           117,
           35,
           79,
           6,
           45,
           1914,
           1722,
           5095,
           2439,
           647,
           1191,
           10223,
           6168,
           11649,
           386,
           4699,
           1,
           3,
           64,
           4,
           49,
           9,
           6,
           2,
           30,
           282,
           12075,
           133,
           968,
           81,
           10717,
           1058,
           579,
           301,
           39,
           1,
           2,
           1,
           1,
           1,
           2,
           4,
           1,
           1,
           34,
           85,
           50,
           108,
           7,
           11,
           47,
           81,
           126,
           3,
           27,
           1,
           1,
           2,
           580,
           5,
           4,
           4,
           43,
           1,
           16,
           119,
           72,
           3,
           10,
           203,
           62,
           100,
           2,
           44,
           3,
           6,
           10,
           16,
           1,
           5,
           9,
           7,
           26,
           4,
           51,
           339,
           402,
           795,
           742,
           97,
           219,
           1478,
           1076,
           1786,
           87,
           985,
           52,
           279,
           80,
           133,
           11,
           24,
           92,
           208,
           202,
           16,
           669,
           672,
           845,
           934,
           10837,
           257,
           299,
           1494,
           2097,
           4323,
           1911,
           8848,
           1,
           1,
           1,
           110,
           221,
           252,
           2236,
           48,
           42,
           509,
           357,
           732,
           304,
           1416,
           1,
           2,
           2,
           1,
           7,
           29,
           3,
           4,
           12,
           17,
           5,
           15,
           9,
           19,
           34,
           321,
           9,
           3,
           41,
           90,
           85,
           47,
           203,
           28,
           48,
           39,
           426,
           19,
           8,
           62,
           242,
           126,
           95,
           397,
           5323,
           1,
           17,
           26,
           35,
           166,
           4,
           20,
           63,
           106,
           151,
           80,
           256,
           1,
           4,
           3,
           6,
           1,
           5,
           6,
           6,
           10,
           10,
           3,
           1,
           2,
           4,
           1,
           3,
           3,
           5,
           1,
           5,
           1,
           1,
           1,
           1,
           166,
           102,
           263,
           261,
           163,
           112,
           614,
           477,
           951,
           215,
           644,
           25,
           136,
           8414,
           79,
           589,
           43,
           6717,
           546,
           275,
           173,
           42,
           1,
           11,
           41,
           17,
           30,
           6,
           13,
           11,
           24,
           36,
           3,
           20,
           274,
           1,
           1,
           1,
           33,
           14,
           4,
           2,
           40,
           18,
           11,
           35,
           34,
           110,
           27,
           48,
           7,
           15,
           17,
           81,
           85,
           7,
           321,
           1,
           1,
           2,
           1,
           4,
           1,
           9,
           4,
           1623,
           1455,
           4081,
           1764,
           525,
           722,
           5579,
           4305,
           7646,
           249,
           3697,
           2,
           2,
           30,
           153,
           8003,
           94,
           518,
           33,
           4924,
           602,
           269,
           161,
           23,
           178,
           131,
           248,
           520,
           34,
           84,
           390,
           480,
           641,
           21,
           896,
           1,
           1,
           32,
           112,
           43,
           108,
           11,
           16,
           47,
           96,
           135,
           6,
           35,
           506,
           32,
           2,
           50,
           46,
           2,
           6,
           58,
           12,
           30,
           1,
           21,
           1,
           1,
           4,
           1,
           2,
           2,
           1,
           45,
           207,
           53,
           103,
           20,
           19,
           51,
           160,
           193,
           7,
           391,
           4272,
           7,
           621.5412087912088,
           796.8595317725752,
           778.6306068601583,
           10707.066004193637,
           239.731884057971,
           262.9298245614035,
           1248.1285162713734,
           1973.1613626176602,
           4073.840592334495,
           1864.4435936702398,
           8575.021901007447,
           2536.533535689807,
           1499.1205869533633,
           5036.455302385962,
           2151.3497705302216,
           699.0666666666667,
           1151.841084504255,
           7864.667262866375,
           6179.552517774683,
           10982.652423051735,
           338.56640181611806,
           5372.66761448033,
           1,
           2,
           46.93684210526316,
           2,
           3.3333333333333335,
           35.273972602739725,
           7.545454545454546,
           4.75,
           1.4,
           1,
           25.17391304347826,
           183.74472573839662,
           9700.37217584654,
           97.12392426850258,
           707.1050080775444,
           56.91216216216216,
           7797.476027973373,
           767.2810570511238,
           387.71478696741855,
           219.56492411467116,
           32.80952380952381,
           110,
           221,
           252,
           2236,
           48,
           42,
           509,
           357,
           731.0027285129604,
           304,
           1416,
           4.818181818181818,
           12.217391304347826,
           9.736842105263158,
           25.392156862745097,
           1.5,
           4.75,
           8.80952380952381,
           15.666666666666666,
           21.72340425531915,
           1.5,
           3.2222222222222223,
           2,
           1,
           7,
           29,
           3,
           4,
           12,
           17,
           5,
           15,
           171.52972972972972,
           125.45255474452554,
           243.19762845849803,
           504.7649253731343,
           34,
           81.16091954022988,
           380.5,
           463.98591549295776,
           619.593373493976,
           21,
           877.5704918032787,
           7.545454545454546,
           15.25,
           30.57894736842105,
           313.23100303951367,
           9,
           3,
           39.13953488372093,
           83.72164948453609,
           82.1590909090909,
           46.041666666666664,
           200.06796116504853,
           39.8936170212766,
           86.86343612334802,
           49.04633204633205,
           89.94396551724138,
           11.872727272727273,
           17.511111111111113,
           44.391304347826086,
           95.37552742616033,
           146.07607192254494,
           6.3076923076923075,
           91.08668730650155,
           26.2,
           45.27450980392157,
           32.083333333333336,
           439.6539660547281,
           14.357142857142858,
           7.222222222222222,
           55.056338028169016,
           230.70866141732284,
           108.36486486486487,
           59.457142857142856,
           380.27710843373495,
           141.61635220125785,
           24.416666666666668,
           115.51836734693877,
           127.28899082568807,
           17.9,
           52.340425531914896,
           282.2877030162413,
           287.7554671968191,
           485.4887839433294,
           18.93548387096774,
           211.1449893390192,
           5323,
           1,
           17,
           22.25,
           77.140625,
           155.61797752808988,
           3.4,
           19.095238095238095,
           56.25,
           92.776,
           133.58285714285714,
           74.83720930232558,
           223.69360269360268,
           570,
           290,
           480.00414937759336,
           438,
           237,
           408,
           767.002600780234,
           1761,
           2470,
           156,
           1589,
           2.5,
           5.2,
           8.384615384615385,
           13.272727272727273,
           1,
           5,
           7.8,
           6.538461538461538,
           21.555555555555557,
           4,
           44.278688524590166,
           336.05263157894734,
           391.39709443099275,
           792.015037593985,
           737.0562248995984,
           97,
           217.02714932126696,
           1477.001352265044,
           1062.234862385321,
           1783.0078256008944,
           87,
           980.0363636363636,
           3,
           1,
           1.6666666666666667,
           4,
           1,
           2.5,
           2.5,
           5,
           1,
           5,
           47.875,
           194.72999035679845,
           54.00709219858156,
           89.82539682539682,
           12.647058823529411,
           18.30909090909091,
           54.15294117647059,
           137.47184986595175,
           162.11111111111111,
           10.12280701754386,
           483.83810270482167,
           513.5226019845645,
           617.1174577634755,
           561.3044741429402,
           6923.928249692889,
           183.026525198939,
           215.44859813084113,
           972.8595009596929,
           1484.604381443299,
           3324.8317821440883,
           1436.3241800152555,
           6977.277253441856,
           2190.5969159343394,
           1072.3389880081895,
           7859.645903990859,
           1660.6072296042291,
           662.3224729603419,
           952.9032511386838,
           7476.250725486045,
           4843.04192619015,
           9396.611540902619,
           267.45885885885883,
           4322.610954964377,
           2073.3090446449223,
           1023.1354782608696,
           7710.088302533816,
           4876.065236123079,
           639.3508771929825,
           906.4528329654157,
           7271.882189731712,
           4579.455232749247,
           8847.01691134027,
           782.372311827957,
           5050.034996559661
          ]
         },
         "name": "",
         "parents": [
          "bola.com/web-desktop/chrome",
          "bola.net/web-desktop/chrome",
          "brilio.net/web-desktop/chrome",
          "bukalapak.com/web-desktop/chrome",
          "fimela.com/web-desktop/chrome",
          "kapanlagi.com/web-desktop/chrome",
          "liputan6.com/web-desktop/chrome",
          "merdeka.com/web-desktop/chrome",
          "others/web-desktop/chrome",
          "vidio.com/web-desktop/chrome",
          "bola.com/web-mobile/chrome",
          "bola.net/web-mobile/chrome",
          "brilio.net/web-mobile/chrome",
          "bukalapak.com/web-mobile/chrome",
          "dream.co.id/web-mobile/chrome",
          "fimela.com/web-mobile/chrome",
          "kapanlagi.com/web-mobile/chrome",
          "liputan6.com/web-mobile/chrome",
          "merdeka.com/web-mobile/chrome",
          "others/web-mobile/chrome",
          "vidio.com/web-mobile/chrome",
          "bola.com/web-desktop/facebook",
          "bola.net/web-desktop/facebook",
          "brilio.net/web-desktop/facebook",
          "bukalapak.com/web-desktop/facebook",
          "dream.co.id/web-desktop/facebook",
          "kapanlagi.com/web-desktop/facebook",
          "liputan6.com/web-desktop/facebook",
          "merdeka.com/web-desktop/facebook",
          "others/web-desktop/facebook",
          "vidio.com/web-desktop/facebook",
          "bola.com/web-mobile/facebook",
          "bola.net/web-mobile/facebook",
          "brilio.net/web-mobile/facebook",
          "bukalapak.com/web-mobile/facebook",
          "dream.co.id/web-mobile/facebook",
          "fimela.com/web-mobile/facebook",
          "kapanlagi.com/web-mobile/facebook",
          "liputan6.com/web-mobile/facebook",
          "merdeka.com/web-mobile/facebook",
          "others/web-mobile/facebook",
          "vidio.com/web-mobile/facebook",
          "bola.com/web-mobile/firefox",
          "bola.net/web-mobile/firefox",
          "bukalapak.com/web-mobile/firefox",
          "dream.co.id/web-mobile/firefox",
          "fimela.com/web-mobile/firefox",
          "kapanlagi.com/web-mobile/firefox",
          "liputan6.com/web-mobile/firefox",
          "merdeka.com/web-mobile/firefox",
          "others/web-mobile/firefox",
          "vidio.com/web-mobile/firefox",
          "bukalapak.com/web-mobile/miuibrowser",
          "liputan6.com/web-mobile/miuibrowser",
          "vidio.com/web-mobile/miuibrowser",
          "bola.net/web-desktop/opera",
          "brilio.net/web-mobile/opera",
          "merdeka.com/web-mobile/opera",
          "brilio.net/web-desktop/other",
          "bukalapak.com/web-desktop/other",
          "fimela.com/web-desktop/other",
          "kapanlagi.com/web-desktop/other",
          "liputan6.com/web-desktop/other",
          "merdeka.com/web-desktop/other",
          "others/web-desktop/other",
          "vidio.com/web-desktop/other",
          "bola.com/web-mobile/other",
          "bola.net/web-mobile/other",
          "brilio.net/web-mobile/other",
          "bukalapak.com/web-mobile/other",
          "dream.co.id/web-mobile/other",
          "fimela.com/web-mobile/other",
          "kapanlagi.com/web-mobile/other",
          "liputan6.com/web-mobile/other",
          "merdeka.com/web-mobile/other",
          "others/web-mobile/other",
          "vidio.com/web-mobile/other",
          "bola.net/web-desktop/safari",
          "brilio.net/web-desktop/safari",
          "bukalapak.com/web-desktop/safari",
          "dream.co.id/web-desktop/safari",
          "fimela.com/web-desktop/safari",
          "kapanlagi.com/web-desktop/safari",
          "liputan6.com/web-desktop/safari",
          "merdeka.com/web-desktop/safari",
          "others/web-desktop/safari",
          "vidio.com/web-desktop/safari",
          "bola.com/web-mobile/safari",
          "bola.net/web-mobile/safari",
          "brilio.net/web-mobile/safari",
          "bukalapak.com/web-mobile/safari",
          "dream.co.id/web-mobile/safari",
          "fimela.com/web-mobile/safari",
          "kapanlagi.com/web-mobile/safari",
          "liputan6.com/web-mobile/safari",
          "merdeka.com/web-mobile/safari",
          "others/web-mobile/safari",
          "vidio.com/web-mobile/safari",
          "bola.com/web-mobile/uc browser",
          "bola.net/web-mobile/uc browser",
          "bukalapak.com/web-mobile/uc browser",
          "fimela.com/web-mobile/uc browser",
          "kapanlagi.com/web-mobile/uc browser",
          "liputan6.com/web-mobile/uc browser",
          "merdeka.com/web-mobile/uc browser",
          "others/web-mobile/uc browser",
          "vidio.com/web-mobile/uc browser",
          "dream.co.id/web-desktop/chrome",
          "liputan6.com/web-desktop/chrome",
          "vidio.com/web-desktop/chrome",
          "bola.com/web-mobile/chrome",
          "bola.net/web-mobile/chrome",
          "brilio.net/web-mobile/chrome",
          "bukalapak.com/web-mobile/chrome",
          "dream.co.id/web-mobile/chrome",
          "fimela.com/web-mobile/chrome",
          "kapanlagi.com/web-mobile/chrome",
          "liputan6.com/web-mobile/chrome",
          "merdeka.com/web-mobile/chrome",
          "others/web-mobile/chrome",
          "vidio.com/web-mobile/chrome",
          "brilio.net/web-desktop/facebook",
          "kapanlagi.com/web-desktop/facebook",
          "bola.com/web-mobile/facebook",
          "bola.net/web-mobile/facebook",
          "brilio.net/web-mobile/facebook",
          "bukalapak.com/web-mobile/facebook",
          "dream.co.id/web-mobile/facebook",
          "fimela.com/web-mobile/facebook",
          "kapanlagi.com/web-mobile/facebook",
          "liputan6.com/web-mobile/facebook",
          "merdeka.com/web-mobile/facebook",
          "others/web-mobile/facebook",
          "vidio.com/web-mobile/facebook",
          "brilio.net/web-desktop/opera",
          "merdeka.com/web-desktop/opera",
          "bola.com/web-mobile/opera",
          "bola.net/web-mobile/opera",
          "brilio.net/web-mobile/opera",
          "bukalapak.com/web-mobile/opera",
          "dream.co.id/web-mobile/opera",
          "fimela.com/web-mobile/opera",
          "kapanlagi.com/web-mobile/opera",
          "liputan6.com/web-mobile/opera",
          "merdeka.com/web-mobile/opera",
          "vidio.com/web-mobile/opera",
          "bola.com/web-desktop/other",
          "bukalapak.com/web-desktop/other",
          "liputan6.com/web-desktop/other",
          "others/web-desktop/other",
          "bola.net/web-mobile/other",
          "brilio.net/web-mobile/other",
          "bukalapak.com/web-mobile/other",
          "dream.co.id/web-mobile/other",
          "fimela.com/web-mobile/other",
          "kapanlagi.com/web-mobile/other",
          "liputan6.com/web-mobile/other",
          "merdeka.com/web-mobile/other",
          "others/web-mobile/other",
          "bola.net/web-mobile/samsung internet",
          "brilio.net/web-mobile/samsung internet",
          "liputan6.com/web-mobile/samsung internet",
          "merdeka.com/web-mobile/samsung internet",
          "vidio.com/web-mobile/samsung internet",
          "bola.com/web-mobile/uc browser",
          "bola.net/web-mobile/uc browser",
          "brilio.net/web-mobile/uc browser",
          "bukalapak.com/web-mobile/uc browser",
          "dream.co.id/web-mobile/uc browser",
          "fimela.com/web-mobile/uc browser",
          "kapanlagi.com/web-mobile/uc browser",
          "liputan6.com/web-mobile/uc browser",
          "merdeka.com/web-mobile/uc browser",
          "others/web-mobile/uc browser",
          "vidio.com/web-mobile/uc browser",
          "brilio.net/web-mobile/bacaberita app",
          "merdeka.com/web-mobile/bacaberita app",
          "bola.com/web-desktop/chrome",
          "bola.net/web-desktop/chrome",
          "brilio.net/web-desktop/chrome",
          "bukalapak.com/web-desktop/chrome",
          "dream.co.id/web-desktop/chrome",
          "fimela.com/web-desktop/chrome",
          "kapanlagi.com/web-desktop/chrome",
          "liputan6.com/web-desktop/chrome",
          "merdeka.com/web-desktop/chrome",
          "others/web-desktop/chrome",
          "vidio.com/web-desktop/chrome",
          "bola.com/web-mobile/chrome",
          "bola.net/web-mobile/chrome",
          "brilio.net/web-mobile/chrome",
          "bukalapak.com/web-mobile/chrome",
          "dream.co.id/web-mobile/chrome",
          "fimela.com/web-mobile/chrome",
          "kapanlagi.com/web-mobile/chrome",
          "liputan6.com/web-mobile/chrome",
          "merdeka.com/web-mobile/chrome",
          "others/web-mobile/chrome",
          "vidio.com/web-mobile/chrome",
          "bola.net/web-desktop/facebook",
          "brilio.net/web-desktop/facebook",
          "kapanlagi.com/web-desktop/facebook",
          "liputan6.com/web-desktop/facebook",
          "others/web-desktop/facebook",
          "vidio.com/web-desktop/facebook",
          "bola.com/web-mobile/facebook",
          "bola.net/web-mobile/facebook",
          "brilio.net/web-mobile/facebook",
          "bukalapak.com/web-mobile/facebook",
          "dream.co.id/web-mobile/facebook",
          "fimela.com/web-mobile/facebook",
          "kapanlagi.com/web-mobile/facebook",
          "liputan6.com/web-mobile/facebook",
          "merdeka.com/web-mobile/facebook",
          "others/web-mobile/facebook",
          "vidio.com/web-mobile/facebook",
          "merdeka.com/web-desktop/firefox",
          "bola.com/web-mobile/firefox",
          "bola.net/web-mobile/firefox",
          "brilio.net/web-mobile/firefox",
          "bukalapak.com/web-mobile/firefox",
          "dream.co.id/web-mobile/firefox",
          "fimela.com/web-mobile/firefox",
          "kapanlagi.com/web-mobile/firefox",
          "liputan6.com/web-mobile/firefox",
          "merdeka.com/web-mobile/firefox",
          "vidio.com/web-mobile/firefox",
          "bola.com/web-mobile/miuibrowser",
          "bola.net/web-mobile/miuibrowser",
          "brilio.net/web-mobile/miuibrowser",
          "bukalapak.com/web-mobile/miuibrowser",
          "fimela.com/web-mobile/miuibrowser",
          "kapanlagi.com/web-mobile/miuibrowser",
          "liputan6.com/web-mobile/miuibrowser",
          "merdeka.com/web-mobile/miuibrowser",
          "vidio.com/web-mobile/miuibrowser",
          "bola.net/web-desktop/opera",
          "brilio.net/web-desktop/opera",
          "bukalapak.com/web-desktop/opera",
          "kapanlagi.com/web-desktop/opera",
          "liputan6.com/web-desktop/opera",
          "merdeka.com/web-desktop/opera",
          "bola.com/web-mobile/opera",
          "bola.net/web-mobile/opera",
          "brilio.net/web-mobile/opera",
          "bukalapak.com/web-mobile/opera",
          "dream.co.id/web-mobile/opera",
          "fimela.com/web-mobile/opera",
          "kapanlagi.com/web-mobile/opera",
          "liputan6.com/web-mobile/opera",
          "merdeka.com/web-mobile/opera",
          "others/web-mobile/opera",
          "vidio.com/web-mobile/opera",
          "bola.net/web-desktop/other",
          "brilio.net/web-desktop/other",
          "bukalapak.com/web-desktop/other",
          "dream.co.id/web-desktop/other",
          "kapanlagi.com/web-desktop/other",
          "liputan6.com/web-desktop/other",
          "merdeka.com/web-desktop/other",
          "others/web-desktop/other",
          "vidio.com/web-desktop/other",
          "bola.com/web-mobile/other",
          "bola.net/web-mobile/other",
          "brilio.net/web-mobile/other",
          "bukalapak.com/web-mobile/other",
          "dream.co.id/web-mobile/other",
          "fimela.com/web-mobile/other",
          "kapanlagi.com/web-mobile/other",
          "liputan6.com/web-mobile/other",
          "merdeka.com/web-mobile/other",
          "others/web-mobile/other",
          "vidio.com/web-mobile/other",
          "brilio.net/web-mobile/safari",
          "bola.com/web-mobile/samsung internet",
          "bola.net/web-mobile/samsung internet",
          "brilio.net/web-mobile/samsung internet",
          "fimela.com/web-mobile/samsung internet",
          "liputan6.com/web-mobile/samsung internet",
          "vidio.com/web-mobile/samsung internet",
          "bola.com/web-mobile/uc browser",
          "bola.net/web-mobile/uc browser",
          "brilio.net/web-mobile/uc browser",
          "bukalapak.com/web-mobile/uc browser",
          "dream.co.id/web-mobile/uc browser",
          "fimela.com/web-mobile/uc browser",
          "kapanlagi.com/web-mobile/uc browser",
          "liputan6.com/web-mobile/uc browser",
          "merdeka.com/web-mobile/uc browser",
          "others/web-mobile/uc browser",
          "vidio.com/web-mobile/uc browser",
          "bola.com/web-desktop/chrome",
          "bola.net/web-desktop/chrome",
          "brilio.net/web-desktop/chrome",
          "bukalapak.com/web-desktop/chrome",
          "dream.co.id/web-desktop/chrome",
          "fimela.com/web-desktop/chrome",
          "kapanlagi.com/web-desktop/chrome",
          "liputan6.com/web-desktop/chrome",
          "merdeka.com/web-desktop/chrome",
          "others/web-desktop/chrome",
          "vidio.com/web-desktop/chrome",
          "bola.com/web-mobile/chrome",
          "bola.net/web-mobile/chrome",
          "brilio.net/web-mobile/chrome",
          "bukalapak.com/web-mobile/chrome",
          "dream.co.id/web-mobile/chrome",
          "fimela.com/web-mobile/chrome",
          "kapanlagi.com/web-mobile/chrome",
          "liputan6.com/web-mobile/chrome",
          "merdeka.com/web-mobile/chrome",
          "others/web-mobile/chrome",
          "vidio.com/web-mobile/chrome",
          "bola.net/web-desktop/facebook",
          "brilio.net/web-desktop/facebook",
          "kapanlagi.com/web-desktop/facebook",
          "others/web-desktop/facebook",
          "bola.com/web-mobile/facebook",
          "bola.net/web-mobile/facebook",
          "brilio.net/web-mobile/facebook",
          "bukalapak.com/web-mobile/facebook",
          "dream.co.id/web-mobile/facebook",
          "fimela.com/web-mobile/facebook",
          "kapanlagi.com/web-mobile/facebook",
          "liputan6.com/web-mobile/facebook",
          "merdeka.com/web-mobile/facebook",
          "others/web-mobile/facebook",
          "vidio.com/web-mobile/facebook",
          "bola.com/web-mobile/firefox",
          "bola.net/web-mobile/firefox",
          "brilio.net/web-mobile/firefox",
          "bukalapak.com/web-mobile/firefox",
          "dream.co.id/web-mobile/firefox",
          "fimela.com/web-mobile/firefox",
          "kapanlagi.com/web-mobile/firefox",
          "liputan6.com/web-mobile/firefox",
          "merdeka.com/web-mobile/firefox",
          "others/web-mobile/firefox",
          "vidio.com/web-mobile/firefox",
          "bukalapak.com/web-mobile/miuibrowser",
          "fimela.com/web-mobile/miuibrowser",
          "vidio.com/web-mobile/miuibrowser",
          "bola.com/web-desktop/opera",
          "bukalapak.com/web-desktop/opera",
          "vidio.com/web-desktop/opera",
          "bola.com/web-mobile/opera",
          "bola.net/web-mobile/opera",
          "brilio.net/web-mobile/opera",
          "bukalapak.com/web-mobile/opera",
          "dream.co.id/web-mobile/opera",
          "fimela.com/web-mobile/opera",
          "kapanlagi.com/web-mobile/opera",
          "liputan6.com/web-mobile/opera",
          "merdeka.com/web-mobile/opera",
          "others/web-mobile/opera",
          "vidio.com/web-mobile/opera",
          "brilio.net/web-desktop/other",
          "bukalapak.com/web-desktop/other",
          "others/web-desktop/other",
          "bola.com/web-mobile/other",
          "bola.net/web-mobile/other",
          "brilio.net/web-mobile/other",
          "bukalapak.com/web-mobile/other",
          "dream.co.id/web-mobile/other",
          "fimela.com/web-mobile/other",
          "kapanlagi.com/web-mobile/other",
          "liputan6.com/web-mobile/other",
          "merdeka.com/web-mobile/other",
          "vidio.com/web-mobile/other",
          "bola.net/web-mobile/samsung internet",
          "kapanlagi.com/web-mobile/samsung internet",
          "liputan6.com/web-mobile/samsung internet",
          "vidio.com/web-mobile/samsung internet",
          "liputan6.com/web-desktop/uc browser",
          "bola.com/web-mobile/uc browser",
          "bola.net/web-mobile/uc browser",
          "brilio.net/web-mobile/uc browser",
          "bukalapak.com/web-mobile/uc browser",
          "dream.co.id/web-mobile/uc browser",
          "fimela.com/web-mobile/uc browser",
          "kapanlagi.com/web-mobile/uc browser",
          "liputan6.com/web-mobile/uc browser",
          "merdeka.com/web-mobile/uc browser",
          "others/web-mobile/uc browser",
          "vidio.com/web-mobile/uc browser",
          "merdeka.com/web-desktop/chrome",
          "vidio.com/web-desktop/chrome",
          "bola.com/web-mobile/chrome",
          "bola.net/web-mobile/chrome",
          "brilio.net/web-mobile/chrome",
          "bukalapak.com/web-mobile/chrome",
          "dream.co.id/web-mobile/chrome",
          "fimela.com/web-mobile/chrome",
          "kapanlagi.com/web-mobile/chrome",
          "liputan6.com/web-mobile/chrome",
          "merdeka.com/web-mobile/chrome",
          "others/web-mobile/chrome",
          "vidio.com/web-mobile/chrome",
          "kapanlagi.com/web-desktop/facebook",
          "bola.com/web-mobile/facebook",
          "bola.net/web-mobile/facebook",
          "brilio.net/web-mobile/facebook",
          "bukalapak.com/web-mobile/facebook",
          "dream.co.id/web-mobile/facebook",
          "fimela.com/web-mobile/facebook",
          "kapanlagi.com/web-mobile/facebook",
          "liputan6.com/web-mobile/facebook",
          "merdeka.com/web-mobile/facebook",
          "others/web-mobile/facebook",
          "vidio.com/web-mobile/facebook",
          "bukalapak.com/web-desktop/opera",
          "bola.com/web-mobile/opera",
          "bola.net/web-mobile/opera",
          "brilio.net/web-mobile/opera",
          "bukalapak.com/web-mobile/opera",
          "kapanlagi.com/web-mobile/opera",
          "liputan6.com/web-mobile/opera",
          "merdeka.com/web-mobile/opera",
          "vidio.com/web-mobile/opera",
          "bukalapak.com/web-desktop/other",
          "others/web-desktop/other",
          "brilio.net/web-mobile/other",
          "bukalapak.com/web-mobile/other",
          "kapanlagi.com/web-mobile/other",
          "liputan6.com/web-mobile/other",
          "merdeka.com/web-mobile/other",
          "kapanlagi.com/web-mobile/safari",
          "bola.net/web-mobile/samsung internet",
          "bukalapak.com/web-mobile/samsung internet",
          "liputan6.com/web-mobile/samsung internet",
          "bola.net/web-mobile/uc browser",
          "bukalapak.com/web-mobile/uc browser",
          "dream.co.id/web-mobile/uc browser",
          "kapanlagi.com/web-mobile/uc browser",
          "liputan6.com/web-mobile/uc browser",
          "merdeka.com/web-mobile/uc browser",
          "others/web-mobile/uc browser",
          "vidio.com/web-mobile/uc browser",
          "others/web-desktop/chrome",
          "vidio.com/web-desktop/chrome",
          "bola.com/web-mobile/chrome",
          "bola.net/web-mobile/chrome",
          "brilio.net/web-mobile/chrome",
          "bukalapak.com/web-mobile/chrome",
          "dream.co.id/web-mobile/chrome",
          "fimela.com/web-mobile/chrome",
          "kapanlagi.com/web-mobile/chrome",
          "liputan6.com/web-mobile/chrome",
          "merdeka.com/web-mobile/chrome",
          "others/web-mobile/chrome",
          "vidio.com/web-mobile/chrome",
          "bola.net/web-mobile/facebook",
          "brilio.net/web-mobile/facebook",
          "dream.co.id/web-mobile/facebook",
          "fimela.com/web-mobile/facebook",
          "kapanlagi.com/web-mobile/facebook",
          "liputan6.com/web-mobile/facebook",
          "merdeka.com/web-mobile/facebook",
          "others/web-mobile/facebook",
          "bola.com/web-mobile/opera",
          "bola.net/web-mobile/opera",
          "brilio.net/web-mobile/opera",
          "bukalapak.com/web-mobile/opera",
          "kapanlagi.com/web-mobile/opera",
          "liputan6.com/web-mobile/opera",
          "merdeka.com/web-mobile/opera",
          "vidio.com/web-mobile/opera",
          "bukalapak.com/web-desktop/other",
          "bola.com/web-mobile/other",
          "bola.net/web-mobile/other",
          "brilio.net/web-mobile/other",
          "bukalapak.com/web-mobile/other",
          "fimela.com/web-mobile/other",
          "kapanlagi.com/web-mobile/other",
          "liputan6.com/web-mobile/other",
          "merdeka.com/web-mobile/other",
          "others/web-mobile/other",
          "vidio.com/web-mobile/other",
          "bola.com/web-mobile/uc browser",
          "bola.net/web-mobile/uc browser",
          "merdeka.com/web-mobile/uc browser",
          "vidio.com/web-mobile/uc browser",
          "bola.net/web-desktop/chrome",
          "brilio.net/web-desktop/chrome",
          "bukalapak.com/web-desktop/chrome",
          "fimela.com/web-desktop/chrome",
          "kapanlagi.com/web-desktop/chrome",
          "liputan6.com/web-desktop/chrome",
          "merdeka.com/web-desktop/chrome",
          "others/web-desktop/chrome",
          "vidio.com/web-desktop/chrome",
          "bola.com/web-mobile/chrome",
          "bola.net/web-mobile/chrome",
          "brilio.net/web-mobile/chrome",
          "bukalapak.com/web-mobile/chrome",
          "dream.co.id/web-mobile/chrome",
          "fimela.com/web-mobile/chrome",
          "kapanlagi.com/web-mobile/chrome",
          "liputan6.com/web-mobile/chrome",
          "merdeka.com/web-mobile/chrome",
          "others/web-mobile/chrome",
          "vidio.com/web-mobile/chrome",
          "brilio.net/web-desktop/facebook",
          "kapanlagi.com/web-desktop/facebook",
          "merdeka.com/web-desktop/facebook",
          "bola.com/web-mobile/facebook",
          "bola.net/web-mobile/facebook",
          "brilio.net/web-mobile/facebook",
          "bukalapak.com/web-mobile/facebook",
          "dream.co.id/web-mobile/facebook",
          "fimela.com/web-mobile/facebook",
          "kapanlagi.com/web-mobile/facebook",
          "liputan6.com/web-mobile/facebook",
          "merdeka.com/web-mobile/facebook",
          "others/web-mobile/facebook",
          "vidio.com/web-mobile/facebook",
          "bola.net/web-desktop/opera",
          "kapanlagi.com/web-desktop/opera",
          "liputan6.com/web-desktop/opera",
          "bola.com/web-mobile/opera",
          "bola.net/web-mobile/opera",
          "brilio.net/web-mobile/opera",
          "bukalapak.com/web-mobile/opera",
          "dream.co.id/web-mobile/opera",
          "fimela.com/web-mobile/opera",
          "kapanlagi.com/web-mobile/opera",
          "liputan6.com/web-mobile/opera",
          "merdeka.com/web-mobile/opera",
          "others/web-mobile/opera",
          "vidio.com/web-mobile/opera",
          "brilio.net/web-desktop/other",
          "bukalapak.com/web-desktop/other",
          "liputan6.com/web-desktop/other",
          "merdeka.com/web-desktop/other",
          "others/web-desktop/other",
          "vidio.com/web-desktop/other",
          "bola.com/web-mobile/other",
          "bola.net/web-mobile/other",
          "brilio.net/web-mobile/other",
          "bukalapak.com/web-mobile/other",
          "kapanlagi.com/web-mobile/other",
          "liputan6.com/web-mobile/other",
          "merdeka.com/web-mobile/other",
          "vidio.com/web-mobile/other",
          "vidio.com/web-desktop/safari",
          "liputan6.com/web-mobile/samsung internet",
          "brilio.net/web-desktop/uc browser",
          "bola.com/web-mobile/uc browser",
          "bola.net/web-mobile/uc browser",
          "brilio.net/web-mobile/uc browser",
          "bukalapak.com/web-mobile/uc browser",
          "dream.co.id/web-mobile/uc browser",
          "fimela.com/web-mobile/uc browser",
          "kapanlagi.com/web-mobile/uc browser",
          "liputan6.com/web-mobile/uc browser",
          "merdeka.com/web-mobile/uc browser",
          "others/web-mobile/uc browser",
          "vidio.com/web-mobile/uc browser",
          "bola.com/web-desktop/chrome",
          "bola.net/web-desktop/chrome",
          "brilio.net/web-desktop/chrome",
          "bukalapak.com/web-desktop/chrome",
          "dream.co.id/web-desktop/chrome",
          "fimela.com/web-desktop/chrome",
          "kapanlagi.com/web-desktop/chrome",
          "liputan6.com/web-desktop/chrome",
          "merdeka.com/web-desktop/chrome",
          "others/web-desktop/chrome",
          "vidio.com/web-desktop/chrome",
          "bola.com/web-mobile/chrome",
          "bola.net/web-mobile/chrome",
          "brilio.net/web-mobile/chrome",
          "bukalapak.com/web-mobile/chrome",
          "dream.co.id/web-mobile/chrome",
          "fimela.com/web-mobile/chrome",
          "kapanlagi.com/web-mobile/chrome",
          "liputan6.com/web-mobile/chrome",
          "merdeka.com/web-mobile/chrome",
          "others/web-mobile/chrome",
          "vidio.com/web-mobile/chrome",
          "bola.com/web-desktop/facebook",
          "bola.net/web-desktop/facebook",
          "brilio.net/web-desktop/facebook",
          "dream.co.id/web-desktop/facebook",
          "kapanlagi.com/web-desktop/facebook",
          "liputan6.com/web-desktop/facebook",
          "merdeka.com/web-desktop/facebook",
          "others/web-desktop/facebook",
          "bola.com/web-mobile/facebook",
          "bola.net/web-mobile/facebook",
          "brilio.net/web-mobile/facebook",
          "bukalapak.com/web-mobile/facebook",
          "dream.co.id/web-mobile/facebook",
          "fimela.com/web-mobile/facebook",
          "kapanlagi.com/web-mobile/facebook",
          "liputan6.com/web-mobile/facebook",
          "merdeka.com/web-mobile/facebook",
          "others/web-mobile/facebook",
          "vidio.com/web-mobile/facebook",
          "bola.net/web-mobile/miuibrowser",
          "liputan6.com/web-mobile/miuibrowser",
          "bola.com/web-desktop/opera",
          "bola.net/web-desktop/opera",
          "brilio.net/web-desktop/opera",
          "bukalapak.com/web-desktop/opera",
          "liputan6.com/web-desktop/opera",
          "others/web-desktop/opera",
          "vidio.com/web-desktop/opera",
          "bola.com/web-mobile/opera",
          "bola.net/web-mobile/opera",
          "brilio.net/web-mobile/opera",
          "bukalapak.com/web-mobile/opera",
          "dream.co.id/web-mobile/opera",
          "fimela.com/web-mobile/opera",
          "kapanlagi.com/web-mobile/opera",
          "liputan6.com/web-mobile/opera",
          "merdeka.com/web-mobile/opera",
          "others/web-mobile/opera",
          "vidio.com/web-mobile/opera",
          "bola.com/web-desktop/other",
          "bola.net/web-desktop/other",
          "brilio.net/web-desktop/other",
          "bukalapak.com/web-desktop/other",
          "dream.co.id/web-desktop/other",
          "liputan6.com/web-desktop/other",
          "merdeka.com/web-desktop/other",
          "others/web-desktop/other",
          "bola.com/web-mobile/other",
          "bola.net/web-mobile/other",
          "brilio.net/web-mobile/other",
          "bukalapak.com/web-mobile/other",
          "dream.co.id/web-mobile/other",
          "fimela.com/web-mobile/other",
          "kapanlagi.com/web-mobile/other",
          "liputan6.com/web-mobile/other",
          "merdeka.com/web-mobile/other",
          "others/web-mobile/other",
          "vidio.com/web-mobile/other",
          "bola.com/web-desktop/samsung internet",
          "bola.net/web-desktop/samsung internet",
          "brilio.net/web-desktop/samsung internet",
          "bukalapak.com/web-desktop/samsung internet",
          "dream.co.id/web-desktop/samsung internet",
          "fimela.com/web-desktop/samsung internet",
          "kapanlagi.com/web-desktop/samsung internet",
          "liputan6.com/web-desktop/samsung internet",
          "merdeka.com/web-desktop/samsung internet",
          "others/web-desktop/samsung internet",
          "vidio.com/web-desktop/samsung internet",
          "bola.com/web-mobile/samsung internet",
          "bola.net/web-mobile/samsung internet",
          "brilio.net/web-mobile/samsung internet",
          "bukalapak.com/web-mobile/samsung internet",
          "dream.co.id/web-mobile/samsung internet",
          "fimela.com/web-mobile/samsung internet",
          "kapanlagi.com/web-mobile/samsung internet",
          "liputan6.com/web-mobile/samsung internet",
          "merdeka.com/web-mobile/samsung internet",
          "others/web-mobile/samsung internet",
          "vidio.com/web-mobile/samsung internet",
          "bola.com/web-mobile/uc browser",
          "bola.net/web-mobile/uc browser",
          "brilio.net/web-mobile/uc browser",
          "bukalapak.com/web-mobile/uc browser",
          "dream.co.id/web-mobile/uc browser",
          "fimela.com/web-mobile/uc browser",
          "kapanlagi.com/web-mobile/uc browser",
          "liputan6.com/web-mobile/uc browser",
          "merdeka.com/web-mobile/uc browser",
          "others/web-mobile/uc browser",
          "vidio.com/web-mobile/uc browser",
          "bola.com/web-desktop/chrome",
          "bola.net/web-desktop/chrome",
          "brilio.net/web-desktop/chrome",
          "bukalapak.com/web-desktop/chrome",
          "dream.co.id/web-desktop/chrome",
          "fimela.com/web-desktop/chrome",
          "kapanlagi.com/web-desktop/chrome",
          "liputan6.com/web-desktop/chrome",
          "merdeka.com/web-desktop/chrome",
          "others/web-desktop/chrome",
          "vidio.com/web-desktop/chrome",
          "bola.com/web-mobile/chrome",
          "kapanlagi.com/web-mobile/chrome",
          "brilio.net/web-desktop/facebook",
          "bola.com/web-desktop/firefox",
          "bola.net/web-desktop/firefox",
          "brilio.net/web-desktop/firefox",
          "bukalapak.com/web-desktop/firefox",
          "dream.co.id/web-desktop/firefox",
          "fimela.com/web-desktop/firefox",
          "kapanlagi.com/web-desktop/firefox",
          "liputan6.com/web-desktop/firefox",
          "merdeka.com/web-desktop/firefox",
          "others/web-desktop/firefox",
          "vidio.com/web-desktop/firefox",
          "bukalapak.com/web-mobile/firefox",
          "others/web-mobile/firefox",
          "bola.com/web-desktop/miuibrowser",
          "bola.net/web-desktop/miuibrowser",
          "brilio.net/web-desktop/miuibrowser",
          "bukalapak.com/web-desktop/miuibrowser",
          "dream.co.id/web-desktop/miuibrowser",
          "kapanlagi.com/web-desktop/miuibrowser",
          "liputan6.com/web-desktop/miuibrowser",
          "merdeka.com/web-desktop/miuibrowser",
          "others/web-desktop/miuibrowser",
          "vidio.com/web-desktop/miuibrowser",
          "bola.com/web-desktop/opera",
          "bola.net/web-desktop/opera",
          "brilio.net/web-desktop/opera",
          "bukalapak.com/web-desktop/opera",
          "dream.co.id/web-desktop/opera",
          "fimela.com/web-desktop/opera",
          "kapanlagi.com/web-desktop/opera",
          "liputan6.com/web-desktop/opera",
          "merdeka.com/web-desktop/opera",
          "others/web-desktop/opera",
          "vidio.com/web-desktop/opera",
          "bola.com/web-desktop/other",
          "bola.net/web-desktop/other",
          "brilio.net/web-desktop/other",
          "bukalapak.com/web-desktop/other",
          "dream.co.id/web-desktop/other",
          "fimela.com/web-desktop/other",
          "kapanlagi.com/web-desktop/other",
          "liputan6.com/web-desktop/other",
          "merdeka.com/web-desktop/other",
          "others/web-desktop/other",
          "vidio.com/web-desktop/other",
          "bukalapak.com/web-desktop/pale moon",
          "kapanlagi.com/web-desktop/pale moon",
          "bola.com/web-desktop/safari",
          "bola.net/web-desktop/safari",
          "brilio.net/web-desktop/safari",
          "bukalapak.com/web-desktop/safari",
          "dream.co.id/web-desktop/safari",
          "fimela.com/web-desktop/safari",
          "kapanlagi.com/web-desktop/safari",
          "liputan6.com/web-desktop/safari",
          "merdeka.com/web-desktop/safari",
          "others/web-desktop/safari",
          "vidio.com/web-desktop/safari",
          "bola.com/web-desktop/samsung internet",
          "bola.net/web-desktop/samsung internet",
          "brilio.net/web-desktop/samsung internet",
          "bukalapak.com/web-desktop/samsung internet",
          "dream.co.id/web-desktop/samsung internet",
          "fimela.com/web-desktop/samsung internet",
          "kapanlagi.com/web-desktop/samsung internet",
          "liputan6.com/web-desktop/samsung internet",
          "merdeka.com/web-desktop/samsung internet",
          "vidio.com/web-desktop/samsung internet",
          "bola.com/web-desktop/uc browser",
          "bola.net/web-desktop/uc browser",
          "brilio.net/web-desktop/uc browser",
          "bukalapak.com/web-desktop/uc browser",
          "fimela.com/web-desktop/uc browser",
          "kapanlagi.com/web-desktop/uc browser",
          "liputan6.com/web-desktop/uc browser",
          "merdeka.com/web-desktop/uc browser",
          "others/web-desktop/uc browser",
          "vidio.com/web-desktop/uc browser",
          "liputan6.com/web-desktop/chrome",
          "merdeka.com/web-desktop/chrome",
          "others/web-desktop/chrome",
          "vidio.com/web-desktop/chrome",
          "bola.com/web-mobile/chrome",
          "bola.net/web-mobile/chrome",
          "brilio.net/web-mobile/chrome",
          "bukalapak.com/web-mobile/chrome",
          "dream.co.id/web-mobile/chrome",
          "fimela.com/web-mobile/chrome",
          "kapanlagi.com/web-mobile/chrome",
          "liputan6.com/web-mobile/chrome",
          "merdeka.com/web-mobile/chrome",
          "others/web-mobile/chrome",
          "vidio.com/web-mobile/chrome",
          "bola.com/web-mobile/facebook",
          "bola.net/web-mobile/facebook",
          "brilio.net/web-mobile/facebook",
          "bukalapak.com/web-mobile/facebook",
          "dream.co.id/web-mobile/facebook",
          "fimela.com/web-mobile/facebook",
          "kapanlagi.com/web-mobile/facebook",
          "liputan6.com/web-mobile/facebook",
          "merdeka.com/web-mobile/facebook",
          "others/web-mobile/facebook",
          "vidio.com/web-mobile/facebook",
          "bukalapak.com/web-desktop/opera",
          "bola.com/web-mobile/opera",
          "bola.net/web-mobile/opera",
          "brilio.net/web-mobile/opera",
          "bukalapak.com/web-mobile/opera",
          "dream.co.id/web-mobile/opera",
          "fimela.com/web-mobile/opera",
          "kapanlagi.com/web-mobile/opera",
          "liputan6.com/web-mobile/opera",
          "merdeka.com/web-mobile/opera",
          "others/web-mobile/opera",
          "vidio.com/web-mobile/opera",
          "bukalapak.com/web-desktop/other",
          "others/web-desktop/other",
          "bola.com/web-mobile/other",
          "bola.net/web-mobile/other",
          "brilio.net/web-mobile/other",
          "bukalapak.com/web-mobile/other",
          "dream.co.id/web-mobile/other",
          "fimela.com/web-mobile/other",
          "kapanlagi.com/web-mobile/other",
          "liputan6.com/web-mobile/other",
          "merdeka.com/web-mobile/other",
          "vidio.com/web-mobile/other",
          "bola.com/web-mobile/uc browser",
          "bola.net/web-mobile/uc browser",
          "brilio.net/web-mobile/uc browser",
          "bukalapak.com/web-mobile/uc browser",
          "dream.co.id/web-mobile/uc browser",
          "fimela.com/web-mobile/uc browser",
          "kapanlagi.com/web-mobile/uc browser",
          "liputan6.com/web-mobile/uc browser",
          "merdeka.com/web-mobile/uc browser",
          "others/web-mobile/uc browser",
          "vidio.com/web-mobile/uc browser",
          "bola.com/web-desktop/chrome",
          "brilio.net/web-desktop/chrome",
          "bukalapak.com/web-desktop/chrome",
          "fimela.com/web-desktop/chrome",
          "kapanlagi.com/web-desktop/chrome",
          "liputan6.com/web-desktop/chrome",
          "merdeka.com/web-desktop/chrome",
          "vidio.com/web-desktop/chrome",
          "bola.com/web-mobile/chrome",
          "bola.net/web-mobile/chrome",
          "brilio.net/web-mobile/chrome",
          "bukalapak.com/web-mobile/chrome",
          "dream.co.id/web-mobile/chrome",
          "fimela.com/web-mobile/chrome",
          "kapanlagi.com/web-mobile/chrome",
          "liputan6.com/web-mobile/chrome",
          "merdeka.com/web-mobile/chrome",
          "others/web-mobile/chrome",
          "vidio.com/web-mobile/chrome",
          "brilio.net/web-desktop/facebook",
          "kapanlagi.com/web-desktop/facebook",
          "bola.com/web-mobile/facebook",
          "bola.net/web-mobile/facebook",
          "brilio.net/web-mobile/facebook",
          "bukalapak.com/web-mobile/facebook",
          "dream.co.id/web-mobile/facebook",
          "fimela.com/web-mobile/facebook",
          "kapanlagi.com/web-mobile/facebook",
          "liputan6.com/web-mobile/facebook",
          "merdeka.com/web-mobile/facebook",
          "others/web-mobile/facebook",
          "vidio.com/web-mobile/facebook",
          "bola.com/web-mobile/miuibrowser",
          "bola.net/web-mobile/miuibrowser",
          "brilio.net/web-mobile/miuibrowser",
          "bukalapak.com/web-mobile/miuibrowser",
          "dream.co.id/web-mobile/miuibrowser",
          "fimela.com/web-mobile/miuibrowser",
          "kapanlagi.com/web-mobile/miuibrowser",
          "liputan6.com/web-mobile/miuibrowser",
          "merdeka.com/web-mobile/miuibrowser",
          "others/web-mobile/miuibrowser",
          "vidio.com/web-mobile/miuibrowser",
          "bola.net/web-desktop/opera",
          "bukalapak.com/web-desktop/opera",
          "bola.com/web-mobile/opera",
          "bola.net/web-mobile/opera",
          "brilio.net/web-mobile/opera",
          "bukalapak.com/web-mobile/opera",
          "dream.co.id/web-mobile/opera",
          "fimela.com/web-mobile/opera",
          "kapanlagi.com/web-mobile/opera",
          "liputan6.com/web-mobile/opera",
          "merdeka.com/web-mobile/opera",
          "others/web-mobile/opera",
          "vidio.com/web-mobile/opera",
          "bukalapak.com/web-desktop/other",
          "others/web-desktop/other",
          "bola.net/web-mobile/other",
          "brilio.net/web-mobile/other",
          "bukalapak.com/web-mobile/other",
          "dream.co.id/web-mobile/other",
          "fimela.com/web-mobile/other",
          "kapanlagi.com/web-mobile/other",
          "liputan6.com/web-mobile/other",
          "merdeka.com/web-mobile/other",
          "others/web-mobile/other",
          "vidio.com/web-mobile/other",
          "bola.net/web-mobile/samsung internet",
          "brilio.net/web-mobile/samsung internet",
          "bukalapak.com/web-mobile/samsung internet",
          "fimela.com/web-mobile/samsung internet",
          "liputan6.com/web-mobile/samsung internet",
          "merdeka.com/web-mobile/samsung internet",
          "kapanlagi.com/web-desktop/uc browser",
          "bola.com/web-mobile/uc browser",
          "bola.net/web-mobile/uc browser",
          "brilio.net/web-mobile/uc browser",
          "bukalapak.com/web-mobile/uc browser",
          "dream.co.id/web-mobile/uc browser",
          "fimela.com/web-mobile/uc browser",
          "kapanlagi.com/web-mobile/uc browser",
          "liputan6.com/web-mobile/uc browser",
          "merdeka.com/web-mobile/uc browser",
          "others/web-mobile/uc browser",
          "vidio.com/web-mobile/uc browser",
          "brilio.net/web-mobile",
          "merdeka.com/web-mobile",
          "bola.com/web-desktop",
          "bola.net/web-desktop",
          "brilio.net/web-desktop",
          "bukalapak.com/web-desktop",
          "dream.co.id/web-desktop",
          "fimela.com/web-desktop",
          "kapanlagi.com/web-desktop",
          "liputan6.com/web-desktop",
          "merdeka.com/web-desktop",
          "others/web-desktop",
          "vidio.com/web-desktop",
          "bola.com/web-mobile",
          "bola.net/web-mobile",
          "brilio.net/web-mobile",
          "bukalapak.com/web-mobile",
          "dream.co.id/web-mobile",
          "fimela.com/web-mobile",
          "kapanlagi.com/web-mobile",
          "liputan6.com/web-mobile",
          "merdeka.com/web-mobile",
          "others/web-mobile",
          "vidio.com/web-mobile",
          "bola.com/web-desktop",
          "bola.net/web-desktop",
          "brilio.net/web-desktop",
          "bukalapak.com/web-desktop",
          "dream.co.id/web-desktop",
          "kapanlagi.com/web-desktop",
          "liputan6.com/web-desktop",
          "merdeka.com/web-desktop",
          "others/web-desktop",
          "vidio.com/web-desktop",
          "bola.com/web-mobile",
          "bola.net/web-mobile",
          "brilio.net/web-mobile",
          "bukalapak.com/web-mobile",
          "dream.co.id/web-mobile",
          "fimela.com/web-mobile",
          "kapanlagi.com/web-mobile",
          "liputan6.com/web-mobile",
          "merdeka.com/web-mobile",
          "others/web-mobile",
          "vidio.com/web-mobile",
          "bola.com/web-desktop",
          "bola.net/web-desktop",
          "brilio.net/web-desktop",
          "bukalapak.com/web-desktop",
          "dream.co.id/web-desktop",
          "fimela.com/web-desktop",
          "kapanlagi.com/web-desktop",
          "liputan6.com/web-desktop",
          "merdeka.com/web-desktop",
          "others/web-desktop",
          "vidio.com/web-desktop",
          "bola.com/web-mobile",
          "bola.net/web-mobile",
          "brilio.net/web-mobile",
          "bukalapak.com/web-mobile",
          "dream.co.id/web-mobile",
          "fimela.com/web-mobile",
          "kapanlagi.com/web-mobile",
          "liputan6.com/web-mobile",
          "merdeka.com/web-mobile",
          "others/web-mobile",
          "vidio.com/web-mobile",
          "bola.com/web-desktop",
          "bola.net/web-desktop",
          "brilio.net/web-desktop",
          "bukalapak.com/web-desktop",
          "dream.co.id/web-desktop",
          "kapanlagi.com/web-desktop",
          "liputan6.com/web-desktop",
          "merdeka.com/web-desktop",
          "others/web-desktop",
          "vidio.com/web-desktop",
          "bola.com/web-mobile",
          "bola.net/web-mobile",
          "brilio.net/web-mobile",
          "bukalapak.com/web-mobile",
          "dream.co.id/web-mobile",
          "fimela.com/web-mobile",
          "kapanlagi.com/web-mobile",
          "liputan6.com/web-mobile",
          "merdeka.com/web-mobile",
          "others/web-mobile",
          "vidio.com/web-mobile",
          "bola.com/web-desktop",
          "bola.net/web-desktop",
          "brilio.net/web-desktop",
          "bukalapak.com/web-desktop",
          "dream.co.id/web-desktop",
          "fimela.com/web-desktop",
          "kapanlagi.com/web-desktop",
          "liputan6.com/web-desktop",
          "merdeka.com/web-desktop",
          "others/web-desktop",
          "vidio.com/web-desktop",
          "bola.com/web-mobile",
          "bola.net/web-mobile",
          "brilio.net/web-mobile",
          "bukalapak.com/web-mobile",
          "dream.co.id/web-mobile",
          "fimela.com/web-mobile",
          "kapanlagi.com/web-mobile",
          "liputan6.com/web-mobile",
          "merdeka.com/web-mobile",
          "others/web-mobile",
          "vidio.com/web-mobile",
          "bola.com/web-desktop",
          "bola.net/web-desktop",
          "brilio.net/web-desktop",
          "bukalapak.com/web-desktop",
          "dream.co.id/web-desktop",
          "fimela.com/web-desktop",
          "kapanlagi.com/web-desktop",
          "liputan6.com/web-desktop",
          "merdeka.com/web-desktop",
          "others/web-desktop",
          "vidio.com/web-desktop",
          "bola.com/web-mobile",
          "bola.net/web-mobile",
          "brilio.net/web-mobile",
          "bukalapak.com/web-mobile",
          "dream.co.id/web-mobile",
          "fimela.com/web-mobile",
          "kapanlagi.com/web-mobile",
          "liputan6.com/web-mobile",
          "merdeka.com/web-mobile",
          "others/web-mobile",
          "vidio.com/web-mobile",
          "bukalapak.com/web-desktop",
          "kapanlagi.com/web-desktop",
          "bola.com/web-desktop",
          "bola.net/web-desktop",
          "brilio.net/web-desktop",
          "bukalapak.com/web-desktop",
          "dream.co.id/web-desktop",
          "fimela.com/web-desktop",
          "kapanlagi.com/web-desktop",
          "liputan6.com/web-desktop",
          "merdeka.com/web-desktop",
          "others/web-desktop",
          "vidio.com/web-desktop",
          "bola.com/web-mobile",
          "bola.net/web-mobile",
          "brilio.net/web-mobile",
          "bukalapak.com/web-mobile",
          "dream.co.id/web-mobile",
          "fimela.com/web-mobile",
          "kapanlagi.com/web-mobile",
          "liputan6.com/web-mobile",
          "merdeka.com/web-mobile",
          "others/web-mobile",
          "vidio.com/web-mobile",
          "bola.com/web-desktop",
          "bola.net/web-desktop",
          "brilio.net/web-desktop",
          "bukalapak.com/web-desktop",
          "dream.co.id/web-desktop",
          "fimela.com/web-desktop",
          "kapanlagi.com/web-desktop",
          "liputan6.com/web-desktop",
          "merdeka.com/web-desktop",
          "others/web-desktop",
          "vidio.com/web-desktop",
          "bola.com/web-mobile",
          "bola.net/web-mobile",
          "brilio.net/web-mobile",
          "bukalapak.com/web-mobile",
          "dream.co.id/web-mobile",
          "fimela.com/web-mobile",
          "kapanlagi.com/web-mobile",
          "liputan6.com/web-mobile",
          "merdeka.com/web-mobile",
          "others/web-mobile",
          "vidio.com/web-mobile",
          "bola.com/web-desktop",
          "bola.net/web-desktop",
          "brilio.net/web-desktop",
          "bukalapak.com/web-desktop",
          "fimela.com/web-desktop",
          "kapanlagi.com/web-desktop",
          "liputan6.com/web-desktop",
          "merdeka.com/web-desktop",
          "others/web-desktop",
          "vidio.com/web-desktop",
          "bola.com/web-mobile",
          "bola.net/web-mobile",
          "brilio.net/web-mobile",
          "bukalapak.com/web-mobile",
          "dream.co.id/web-mobile",
          "fimela.com/web-mobile",
          "kapanlagi.com/web-mobile",
          "liputan6.com/web-mobile",
          "merdeka.com/web-mobile",
          "others/web-mobile",
          "vidio.com/web-mobile",
          "bola.com",
          "bola.net",
          "brilio.net",
          "bukalapak.com",
          "dream.co.id",
          "fimela.com",
          "kapanlagi.com",
          "liputan6.com",
          "merdeka.com",
          "others",
          "vidio.com",
          "bola.com",
          "bola.net",
          "brilio.net",
          "bukalapak.com",
          "dream.co.id",
          "fimela.com",
          "kapanlagi.com",
          "liputan6.com",
          "merdeka.com",
          "others",
          "vidio.com",
          "",
          "",
          "",
          "",
          "",
          "",
          "",
          "",
          "",
          "",
          ""
         ],
         "type": "treemap",
         "values": [
          6,
          4,
          3,
          4,
          1,
          1,
          4,
          17,
          9,
          29,
          76,
          60,
          21,
          73,
          13,
          30,
          71,
          212,
          286,
          15,
          213,
          1,
          1,
          18,
          2,
          2,
          12,
          1,
          1,
          1,
          1,
          5,
          32,
          1499,
          49,
          114,
          18,
          1739,
          113,
          71,
          54,
          11,
          1,
          3,
          3,
          1,
          1,
          4,
          5,
          6,
          1,
          2,
          1,
          1,
          2,
          1,
          1,
          2,
          3,
          11,
          1,
          8,
          1,
          8,
          5,
          14,
          150,
          37,
          187,
          212,
          26,
          69,
          437,
          374,
          631,
          24,
          306,
          6,
          93,
          12,
          1,
          1,
          9,
          19,
          24,
          6,
          26,
          570,
          290,
          481,
          438,
          237,
          408,
          768,
          1761,
          2470,
          156,
          1589,
          6,
          11,
          4,
          7,
          3,
          10,
          13,
          2,
          9,
          1,
          1,
          2,
          152,
          220,
          661,
          284,
          93,
          112,
          1050,
          611,
          1156,
          42,
          453,
          1,
          1,
          1,
          16,
          670,
          16,
          38,
          2,
          443,
          65,
          31,
          13,
          2,
          1,
          1,
          4,
          10,
          14,
          10,
          1,
          2,
          6,
          17,
          18,
          3,
          1,
          74,
          3,
          4,
          1,
          7,
          14,
          1,
          1,
          6,
          1,
          7,
          1,
          2,
          1,
          1,
          1,
          1,
          4,
          21,
          7,
          20,
          2,
          3,
          12,
          22,
          32,
          3,
          44,
          4272,
          7,
          22,
          19,
          48,
          37,
          4,
          15,
          95,
          39,
          93,
          10,
          96,
          3795,
          1970,
          6383,
          2906,
          1045,
          1661,
          9314,
          9045,
          15831,
          481,
          7596,
          1,
          2,
          2,
          1,
          1,
          1,
          27,
          200,
          12904,
          132,
          904,
          73,
          9944,
          998,
          468,
          289,
          35,
          1,
          6,
          16,
          11,
          33,
          1,
          6,
          12,
          15,
          29,
          3,
          7,
          5,
          5,
          12,
          2,
          10,
          14,
          23,
          11,
          1,
          2,
          1,
          1,
          2,
          2,
          59,
          104,
          51,
          96,
          11,
          21,
          50,
          138,
          201,
          10,
          108,
          2,
          2,
          577,
          4,
          1,
          3,
          9,
          23,
          3,
          1,
          11,
          47,
          51,
          3,
          4,
          66,
          22,
          40,
          1,
          37,
          1,
          3,
          6,
          1,
          1,
          7,
          3,
          69,
          216,
          47,
          89,
          10,
          23,
          39,
          122,
          208,
          12,
          574,
          11,
          11,
          66,
          38,
          6,
          13,
          89,
          43,
          58,
          17,
          88,
          2265,
          1127,
          5342,
          2075,
          663,
          1041,
          6959,
          5401,
          9391,
          324,
          5689,
          1,
          5,
          2,
          1,
          17,
          106,
          7964,
          58,
          486,
          41,
          6125,
          553,
          253,
          164,
          32,
          4,
          4,
          8,
          14,
          2,
          1,
          5,
          19,
          12,
          1,
          4,
          3,
          1,
          6,
          1,
          2,
          2,
          41,
          83,
          72,
          88,
          18,
          24,
          55,
          96,
          169,
          3,
          124,
          1,
          251,
          2,
          2,
          1,
          40,
          14,
          1,
          1,
          42,
          7,
          18,
          20,
          1,
          1,
          1,
          1,
          1,
          39,
          142,
          53,
          74,
          13,
          16,
          24,
          101,
          116,
          8,
          437,
          1,
          9,
          84,
          104,
          160,
          128,
          35,
          44,
          318,
          272,
          510,
          14,
          221,
          1,
          2,
          12,
          328,
          7,
          21,
          2,
          200,
          25,
          14,
          15,
          2,
          1,
          2,
          12,
          1,
          2,
          1,
          4,
          5,
          1,
          53,
          3,
          1,
          6,
          3,
          1,
          2,
          1,
          1,
          1,
          2,
          9,
          4,
          1,
          3,
          4,
          4,
          1,
          15,
          1,
          2,
          30,
          15,
          47,
          122,
          6,
          79,
          69,
          496,
          894,
          9,
          112,
          1,
          30,
          1,
          1,
          39,
          3,
          3,
          1,
          1,
          1,
          1,
          1,
          3,
          1,
          1,
          1,
          9,
          3,
          1,
          1,
          2,
          1,
          3,
          3,
          1,
          2,
          2,
          1,
          1,
          3,
          1,
          2,
          6,
          2,
          2,
          13,
          10,
          11,
          4,
          8,
          107,
          108,
          286,
          189,
          50,
          61,
          466,
          299,
          550,
          27,
          239,
          2,
          4,
          1,
          1,
          10,
          1182,
          13,
          75,
          2,
          763,
          86,
          32,
          15,
          3,
          1,
          1,
          1,
          4,
          6,
          9,
          21,
          1,
          3,
          10,
          17,
          30,
          1,
          4,
          1,
          126,
          1,
          1,
          2,
          1,
          1,
          2,
          5,
          5,
          4,
          3,
          7,
          4,
          15,
          1,
          1,
          6,
          41,
          15,
          29,
          4,
          3,
          14,
          38,
          35,
          1,
          90,
          16,
          16,
          79,
          49,
          8,
          11,
          117,
          35,
          79,
          6,
          45,
          1914,
          1722,
          5095,
          2439,
          647,
          1191,
          10223,
          6168,
          11649,
          386,
          4699,
          1,
          3,
          64,
          4,
          49,
          9,
          6,
          2,
          30,
          282,
          12075,
          133,
          968,
          81,
          10717,
          1058,
          579,
          301,
          39,
          1,
          2,
          1,
          1,
          1,
          2,
          4,
          1,
          1,
          34,
          85,
          50,
          108,
          7,
          11,
          47,
          81,
          126,
          3,
          27,
          1,
          1,
          2,
          580,
          5,
          4,
          4,
          43,
          1,
          16,
          119,
          72,
          3,
          10,
          203,
          62,
          100,
          2,
          44,
          3,
          6,
          10,
          16,
          1,
          5,
          9,
          7,
          26,
          4,
          51,
          339,
          402,
          795,
          742,
          97,
          219,
          1478,
          1076,
          1786,
          87,
          985,
          52,
          279,
          80,
          133,
          11,
          24,
          92,
          208,
          202,
          16,
          669,
          672,
          845,
          934,
          10837,
          257,
          299,
          1494,
          2097,
          4323,
          1911,
          8848,
          1,
          1,
          1,
          110,
          221,
          252,
          2236,
          48,
          42,
          509,
          357,
          732,
          304,
          1416,
          1,
          2,
          2,
          1,
          7,
          29,
          3,
          4,
          12,
          17,
          5,
          15,
          9,
          19,
          34,
          321,
          9,
          3,
          41,
          90,
          85,
          47,
          203,
          28,
          48,
          39,
          426,
          19,
          8,
          62,
          242,
          126,
          95,
          397,
          5323,
          1,
          17,
          26,
          35,
          166,
          4,
          20,
          63,
          106,
          151,
          80,
          256,
          1,
          4,
          3,
          6,
          1,
          5,
          6,
          6,
          10,
          10,
          3,
          1,
          2,
          4,
          1,
          3,
          3,
          5,
          1,
          5,
          1,
          1,
          1,
          1,
          166,
          102,
          263,
          261,
          163,
          112,
          614,
          477,
          951,
          215,
          644,
          25,
          136,
          8414,
          79,
          589,
          43,
          6717,
          546,
          275,
          173,
          42,
          1,
          11,
          41,
          17,
          30,
          6,
          13,
          11,
          24,
          36,
          3,
          20,
          274,
          1,
          1,
          1,
          33,
          14,
          4,
          2,
          40,
          18,
          11,
          35,
          34,
          110,
          27,
          48,
          7,
          15,
          17,
          81,
          85,
          7,
          321,
          1,
          1,
          2,
          1,
          4,
          1,
          9,
          4,
          1623,
          1455,
          4081,
          1764,
          525,
          722,
          5579,
          4305,
          7646,
          249,
          3697,
          2,
          2,
          30,
          153,
          8003,
          94,
          518,
          33,
          4924,
          602,
          269,
          161,
          23,
          178,
          131,
          248,
          520,
          34,
          84,
          390,
          480,
          641,
          21,
          896,
          1,
          1,
          32,
          112,
          43,
          108,
          11,
          16,
          47,
          96,
          135,
          6,
          35,
          506,
          32,
          2,
          50,
          46,
          2,
          6,
          58,
          12,
          30,
          1,
          21,
          1,
          1,
          4,
          1,
          2,
          2,
          1,
          45,
          207,
          53,
          103,
          20,
          19,
          51,
          160,
          193,
          7,
          391,
          4272,
          7,
          728,
          897,
          1137,
          10969,
          276,
          342,
          1813,
          2231,
          4592,
          1959,
          9132,
          10213,
          6883,
          22339,
          10241,
          3240,
          5053,
          34664,
          27286,
          48864,
          1762,
          23563,
          2,
          6,
          95,
          2,
          6,
          73,
          11,
          8,
          5,
          2,
          138,
          948,
          53069,
          581,
          3714,
          296,
          41611,
          4049,
          1995,
          1186,
          189,
          110,
          221,
          252,
          2236,
          48,
          42,
          509,
          357,
          733,
          304,
          1416,
          11,
          23,
          19,
          51,
          4,
          8,
          21,
          39,
          47,
          4,
          9,
          2,
          1,
          7,
          29,
          3,
          4,
          12,
          17,
          5,
          15,
          185,
          137,
          253,
          536,
          34,
          87,
          400,
          497,
          664,
          21,
          915,
          11,
          24,
          38,
          329,
          9,
          3,
          43,
          97,
          88,
          48,
          206,
          188,
          454,
          259,
          464,
          55,
          90,
          230,
          474,
          723,
          26,
          323,
          30,
          51,
          48,
          2887,
          28,
          9,
          71,
          254,
          148,
          210,
          415,
          159,
          72,
          490,
          436,
          40,
          94,
          862,
          503,
          847,
          31,
          469,
          5323,
          1,
          17,
          32,
          128,
          178,
          5,
          21,
          72,
          125,
          175,
          86,
          297,
          570,
          290,
          482,
          438,
          237,
          408,
          769,
          1761,
          2470,
          156,
          1589,
          4,
          10,
          13,
          22,
          2,
          10,
          15,
          13,
          36,
          4,
          61,
          342,
          413,
          798,
          747,
          97,
          221,
          1479,
          1090,
          1789,
          87,
          990,
          3,
          1,
          3,
          4,
          1,
          4,
          4,
          5,
          1,
          5,
          256,
          1037,
          282,
          504,
          68,
          110,
          255,
          746,
          891,
          57,
          2551,
          907,
          1243,
          1721,
          21979,
          377,
          428,
          2605,
          3104,
          5802,
          2622,
          11549,
          12062,
          10257,
          82263,
          13998,
          7489,
          6367,
          80291,
          36445,
          58297,
          3330,
          30598,
          12969,
          11500,
          83984,
          35977,
          7866,
          6795,
          82896,
          39549,
          64099,
          5952,
          42147
         ]
        }
       ],
       "layout": {
        "coloraxis": {
         "colorbar": {
          "title": {
           "text": "count"
          }
         },
         "colorscale": [
          [
           0,
           "#000004"
          ],
          [
           0.1111111111111111,
           "#180f3d"
          ],
          [
           0.2222222222222222,
           "#440f76"
          ],
          [
           0.3333333333333333,
           "#721f81"
          ],
          [
           0.4444444444444444,
           "#9e2f7f"
          ],
          [
           0.5555555555555556,
           "#cd4071"
          ],
          [
           0.6666666666666666,
           "#f1605d"
          ],
          [
           0.7777777777777778,
           "#fd9668"
          ],
          [
           0.8888888888888888,
           "#feca8d"
          ],
          [
           1,
           "#fcfdbf"
          ]
         ]
        },
        "legend": {
         "tracegroupgap": 0
        },
        "template": {
         "data": {
          "bar": [
           {
            "error_x": {
             "color": "#2a3f5f"
            },
            "error_y": {
             "color": "#2a3f5f"
            },
            "marker": {
             "line": {
              "color": "#E5ECF6",
              "width": 0.5
             }
            },
            "type": "bar"
           }
          ],
          "barpolar": [
           {
            "marker": {
             "line": {
              "color": "#E5ECF6",
              "width": 0.5
             }
            },
            "type": "barpolar"
           }
          ],
          "carpet": [
           {
            "aaxis": {
             "endlinecolor": "#2a3f5f",
             "gridcolor": "white",
             "linecolor": "white",
             "minorgridcolor": "white",
             "startlinecolor": "#2a3f5f"
            },
            "baxis": {
             "endlinecolor": "#2a3f5f",
             "gridcolor": "white",
             "linecolor": "white",
             "minorgridcolor": "white",
             "startlinecolor": "#2a3f5f"
            },
            "type": "carpet"
           }
          ],
          "choropleth": [
           {
            "colorbar": {
             "outlinewidth": 0,
             "ticks": ""
            },
            "type": "choropleth"
           }
          ],
          "contour": [
           {
            "colorbar": {
             "outlinewidth": 0,
             "ticks": ""
            },
            "colorscale": [
             [
              0,
              "#0d0887"
             ],
             [
              0.1111111111111111,
              "#46039f"
             ],
             [
              0.2222222222222222,
              "#7201a8"
             ],
             [
              0.3333333333333333,
              "#9c179e"
             ],
             [
              0.4444444444444444,
              "#bd3786"
             ],
             [
              0.5555555555555556,
              "#d8576b"
             ],
             [
              0.6666666666666666,
              "#ed7953"
             ],
             [
              0.7777777777777778,
              "#fb9f3a"
             ],
             [
              0.8888888888888888,
              "#fdca26"
             ],
             [
              1,
              "#f0f921"
             ]
            ],
            "type": "contour"
           }
          ],
          "contourcarpet": [
           {
            "colorbar": {
             "outlinewidth": 0,
             "ticks": ""
            },
            "type": "contourcarpet"
           }
          ],
          "heatmap": [
           {
            "colorbar": {
             "outlinewidth": 0,
             "ticks": ""
            },
            "colorscale": [
             [
              0,
              "#0d0887"
             ],
             [
              0.1111111111111111,
              "#46039f"
             ],
             [
              0.2222222222222222,
              "#7201a8"
             ],
             [
              0.3333333333333333,
              "#9c179e"
             ],
             [
              0.4444444444444444,
              "#bd3786"
             ],
             [
              0.5555555555555556,
              "#d8576b"
             ],
             [
              0.6666666666666666,
              "#ed7953"
             ],
             [
              0.7777777777777778,
              "#fb9f3a"
             ],
             [
              0.8888888888888888,
              "#fdca26"
             ],
             [
              1,
              "#f0f921"
             ]
            ],
            "type": "heatmap"
           }
          ],
          "heatmapgl": [
           {
            "colorbar": {
             "outlinewidth": 0,
             "ticks": ""
            },
            "colorscale": [
             [
              0,
              "#0d0887"
             ],
             [
              0.1111111111111111,
              "#46039f"
             ],
             [
              0.2222222222222222,
              "#7201a8"
             ],
             [
              0.3333333333333333,
              "#9c179e"
             ],
             [
              0.4444444444444444,
              "#bd3786"
             ],
             [
              0.5555555555555556,
              "#d8576b"
             ],
             [
              0.6666666666666666,
              "#ed7953"
             ],
             [
              0.7777777777777778,
              "#fb9f3a"
             ],
             [
              0.8888888888888888,
              "#fdca26"
             ],
             [
              1,
              "#f0f921"
             ]
            ],
            "type": "heatmapgl"
           }
          ],
          "histogram": [
           {
            "marker": {
             "colorbar": {
              "outlinewidth": 0,
              "ticks": ""
             }
            },
            "type": "histogram"
           }
          ],
          "histogram2d": [
           {
            "colorbar": {
             "outlinewidth": 0,
             "ticks": ""
            },
            "colorscale": [
             [
              0,
              "#0d0887"
             ],
             [
              0.1111111111111111,
              "#46039f"
             ],
             [
              0.2222222222222222,
              "#7201a8"
             ],
             [
              0.3333333333333333,
              "#9c179e"
             ],
             [
              0.4444444444444444,
              "#bd3786"
             ],
             [
              0.5555555555555556,
              "#d8576b"
             ],
             [
              0.6666666666666666,
              "#ed7953"
             ],
             [
              0.7777777777777778,
              "#fb9f3a"
             ],
             [
              0.8888888888888888,
              "#fdca26"
             ],
             [
              1,
              "#f0f921"
             ]
            ],
            "type": "histogram2d"
           }
          ],
          "histogram2dcontour": [
           {
            "colorbar": {
             "outlinewidth": 0,
             "ticks": ""
            },
            "colorscale": [
             [
              0,
              "#0d0887"
             ],
             [
              0.1111111111111111,
              "#46039f"
             ],
             [
              0.2222222222222222,
              "#7201a8"
             ],
             [
              0.3333333333333333,
              "#9c179e"
             ],
             [
              0.4444444444444444,
              "#bd3786"
             ],
             [
              0.5555555555555556,
              "#d8576b"
             ],
             [
              0.6666666666666666,
              "#ed7953"
             ],
             [
              0.7777777777777778,
              "#fb9f3a"
             ],
             [
              0.8888888888888888,
              "#fdca26"
             ],
             [
              1,
              "#f0f921"
             ]
            ],
            "type": "histogram2dcontour"
           }
          ],
          "mesh3d": [
           {
            "colorbar": {
             "outlinewidth": 0,
             "ticks": ""
            },
            "type": "mesh3d"
           }
          ],
          "parcoords": [
           {
            "line": {
             "colorbar": {
              "outlinewidth": 0,
              "ticks": ""
             }
            },
            "type": "parcoords"
           }
          ],
          "pie": [
           {
            "automargin": true,
            "type": "pie"
           }
          ],
          "scatter": [
           {
            "marker": {
             "colorbar": {
              "outlinewidth": 0,
              "ticks": ""
             }
            },
            "type": "scatter"
           }
          ],
          "scatter3d": [
           {
            "line": {
             "colorbar": {
              "outlinewidth": 0,
              "ticks": ""
             }
            },
            "marker": {
             "colorbar": {
              "outlinewidth": 0,
              "ticks": ""
             }
            },
            "type": "scatter3d"
           }
          ],
          "scattercarpet": [
           {
            "marker": {
             "colorbar": {
              "outlinewidth": 0,
              "ticks": ""
             }
            },
            "type": "scattercarpet"
           }
          ],
          "scattergeo": [
           {
            "marker": {
             "colorbar": {
              "outlinewidth": 0,
              "ticks": ""
             }
            },
            "type": "scattergeo"
           }
          ],
          "scattergl": [
           {
            "marker": {
             "colorbar": {
              "outlinewidth": 0,
              "ticks": ""
             }
            },
            "type": "scattergl"
           }
          ],
          "scattermapbox": [
           {
            "marker": {
             "colorbar": {
              "outlinewidth": 0,
              "ticks": ""
             }
            },
            "type": "scattermapbox"
           }
          ],
          "scatterpolar": [
           {
            "marker": {
             "colorbar": {
              "outlinewidth": 0,
              "ticks": ""
             }
            },
            "type": "scatterpolar"
           }
          ],
          "scatterpolargl": [
           {
            "marker": {
             "colorbar": {
              "outlinewidth": 0,
              "ticks": ""
             }
            },
            "type": "scatterpolargl"
           }
          ],
          "scatterternary": [
           {
            "marker": {
             "colorbar": {
              "outlinewidth": 0,
              "ticks": ""
             }
            },
            "type": "scatterternary"
           }
          ],
          "surface": [
           {
            "colorbar": {
             "outlinewidth": 0,
             "ticks": ""
            },
            "colorscale": [
             [
              0,
              "#0d0887"
             ],
             [
              0.1111111111111111,
              "#46039f"
             ],
             [
              0.2222222222222222,
              "#7201a8"
             ],
             [
              0.3333333333333333,
              "#9c179e"
             ],
             [
              0.4444444444444444,
              "#bd3786"
             ],
             [
              0.5555555555555556,
              "#d8576b"
             ],
             [
              0.6666666666666666,
              "#ed7953"
             ],
             [
              0.7777777777777778,
              "#fb9f3a"
             ],
             [
              0.8888888888888888,
              "#fdca26"
             ],
             [
              1,
              "#f0f921"
             ]
            ],
            "type": "surface"
           }
          ],
          "table": [
           {
            "cells": {
             "fill": {
              "color": "#EBF0F8"
             },
             "line": {
              "color": "white"
             }
            },
            "header": {
             "fill": {
              "color": "#C8D4E3"
             },
             "line": {
              "color": "white"
             }
            },
            "type": "table"
           }
          ]
         },
         "layout": {
          "annotationdefaults": {
           "arrowcolor": "#2a3f5f",
           "arrowhead": 0,
           "arrowwidth": 1
          },
          "autotypenumbers": "strict",
          "coloraxis": {
           "colorbar": {
            "outlinewidth": 0,
            "ticks": ""
           }
          },
          "colorscale": {
           "diverging": [
            [
             0,
             "#8e0152"
            ],
            [
             0.1,
             "#c51b7d"
            ],
            [
             0.2,
             "#de77ae"
            ],
            [
             0.3,
             "#f1b6da"
            ],
            [
             0.4,
             "#fde0ef"
            ],
            [
             0.5,
             "#f7f7f7"
            ],
            [
             0.6,
             "#e6f5d0"
            ],
            [
             0.7,
             "#b8e186"
            ],
            [
             0.8,
             "#7fbc41"
            ],
            [
             0.9,
             "#4d9221"
            ],
            [
             1,
             "#276419"
            ]
           ],
           "sequential": [
            [
             0,
             "#0d0887"
            ],
            [
             0.1111111111111111,
             "#46039f"
            ],
            [
             0.2222222222222222,
             "#7201a8"
            ],
            [
             0.3333333333333333,
             "#9c179e"
            ],
            [
             0.4444444444444444,
             "#bd3786"
            ],
            [
             0.5555555555555556,
             "#d8576b"
            ],
            [
             0.6666666666666666,
             "#ed7953"
            ],
            [
             0.7777777777777778,
             "#fb9f3a"
            ],
            [
             0.8888888888888888,
             "#fdca26"
            ],
            [
             1,
             "#f0f921"
            ]
           ],
           "sequentialminus": [
            [
             0,
             "#0d0887"
            ],
            [
             0.1111111111111111,
             "#46039f"
            ],
            [
             0.2222222222222222,
             "#7201a8"
            ],
            [
             0.3333333333333333,
             "#9c179e"
            ],
            [
             0.4444444444444444,
             "#bd3786"
            ],
            [
             0.5555555555555556,
             "#d8576b"
            ],
            [
             0.6666666666666666,
             "#ed7953"
            ],
            [
             0.7777777777777778,
             "#fb9f3a"
            ],
            [
             0.8888888888888888,
             "#fdca26"
            ],
            [
             1,
             "#f0f921"
            ]
           ]
          },
          "colorway": [
           "#636efa",
           "#EF553B",
           "#00cc96",
           "#ab63fa",
           "#FFA15A",
           "#19d3f3",
           "#FF6692",
           "#B6E880",
           "#FF97FF",
           "#FECB52"
          ],
          "font": {
           "color": "#2a3f5f"
          },
          "geo": {
           "bgcolor": "white",
           "lakecolor": "white",
           "landcolor": "#E5ECF6",
           "showlakes": true,
           "showland": true,
           "subunitcolor": "white"
          },
          "hoverlabel": {
           "align": "left"
          },
          "hovermode": "closest",
          "mapbox": {
           "style": "light"
          },
          "paper_bgcolor": "white",
          "plot_bgcolor": "#E5ECF6",
          "polar": {
           "angularaxis": {
            "gridcolor": "white",
            "linecolor": "white",
            "ticks": ""
           },
           "bgcolor": "#E5ECF6",
           "radialaxis": {
            "gridcolor": "white",
            "linecolor": "white",
            "ticks": ""
           }
          },
          "scene": {
           "xaxis": {
            "backgroundcolor": "#E5ECF6",
            "gridcolor": "white",
            "gridwidth": 2,
            "linecolor": "white",
            "showbackground": true,
            "ticks": "",
            "zerolinecolor": "white"
           },
           "yaxis": {
            "backgroundcolor": "#E5ECF6",
            "gridcolor": "white",
            "gridwidth": 2,
            "linecolor": "white",
            "showbackground": true,
            "ticks": "",
            "zerolinecolor": "white"
           },
           "zaxis": {
            "backgroundcolor": "#E5ECF6",
            "gridcolor": "white",
            "gridwidth": 2,
            "linecolor": "white",
            "showbackground": true,
            "ticks": "",
            "zerolinecolor": "white"
           }
          },
          "shapedefaults": {
           "line": {
            "color": "#2a3f5f"
           }
          },
          "ternary": {
           "aaxis": {
            "gridcolor": "white",
            "linecolor": "white",
            "ticks": ""
           },
           "baxis": {
            "gridcolor": "white",
            "linecolor": "white",
            "ticks": ""
           },
           "bgcolor": "#E5ECF6",
           "caxis": {
            "gridcolor": "white",
            "linecolor": "white",
            "ticks": ""
           }
          },
          "title": {
           "x": 0.05
          },
          "xaxis": {
           "automargin": true,
           "gridcolor": "white",
           "linecolor": "white",
           "ticks": "",
           "title": {
            "standoff": 15
           },
           "zerolinecolor": "white",
           "zerolinewidth": 2
          },
          "yaxis": {
           "automargin": true,
           "gridcolor": "white",
           "linecolor": "white",
           "ticks": "",
           "title": {
            "standoff": 15
           },
           "zerolinecolor": "white",
           "zerolinewidth": 2
          }
         }
        },
        "title": {
         "text": "Favorable used platform, domain and device"
        }
       }
      },
      "text/html": [
       "<div>                            <div id=\"b53d1e44-64e2-489c-a032-659ff7e547af\" class=\"plotly-graph-div\" style=\"height:525px; width:100%;\"></div>            <script type=\"text/javascript\">                require([\"plotly\"], function(Plotly) {                    window.PLOTLYENV=window.PLOTLYENV || {};                                    if (document.getElementById(\"b53d1e44-64e2-489c-a032-659ff7e547af\")) {                    Plotly.newPlot(                        \"b53d1e44-64e2-489c-a032-659ff7e547af\",                        [{\"branchvalues\": \"total\", \"customdata\": [[6.0], [4.0], [3.0], [4.0], [1.0], [1.0], [4.0], [17.0], [9.0], [29.0], [76.0], [60.0], [21.0], [73.0], [13.0], [30.0], [71.0], [212.0], [286.0], [15.0], [213.0], [1.0], [1.0], [18.0], [2.0], [2.0], [12.0], [1.0], [1.0], [1.0], [1.0], [5.0], [32.0], [1499.0], [49.0], [114.0], [18.0], [1739.0], [113.0], [71.0], [54.0], [11.0], [1.0], [3.0], [3.0], [1.0], [1.0], [4.0], [5.0], [6.0], [1.0], [2.0], [1.0], [1.0], [2.0], [1.0], [1.0], [2.0], [3.0], [11.0], [1.0], [8.0], [1.0], [8.0], [5.0], [14.0], [150.0], [37.0], [187.0], [212.0], [26.0], [69.0], [437.0], [374.0], [631.0], [24.0], [306.0], [6.0], [93.0], [12.0], [1.0], [1.0], [9.0], [19.0], [24.0], [6.0], [26.0], [570.0], [290.0], [481.0], [438.0], [237.0], [408.0], [768.0], [1761.0], [2470.0], [156.0], [1589.0], [6.0], [11.0], [4.0], [7.0], [3.0], [10.0], [13.0], [2.0], [9.0], [1.0], [1.0], [2.0], [152.0], [220.0], [661.0], [284.0], [93.0], [112.0], [1050.0], [611.0], [1156.0], [42.0], [453.0], [1.0], [1.0], [1.0], [16.0], [670.0], [16.0], [38.0], [2.0], [443.0], [65.0], [31.0], [13.0], [2.0], [1.0], [1.0], [4.0], [10.0], [14.0], [10.0], [1.0], [2.0], [6.0], [17.0], [18.0], [3.0], [1.0], [74.0], [3.0], [4.0], [1.0], [7.0], [14.0], [1.0], [1.0], [6.0], [1.0], [7.0], [1.0], [2.0], [1.0], [1.0], [1.0], [1.0], [4.0], [21.0], [7.0], [20.0], [2.0], [3.0], [12.0], [22.0], [32.0], [3.0], [44.0], [4272.0], [7.0], [22.0], [19.0], [48.0], [37.0], [4.0], [15.0], [95.0], [39.0], [93.0], [10.0], [96.0], [3795.0], [1970.0], [6383.0], [2906.0], [1045.0], [1661.0], [9314.0], [9045.0], [15831.0], [481.0], [7596.0], [1.0], [2.0], [2.0], [1.0], [1.0], [1.0], [27.0], [200.0], [12904.0], [132.0], [904.0], [73.0], [9944.0], [998.0], [468.0], [289.0], [35.0], [1.0], [6.0], [16.0], [11.0], [33.0], [1.0], [6.0], [12.0], [15.0], [29.0], [3.0], [7.0], [5.0], [5.0], [12.0], [2.0], [10.0], [14.0], [23.0], [11.0], [1.0], [2.0], [1.0], [1.0], [2.0], [2.0], [59.0], [104.0], [51.0], [96.0], [11.0], [21.0], [50.0], [138.0], [201.0], [10.0], [108.0], [2.0], [2.0], [577.0], [4.0], [1.0], [3.0], [9.0], [23.0], [3.0], [1.0], [11.0], [47.0], [51.0], [3.0], [4.0], [66.0], [22.0], [40.0], [1.0], [37.0], [1.0], [3.0], [6.0], [1.0], [1.0], [7.0], [3.0], [69.0], [216.0], [47.0], [89.0], [10.0], [23.0], [39.0], [122.0], [208.0], [12.0], [574.0], [11.0], [11.0], [66.0], [38.0], [6.0], [13.0], [89.0], [43.0], [58.0], [17.0], [88.0], [2265.0], [1127.0], [5342.0], [2075.0], [663.0], [1041.0], [6959.0], [5401.0], [9391.0], [324.0], [5689.0], [1.0], [5.0], [2.0], [1.0], [17.0], [106.0], [7964.0], [58.0], [486.0], [41.0], [6125.0], [553.0], [253.0], [164.0], [32.0], [4.0], [4.0], [8.0], [14.0], [2.0], [1.0], [5.0], [19.0], [12.0], [1.0], [4.0], [3.0], [1.0], [6.0], [1.0], [2.0], [2.0], [41.0], [83.0], [72.0], [88.0], [18.0], [24.0], [55.0], [96.0], [169.0], [3.0], [124.0], [1.0], [251.0], [2.0], [2.0], [1.0], [40.0], [14.0], [1.0], [1.0], [42.0], [7.0], [18.0], [20.0], [1.0], [1.0], [1.0], [1.0], [1.0], [39.0], [142.0], [53.0], [74.0], [13.0], [16.0], [24.0], [101.0], [116.0], [8.0], [437.0], [1.0], [9.0], [84.0], [104.0], [160.0], [128.0], [35.0], [44.0], [318.0], [272.0], [510.0], [14.0], [221.0], [1.0], [2.0], [12.0], [328.0], [7.0], [21.0], [2.0], [200.0], [25.0], [14.0], [15.0], [2.0], [1.0], [2.0], [12.0], [1.0], [2.0], [1.0], [4.0], [5.0], [1.0], [53.0], [3.0], [1.0], [6.0], [3.0], [1.0], [2.0], [1.0], [1.0], [1.0], [2.0], [9.0], [4.0], [1.0], [3.0], [4.0], [4.0], [1.0], [15.0], [1.0], [2.0], [30.0], [15.0], [47.0], [122.0], [6.0], [79.0], [69.0], [496.0], [894.0], [9.0], [112.0], [1.0], [30.0], [1.0], [1.0], [39.0], [3.0], [3.0], [1.0], [1.0], [1.0], [1.0], [1.0], [3.0], [1.0], [1.0], [1.0], [9.0], [3.0], [1.0], [1.0], [2.0], [1.0], [3.0], [3.0], [1.0], [2.0], [2.0], [1.0], [1.0], [3.0], [1.0], [2.0], [6.0], [2.0], [2.0], [13.0], [10.0], [11.0], [4.0], [8.0], [107.0], [108.0], [286.0], [189.0], [50.0], [61.0], [466.0], [299.0], [550.0], [27.0], [239.0], [2.0], [4.0], [1.0], [1.0], [10.0], [1182.0], [13.0], [75.0], [2.0], [763.0], [86.0], [32.0], [15.0], [3.0], [1.0], [1.0], [1.0], [4.0], [6.0], [9.0], [21.0], [1.0], [3.0], [10.0], [17.0], [30.0], [1.0], [4.0], [1.0], [126.0], [1.0], [1.0], [2.0], [1.0], [1.0], [2.0], [5.0], [5.0], [4.0], [3.0], [7.0], [4.0], [15.0], [1.0], [1.0], [6.0], [41.0], [15.0], [29.0], [4.0], [3.0], [14.0], [38.0], [35.0], [1.0], [90.0], [16.0], [16.0], [79.0], [49.0], [8.0], [11.0], [117.0], [35.0], [79.0], [6.0], [45.0], [1914.0], [1722.0], [5095.0], [2439.0], [647.0], [1191.0], [10223.0], [6168.0], [11649.0], [386.0], [4699.0], [1.0], [3.0], [64.0], [4.0], [49.0], [9.0], [6.0], [2.0], [30.0], [282.0], [12075.0], [133.0], [968.0], [81.0], [10717.0], [1058.0], [579.0], [301.0], [39.0], [1.0], [2.0], [1.0], [1.0], [1.0], [2.0], [4.0], [1.0], [1.0], [34.0], [85.0], [50.0], [108.0], [7.0], [11.0], [47.0], [81.0], [126.0], [3.0], [27.0], [1.0], [1.0], [2.0], [580.0], [5.0], [4.0], [4.0], [43.0], [1.0], [16.0], [119.0], [72.0], [3.0], [10.0], [203.0], [62.0], [100.0], [2.0], [44.0], [3.0], [6.0], [10.0], [16.0], [1.0], [5.0], [9.0], [7.0], [26.0], [4.0], [51.0], [339.0], [402.0], [795.0], [742.0], [97.0], [219.0], [1478.0], [1076.0], [1786.0], [87.0], [985.0], [52.0], [279.0], [80.0], [133.0], [11.0], [24.0], [92.0], [208.0], [202.0], [16.0], [669.0], [672.0], [845.0], [934.0], [10837.0], [257.0], [299.0], [1494.0], [2097.0], [4323.0], [1911.0], [8848.0], [1.0], [1.0], [1.0], [110.0], [221.0], [252.0], [2236.0], [48.0], [42.0], [509.0], [357.0], [732.0], [304.0], [1416.0], [1.0], [2.0], [2.0], [1.0], [7.0], [29.0], [3.0], [4.0], [12.0], [17.0], [5.0], [15.0], [9.0], [19.0], [34.0], [321.0], [9.0], [3.0], [41.0], [90.0], [85.0], [47.0], [203.0], [28.0], [48.0], [39.0], [426.0], [19.0], [8.0], [62.0], [242.0], [126.0], [95.0], [397.0], [5323.0], [1.0], [17.0], [26.0], [35.0], [166.0], [4.0], [20.0], [63.0], [106.0], [151.0], [80.0], [256.0], [1.0], [4.0], [3.0], [6.0], [1.0], [5.0], [6.0], [6.0], [10.0], [10.0], [3.0], [1.0], [2.0], [4.0], [1.0], [3.0], [3.0], [5.0], [1.0], [5.0], [1.0], [1.0], [1.0], [1.0], [166.0], [102.0], [263.0], [261.0], [163.0], [112.0], [614.0], [477.0], [951.0], [215.0], [644.0], [25.0], [136.0], [8414.0], [79.0], [589.0], [43.0], [6717.0], [546.0], [275.0], [173.0], [42.0], [1.0], [11.0], [41.0], [17.0], [30.0], [6.0], [13.0], [11.0], [24.0], [36.0], [3.0], [20.0], [274.0], [1.0], [1.0], [1.0], [33.0], [14.0], [4.0], [2.0], [40.0], [18.0], [11.0], [35.0], [34.0], [110.0], [27.0], [48.0], [7.0], [15.0], [17.0], [81.0], [85.0], [7.0], [321.0], [1.0], [1.0], [2.0], [1.0], [4.0], [1.0], [9.0], [4.0], [1623.0], [1455.0], [4081.0], [1764.0], [525.0], [722.0], [5579.0], [4305.0], [7646.0], [249.0], [3697.0], [2.0], [2.0], [30.0], [153.0], [8003.0], [94.0], [518.0], [33.0], [4924.0], [602.0], [269.0], [161.0], [23.0], [178.0], [131.0], [248.0], [520.0], [34.0], [84.0], [390.0], [480.0], [641.0], [21.0], [896.0], [1.0], [1.0], [32.0], [112.0], [43.0], [108.0], [11.0], [16.0], [47.0], [96.0], [135.0], [6.0], [35.0], [506.0], [32.0], [2.0], [50.0], [46.0], [2.0], [6.0], [58.0], [12.0], [30.0], [1.0], [21.0], [1.0], [1.0], [4.0], [1.0], [2.0], [2.0], [1.0], [45.0], [207.0], [53.0], [103.0], [20.0], [19.0], [51.0], [160.0], [193.0], [7.0], [391.0], [4272.0], [7.0], [621.5412087912088], [796.8595317725752], [778.6306068601583], [10707.066004193637], [239.731884057971], [262.9298245614035], [1248.1285162713734], [1973.1613626176602], [4073.840592334495], [1864.4435936702398], [8575.021901007447], [2536.533535689807], [1499.1205869533633], [5036.455302385962], [2151.3497705302216], [699.0666666666667], [1151.841084504255], [7864.667262866375], [6179.552517774683], [10982.652423051735], [338.56640181611806], [5372.66761448033], [1.0], [2.0], [46.93684210526316], [2.0], [3.3333333333333335], [35.273972602739725], [7.545454545454546], [4.75], [1.4], [1.0], [25.17391304347826], [183.74472573839662], [9700.37217584654], [97.12392426850258], [707.1050080775444], [56.91216216216216], [7797.476027973373], [767.2810570511238], [387.71478696741855], [219.56492411467116], [32.80952380952381], [110.0], [221.0], [252.0], [2236.0], [48.0], [42.0], [509.0], [357.0], [731.0027285129604], [304.0], [1416.0], [4.818181818181818], [12.217391304347826], [9.736842105263158], [25.392156862745097], [1.5], [4.75], [8.80952380952381], [15.666666666666666], [21.72340425531915], [1.5], [3.2222222222222223], [2.0], [1.0], [7.0], [29.0], [3.0], [4.0], [12.0], [17.0], [5.0], [15.0], [171.52972972972972], [125.45255474452554], [243.19762845849803], [504.7649253731343], [34.0], [81.16091954022988], [380.5], [463.98591549295776], [619.593373493976], [21.0], [877.5704918032787], [7.545454545454546], [15.25], [30.57894736842105], [313.23100303951367], [9.0], [3.0], [39.13953488372093], [83.72164948453609], [82.1590909090909], [46.041666666666664], [200.06796116504853], [39.8936170212766], [86.86343612334802], [49.04633204633205], [89.94396551724138], [11.872727272727273], [17.511111111111113], [44.391304347826086], [95.37552742616033], [146.07607192254494], [6.3076923076923075], [91.08668730650155], [26.2], [45.27450980392157], [32.083333333333336], [439.6539660547281], [14.357142857142858], [7.222222222222222], [55.056338028169016], [230.70866141732284], [108.36486486486487], [59.457142857142856], [380.27710843373495], [141.61635220125785], [24.416666666666668], [115.51836734693877], [127.28899082568807], [17.9], [52.340425531914896], [282.2877030162413], [287.7554671968191], [485.4887839433294], [18.93548387096774], [211.1449893390192], [5323.0], [1.0], [17.0], [22.25], [77.140625], [155.61797752808988], [3.4], [19.095238095238095], [56.25], [92.776], [133.58285714285714], [74.83720930232558], [223.69360269360268], [570.0], [290.0], [480.00414937759336], [438.0], [237.0], [408.0], [767.002600780234], [1761.0], [2470.0], [156.0], [1589.0], [2.5], [5.2], [8.384615384615385], [13.272727272727273], [1.0], [5.0], [7.8], [6.538461538461538], [21.555555555555557], [4.0], [44.278688524590166], [336.05263157894734], [391.39709443099275], [792.015037593985], [737.0562248995984], [97.0], [217.02714932126696], [1477.001352265044], [1062.234862385321], [1783.0078256008944], [87.0], [980.0363636363636], [3.0], [1.0], [1.6666666666666667], [4.0], [1.0], [2.5], [2.5], [5.0], [1.0], [5.0], [47.875], [194.72999035679845], [54.00709219858156], [89.82539682539682], [12.647058823529411], [18.30909090909091], [54.15294117647059], [137.47184986595175], [162.11111111111111], [10.12280701754386], [483.83810270482167], [513.5226019845645], [617.1174577634755], [561.3044741429402], [6923.928249692889], [183.026525198939], [215.44859813084113], [972.8595009596929], [1484.604381443299], [3324.8317821440883], [1436.3241800152555], [6977.277253441856], [2190.5969159343394], [1072.3389880081895], [7859.645903990859], [1660.6072296042291], [662.3224729603419], [952.9032511386838], [7476.250725486045], [4843.04192619015], [9396.611540902619], [267.45885885885883], [4322.610954964377], [2073.3090446449223], [1023.1354782608696], [7710.088302533816], [4876.065236123079], [639.3508771929825], [906.4528329654157], [7271.882189731712], [4579.455232749247], [8847.01691134027], [782.372311827957], [5050.034996559661]], \"domain\": {\"x\": [0.0, 1.0], \"y\": [0.0, 1.0]}, \"hovertemplate\": \"labels=%{label}<br>count_sum=%{value}<br>parent=%{parent}<br>id=%{id}<br>count=%{color}<extra></extra>\", \"ids\": [\"bola.com/web-desktop/chrome/apple\", \"bola.net/web-desktop/chrome/apple\", \"brilio.net/web-desktop/chrome/apple\", \"bukalapak.com/web-desktop/chrome/apple\", \"fimela.com/web-desktop/chrome/apple\", \"kapanlagi.com/web-desktop/chrome/apple\", \"liputan6.com/web-desktop/chrome/apple\", \"merdeka.com/web-desktop/chrome/apple\", \"others/web-desktop/chrome/apple\", \"vidio.com/web-desktop/chrome/apple\", \"bola.com/web-mobile/chrome/apple\", \"bola.net/web-mobile/chrome/apple\", \"brilio.net/web-mobile/chrome/apple\", \"bukalapak.com/web-mobile/chrome/apple\", \"dream.co.id/web-mobile/chrome/apple\", \"fimela.com/web-mobile/chrome/apple\", \"kapanlagi.com/web-mobile/chrome/apple\", \"liputan6.com/web-mobile/chrome/apple\", \"merdeka.com/web-mobile/chrome/apple\", \"others/web-mobile/chrome/apple\", \"vidio.com/web-mobile/chrome/apple\", \"bola.com/web-desktop/facebook/apple\", \"bola.net/web-desktop/facebook/apple\", \"brilio.net/web-desktop/facebook/apple\", \"bukalapak.com/web-desktop/facebook/apple\", \"dream.co.id/web-desktop/facebook/apple\", \"kapanlagi.com/web-desktop/facebook/apple\", \"liputan6.com/web-desktop/facebook/apple\", \"merdeka.com/web-desktop/facebook/apple\", \"others/web-desktop/facebook/apple\", \"vidio.com/web-desktop/facebook/apple\", \"bola.com/web-mobile/facebook/apple\", \"bola.net/web-mobile/facebook/apple\", \"brilio.net/web-mobile/facebook/apple\", \"bukalapak.com/web-mobile/facebook/apple\", \"dream.co.id/web-mobile/facebook/apple\", \"fimela.com/web-mobile/facebook/apple\", \"kapanlagi.com/web-mobile/facebook/apple\", \"liputan6.com/web-mobile/facebook/apple\", \"merdeka.com/web-mobile/facebook/apple\", \"others/web-mobile/facebook/apple\", \"vidio.com/web-mobile/facebook/apple\", \"bola.com/web-mobile/firefox/apple\", \"bola.net/web-mobile/firefox/apple\", \"bukalapak.com/web-mobile/firefox/apple\", \"dream.co.id/web-mobile/firefox/apple\", \"fimela.com/web-mobile/firefox/apple\", \"kapanlagi.com/web-mobile/firefox/apple\", \"liputan6.com/web-mobile/firefox/apple\", \"merdeka.com/web-mobile/firefox/apple\", \"others/web-mobile/firefox/apple\", \"vidio.com/web-mobile/firefox/apple\", \"bukalapak.com/web-mobile/miuibrowser/apple\", \"liputan6.com/web-mobile/miuibrowser/apple\", \"vidio.com/web-mobile/miuibrowser/apple\", \"bola.net/web-desktop/opera/apple\", \"brilio.net/web-mobile/opera/apple\", \"merdeka.com/web-mobile/opera/apple\", \"brilio.net/web-desktop/other/apple\", \"bukalapak.com/web-desktop/other/apple\", \"fimela.com/web-desktop/other/apple\", \"kapanlagi.com/web-desktop/other/apple\", \"liputan6.com/web-desktop/other/apple\", \"merdeka.com/web-desktop/other/apple\", \"others/web-desktop/other/apple\", \"vidio.com/web-desktop/other/apple\", \"bola.com/web-mobile/other/apple\", \"bola.net/web-mobile/other/apple\", \"brilio.net/web-mobile/other/apple\", \"bukalapak.com/web-mobile/other/apple\", \"dream.co.id/web-mobile/other/apple\", \"fimela.com/web-mobile/other/apple\", \"kapanlagi.com/web-mobile/other/apple\", \"liputan6.com/web-mobile/other/apple\", \"merdeka.com/web-mobile/other/apple\", \"others/web-mobile/other/apple\", \"vidio.com/web-mobile/other/apple\", \"bola.net/web-desktop/safari/apple\", \"brilio.net/web-desktop/safari/apple\", \"bukalapak.com/web-desktop/safari/apple\", \"dream.co.id/web-desktop/safari/apple\", \"fimela.com/web-desktop/safari/apple\", \"kapanlagi.com/web-desktop/safari/apple\", \"liputan6.com/web-desktop/safari/apple\", \"merdeka.com/web-desktop/safari/apple\", \"others/web-desktop/safari/apple\", \"vidio.com/web-desktop/safari/apple\", \"bola.com/web-mobile/safari/apple\", \"bola.net/web-mobile/safari/apple\", \"brilio.net/web-mobile/safari/apple\", \"bukalapak.com/web-mobile/safari/apple\", \"dream.co.id/web-mobile/safari/apple\", \"fimela.com/web-mobile/safari/apple\", \"kapanlagi.com/web-mobile/safari/apple\", \"liputan6.com/web-mobile/safari/apple\", \"merdeka.com/web-mobile/safari/apple\", \"others/web-mobile/safari/apple\", \"vidio.com/web-mobile/safari/apple\", \"bola.com/web-mobile/uc browser/apple\", \"bola.net/web-mobile/uc browser/apple\", \"bukalapak.com/web-mobile/uc browser/apple\", \"fimela.com/web-mobile/uc browser/apple\", \"kapanlagi.com/web-mobile/uc browser/apple\", \"liputan6.com/web-mobile/uc browser/apple\", \"merdeka.com/web-mobile/uc browser/apple\", \"others/web-mobile/uc browser/apple\", \"vidio.com/web-mobile/uc browser/apple\", \"dream.co.id/web-desktop/chrome/asus\", \"liputan6.com/web-desktop/chrome/asus\", \"vidio.com/web-desktop/chrome/asus\", \"bola.com/web-mobile/chrome/asus\", \"bola.net/web-mobile/chrome/asus\", \"brilio.net/web-mobile/chrome/asus\", \"bukalapak.com/web-mobile/chrome/asus\", \"dream.co.id/web-mobile/chrome/asus\", \"fimela.com/web-mobile/chrome/asus\", \"kapanlagi.com/web-mobile/chrome/asus\", \"liputan6.com/web-mobile/chrome/asus\", \"merdeka.com/web-mobile/chrome/asus\", \"others/web-mobile/chrome/asus\", \"vidio.com/web-mobile/chrome/asus\", \"brilio.net/web-desktop/facebook/asus\", \"kapanlagi.com/web-desktop/facebook/asus\", \"bola.com/web-mobile/facebook/asus\", \"bola.net/web-mobile/facebook/asus\", \"brilio.net/web-mobile/facebook/asus\", \"bukalapak.com/web-mobile/facebook/asus\", \"dream.co.id/web-mobile/facebook/asus\", \"fimela.com/web-mobile/facebook/asus\", \"kapanlagi.com/web-mobile/facebook/asus\", \"liputan6.com/web-mobile/facebook/asus\", \"merdeka.com/web-mobile/facebook/asus\", \"others/web-mobile/facebook/asus\", \"vidio.com/web-mobile/facebook/asus\", \"brilio.net/web-desktop/opera/asus\", \"merdeka.com/web-desktop/opera/asus\", \"bola.com/web-mobile/opera/asus\", \"bola.net/web-mobile/opera/asus\", \"brilio.net/web-mobile/opera/asus\", \"bukalapak.com/web-mobile/opera/asus\", \"dream.co.id/web-mobile/opera/asus\", \"fimela.com/web-mobile/opera/asus\", \"kapanlagi.com/web-mobile/opera/asus\", \"liputan6.com/web-mobile/opera/asus\", \"merdeka.com/web-mobile/opera/asus\", \"vidio.com/web-mobile/opera/asus\", \"bola.com/web-desktop/other/asus\", \"bukalapak.com/web-desktop/other/asus\", \"liputan6.com/web-desktop/other/asus\", \"others/web-desktop/other/asus\", \"bola.net/web-mobile/other/asus\", \"brilio.net/web-mobile/other/asus\", \"bukalapak.com/web-mobile/other/asus\", \"dream.co.id/web-mobile/other/asus\", \"fimela.com/web-mobile/other/asus\", \"kapanlagi.com/web-mobile/other/asus\", \"liputan6.com/web-mobile/other/asus\", \"merdeka.com/web-mobile/other/asus\", \"others/web-mobile/other/asus\", \"bola.net/web-mobile/samsung internet/asus\", \"brilio.net/web-mobile/samsung internet/asus\", \"liputan6.com/web-mobile/samsung internet/asus\", \"merdeka.com/web-mobile/samsung internet/asus\", \"vidio.com/web-mobile/samsung internet/asus\", \"bola.com/web-mobile/uc browser/asus\", \"bola.net/web-mobile/uc browser/asus\", \"brilio.net/web-mobile/uc browser/asus\", \"bukalapak.com/web-mobile/uc browser/asus\", \"dream.co.id/web-mobile/uc browser/asus\", \"fimela.com/web-mobile/uc browser/asus\", \"kapanlagi.com/web-mobile/uc browser/asus\", \"liputan6.com/web-mobile/uc browser/asus\", \"merdeka.com/web-mobile/uc browser/asus\", \"others/web-mobile/uc browser/asus\", \"vidio.com/web-mobile/uc browser/asus\", \"brilio.net/web-mobile/bacaberita app/generic\", \"merdeka.com/web-mobile/bacaberita app/generic\", \"bola.com/web-desktop/chrome/generic\", \"bola.net/web-desktop/chrome/generic\", \"brilio.net/web-desktop/chrome/generic\", \"bukalapak.com/web-desktop/chrome/generic\", \"dream.co.id/web-desktop/chrome/generic\", \"fimela.com/web-desktop/chrome/generic\", \"kapanlagi.com/web-desktop/chrome/generic\", \"liputan6.com/web-desktop/chrome/generic\", \"merdeka.com/web-desktop/chrome/generic\", \"others/web-desktop/chrome/generic\", \"vidio.com/web-desktop/chrome/generic\", \"bola.com/web-mobile/chrome/generic\", \"bola.net/web-mobile/chrome/generic\", \"brilio.net/web-mobile/chrome/generic\", \"bukalapak.com/web-mobile/chrome/generic\", \"dream.co.id/web-mobile/chrome/generic\", \"fimela.com/web-mobile/chrome/generic\", \"kapanlagi.com/web-mobile/chrome/generic\", \"liputan6.com/web-mobile/chrome/generic\", \"merdeka.com/web-mobile/chrome/generic\", \"others/web-mobile/chrome/generic\", \"vidio.com/web-mobile/chrome/generic\", \"bola.net/web-desktop/facebook/generic\", \"brilio.net/web-desktop/facebook/generic\", \"kapanlagi.com/web-desktop/facebook/generic\", \"liputan6.com/web-desktop/facebook/generic\", \"others/web-desktop/facebook/generic\", \"vidio.com/web-desktop/facebook/generic\", \"bola.com/web-mobile/facebook/generic\", \"bola.net/web-mobile/facebook/generic\", \"brilio.net/web-mobile/facebook/generic\", \"bukalapak.com/web-mobile/facebook/generic\", \"dream.co.id/web-mobile/facebook/generic\", \"fimela.com/web-mobile/facebook/generic\", \"kapanlagi.com/web-mobile/facebook/generic\", \"liputan6.com/web-mobile/facebook/generic\", \"merdeka.com/web-mobile/facebook/generic\", \"others/web-mobile/facebook/generic\", \"vidio.com/web-mobile/facebook/generic\", \"merdeka.com/web-desktop/firefox/generic\", \"bola.com/web-mobile/firefox/generic\", \"bola.net/web-mobile/firefox/generic\", \"brilio.net/web-mobile/firefox/generic\", \"bukalapak.com/web-mobile/firefox/generic\", \"dream.co.id/web-mobile/firefox/generic\", \"fimela.com/web-mobile/firefox/generic\", \"kapanlagi.com/web-mobile/firefox/generic\", \"liputan6.com/web-mobile/firefox/generic\", \"merdeka.com/web-mobile/firefox/generic\", \"vidio.com/web-mobile/firefox/generic\", \"bola.com/web-mobile/miuibrowser/generic\", \"bola.net/web-mobile/miuibrowser/generic\", \"brilio.net/web-mobile/miuibrowser/generic\", \"bukalapak.com/web-mobile/miuibrowser/generic\", \"fimela.com/web-mobile/miuibrowser/generic\", \"kapanlagi.com/web-mobile/miuibrowser/generic\", \"liputan6.com/web-mobile/miuibrowser/generic\", \"merdeka.com/web-mobile/miuibrowser/generic\", \"vidio.com/web-mobile/miuibrowser/generic\", \"bola.net/web-desktop/opera/generic\", \"brilio.net/web-desktop/opera/generic\", \"bukalapak.com/web-desktop/opera/generic\", \"kapanlagi.com/web-desktop/opera/generic\", \"liputan6.com/web-desktop/opera/generic\", \"merdeka.com/web-desktop/opera/generic\", \"bola.com/web-mobile/opera/generic\", \"bola.net/web-mobile/opera/generic\", \"brilio.net/web-mobile/opera/generic\", \"bukalapak.com/web-mobile/opera/generic\", \"dream.co.id/web-mobile/opera/generic\", \"fimela.com/web-mobile/opera/generic\", \"kapanlagi.com/web-mobile/opera/generic\", \"liputan6.com/web-mobile/opera/generic\", \"merdeka.com/web-mobile/opera/generic\", \"others/web-mobile/opera/generic\", \"vidio.com/web-mobile/opera/generic\", \"bola.net/web-desktop/other/generic\", \"brilio.net/web-desktop/other/generic\", \"bukalapak.com/web-desktop/other/generic\", \"dream.co.id/web-desktop/other/generic\", \"kapanlagi.com/web-desktop/other/generic\", \"liputan6.com/web-desktop/other/generic\", \"merdeka.com/web-desktop/other/generic\", \"others/web-desktop/other/generic\", \"vidio.com/web-desktop/other/generic\", \"bola.com/web-mobile/other/generic\", \"bola.net/web-mobile/other/generic\", \"brilio.net/web-mobile/other/generic\", \"bukalapak.com/web-mobile/other/generic\", \"dream.co.id/web-mobile/other/generic\", \"fimela.com/web-mobile/other/generic\", \"kapanlagi.com/web-mobile/other/generic\", \"liputan6.com/web-mobile/other/generic\", \"merdeka.com/web-mobile/other/generic\", \"others/web-mobile/other/generic\", \"vidio.com/web-mobile/other/generic\", \"brilio.net/web-mobile/safari/generic\", \"bola.com/web-mobile/samsung internet/generic\", \"bola.net/web-mobile/samsung internet/generic\", \"brilio.net/web-mobile/samsung internet/generic\", \"fimela.com/web-mobile/samsung internet/generic\", \"liputan6.com/web-mobile/samsung internet/generic\", \"vidio.com/web-mobile/samsung internet/generic\", \"bola.com/web-mobile/uc browser/generic\", \"bola.net/web-mobile/uc browser/generic\", \"brilio.net/web-mobile/uc browser/generic\", \"bukalapak.com/web-mobile/uc browser/generic\", \"dream.co.id/web-mobile/uc browser/generic\", \"fimela.com/web-mobile/uc browser/generic\", \"kapanlagi.com/web-mobile/uc browser/generic\", \"liputan6.com/web-mobile/uc browser/generic\", \"merdeka.com/web-mobile/uc browser/generic\", \"others/web-mobile/uc browser/generic\", \"vidio.com/web-mobile/uc browser/generic\", \"bola.com/web-desktop/chrome/generic_android\", \"bola.net/web-desktop/chrome/generic_android\", \"brilio.net/web-desktop/chrome/generic_android\", \"bukalapak.com/web-desktop/chrome/generic_android\", \"dream.co.id/web-desktop/chrome/generic_android\", \"fimela.com/web-desktop/chrome/generic_android\", \"kapanlagi.com/web-desktop/chrome/generic_android\", \"liputan6.com/web-desktop/chrome/generic_android\", \"merdeka.com/web-desktop/chrome/generic_android\", \"others/web-desktop/chrome/generic_android\", \"vidio.com/web-desktop/chrome/generic_android\", \"bola.com/web-mobile/chrome/generic_android\", \"bola.net/web-mobile/chrome/generic_android\", \"brilio.net/web-mobile/chrome/generic_android\", \"bukalapak.com/web-mobile/chrome/generic_android\", \"dream.co.id/web-mobile/chrome/generic_android\", \"fimela.com/web-mobile/chrome/generic_android\", \"kapanlagi.com/web-mobile/chrome/generic_android\", \"liputan6.com/web-mobile/chrome/generic_android\", \"merdeka.com/web-mobile/chrome/generic_android\", \"others/web-mobile/chrome/generic_android\", \"vidio.com/web-mobile/chrome/generic_android\", \"bola.net/web-desktop/facebook/generic_android\", \"brilio.net/web-desktop/facebook/generic_android\", \"kapanlagi.com/web-desktop/facebook/generic_android\", \"others/web-desktop/facebook/generic_android\", \"bola.com/web-mobile/facebook/generic_android\", \"bola.net/web-mobile/facebook/generic_android\", \"brilio.net/web-mobile/facebook/generic_android\", \"bukalapak.com/web-mobile/facebook/generic_android\", \"dream.co.id/web-mobile/facebook/generic_android\", \"fimela.com/web-mobile/facebook/generic_android\", \"kapanlagi.com/web-mobile/facebook/generic_android\", \"liputan6.com/web-mobile/facebook/generic_android\", \"merdeka.com/web-mobile/facebook/generic_android\", \"others/web-mobile/facebook/generic_android\", \"vidio.com/web-mobile/facebook/generic_android\", \"bola.com/web-mobile/firefox/generic_android\", \"bola.net/web-mobile/firefox/generic_android\", \"brilio.net/web-mobile/firefox/generic_android\", \"bukalapak.com/web-mobile/firefox/generic_android\", \"dream.co.id/web-mobile/firefox/generic_android\", \"fimela.com/web-mobile/firefox/generic_android\", \"kapanlagi.com/web-mobile/firefox/generic_android\", \"liputan6.com/web-mobile/firefox/generic_android\", \"merdeka.com/web-mobile/firefox/generic_android\", \"others/web-mobile/firefox/generic_android\", \"vidio.com/web-mobile/firefox/generic_android\", \"bukalapak.com/web-mobile/miuibrowser/generic_android\", \"fimela.com/web-mobile/miuibrowser/generic_android\", \"vidio.com/web-mobile/miuibrowser/generic_android\", \"bola.com/web-desktop/opera/generic_android\", \"bukalapak.com/web-desktop/opera/generic_android\", \"vidio.com/web-desktop/opera/generic_android\", \"bola.com/web-mobile/opera/generic_android\", \"bola.net/web-mobile/opera/generic_android\", \"brilio.net/web-mobile/opera/generic_android\", \"bukalapak.com/web-mobile/opera/generic_android\", \"dream.co.id/web-mobile/opera/generic_android\", \"fimela.com/web-mobile/opera/generic_android\", \"kapanlagi.com/web-mobile/opera/generic_android\", \"liputan6.com/web-mobile/opera/generic_android\", \"merdeka.com/web-mobile/opera/generic_android\", \"others/web-mobile/opera/generic_android\", \"vidio.com/web-mobile/opera/generic_android\", \"brilio.net/web-desktop/other/generic_android\", \"bukalapak.com/web-desktop/other/generic_android\", \"others/web-desktop/other/generic_android\", \"bola.com/web-mobile/other/generic_android\", \"bola.net/web-mobile/other/generic_android\", \"brilio.net/web-mobile/other/generic_android\", \"bukalapak.com/web-mobile/other/generic_android\", \"dream.co.id/web-mobile/other/generic_android\", \"fimela.com/web-mobile/other/generic_android\", \"kapanlagi.com/web-mobile/other/generic_android\", \"liputan6.com/web-mobile/other/generic_android\", \"merdeka.com/web-mobile/other/generic_android\", \"vidio.com/web-mobile/other/generic_android\", \"bola.net/web-mobile/samsung internet/generic_android\", \"kapanlagi.com/web-mobile/samsung internet/generic_android\", \"liputan6.com/web-mobile/samsung internet/generic_android\", \"vidio.com/web-mobile/samsung internet/generic_android\", \"liputan6.com/web-desktop/uc browser/generic_android\", \"bola.com/web-mobile/uc browser/generic_android\", \"bola.net/web-mobile/uc browser/generic_android\", \"brilio.net/web-mobile/uc browser/generic_android\", \"bukalapak.com/web-mobile/uc browser/generic_android\", \"dream.co.id/web-mobile/uc browser/generic_android\", \"fimela.com/web-mobile/uc browser/generic_android\", \"kapanlagi.com/web-mobile/uc browser/generic_android\", \"liputan6.com/web-mobile/uc browser/generic_android\", \"merdeka.com/web-mobile/uc browser/generic_android\", \"others/web-mobile/uc browser/generic_android\", \"vidio.com/web-mobile/uc browser/generic_android\", \"merdeka.com/web-desktop/chrome/huawei\", \"vidio.com/web-desktop/chrome/huawei\", \"bola.com/web-mobile/chrome/huawei\", \"bola.net/web-mobile/chrome/huawei\", \"brilio.net/web-mobile/chrome/huawei\", \"bukalapak.com/web-mobile/chrome/huawei\", \"dream.co.id/web-mobile/chrome/huawei\", \"fimela.com/web-mobile/chrome/huawei\", \"kapanlagi.com/web-mobile/chrome/huawei\", \"liputan6.com/web-mobile/chrome/huawei\", \"merdeka.com/web-mobile/chrome/huawei\", \"others/web-mobile/chrome/huawei\", \"vidio.com/web-mobile/chrome/huawei\", \"kapanlagi.com/web-desktop/facebook/huawei\", \"bola.com/web-mobile/facebook/huawei\", \"bola.net/web-mobile/facebook/huawei\", \"brilio.net/web-mobile/facebook/huawei\", \"bukalapak.com/web-mobile/facebook/huawei\", \"dream.co.id/web-mobile/facebook/huawei\", \"fimela.com/web-mobile/facebook/huawei\", \"kapanlagi.com/web-mobile/facebook/huawei\", \"liputan6.com/web-mobile/facebook/huawei\", \"merdeka.com/web-mobile/facebook/huawei\", \"others/web-mobile/facebook/huawei\", \"vidio.com/web-mobile/facebook/huawei\", \"bukalapak.com/web-desktop/opera/huawei\", \"bola.com/web-mobile/opera/huawei\", \"bola.net/web-mobile/opera/huawei\", \"brilio.net/web-mobile/opera/huawei\", \"bukalapak.com/web-mobile/opera/huawei\", \"kapanlagi.com/web-mobile/opera/huawei\", \"liputan6.com/web-mobile/opera/huawei\", \"merdeka.com/web-mobile/opera/huawei\", \"vidio.com/web-mobile/opera/huawei\", \"bukalapak.com/web-desktop/other/huawei\", \"others/web-desktop/other/huawei\", \"brilio.net/web-mobile/other/huawei\", \"bukalapak.com/web-mobile/other/huawei\", \"kapanlagi.com/web-mobile/other/huawei\", \"liputan6.com/web-mobile/other/huawei\", \"merdeka.com/web-mobile/other/huawei\", \"kapanlagi.com/web-mobile/safari/huawei\", \"bola.net/web-mobile/samsung internet/huawei\", \"bukalapak.com/web-mobile/samsung internet/huawei\", \"liputan6.com/web-mobile/samsung internet/huawei\", \"bola.net/web-mobile/uc browser/huawei\", \"bukalapak.com/web-mobile/uc browser/huawei\", \"dream.co.id/web-mobile/uc browser/huawei\", \"kapanlagi.com/web-mobile/uc browser/huawei\", \"liputan6.com/web-mobile/uc browser/huawei\", \"merdeka.com/web-mobile/uc browser/huawei\", \"others/web-mobile/uc browser/huawei\", \"vidio.com/web-mobile/uc browser/huawei\", \"others/web-desktop/chrome/lg\", \"vidio.com/web-desktop/chrome/lg\", \"bola.com/web-mobile/chrome/lg\", \"bola.net/web-mobile/chrome/lg\", \"brilio.net/web-mobile/chrome/lg\", \"bukalapak.com/web-mobile/chrome/lg\", \"dream.co.id/web-mobile/chrome/lg\", \"fimela.com/web-mobile/chrome/lg\", \"kapanlagi.com/web-mobile/chrome/lg\", \"liputan6.com/web-mobile/chrome/lg\", \"merdeka.com/web-mobile/chrome/lg\", \"others/web-mobile/chrome/lg\", \"vidio.com/web-mobile/chrome/lg\", \"bola.net/web-mobile/facebook/lg\", \"brilio.net/web-mobile/facebook/lg\", \"dream.co.id/web-mobile/facebook/lg\", \"fimela.com/web-mobile/facebook/lg\", \"kapanlagi.com/web-mobile/facebook/lg\", \"liputan6.com/web-mobile/facebook/lg\", \"merdeka.com/web-mobile/facebook/lg\", \"others/web-mobile/facebook/lg\", \"bola.com/web-mobile/opera/lg\", \"bola.net/web-mobile/opera/lg\", \"brilio.net/web-mobile/opera/lg\", \"bukalapak.com/web-mobile/opera/lg\", \"kapanlagi.com/web-mobile/opera/lg\", \"liputan6.com/web-mobile/opera/lg\", \"merdeka.com/web-mobile/opera/lg\", \"vidio.com/web-mobile/opera/lg\", \"bukalapak.com/web-desktop/other/lg\", \"bola.com/web-mobile/other/lg\", \"bola.net/web-mobile/other/lg\", \"brilio.net/web-mobile/other/lg\", \"bukalapak.com/web-mobile/other/lg\", \"fimela.com/web-mobile/other/lg\", \"kapanlagi.com/web-mobile/other/lg\", \"liputan6.com/web-mobile/other/lg\", \"merdeka.com/web-mobile/other/lg\", \"others/web-mobile/other/lg\", \"vidio.com/web-mobile/other/lg\", \"bola.com/web-mobile/uc browser/lg\", \"bola.net/web-mobile/uc browser/lg\", \"merdeka.com/web-mobile/uc browser/lg\", \"vidio.com/web-mobile/uc browser/lg\", \"bola.net/web-desktop/chrome/other\", \"brilio.net/web-desktop/chrome/other\", \"bukalapak.com/web-desktop/chrome/other\", \"fimela.com/web-desktop/chrome/other\", \"kapanlagi.com/web-desktop/chrome/other\", \"liputan6.com/web-desktop/chrome/other\", \"merdeka.com/web-desktop/chrome/other\", \"others/web-desktop/chrome/other\", \"vidio.com/web-desktop/chrome/other\", \"bola.com/web-mobile/chrome/other\", \"bola.net/web-mobile/chrome/other\", \"brilio.net/web-mobile/chrome/other\", \"bukalapak.com/web-mobile/chrome/other\", \"dream.co.id/web-mobile/chrome/other\", \"fimela.com/web-mobile/chrome/other\", \"kapanlagi.com/web-mobile/chrome/other\", \"liputan6.com/web-mobile/chrome/other\", \"merdeka.com/web-mobile/chrome/other\", \"others/web-mobile/chrome/other\", \"vidio.com/web-mobile/chrome/other\", \"brilio.net/web-desktop/facebook/other\", \"kapanlagi.com/web-desktop/facebook/other\", \"merdeka.com/web-desktop/facebook/other\", \"bola.com/web-mobile/facebook/other\", \"bola.net/web-mobile/facebook/other\", \"brilio.net/web-mobile/facebook/other\", \"bukalapak.com/web-mobile/facebook/other\", \"dream.co.id/web-mobile/facebook/other\", \"fimela.com/web-mobile/facebook/other\", \"kapanlagi.com/web-mobile/facebook/other\", \"liputan6.com/web-mobile/facebook/other\", \"merdeka.com/web-mobile/facebook/other\", \"others/web-mobile/facebook/other\", \"vidio.com/web-mobile/facebook/other\", \"bola.net/web-desktop/opera/other\", \"kapanlagi.com/web-desktop/opera/other\", \"liputan6.com/web-desktop/opera/other\", \"bola.com/web-mobile/opera/other\", \"bola.net/web-mobile/opera/other\", \"brilio.net/web-mobile/opera/other\", \"bukalapak.com/web-mobile/opera/other\", \"dream.co.id/web-mobile/opera/other\", \"fimela.com/web-mobile/opera/other\", \"kapanlagi.com/web-mobile/opera/other\", \"liputan6.com/web-mobile/opera/other\", \"merdeka.com/web-mobile/opera/other\", \"others/web-mobile/opera/other\", \"vidio.com/web-mobile/opera/other\", \"brilio.net/web-desktop/other/other\", \"bukalapak.com/web-desktop/other/other\", \"liputan6.com/web-desktop/other/other\", \"merdeka.com/web-desktop/other/other\", \"others/web-desktop/other/other\", \"vidio.com/web-desktop/other/other\", \"bola.com/web-mobile/other/other\", \"bola.net/web-mobile/other/other\", \"brilio.net/web-mobile/other/other\", \"bukalapak.com/web-mobile/other/other\", \"kapanlagi.com/web-mobile/other/other\", \"liputan6.com/web-mobile/other/other\", \"merdeka.com/web-mobile/other/other\", \"vidio.com/web-mobile/other/other\", \"vidio.com/web-desktop/safari/other\", \"liputan6.com/web-mobile/samsung internet/other\", \"brilio.net/web-desktop/uc browser/other\", \"bola.com/web-mobile/uc browser/other\", \"bola.net/web-mobile/uc browser/other\", \"brilio.net/web-mobile/uc browser/other\", \"bukalapak.com/web-mobile/uc browser/other\", \"dream.co.id/web-mobile/uc browser/other\", \"fimela.com/web-mobile/uc browser/other\", \"kapanlagi.com/web-mobile/uc browser/other\", \"liputan6.com/web-mobile/uc browser/other\", \"merdeka.com/web-mobile/uc browser/other\", \"others/web-mobile/uc browser/other\", \"vidio.com/web-mobile/uc browser/other\", \"bola.com/web-desktop/chrome/samsung\", \"bola.net/web-desktop/chrome/samsung\", \"brilio.net/web-desktop/chrome/samsung\", \"bukalapak.com/web-desktop/chrome/samsung\", \"dream.co.id/web-desktop/chrome/samsung\", \"fimela.com/web-desktop/chrome/samsung\", \"kapanlagi.com/web-desktop/chrome/samsung\", \"liputan6.com/web-desktop/chrome/samsung\", \"merdeka.com/web-desktop/chrome/samsung\", \"others/web-desktop/chrome/samsung\", \"vidio.com/web-desktop/chrome/samsung\", \"bola.com/web-mobile/chrome/samsung\", \"bola.net/web-mobile/chrome/samsung\", \"brilio.net/web-mobile/chrome/samsung\", \"bukalapak.com/web-mobile/chrome/samsung\", \"dream.co.id/web-mobile/chrome/samsung\", \"fimela.com/web-mobile/chrome/samsung\", \"kapanlagi.com/web-mobile/chrome/samsung\", \"liputan6.com/web-mobile/chrome/samsung\", \"merdeka.com/web-mobile/chrome/samsung\", \"others/web-mobile/chrome/samsung\", \"vidio.com/web-mobile/chrome/samsung\", \"bola.com/web-desktop/facebook/samsung\", \"bola.net/web-desktop/facebook/samsung\", \"brilio.net/web-desktop/facebook/samsung\", \"dream.co.id/web-desktop/facebook/samsung\", \"kapanlagi.com/web-desktop/facebook/samsung\", \"liputan6.com/web-desktop/facebook/samsung\", \"merdeka.com/web-desktop/facebook/samsung\", \"others/web-desktop/facebook/samsung\", \"bola.com/web-mobile/facebook/samsung\", \"bola.net/web-mobile/facebook/samsung\", \"brilio.net/web-mobile/facebook/samsung\", \"bukalapak.com/web-mobile/facebook/samsung\", \"dream.co.id/web-mobile/facebook/samsung\", \"fimela.com/web-mobile/facebook/samsung\", \"kapanlagi.com/web-mobile/facebook/samsung\", \"liputan6.com/web-mobile/facebook/samsung\", \"merdeka.com/web-mobile/facebook/samsung\", \"others/web-mobile/facebook/samsung\", \"vidio.com/web-mobile/facebook/samsung\", \"bola.net/web-mobile/miuibrowser/samsung\", \"liputan6.com/web-mobile/miuibrowser/samsung\", \"bola.com/web-desktop/opera/samsung\", \"bola.net/web-desktop/opera/samsung\", \"brilio.net/web-desktop/opera/samsung\", \"bukalapak.com/web-desktop/opera/samsung\", \"liputan6.com/web-desktop/opera/samsung\", \"others/web-desktop/opera/samsung\", \"vidio.com/web-desktop/opera/samsung\", \"bola.com/web-mobile/opera/samsung\", \"bola.net/web-mobile/opera/samsung\", \"brilio.net/web-mobile/opera/samsung\", \"bukalapak.com/web-mobile/opera/samsung\", \"dream.co.id/web-mobile/opera/samsung\", \"fimela.com/web-mobile/opera/samsung\", \"kapanlagi.com/web-mobile/opera/samsung\", \"liputan6.com/web-mobile/opera/samsung\", \"merdeka.com/web-mobile/opera/samsung\", \"others/web-mobile/opera/samsung\", \"vidio.com/web-mobile/opera/samsung\", \"bola.com/web-desktop/other/samsung\", \"bola.net/web-desktop/other/samsung\", \"brilio.net/web-desktop/other/samsung\", \"bukalapak.com/web-desktop/other/samsung\", \"dream.co.id/web-desktop/other/samsung\", \"liputan6.com/web-desktop/other/samsung\", \"merdeka.com/web-desktop/other/samsung\", \"others/web-desktop/other/samsung\", \"bola.com/web-mobile/other/samsung\", \"bola.net/web-mobile/other/samsung\", \"brilio.net/web-mobile/other/samsung\", \"bukalapak.com/web-mobile/other/samsung\", \"dream.co.id/web-mobile/other/samsung\", \"fimela.com/web-mobile/other/samsung\", \"kapanlagi.com/web-mobile/other/samsung\", \"liputan6.com/web-mobile/other/samsung\", \"merdeka.com/web-mobile/other/samsung\", \"others/web-mobile/other/samsung\", \"vidio.com/web-mobile/other/samsung\", \"bola.com/web-desktop/samsung internet/samsung\", \"bola.net/web-desktop/samsung internet/samsung\", \"brilio.net/web-desktop/samsung internet/samsung\", \"bukalapak.com/web-desktop/samsung internet/samsung\", \"dream.co.id/web-desktop/samsung internet/samsung\", \"fimela.com/web-desktop/samsung internet/samsung\", \"kapanlagi.com/web-desktop/samsung internet/samsung\", \"liputan6.com/web-desktop/samsung internet/samsung\", \"merdeka.com/web-desktop/samsung internet/samsung\", \"others/web-desktop/samsung internet/samsung\", \"vidio.com/web-desktop/samsung internet/samsung\", \"bola.com/web-mobile/samsung internet/samsung\", \"bola.net/web-mobile/samsung internet/samsung\", \"brilio.net/web-mobile/samsung internet/samsung\", \"bukalapak.com/web-mobile/samsung internet/samsung\", \"dream.co.id/web-mobile/samsung internet/samsung\", \"fimela.com/web-mobile/samsung internet/samsung\", \"kapanlagi.com/web-mobile/samsung internet/samsung\", \"liputan6.com/web-mobile/samsung internet/samsung\", \"merdeka.com/web-mobile/samsung internet/samsung\", \"others/web-mobile/samsung internet/samsung\", \"vidio.com/web-mobile/samsung internet/samsung\", \"bola.com/web-mobile/uc browser/samsung\", \"bola.net/web-mobile/uc browser/samsung\", \"brilio.net/web-mobile/uc browser/samsung\", \"bukalapak.com/web-mobile/uc browser/samsung\", \"dream.co.id/web-mobile/uc browser/samsung\", \"fimela.com/web-mobile/uc browser/samsung\", \"kapanlagi.com/web-mobile/uc browser/samsung\", \"liputan6.com/web-mobile/uc browser/samsung\", \"merdeka.com/web-mobile/uc browser/samsung\", \"others/web-mobile/uc browser/samsung\", \"vidio.com/web-mobile/uc browser/samsung\", \"bola.com/web-desktop/chrome/undefined\", \"bola.net/web-desktop/chrome/undefined\", \"brilio.net/web-desktop/chrome/undefined\", \"bukalapak.com/web-desktop/chrome/undefined\", \"dream.co.id/web-desktop/chrome/undefined\", \"fimela.com/web-desktop/chrome/undefined\", \"kapanlagi.com/web-desktop/chrome/undefined\", \"liputan6.com/web-desktop/chrome/undefined\", \"merdeka.com/web-desktop/chrome/undefined\", \"others/web-desktop/chrome/undefined\", \"vidio.com/web-desktop/chrome/undefined\", \"bola.com/web-mobile/chrome/undefined\", \"kapanlagi.com/web-mobile/chrome/undefined\", \"brilio.net/web-desktop/facebook/undefined\", \"bola.com/web-desktop/firefox/undefined\", \"bola.net/web-desktop/firefox/undefined\", \"brilio.net/web-desktop/firefox/undefined\", \"bukalapak.com/web-desktop/firefox/undefined\", \"dream.co.id/web-desktop/firefox/undefined\", \"fimela.com/web-desktop/firefox/undefined\", \"kapanlagi.com/web-desktop/firefox/undefined\", \"liputan6.com/web-desktop/firefox/undefined\", \"merdeka.com/web-desktop/firefox/undefined\", \"others/web-desktop/firefox/undefined\", \"vidio.com/web-desktop/firefox/undefined\", \"bukalapak.com/web-mobile/firefox/undefined\", \"others/web-mobile/firefox/undefined\", \"bola.com/web-desktop/miuibrowser/undefined\", \"bola.net/web-desktop/miuibrowser/undefined\", \"brilio.net/web-desktop/miuibrowser/undefined\", \"bukalapak.com/web-desktop/miuibrowser/undefined\", \"dream.co.id/web-desktop/miuibrowser/undefined\", \"kapanlagi.com/web-desktop/miuibrowser/undefined\", \"liputan6.com/web-desktop/miuibrowser/undefined\", \"merdeka.com/web-desktop/miuibrowser/undefined\", \"others/web-desktop/miuibrowser/undefined\", \"vidio.com/web-desktop/miuibrowser/undefined\", \"bola.com/web-desktop/opera/undefined\", \"bola.net/web-desktop/opera/undefined\", \"brilio.net/web-desktop/opera/undefined\", \"bukalapak.com/web-desktop/opera/undefined\", \"dream.co.id/web-desktop/opera/undefined\", \"fimela.com/web-desktop/opera/undefined\", \"kapanlagi.com/web-desktop/opera/undefined\", \"liputan6.com/web-desktop/opera/undefined\", \"merdeka.com/web-desktop/opera/undefined\", \"others/web-desktop/opera/undefined\", \"vidio.com/web-desktop/opera/undefined\", \"bola.com/web-desktop/other/undefined\", \"bola.net/web-desktop/other/undefined\", \"brilio.net/web-desktop/other/undefined\", \"bukalapak.com/web-desktop/other/undefined\", \"dream.co.id/web-desktop/other/undefined\", \"fimela.com/web-desktop/other/undefined\", \"kapanlagi.com/web-desktop/other/undefined\", \"liputan6.com/web-desktop/other/undefined\", \"merdeka.com/web-desktop/other/undefined\", \"others/web-desktop/other/undefined\", \"vidio.com/web-desktop/other/undefined\", \"bukalapak.com/web-desktop/pale moon/undefined\", \"kapanlagi.com/web-desktop/pale moon/undefined\", \"bola.com/web-desktop/safari/undefined\", \"bola.net/web-desktop/safari/undefined\", \"brilio.net/web-desktop/safari/undefined\", \"bukalapak.com/web-desktop/safari/undefined\", \"dream.co.id/web-desktop/safari/undefined\", \"fimela.com/web-desktop/safari/undefined\", \"kapanlagi.com/web-desktop/safari/undefined\", \"liputan6.com/web-desktop/safari/undefined\", \"merdeka.com/web-desktop/safari/undefined\", \"others/web-desktop/safari/undefined\", \"vidio.com/web-desktop/safari/undefined\", \"bola.com/web-desktop/samsung internet/undefined\", \"bola.net/web-desktop/samsung internet/undefined\", \"brilio.net/web-desktop/samsung internet/undefined\", \"bukalapak.com/web-desktop/samsung internet/undefined\", \"dream.co.id/web-desktop/samsung internet/undefined\", \"fimela.com/web-desktop/samsung internet/undefined\", \"kapanlagi.com/web-desktop/samsung internet/undefined\", \"liputan6.com/web-desktop/samsung internet/undefined\", \"merdeka.com/web-desktop/samsung internet/undefined\", \"vidio.com/web-desktop/samsung internet/undefined\", \"bola.com/web-desktop/uc browser/undefined\", \"bola.net/web-desktop/uc browser/undefined\", \"brilio.net/web-desktop/uc browser/undefined\", \"bukalapak.com/web-desktop/uc browser/undefined\", \"fimela.com/web-desktop/uc browser/undefined\", \"kapanlagi.com/web-desktop/uc browser/undefined\", \"liputan6.com/web-desktop/uc browser/undefined\", \"merdeka.com/web-desktop/uc browser/undefined\", \"others/web-desktop/uc browser/undefined\", \"vidio.com/web-desktop/uc browser/undefined\", \"liputan6.com/web-desktop/chrome/vivo\", \"merdeka.com/web-desktop/chrome/vivo\", \"others/web-desktop/chrome/vivo\", \"vidio.com/web-desktop/chrome/vivo\", \"bola.com/web-mobile/chrome/vivo\", \"bola.net/web-mobile/chrome/vivo\", \"brilio.net/web-mobile/chrome/vivo\", \"bukalapak.com/web-mobile/chrome/vivo\", \"dream.co.id/web-mobile/chrome/vivo\", \"fimela.com/web-mobile/chrome/vivo\", \"kapanlagi.com/web-mobile/chrome/vivo\", \"liputan6.com/web-mobile/chrome/vivo\", \"merdeka.com/web-mobile/chrome/vivo\", \"others/web-mobile/chrome/vivo\", \"vidio.com/web-mobile/chrome/vivo\", \"bola.com/web-mobile/facebook/vivo\", \"bola.net/web-mobile/facebook/vivo\", \"brilio.net/web-mobile/facebook/vivo\", \"bukalapak.com/web-mobile/facebook/vivo\", \"dream.co.id/web-mobile/facebook/vivo\", \"fimela.com/web-mobile/facebook/vivo\", \"kapanlagi.com/web-mobile/facebook/vivo\", \"liputan6.com/web-mobile/facebook/vivo\", \"merdeka.com/web-mobile/facebook/vivo\", \"others/web-mobile/facebook/vivo\", \"vidio.com/web-mobile/facebook/vivo\", \"bukalapak.com/web-desktop/opera/vivo\", \"bola.com/web-mobile/opera/vivo\", \"bola.net/web-mobile/opera/vivo\", \"brilio.net/web-mobile/opera/vivo\", \"bukalapak.com/web-mobile/opera/vivo\", \"dream.co.id/web-mobile/opera/vivo\", \"fimela.com/web-mobile/opera/vivo\", \"kapanlagi.com/web-mobile/opera/vivo\", \"liputan6.com/web-mobile/opera/vivo\", \"merdeka.com/web-mobile/opera/vivo\", \"others/web-mobile/opera/vivo\", \"vidio.com/web-mobile/opera/vivo\", \"bukalapak.com/web-desktop/other/vivo\", \"others/web-desktop/other/vivo\", \"bola.com/web-mobile/other/vivo\", \"bola.net/web-mobile/other/vivo\", \"brilio.net/web-mobile/other/vivo\", \"bukalapak.com/web-mobile/other/vivo\", \"dream.co.id/web-mobile/other/vivo\", \"fimela.com/web-mobile/other/vivo\", \"kapanlagi.com/web-mobile/other/vivo\", \"liputan6.com/web-mobile/other/vivo\", \"merdeka.com/web-mobile/other/vivo\", \"vidio.com/web-mobile/other/vivo\", \"bola.com/web-mobile/uc browser/vivo\", \"bola.net/web-mobile/uc browser/vivo\", \"brilio.net/web-mobile/uc browser/vivo\", \"bukalapak.com/web-mobile/uc browser/vivo\", \"dream.co.id/web-mobile/uc browser/vivo\", \"fimela.com/web-mobile/uc browser/vivo\", \"kapanlagi.com/web-mobile/uc browser/vivo\", \"liputan6.com/web-mobile/uc browser/vivo\", \"merdeka.com/web-mobile/uc browser/vivo\", \"others/web-mobile/uc browser/vivo\", \"vidio.com/web-mobile/uc browser/vivo\", \"bola.com/web-desktop/chrome/xiaomi\", \"brilio.net/web-desktop/chrome/xiaomi\", \"bukalapak.com/web-desktop/chrome/xiaomi\", \"fimela.com/web-desktop/chrome/xiaomi\", \"kapanlagi.com/web-desktop/chrome/xiaomi\", \"liputan6.com/web-desktop/chrome/xiaomi\", \"merdeka.com/web-desktop/chrome/xiaomi\", \"vidio.com/web-desktop/chrome/xiaomi\", \"bola.com/web-mobile/chrome/xiaomi\", \"bola.net/web-mobile/chrome/xiaomi\", \"brilio.net/web-mobile/chrome/xiaomi\", \"bukalapak.com/web-mobile/chrome/xiaomi\", \"dream.co.id/web-mobile/chrome/xiaomi\", \"fimela.com/web-mobile/chrome/xiaomi\", \"kapanlagi.com/web-mobile/chrome/xiaomi\", \"liputan6.com/web-mobile/chrome/xiaomi\", \"merdeka.com/web-mobile/chrome/xiaomi\", \"others/web-mobile/chrome/xiaomi\", \"vidio.com/web-mobile/chrome/xiaomi\", \"brilio.net/web-desktop/facebook/xiaomi\", \"kapanlagi.com/web-desktop/facebook/xiaomi\", \"bola.com/web-mobile/facebook/xiaomi\", \"bola.net/web-mobile/facebook/xiaomi\", \"brilio.net/web-mobile/facebook/xiaomi\", \"bukalapak.com/web-mobile/facebook/xiaomi\", \"dream.co.id/web-mobile/facebook/xiaomi\", \"fimela.com/web-mobile/facebook/xiaomi\", \"kapanlagi.com/web-mobile/facebook/xiaomi\", \"liputan6.com/web-mobile/facebook/xiaomi\", \"merdeka.com/web-mobile/facebook/xiaomi\", \"others/web-mobile/facebook/xiaomi\", \"vidio.com/web-mobile/facebook/xiaomi\", \"bola.com/web-mobile/miuibrowser/xiaomi\", \"bola.net/web-mobile/miuibrowser/xiaomi\", \"brilio.net/web-mobile/miuibrowser/xiaomi\", \"bukalapak.com/web-mobile/miuibrowser/xiaomi\", \"dream.co.id/web-mobile/miuibrowser/xiaomi\", \"fimela.com/web-mobile/miuibrowser/xiaomi\", \"kapanlagi.com/web-mobile/miuibrowser/xiaomi\", \"liputan6.com/web-mobile/miuibrowser/xiaomi\", \"merdeka.com/web-mobile/miuibrowser/xiaomi\", \"others/web-mobile/miuibrowser/xiaomi\", \"vidio.com/web-mobile/miuibrowser/xiaomi\", \"bola.net/web-desktop/opera/xiaomi\", \"bukalapak.com/web-desktop/opera/xiaomi\", \"bola.com/web-mobile/opera/xiaomi\", \"bola.net/web-mobile/opera/xiaomi\", \"brilio.net/web-mobile/opera/xiaomi\", \"bukalapak.com/web-mobile/opera/xiaomi\", \"dream.co.id/web-mobile/opera/xiaomi\", \"fimela.com/web-mobile/opera/xiaomi\", \"kapanlagi.com/web-mobile/opera/xiaomi\", \"liputan6.com/web-mobile/opera/xiaomi\", \"merdeka.com/web-mobile/opera/xiaomi\", \"others/web-mobile/opera/xiaomi\", \"vidio.com/web-mobile/opera/xiaomi\", \"bukalapak.com/web-desktop/other/xiaomi\", \"others/web-desktop/other/xiaomi\", \"bola.net/web-mobile/other/xiaomi\", \"brilio.net/web-mobile/other/xiaomi\", \"bukalapak.com/web-mobile/other/xiaomi\", \"dream.co.id/web-mobile/other/xiaomi\", \"fimela.com/web-mobile/other/xiaomi\", \"kapanlagi.com/web-mobile/other/xiaomi\", \"liputan6.com/web-mobile/other/xiaomi\", \"merdeka.com/web-mobile/other/xiaomi\", \"others/web-mobile/other/xiaomi\", \"vidio.com/web-mobile/other/xiaomi\", \"bola.net/web-mobile/samsung internet/xiaomi\", \"brilio.net/web-mobile/samsung internet/xiaomi\", \"bukalapak.com/web-mobile/samsung internet/xiaomi\", \"fimela.com/web-mobile/samsung internet/xiaomi\", \"liputan6.com/web-mobile/samsung internet/xiaomi\", \"merdeka.com/web-mobile/samsung internet/xiaomi\", \"kapanlagi.com/web-desktop/uc browser/xiaomi\", \"bola.com/web-mobile/uc browser/xiaomi\", \"bola.net/web-mobile/uc browser/xiaomi\", \"brilio.net/web-mobile/uc browser/xiaomi\", \"bukalapak.com/web-mobile/uc browser/xiaomi\", \"dream.co.id/web-mobile/uc browser/xiaomi\", \"fimela.com/web-mobile/uc browser/xiaomi\", \"kapanlagi.com/web-mobile/uc browser/xiaomi\", \"liputan6.com/web-mobile/uc browser/xiaomi\", \"merdeka.com/web-mobile/uc browser/xiaomi\", \"others/web-mobile/uc browser/xiaomi\", \"vidio.com/web-mobile/uc browser/xiaomi\", \"brilio.net/web-mobile/bacaberita app\", \"merdeka.com/web-mobile/bacaberita app\", \"bola.com/web-desktop/chrome\", \"bola.net/web-desktop/chrome\", \"brilio.net/web-desktop/chrome\", \"bukalapak.com/web-desktop/chrome\", \"dream.co.id/web-desktop/chrome\", \"fimela.com/web-desktop/chrome\", \"kapanlagi.com/web-desktop/chrome\", \"liputan6.com/web-desktop/chrome\", \"merdeka.com/web-desktop/chrome\", \"others/web-desktop/chrome\", \"vidio.com/web-desktop/chrome\", \"bola.com/web-mobile/chrome\", \"bola.net/web-mobile/chrome\", \"brilio.net/web-mobile/chrome\", \"bukalapak.com/web-mobile/chrome\", \"dream.co.id/web-mobile/chrome\", \"fimela.com/web-mobile/chrome\", \"kapanlagi.com/web-mobile/chrome\", \"liputan6.com/web-mobile/chrome\", \"merdeka.com/web-mobile/chrome\", \"others/web-mobile/chrome\", \"vidio.com/web-mobile/chrome\", \"bola.com/web-desktop/facebook\", \"bola.net/web-desktop/facebook\", \"brilio.net/web-desktop/facebook\", \"bukalapak.com/web-desktop/facebook\", \"dream.co.id/web-desktop/facebook\", \"kapanlagi.com/web-desktop/facebook\", \"liputan6.com/web-desktop/facebook\", \"merdeka.com/web-desktop/facebook\", \"others/web-desktop/facebook\", \"vidio.com/web-desktop/facebook\", \"bola.com/web-mobile/facebook\", \"bola.net/web-mobile/facebook\", \"brilio.net/web-mobile/facebook\", \"bukalapak.com/web-mobile/facebook\", \"dream.co.id/web-mobile/facebook\", \"fimela.com/web-mobile/facebook\", \"kapanlagi.com/web-mobile/facebook\", \"liputan6.com/web-mobile/facebook\", \"merdeka.com/web-mobile/facebook\", \"others/web-mobile/facebook\", \"vidio.com/web-mobile/facebook\", \"bola.com/web-desktop/firefox\", \"bola.net/web-desktop/firefox\", \"brilio.net/web-desktop/firefox\", \"bukalapak.com/web-desktop/firefox\", \"dream.co.id/web-desktop/firefox\", \"fimela.com/web-desktop/firefox\", \"kapanlagi.com/web-desktop/firefox\", \"liputan6.com/web-desktop/firefox\", \"merdeka.com/web-desktop/firefox\", \"others/web-desktop/firefox\", \"vidio.com/web-desktop/firefox\", \"bola.com/web-mobile/firefox\", \"bola.net/web-mobile/firefox\", \"brilio.net/web-mobile/firefox\", \"bukalapak.com/web-mobile/firefox\", \"dream.co.id/web-mobile/firefox\", \"fimela.com/web-mobile/firefox\", \"kapanlagi.com/web-mobile/firefox\", \"liputan6.com/web-mobile/firefox\", \"merdeka.com/web-mobile/firefox\", \"others/web-mobile/firefox\", \"vidio.com/web-mobile/firefox\", \"bola.com/web-desktop/miuibrowser\", \"bola.net/web-desktop/miuibrowser\", \"brilio.net/web-desktop/miuibrowser\", \"bukalapak.com/web-desktop/miuibrowser\", \"dream.co.id/web-desktop/miuibrowser\", \"kapanlagi.com/web-desktop/miuibrowser\", \"liputan6.com/web-desktop/miuibrowser\", \"merdeka.com/web-desktop/miuibrowser\", \"others/web-desktop/miuibrowser\", \"vidio.com/web-desktop/miuibrowser\", \"bola.com/web-mobile/miuibrowser\", \"bola.net/web-mobile/miuibrowser\", \"brilio.net/web-mobile/miuibrowser\", \"bukalapak.com/web-mobile/miuibrowser\", \"dream.co.id/web-mobile/miuibrowser\", \"fimela.com/web-mobile/miuibrowser\", \"kapanlagi.com/web-mobile/miuibrowser\", \"liputan6.com/web-mobile/miuibrowser\", \"merdeka.com/web-mobile/miuibrowser\", \"others/web-mobile/miuibrowser\", \"vidio.com/web-mobile/miuibrowser\", \"bola.com/web-desktop/opera\", \"bola.net/web-desktop/opera\", \"brilio.net/web-desktop/opera\", \"bukalapak.com/web-desktop/opera\", \"dream.co.id/web-desktop/opera\", \"fimela.com/web-desktop/opera\", \"kapanlagi.com/web-desktop/opera\", \"liputan6.com/web-desktop/opera\", \"merdeka.com/web-desktop/opera\", \"others/web-desktop/opera\", \"vidio.com/web-desktop/opera\", \"bola.com/web-mobile/opera\", \"bola.net/web-mobile/opera\", \"brilio.net/web-mobile/opera\", \"bukalapak.com/web-mobile/opera\", \"dream.co.id/web-mobile/opera\", \"fimela.com/web-mobile/opera\", \"kapanlagi.com/web-mobile/opera\", \"liputan6.com/web-mobile/opera\", \"merdeka.com/web-mobile/opera\", \"others/web-mobile/opera\", \"vidio.com/web-mobile/opera\", \"bola.com/web-desktop/other\", \"bola.net/web-desktop/other\", \"brilio.net/web-desktop/other\", \"bukalapak.com/web-desktop/other\", \"dream.co.id/web-desktop/other\", \"fimela.com/web-desktop/other\", \"kapanlagi.com/web-desktop/other\", \"liputan6.com/web-desktop/other\", \"merdeka.com/web-desktop/other\", \"others/web-desktop/other\", \"vidio.com/web-desktop/other\", \"bola.com/web-mobile/other\", \"bola.net/web-mobile/other\", \"brilio.net/web-mobile/other\", \"bukalapak.com/web-mobile/other\", \"dream.co.id/web-mobile/other\", \"fimela.com/web-mobile/other\", \"kapanlagi.com/web-mobile/other\", \"liputan6.com/web-mobile/other\", \"merdeka.com/web-mobile/other\", \"others/web-mobile/other\", \"vidio.com/web-mobile/other\", \"bukalapak.com/web-desktop/pale moon\", \"kapanlagi.com/web-desktop/pale moon\", \"bola.com/web-desktop/safari\", \"bola.net/web-desktop/safari\", \"brilio.net/web-desktop/safari\", \"bukalapak.com/web-desktop/safari\", \"dream.co.id/web-desktop/safari\", \"fimela.com/web-desktop/safari\", \"kapanlagi.com/web-desktop/safari\", \"liputan6.com/web-desktop/safari\", \"merdeka.com/web-desktop/safari\", \"others/web-desktop/safari\", \"vidio.com/web-desktop/safari\", \"bola.com/web-mobile/safari\", \"bola.net/web-mobile/safari\", \"brilio.net/web-mobile/safari\", \"bukalapak.com/web-mobile/safari\", \"dream.co.id/web-mobile/safari\", \"fimela.com/web-mobile/safari\", \"kapanlagi.com/web-mobile/safari\", \"liputan6.com/web-mobile/safari\", \"merdeka.com/web-mobile/safari\", \"others/web-mobile/safari\", \"vidio.com/web-mobile/safari\", \"bola.com/web-desktop/samsung internet\", \"bola.net/web-desktop/samsung internet\", \"brilio.net/web-desktop/samsung internet\", \"bukalapak.com/web-desktop/samsung internet\", \"dream.co.id/web-desktop/samsung internet\", \"fimela.com/web-desktop/samsung internet\", \"kapanlagi.com/web-desktop/samsung internet\", \"liputan6.com/web-desktop/samsung internet\", \"merdeka.com/web-desktop/samsung internet\", \"others/web-desktop/samsung internet\", \"vidio.com/web-desktop/samsung internet\", \"bola.com/web-mobile/samsung internet\", \"bola.net/web-mobile/samsung internet\", \"brilio.net/web-mobile/samsung internet\", \"bukalapak.com/web-mobile/samsung internet\", \"dream.co.id/web-mobile/samsung internet\", \"fimela.com/web-mobile/samsung internet\", \"kapanlagi.com/web-mobile/samsung internet\", \"liputan6.com/web-mobile/samsung internet\", \"merdeka.com/web-mobile/samsung internet\", \"others/web-mobile/samsung internet\", \"vidio.com/web-mobile/samsung internet\", \"bola.com/web-desktop/uc browser\", \"bola.net/web-desktop/uc browser\", \"brilio.net/web-desktop/uc browser\", \"bukalapak.com/web-desktop/uc browser\", \"fimela.com/web-desktop/uc browser\", \"kapanlagi.com/web-desktop/uc browser\", \"liputan6.com/web-desktop/uc browser\", \"merdeka.com/web-desktop/uc browser\", \"others/web-desktop/uc browser\", \"vidio.com/web-desktop/uc browser\", \"bola.com/web-mobile/uc browser\", \"bola.net/web-mobile/uc browser\", \"brilio.net/web-mobile/uc browser\", \"bukalapak.com/web-mobile/uc browser\", \"dream.co.id/web-mobile/uc browser\", \"fimela.com/web-mobile/uc browser\", \"kapanlagi.com/web-mobile/uc browser\", \"liputan6.com/web-mobile/uc browser\", \"merdeka.com/web-mobile/uc browser\", \"others/web-mobile/uc browser\", \"vidio.com/web-mobile/uc browser\", \"bola.com/web-desktop\", \"bola.net/web-desktop\", \"brilio.net/web-desktop\", \"bukalapak.com/web-desktop\", \"dream.co.id/web-desktop\", \"fimela.com/web-desktop\", \"kapanlagi.com/web-desktop\", \"liputan6.com/web-desktop\", \"merdeka.com/web-desktop\", \"others/web-desktop\", \"vidio.com/web-desktop\", \"bola.com/web-mobile\", \"bola.net/web-mobile\", \"brilio.net/web-mobile\", \"bukalapak.com/web-mobile\", \"dream.co.id/web-mobile\", \"fimela.com/web-mobile\", \"kapanlagi.com/web-mobile\", \"liputan6.com/web-mobile\", \"merdeka.com/web-mobile\", \"others/web-mobile\", \"vidio.com/web-mobile\", \"bola.com\", \"bola.net\", \"brilio.net\", \"bukalapak.com\", \"dream.co.id\", \"fimela.com\", \"kapanlagi.com\", \"liputan6.com\", \"merdeka.com\", \"others\", \"vidio.com\"], \"labels\": [\"apple\", \"apple\", \"apple\", \"apple\", \"apple\", \"apple\", \"apple\", \"apple\", \"apple\", \"apple\", \"apple\", \"apple\", \"apple\", \"apple\", \"apple\", \"apple\", \"apple\", \"apple\", \"apple\", \"apple\", \"apple\", \"apple\", \"apple\", \"apple\", \"apple\", \"apple\", \"apple\", \"apple\", \"apple\", \"apple\", \"apple\", \"apple\", \"apple\", \"apple\", \"apple\", \"apple\", \"apple\", \"apple\", \"apple\", \"apple\", \"apple\", \"apple\", \"apple\", \"apple\", \"apple\", \"apple\", \"apple\", \"apple\", \"apple\", \"apple\", \"apple\", \"apple\", \"apple\", \"apple\", \"apple\", \"apple\", \"apple\", \"apple\", \"apple\", \"apple\", \"apple\", \"apple\", \"apple\", \"apple\", \"apple\", \"apple\", \"apple\", \"apple\", \"apple\", \"apple\", \"apple\", \"apple\", \"apple\", \"apple\", \"apple\", \"apple\", \"apple\", \"apple\", \"apple\", \"apple\", \"apple\", \"apple\", \"apple\", \"apple\", \"apple\", \"apple\", \"apple\", \"apple\", \"apple\", \"apple\", \"apple\", \"apple\", \"apple\", \"apple\", \"apple\", \"apple\", \"apple\", \"apple\", \"apple\", \"apple\", \"apple\", \"apple\", \"apple\", \"apple\", \"apple\", \"apple\", \"apple\", \"asus\", \"asus\", \"asus\", \"asus\", \"asus\", \"asus\", \"asus\", \"asus\", \"asus\", \"asus\", \"asus\", \"asus\", \"asus\", \"asus\", \"asus\", \"asus\", \"asus\", \"asus\", \"asus\", \"asus\", \"asus\", \"asus\", \"asus\", \"asus\", \"asus\", \"asus\", \"asus\", \"asus\", \"asus\", \"asus\", \"asus\", \"asus\", \"asus\", \"asus\", \"asus\", \"asus\", \"asus\", \"asus\", \"asus\", \"asus\", \"asus\", \"asus\", \"asus\", \"asus\", \"asus\", \"asus\", \"asus\", \"asus\", \"asus\", \"asus\", \"asus\", \"asus\", \"asus\", \"asus\", \"asus\", \"asus\", \"asus\", \"asus\", \"asus\", \"asus\", \"asus\", \"asus\", \"asus\", \"asus\", \"asus\", \"asus\", \"asus\", \"asus\", \"generic\", \"generic\", \"generic\", \"generic\", \"generic\", \"generic\", \"generic\", \"generic\", \"generic\", \"generic\", \"generic\", \"generic\", \"generic\", \"generic\", \"generic\", \"generic\", \"generic\", \"generic\", \"generic\", \"generic\", \"generic\", \"generic\", \"generic\", \"generic\", \"generic\", \"generic\", \"generic\", \"generic\", \"generic\", \"generic\", \"generic\", \"generic\", \"generic\", \"generic\", \"generic\", \"generic\", \"generic\", \"generic\", \"generic\", \"generic\", \"generic\", \"generic\", \"generic\", \"generic\", \"generic\", \"generic\", \"generic\", \"generic\", \"generic\", \"generic\", \"generic\", \"generic\", \"generic\", \"generic\", \"generic\", \"generic\", \"generic\", \"generic\", \"generic\", \"generic\", \"generic\", \"generic\", \"generic\", \"generic\", \"generic\", \"generic\", \"generic\", \"generic\", \"generic\", \"generic\", \"generic\", \"generic\", \"generic\", \"generic\", \"generic\", \"generic\", \"generic\", \"generic\", \"generic\", \"generic\", \"generic\", \"generic\", \"generic\", \"generic\", \"generic\", \"generic\", \"generic\", \"generic\", \"generic\", \"generic\", \"generic\", \"generic\", \"generic\", \"generic\", \"generic\", \"generic\", \"generic\", \"generic\", \"generic\", \"generic\", \"generic\", \"generic\", \"generic\", \"generic\", \"generic\", \"generic\", \"generic\", \"generic\", \"generic\", \"generic\", \"generic\", \"generic\", \"generic\", \"generic\", \"generic\", \"generic\", \"generic_android\", \"generic_android\", \"generic_android\", \"generic_android\", \"generic_android\", \"generic_android\", \"generic_android\", \"generic_android\", \"generic_android\", \"generic_android\", \"generic_android\", \"generic_android\", \"generic_android\", \"generic_android\", \"generic_android\", \"generic_android\", \"generic_android\", \"generic_android\", \"generic_android\", \"generic_android\", \"generic_android\", \"generic_android\", \"generic_android\", \"generic_android\", \"generic_android\", \"generic_android\", \"generic_android\", \"generic_android\", \"generic_android\", \"generic_android\", \"generic_android\", \"generic_android\", \"generic_android\", \"generic_android\", \"generic_android\", \"generic_android\", \"generic_android\", \"generic_android\", \"generic_android\", \"generic_android\", \"generic_android\", \"generic_android\", \"generic_android\", \"generic_android\", \"generic_android\", \"generic_android\", \"generic_android\", \"generic_android\", \"generic_android\", \"generic_android\", \"generic_android\", \"generic_android\", \"generic_android\", \"generic_android\", \"generic_android\", \"generic_android\", \"generic_android\", \"generic_android\", \"generic_android\", \"generic_android\", \"generic_android\", \"generic_android\", \"generic_android\", \"generic_android\", \"generic_android\", \"generic_android\", \"generic_android\", \"generic_android\", \"generic_android\", \"generic_android\", \"generic_android\", \"generic_android\", \"generic_android\", \"generic_android\", \"generic_android\", \"generic_android\", \"generic_android\", \"generic_android\", \"generic_android\", \"generic_android\", \"generic_android\", \"generic_android\", \"generic_android\", \"generic_android\", \"generic_android\", \"generic_android\", \"generic_android\", \"generic_android\", \"generic_android\", \"generic_android\", \"generic_android\", \"generic_android\", \"generic_android\", \"generic_android\", \"huawei\", \"huawei\", \"huawei\", \"huawei\", \"huawei\", \"huawei\", \"huawei\", \"huawei\", \"huawei\", \"huawei\", \"huawei\", \"huawei\", \"huawei\", \"huawei\", \"huawei\", \"huawei\", \"huawei\", \"huawei\", \"huawei\", \"huawei\", \"huawei\", \"huawei\", \"huawei\", \"huawei\", \"huawei\", \"huawei\", \"huawei\", \"huawei\", \"huawei\", \"huawei\", \"huawei\", \"huawei\", \"huawei\", \"huawei\", \"huawei\", \"huawei\", \"huawei\", \"huawei\", \"huawei\", \"huawei\", \"huawei\", \"huawei\", \"huawei\", \"huawei\", \"huawei\", \"huawei\", \"huawei\", \"huawei\", \"huawei\", \"huawei\", \"huawei\", \"huawei\", \"huawei\", \"lg\", \"lg\", \"lg\", \"lg\", \"lg\", \"lg\", \"lg\", \"lg\", \"lg\", \"lg\", \"lg\", \"lg\", \"lg\", \"lg\", \"lg\", \"lg\", \"lg\", \"lg\", \"lg\", \"lg\", \"lg\", \"lg\", \"lg\", \"lg\", \"lg\", \"lg\", \"lg\", \"lg\", \"lg\", \"lg\", \"lg\", \"lg\", \"lg\", \"lg\", \"lg\", \"lg\", \"lg\", \"lg\", \"lg\", \"lg\", \"lg\", \"lg\", \"lg\", \"lg\", \"other\", \"other\", \"other\", \"other\", \"other\", \"other\", \"other\", \"other\", \"other\", \"other\", \"other\", \"other\", \"other\", \"other\", \"other\", \"other\", \"other\", \"other\", \"other\", \"other\", \"other\", \"other\", \"other\", \"other\", \"other\", \"other\", \"other\", \"other\", \"other\", \"other\", \"other\", \"other\", \"other\", \"other\", \"other\", \"other\", \"other\", \"other\", \"other\", \"other\", \"other\", \"other\", \"other\", \"other\", \"other\", \"other\", \"other\", \"other\", \"other\", \"other\", \"other\", \"other\", \"other\", \"other\", \"other\", \"other\", \"other\", \"other\", \"other\", \"other\", \"other\", \"other\", \"other\", \"other\", \"other\", \"other\", \"other\", \"other\", \"other\", \"other\", \"other\", \"other\", \"other\", \"other\", \"other\", \"other\", \"samsung\", \"samsung\", \"samsung\", \"samsung\", \"samsung\", \"samsung\", \"samsung\", \"samsung\", \"samsung\", \"samsung\", \"samsung\", \"samsung\", \"samsung\", \"samsung\", \"samsung\", \"samsung\", \"samsung\", \"samsung\", \"samsung\", \"samsung\", \"samsung\", \"samsung\", \"samsung\", \"samsung\", \"samsung\", \"samsung\", \"samsung\", \"samsung\", \"samsung\", \"samsung\", \"samsung\", \"samsung\", \"samsung\", \"samsung\", \"samsung\", \"samsung\", \"samsung\", \"samsung\", \"samsung\", \"samsung\", \"samsung\", \"samsung\", \"samsung\", \"samsung\", \"samsung\", \"samsung\", \"samsung\", \"samsung\", \"samsung\", \"samsung\", \"samsung\", \"samsung\", \"samsung\", \"samsung\", \"samsung\", \"samsung\", \"samsung\", \"samsung\", \"samsung\", \"samsung\", \"samsung\", \"samsung\", \"samsung\", \"samsung\", \"samsung\", \"samsung\", \"samsung\", \"samsung\", \"samsung\", \"samsung\", \"samsung\", \"samsung\", \"samsung\", \"samsung\", \"samsung\", \"samsung\", \"samsung\", \"samsung\", \"samsung\", \"samsung\", \"samsung\", \"samsung\", \"samsung\", \"samsung\", \"samsung\", \"samsung\", \"samsung\", \"samsung\", \"samsung\", \"samsung\", \"samsung\", \"samsung\", \"samsung\", \"samsung\", \"samsung\", \"samsung\", \"samsung\", \"samsung\", \"samsung\", \"samsung\", \"samsung\", \"samsung\", \"samsung\", \"samsung\", \"samsung\", \"samsung\", \"samsung\", \"samsung\", \"samsung\", \"samsung\", \"samsung\", \"samsung\", \"samsung\", \"undefined\", \"undefined\", \"undefined\", \"undefined\", \"undefined\", \"undefined\", \"undefined\", \"undefined\", \"undefined\", \"undefined\", \"undefined\", \"undefined\", \"undefined\", \"undefined\", \"undefined\", \"undefined\", \"undefined\", \"undefined\", \"undefined\", \"undefined\", \"undefined\", \"undefined\", \"undefined\", \"undefined\", \"undefined\", \"undefined\", \"undefined\", \"undefined\", \"undefined\", \"undefined\", \"undefined\", \"undefined\", \"undefined\", \"undefined\", \"undefined\", \"undefined\", \"undefined\", \"undefined\", \"undefined\", \"undefined\", \"undefined\", \"undefined\", \"undefined\", \"undefined\", \"undefined\", \"undefined\", \"undefined\", \"undefined\", \"undefined\", \"undefined\", \"undefined\", \"undefined\", \"undefined\", \"undefined\", \"undefined\", \"undefined\", \"undefined\", \"undefined\", \"undefined\", \"undefined\", \"undefined\", \"undefined\", \"undefined\", \"undefined\", \"undefined\", \"undefined\", \"undefined\", \"undefined\", \"undefined\", \"undefined\", \"undefined\", \"undefined\", \"undefined\", \"undefined\", \"undefined\", \"undefined\", \"undefined\", \"undefined\", \"undefined\", \"undefined\", \"undefined\", \"undefined\", \"undefined\", \"undefined\", \"undefined\", \"undefined\", \"undefined\", \"undefined\", \"undefined\", \"undefined\", \"undefined\", \"undefined\", \"vivo\", \"vivo\", \"vivo\", \"vivo\", \"vivo\", \"vivo\", \"vivo\", \"vivo\", \"vivo\", \"vivo\", \"vivo\", \"vivo\", \"vivo\", \"vivo\", \"vivo\", \"vivo\", \"vivo\", \"vivo\", \"vivo\", \"vivo\", \"vivo\", \"vivo\", \"vivo\", \"vivo\", \"vivo\", \"vivo\", \"vivo\", \"vivo\", \"vivo\", \"vivo\", \"vivo\", \"vivo\", \"vivo\", \"vivo\", \"vivo\", \"vivo\", \"vivo\", \"vivo\", \"vivo\", \"vivo\", \"vivo\", \"vivo\", \"vivo\", \"vivo\", \"vivo\", \"vivo\", \"vivo\", \"vivo\", \"vivo\", \"vivo\", \"vivo\", \"vivo\", \"vivo\", \"vivo\", \"vivo\", \"vivo\", \"vivo\", \"vivo\", \"vivo\", \"vivo\", \"vivo\", \"xiaomi\", \"xiaomi\", \"xiaomi\", \"xiaomi\", \"xiaomi\", \"xiaomi\", \"xiaomi\", \"xiaomi\", \"xiaomi\", \"xiaomi\", \"xiaomi\", \"xiaomi\", \"xiaomi\", \"xiaomi\", \"xiaomi\", \"xiaomi\", \"xiaomi\", \"xiaomi\", \"xiaomi\", \"xiaomi\", \"xiaomi\", \"xiaomi\", \"xiaomi\", \"xiaomi\", \"xiaomi\", \"xiaomi\", \"xiaomi\", \"xiaomi\", \"xiaomi\", \"xiaomi\", \"xiaomi\", \"xiaomi\", \"xiaomi\", \"xiaomi\", \"xiaomi\", \"xiaomi\", \"xiaomi\", \"xiaomi\", \"xiaomi\", \"xiaomi\", \"xiaomi\", \"xiaomi\", \"xiaomi\", \"xiaomi\", \"xiaomi\", \"xiaomi\", \"xiaomi\", \"xiaomi\", \"xiaomi\", \"xiaomi\", \"xiaomi\", \"xiaomi\", \"xiaomi\", \"xiaomi\", \"xiaomi\", \"xiaomi\", \"xiaomi\", \"xiaomi\", \"xiaomi\", \"xiaomi\", \"xiaomi\", \"xiaomi\", \"xiaomi\", \"xiaomi\", \"xiaomi\", \"xiaomi\", \"xiaomi\", \"xiaomi\", \"xiaomi\", \"xiaomi\", \"xiaomi\", \"xiaomi\", \"xiaomi\", \"xiaomi\", \"xiaomi\", \"xiaomi\", \"xiaomi\", \"xiaomi\", \"xiaomi\", \"xiaomi\", \"xiaomi\", \"xiaomi\", \"xiaomi\", \"xiaomi\", \"xiaomi\", \"xiaomi\", \"bacaberita app\", \"bacaberita app\", \"chrome\", \"chrome\", \"chrome\", \"chrome\", \"chrome\", \"chrome\", \"chrome\", \"chrome\", \"chrome\", \"chrome\", \"chrome\", \"chrome\", \"chrome\", \"chrome\", \"chrome\", \"chrome\", \"chrome\", \"chrome\", \"chrome\", \"chrome\", \"chrome\", \"chrome\", \"facebook\", \"facebook\", \"facebook\", \"facebook\", \"facebook\", \"facebook\", \"facebook\", \"facebook\", \"facebook\", \"facebook\", \"facebook\", \"facebook\", \"facebook\", \"facebook\", \"facebook\", \"facebook\", \"facebook\", \"facebook\", \"facebook\", \"facebook\", \"facebook\", \"firefox\", \"firefox\", \"firefox\", \"firefox\", \"firefox\", \"firefox\", \"firefox\", \"firefox\", \"firefox\", \"firefox\", \"firefox\", \"firefox\", \"firefox\", \"firefox\", \"firefox\", \"firefox\", \"firefox\", \"firefox\", \"firefox\", \"firefox\", \"firefox\", \"firefox\", \"miuibrowser\", \"miuibrowser\", \"miuibrowser\", \"miuibrowser\", \"miuibrowser\", \"miuibrowser\", \"miuibrowser\", \"miuibrowser\", \"miuibrowser\", \"miuibrowser\", \"miuibrowser\", \"miuibrowser\", \"miuibrowser\", \"miuibrowser\", \"miuibrowser\", \"miuibrowser\", \"miuibrowser\", \"miuibrowser\", \"miuibrowser\", \"miuibrowser\", \"miuibrowser\", \"opera\", \"opera\", \"opera\", \"opera\", \"opera\", \"opera\", \"opera\", \"opera\", \"opera\", \"opera\", \"opera\", \"opera\", \"opera\", \"opera\", \"opera\", \"opera\", \"opera\", \"opera\", \"opera\", \"opera\", \"opera\", \"opera\", \"other\", \"other\", \"other\", \"other\", \"other\", \"other\", \"other\", \"other\", \"other\", \"other\", \"other\", \"other\", \"other\", \"other\", \"other\", \"other\", \"other\", \"other\", \"other\", \"other\", \"other\", \"other\", \"pale moon\", \"pale moon\", \"safari\", \"safari\", \"safari\", \"safari\", \"safari\", \"safari\", \"safari\", \"safari\", \"safari\", \"safari\", \"safari\", \"safari\", \"safari\", \"safari\", \"safari\", \"safari\", \"safari\", \"safari\", \"safari\", \"safari\", \"safari\", \"safari\", \"samsung internet\", \"samsung internet\", \"samsung internet\", \"samsung internet\", \"samsung internet\", \"samsung internet\", \"samsung internet\", \"samsung internet\", \"samsung internet\", \"samsung internet\", \"samsung internet\", \"samsung internet\", \"samsung internet\", \"samsung internet\", \"samsung internet\", \"samsung internet\", \"samsung internet\", \"samsung internet\", \"samsung internet\", \"samsung internet\", \"samsung internet\", \"samsung internet\", \"uc browser\", \"uc browser\", \"uc browser\", \"uc browser\", \"uc browser\", \"uc browser\", \"uc browser\", \"uc browser\", \"uc browser\", \"uc browser\", \"uc browser\", \"uc browser\", \"uc browser\", \"uc browser\", \"uc browser\", \"uc browser\", \"uc browser\", \"uc browser\", \"uc browser\", \"uc browser\", \"uc browser\", \"web-desktop\", \"web-desktop\", \"web-desktop\", \"web-desktop\", \"web-desktop\", \"web-desktop\", \"web-desktop\", \"web-desktop\", \"web-desktop\", \"web-desktop\", \"web-desktop\", \"web-mobile\", \"web-mobile\", \"web-mobile\", \"web-mobile\", \"web-mobile\", \"web-mobile\", \"web-mobile\", \"web-mobile\", \"web-mobile\", \"web-mobile\", \"web-mobile\", \"bola.com\", \"bola.net\", \"brilio.net\", \"bukalapak.com\", \"dream.co.id\", \"fimela.com\", \"kapanlagi.com\", \"liputan6.com\", \"merdeka.com\", \"others\", \"vidio.com\"], \"marker\": {\"coloraxis\": \"coloraxis\", \"colors\": [6.0, 4.0, 3.0, 4.0, 1.0, 1.0, 4.0, 17.0, 9.0, 29.0, 76.0, 60.0, 21.0, 73.0, 13.0, 30.0, 71.0, 212.0, 286.0, 15.0, 213.0, 1.0, 1.0, 18.0, 2.0, 2.0, 12.0, 1.0, 1.0, 1.0, 1.0, 5.0, 32.0, 1499.0, 49.0, 114.0, 18.0, 1739.0, 113.0, 71.0, 54.0, 11.0, 1.0, 3.0, 3.0, 1.0, 1.0, 4.0, 5.0, 6.0, 1.0, 2.0, 1.0, 1.0, 2.0, 1.0, 1.0, 2.0, 3.0, 11.0, 1.0, 8.0, 1.0, 8.0, 5.0, 14.0, 150.0, 37.0, 187.0, 212.0, 26.0, 69.0, 437.0, 374.0, 631.0, 24.0, 306.0, 6.0, 93.0, 12.0, 1.0, 1.0, 9.0, 19.0, 24.0, 6.0, 26.0, 570.0, 290.0, 481.0, 438.0, 237.0, 408.0, 768.0, 1761.0, 2470.0, 156.0, 1589.0, 6.0, 11.0, 4.0, 7.0, 3.0, 10.0, 13.0, 2.0, 9.0, 1.0, 1.0, 2.0, 152.0, 220.0, 661.0, 284.0, 93.0, 112.0, 1050.0, 611.0, 1156.0, 42.0, 453.0, 1.0, 1.0, 1.0, 16.0, 670.0, 16.0, 38.0, 2.0, 443.0, 65.0, 31.0, 13.0, 2.0, 1.0, 1.0, 4.0, 10.0, 14.0, 10.0, 1.0, 2.0, 6.0, 17.0, 18.0, 3.0, 1.0, 74.0, 3.0, 4.0, 1.0, 7.0, 14.0, 1.0, 1.0, 6.0, 1.0, 7.0, 1.0, 2.0, 1.0, 1.0, 1.0, 1.0, 4.0, 21.0, 7.0, 20.0, 2.0, 3.0, 12.0, 22.0, 32.0, 3.0, 44.0, 4272.0, 7.0, 22.0, 19.0, 48.0, 37.0, 4.0, 15.0, 95.0, 39.0, 93.0, 10.0, 96.0, 3795.0, 1970.0, 6383.0, 2906.0, 1045.0, 1661.0, 9314.0, 9045.0, 15831.0, 481.0, 7596.0, 1.0, 2.0, 2.0, 1.0, 1.0, 1.0, 27.0, 200.0, 12904.0, 132.0, 904.0, 73.0, 9944.0, 998.0, 468.0, 289.0, 35.0, 1.0, 6.0, 16.0, 11.0, 33.0, 1.0, 6.0, 12.0, 15.0, 29.0, 3.0, 7.0, 5.0, 5.0, 12.0, 2.0, 10.0, 14.0, 23.0, 11.0, 1.0, 2.0, 1.0, 1.0, 2.0, 2.0, 59.0, 104.0, 51.0, 96.0, 11.0, 21.0, 50.0, 138.0, 201.0, 10.0, 108.0, 2.0, 2.0, 577.0, 4.0, 1.0, 3.0, 9.0, 23.0, 3.0, 1.0, 11.0, 47.0, 51.0, 3.0, 4.0, 66.0, 22.0, 40.0, 1.0, 37.0, 1.0, 3.0, 6.0, 1.0, 1.0, 7.0, 3.0, 69.0, 216.0, 47.0, 89.0, 10.0, 23.0, 39.0, 122.0, 208.0, 12.0, 574.0, 11.0, 11.0, 66.0, 38.0, 6.0, 13.0, 89.0, 43.0, 58.0, 17.0, 88.0, 2265.0, 1127.0, 5342.0, 2075.0, 663.0, 1041.0, 6959.0, 5401.0, 9391.0, 324.0, 5689.0, 1.0, 5.0, 2.0, 1.0, 17.0, 106.0, 7964.0, 58.0, 486.0, 41.0, 6125.0, 553.0, 253.0, 164.0, 32.0, 4.0, 4.0, 8.0, 14.0, 2.0, 1.0, 5.0, 19.0, 12.0, 1.0, 4.0, 3.0, 1.0, 6.0, 1.0, 2.0, 2.0, 41.0, 83.0, 72.0, 88.0, 18.0, 24.0, 55.0, 96.0, 169.0, 3.0, 124.0, 1.0, 251.0, 2.0, 2.0, 1.0, 40.0, 14.0, 1.0, 1.0, 42.0, 7.0, 18.0, 20.0, 1.0, 1.0, 1.0, 1.0, 1.0, 39.0, 142.0, 53.0, 74.0, 13.0, 16.0, 24.0, 101.0, 116.0, 8.0, 437.0, 1.0, 9.0, 84.0, 104.0, 160.0, 128.0, 35.0, 44.0, 318.0, 272.0, 510.0, 14.0, 221.0, 1.0, 2.0, 12.0, 328.0, 7.0, 21.0, 2.0, 200.0, 25.0, 14.0, 15.0, 2.0, 1.0, 2.0, 12.0, 1.0, 2.0, 1.0, 4.0, 5.0, 1.0, 53.0, 3.0, 1.0, 6.0, 3.0, 1.0, 2.0, 1.0, 1.0, 1.0, 2.0, 9.0, 4.0, 1.0, 3.0, 4.0, 4.0, 1.0, 15.0, 1.0, 2.0, 30.0, 15.0, 47.0, 122.0, 6.0, 79.0, 69.0, 496.0, 894.0, 9.0, 112.0, 1.0, 30.0, 1.0, 1.0, 39.0, 3.0, 3.0, 1.0, 1.0, 1.0, 1.0, 1.0, 3.0, 1.0, 1.0, 1.0, 9.0, 3.0, 1.0, 1.0, 2.0, 1.0, 3.0, 3.0, 1.0, 2.0, 2.0, 1.0, 1.0, 3.0, 1.0, 2.0, 6.0, 2.0, 2.0, 13.0, 10.0, 11.0, 4.0, 8.0, 107.0, 108.0, 286.0, 189.0, 50.0, 61.0, 466.0, 299.0, 550.0, 27.0, 239.0, 2.0, 4.0, 1.0, 1.0, 10.0, 1182.0, 13.0, 75.0, 2.0, 763.0, 86.0, 32.0, 15.0, 3.0, 1.0, 1.0, 1.0, 4.0, 6.0, 9.0, 21.0, 1.0, 3.0, 10.0, 17.0, 30.0, 1.0, 4.0, 1.0, 126.0, 1.0, 1.0, 2.0, 1.0, 1.0, 2.0, 5.0, 5.0, 4.0, 3.0, 7.0, 4.0, 15.0, 1.0, 1.0, 6.0, 41.0, 15.0, 29.0, 4.0, 3.0, 14.0, 38.0, 35.0, 1.0, 90.0, 16.0, 16.0, 79.0, 49.0, 8.0, 11.0, 117.0, 35.0, 79.0, 6.0, 45.0, 1914.0, 1722.0, 5095.0, 2439.0, 647.0, 1191.0, 10223.0, 6168.0, 11649.0, 386.0, 4699.0, 1.0, 3.0, 64.0, 4.0, 49.0, 9.0, 6.0, 2.0, 30.0, 282.0, 12075.0, 133.0, 968.0, 81.0, 10717.0, 1058.0, 579.0, 301.0, 39.0, 1.0, 2.0, 1.0, 1.0, 1.0, 2.0, 4.0, 1.0, 1.0, 34.0, 85.0, 50.0, 108.0, 7.0, 11.0, 47.0, 81.0, 126.0, 3.0, 27.0, 1.0, 1.0, 2.0, 580.0, 5.0, 4.0, 4.0, 43.0, 1.0, 16.0, 119.0, 72.0, 3.0, 10.0, 203.0, 62.0, 100.0, 2.0, 44.0, 3.0, 6.0, 10.0, 16.0, 1.0, 5.0, 9.0, 7.0, 26.0, 4.0, 51.0, 339.0, 402.0, 795.0, 742.0, 97.0, 219.0, 1478.0, 1076.0, 1786.0, 87.0, 985.0, 52.0, 279.0, 80.0, 133.0, 11.0, 24.0, 92.0, 208.0, 202.0, 16.0, 669.0, 672.0, 845.0, 934.0, 10837.0, 257.0, 299.0, 1494.0, 2097.0, 4323.0, 1911.0, 8848.0, 1.0, 1.0, 1.0, 110.0, 221.0, 252.0, 2236.0, 48.0, 42.0, 509.0, 357.0, 732.0, 304.0, 1416.0, 1.0, 2.0, 2.0, 1.0, 7.0, 29.0, 3.0, 4.0, 12.0, 17.0, 5.0, 15.0, 9.0, 19.0, 34.0, 321.0, 9.0, 3.0, 41.0, 90.0, 85.0, 47.0, 203.0, 28.0, 48.0, 39.0, 426.0, 19.0, 8.0, 62.0, 242.0, 126.0, 95.0, 397.0, 5323.0, 1.0, 17.0, 26.0, 35.0, 166.0, 4.0, 20.0, 63.0, 106.0, 151.0, 80.0, 256.0, 1.0, 4.0, 3.0, 6.0, 1.0, 5.0, 6.0, 6.0, 10.0, 10.0, 3.0, 1.0, 2.0, 4.0, 1.0, 3.0, 3.0, 5.0, 1.0, 5.0, 1.0, 1.0, 1.0, 1.0, 166.0, 102.0, 263.0, 261.0, 163.0, 112.0, 614.0, 477.0, 951.0, 215.0, 644.0, 25.0, 136.0, 8414.0, 79.0, 589.0, 43.0, 6717.0, 546.0, 275.0, 173.0, 42.0, 1.0, 11.0, 41.0, 17.0, 30.0, 6.0, 13.0, 11.0, 24.0, 36.0, 3.0, 20.0, 274.0, 1.0, 1.0, 1.0, 33.0, 14.0, 4.0, 2.0, 40.0, 18.0, 11.0, 35.0, 34.0, 110.0, 27.0, 48.0, 7.0, 15.0, 17.0, 81.0, 85.0, 7.0, 321.0, 1.0, 1.0, 2.0, 1.0, 4.0, 1.0, 9.0, 4.0, 1623.0, 1455.0, 4081.0, 1764.0, 525.0, 722.0, 5579.0, 4305.0, 7646.0, 249.0, 3697.0, 2.0, 2.0, 30.0, 153.0, 8003.0, 94.0, 518.0, 33.0, 4924.0, 602.0, 269.0, 161.0, 23.0, 178.0, 131.0, 248.0, 520.0, 34.0, 84.0, 390.0, 480.0, 641.0, 21.0, 896.0, 1.0, 1.0, 32.0, 112.0, 43.0, 108.0, 11.0, 16.0, 47.0, 96.0, 135.0, 6.0, 35.0, 506.0, 32.0, 2.0, 50.0, 46.0, 2.0, 6.0, 58.0, 12.0, 30.0, 1.0, 21.0, 1.0, 1.0, 4.0, 1.0, 2.0, 2.0, 1.0, 45.0, 207.0, 53.0, 103.0, 20.0, 19.0, 51.0, 160.0, 193.0, 7.0, 391.0, 4272.0, 7.0, 621.5412087912088, 796.8595317725752, 778.6306068601583, 10707.066004193637, 239.731884057971, 262.9298245614035, 1248.1285162713734, 1973.1613626176602, 4073.840592334495, 1864.4435936702398, 8575.021901007447, 2536.533535689807, 1499.1205869533633, 5036.455302385962, 2151.3497705302216, 699.0666666666667, 1151.841084504255, 7864.667262866375, 6179.552517774683, 10982.652423051735, 338.56640181611806, 5372.66761448033, 1.0, 2.0, 46.93684210526316, 2.0, 3.3333333333333335, 35.273972602739725, 7.545454545454546, 4.75, 1.4, 1.0, 25.17391304347826, 183.74472573839662, 9700.37217584654, 97.12392426850258, 707.1050080775444, 56.91216216216216, 7797.476027973373, 767.2810570511238, 387.71478696741855, 219.56492411467116, 32.80952380952381, 110.0, 221.0, 252.0, 2236.0, 48.0, 42.0, 509.0, 357.0, 731.0027285129604, 304.0, 1416.0, 4.818181818181818, 12.217391304347826, 9.736842105263158, 25.392156862745097, 1.5, 4.75, 8.80952380952381, 15.666666666666666, 21.72340425531915, 1.5, 3.2222222222222223, 2.0, 1.0, 7.0, 29.0, 3.0, 4.0, 12.0, 17.0, 5.0, 15.0, 171.52972972972972, 125.45255474452554, 243.19762845849803, 504.7649253731343, 34.0, 81.16091954022988, 380.5, 463.98591549295776, 619.593373493976, 21.0, 877.5704918032787, 7.545454545454546, 15.25, 30.57894736842105, 313.23100303951367, 9.0, 3.0, 39.13953488372093, 83.72164948453609, 82.1590909090909, 46.041666666666664, 200.06796116504853, 39.8936170212766, 86.86343612334802, 49.04633204633205, 89.94396551724138, 11.872727272727273, 17.511111111111113, 44.391304347826086, 95.37552742616033, 146.07607192254494, 6.3076923076923075, 91.08668730650155, 26.2, 45.27450980392157, 32.083333333333336, 439.6539660547281, 14.357142857142858, 7.222222222222222, 55.056338028169016, 230.70866141732284, 108.36486486486487, 59.457142857142856, 380.27710843373495, 141.61635220125785, 24.416666666666668, 115.51836734693877, 127.28899082568807, 17.9, 52.340425531914896, 282.2877030162413, 287.7554671968191, 485.4887839433294, 18.93548387096774, 211.1449893390192, 5323.0, 1.0, 17.0, 22.25, 77.140625, 155.61797752808988, 3.4, 19.095238095238095, 56.25, 92.776, 133.58285714285714, 74.83720930232558, 223.69360269360268, 570.0, 290.0, 480.00414937759336, 438.0, 237.0, 408.0, 767.002600780234, 1761.0, 2470.0, 156.0, 1589.0, 2.5, 5.2, 8.384615384615385, 13.272727272727273, 1.0, 5.0, 7.8, 6.538461538461538, 21.555555555555557, 4.0, 44.278688524590166, 336.05263157894734, 391.39709443099275, 792.015037593985, 737.0562248995984, 97.0, 217.02714932126696, 1477.001352265044, 1062.234862385321, 1783.0078256008944, 87.0, 980.0363636363636, 3.0, 1.0, 1.6666666666666667, 4.0, 1.0, 2.5, 2.5, 5.0, 1.0, 5.0, 47.875, 194.72999035679845, 54.00709219858156, 89.82539682539682, 12.647058823529411, 18.30909090909091, 54.15294117647059, 137.47184986595175, 162.11111111111111, 10.12280701754386, 483.83810270482167, 513.5226019845645, 617.1174577634755, 561.3044741429402, 6923.928249692889, 183.026525198939, 215.44859813084113, 972.8595009596929, 1484.604381443299, 3324.8317821440883, 1436.3241800152555, 6977.277253441856, 2190.5969159343394, 1072.3389880081895, 7859.645903990859, 1660.6072296042291, 662.3224729603419, 952.9032511386838, 7476.250725486045, 4843.04192619015, 9396.611540902619, 267.45885885885883, 4322.610954964377, 2073.3090446449223, 1023.1354782608696, 7710.088302533816, 4876.065236123079, 639.3508771929825, 906.4528329654157, 7271.882189731712, 4579.455232749247, 8847.01691134027, 782.372311827957, 5050.034996559661]}, \"name\": \"\", \"parents\": [\"bola.com/web-desktop/chrome\", \"bola.net/web-desktop/chrome\", \"brilio.net/web-desktop/chrome\", \"bukalapak.com/web-desktop/chrome\", \"fimela.com/web-desktop/chrome\", \"kapanlagi.com/web-desktop/chrome\", \"liputan6.com/web-desktop/chrome\", \"merdeka.com/web-desktop/chrome\", \"others/web-desktop/chrome\", \"vidio.com/web-desktop/chrome\", \"bola.com/web-mobile/chrome\", \"bola.net/web-mobile/chrome\", \"brilio.net/web-mobile/chrome\", \"bukalapak.com/web-mobile/chrome\", \"dream.co.id/web-mobile/chrome\", \"fimela.com/web-mobile/chrome\", \"kapanlagi.com/web-mobile/chrome\", \"liputan6.com/web-mobile/chrome\", \"merdeka.com/web-mobile/chrome\", \"others/web-mobile/chrome\", \"vidio.com/web-mobile/chrome\", \"bola.com/web-desktop/facebook\", \"bola.net/web-desktop/facebook\", \"brilio.net/web-desktop/facebook\", \"bukalapak.com/web-desktop/facebook\", \"dream.co.id/web-desktop/facebook\", \"kapanlagi.com/web-desktop/facebook\", \"liputan6.com/web-desktop/facebook\", \"merdeka.com/web-desktop/facebook\", \"others/web-desktop/facebook\", \"vidio.com/web-desktop/facebook\", \"bola.com/web-mobile/facebook\", \"bola.net/web-mobile/facebook\", \"brilio.net/web-mobile/facebook\", \"bukalapak.com/web-mobile/facebook\", \"dream.co.id/web-mobile/facebook\", \"fimela.com/web-mobile/facebook\", \"kapanlagi.com/web-mobile/facebook\", \"liputan6.com/web-mobile/facebook\", \"merdeka.com/web-mobile/facebook\", \"others/web-mobile/facebook\", \"vidio.com/web-mobile/facebook\", \"bola.com/web-mobile/firefox\", \"bola.net/web-mobile/firefox\", \"bukalapak.com/web-mobile/firefox\", \"dream.co.id/web-mobile/firefox\", \"fimela.com/web-mobile/firefox\", \"kapanlagi.com/web-mobile/firefox\", \"liputan6.com/web-mobile/firefox\", \"merdeka.com/web-mobile/firefox\", \"others/web-mobile/firefox\", \"vidio.com/web-mobile/firefox\", \"bukalapak.com/web-mobile/miuibrowser\", \"liputan6.com/web-mobile/miuibrowser\", \"vidio.com/web-mobile/miuibrowser\", \"bola.net/web-desktop/opera\", \"brilio.net/web-mobile/opera\", \"merdeka.com/web-mobile/opera\", \"brilio.net/web-desktop/other\", \"bukalapak.com/web-desktop/other\", \"fimela.com/web-desktop/other\", \"kapanlagi.com/web-desktop/other\", \"liputan6.com/web-desktop/other\", \"merdeka.com/web-desktop/other\", \"others/web-desktop/other\", \"vidio.com/web-desktop/other\", \"bola.com/web-mobile/other\", \"bola.net/web-mobile/other\", \"brilio.net/web-mobile/other\", \"bukalapak.com/web-mobile/other\", \"dream.co.id/web-mobile/other\", \"fimela.com/web-mobile/other\", \"kapanlagi.com/web-mobile/other\", \"liputan6.com/web-mobile/other\", \"merdeka.com/web-mobile/other\", \"others/web-mobile/other\", \"vidio.com/web-mobile/other\", \"bola.net/web-desktop/safari\", \"brilio.net/web-desktop/safari\", \"bukalapak.com/web-desktop/safari\", \"dream.co.id/web-desktop/safari\", \"fimela.com/web-desktop/safari\", \"kapanlagi.com/web-desktop/safari\", \"liputan6.com/web-desktop/safari\", \"merdeka.com/web-desktop/safari\", \"others/web-desktop/safari\", \"vidio.com/web-desktop/safari\", \"bola.com/web-mobile/safari\", \"bola.net/web-mobile/safari\", \"brilio.net/web-mobile/safari\", \"bukalapak.com/web-mobile/safari\", \"dream.co.id/web-mobile/safari\", \"fimela.com/web-mobile/safari\", \"kapanlagi.com/web-mobile/safari\", \"liputan6.com/web-mobile/safari\", \"merdeka.com/web-mobile/safari\", \"others/web-mobile/safari\", \"vidio.com/web-mobile/safari\", \"bola.com/web-mobile/uc browser\", \"bola.net/web-mobile/uc browser\", \"bukalapak.com/web-mobile/uc browser\", \"fimela.com/web-mobile/uc browser\", \"kapanlagi.com/web-mobile/uc browser\", \"liputan6.com/web-mobile/uc browser\", \"merdeka.com/web-mobile/uc browser\", \"others/web-mobile/uc browser\", \"vidio.com/web-mobile/uc browser\", \"dream.co.id/web-desktop/chrome\", \"liputan6.com/web-desktop/chrome\", \"vidio.com/web-desktop/chrome\", \"bola.com/web-mobile/chrome\", \"bola.net/web-mobile/chrome\", \"brilio.net/web-mobile/chrome\", \"bukalapak.com/web-mobile/chrome\", \"dream.co.id/web-mobile/chrome\", \"fimela.com/web-mobile/chrome\", \"kapanlagi.com/web-mobile/chrome\", \"liputan6.com/web-mobile/chrome\", \"merdeka.com/web-mobile/chrome\", \"others/web-mobile/chrome\", \"vidio.com/web-mobile/chrome\", \"brilio.net/web-desktop/facebook\", \"kapanlagi.com/web-desktop/facebook\", \"bola.com/web-mobile/facebook\", \"bola.net/web-mobile/facebook\", \"brilio.net/web-mobile/facebook\", \"bukalapak.com/web-mobile/facebook\", \"dream.co.id/web-mobile/facebook\", \"fimela.com/web-mobile/facebook\", \"kapanlagi.com/web-mobile/facebook\", \"liputan6.com/web-mobile/facebook\", \"merdeka.com/web-mobile/facebook\", \"others/web-mobile/facebook\", \"vidio.com/web-mobile/facebook\", \"brilio.net/web-desktop/opera\", \"merdeka.com/web-desktop/opera\", \"bola.com/web-mobile/opera\", \"bola.net/web-mobile/opera\", \"brilio.net/web-mobile/opera\", \"bukalapak.com/web-mobile/opera\", \"dream.co.id/web-mobile/opera\", \"fimela.com/web-mobile/opera\", \"kapanlagi.com/web-mobile/opera\", \"liputan6.com/web-mobile/opera\", \"merdeka.com/web-mobile/opera\", \"vidio.com/web-mobile/opera\", \"bola.com/web-desktop/other\", \"bukalapak.com/web-desktop/other\", \"liputan6.com/web-desktop/other\", \"others/web-desktop/other\", \"bola.net/web-mobile/other\", \"brilio.net/web-mobile/other\", \"bukalapak.com/web-mobile/other\", \"dream.co.id/web-mobile/other\", \"fimela.com/web-mobile/other\", \"kapanlagi.com/web-mobile/other\", \"liputan6.com/web-mobile/other\", \"merdeka.com/web-mobile/other\", \"others/web-mobile/other\", \"bola.net/web-mobile/samsung internet\", \"brilio.net/web-mobile/samsung internet\", \"liputan6.com/web-mobile/samsung internet\", \"merdeka.com/web-mobile/samsung internet\", \"vidio.com/web-mobile/samsung internet\", \"bola.com/web-mobile/uc browser\", \"bola.net/web-mobile/uc browser\", \"brilio.net/web-mobile/uc browser\", \"bukalapak.com/web-mobile/uc browser\", \"dream.co.id/web-mobile/uc browser\", \"fimela.com/web-mobile/uc browser\", \"kapanlagi.com/web-mobile/uc browser\", \"liputan6.com/web-mobile/uc browser\", \"merdeka.com/web-mobile/uc browser\", \"others/web-mobile/uc browser\", \"vidio.com/web-mobile/uc browser\", \"brilio.net/web-mobile/bacaberita app\", \"merdeka.com/web-mobile/bacaberita app\", \"bola.com/web-desktop/chrome\", \"bola.net/web-desktop/chrome\", \"brilio.net/web-desktop/chrome\", \"bukalapak.com/web-desktop/chrome\", \"dream.co.id/web-desktop/chrome\", \"fimela.com/web-desktop/chrome\", \"kapanlagi.com/web-desktop/chrome\", \"liputan6.com/web-desktop/chrome\", \"merdeka.com/web-desktop/chrome\", \"others/web-desktop/chrome\", \"vidio.com/web-desktop/chrome\", \"bola.com/web-mobile/chrome\", \"bola.net/web-mobile/chrome\", \"brilio.net/web-mobile/chrome\", \"bukalapak.com/web-mobile/chrome\", \"dream.co.id/web-mobile/chrome\", \"fimela.com/web-mobile/chrome\", \"kapanlagi.com/web-mobile/chrome\", \"liputan6.com/web-mobile/chrome\", \"merdeka.com/web-mobile/chrome\", \"others/web-mobile/chrome\", \"vidio.com/web-mobile/chrome\", \"bola.net/web-desktop/facebook\", \"brilio.net/web-desktop/facebook\", \"kapanlagi.com/web-desktop/facebook\", \"liputan6.com/web-desktop/facebook\", \"others/web-desktop/facebook\", \"vidio.com/web-desktop/facebook\", \"bola.com/web-mobile/facebook\", \"bola.net/web-mobile/facebook\", \"brilio.net/web-mobile/facebook\", \"bukalapak.com/web-mobile/facebook\", \"dream.co.id/web-mobile/facebook\", \"fimela.com/web-mobile/facebook\", \"kapanlagi.com/web-mobile/facebook\", \"liputan6.com/web-mobile/facebook\", \"merdeka.com/web-mobile/facebook\", \"others/web-mobile/facebook\", \"vidio.com/web-mobile/facebook\", \"merdeka.com/web-desktop/firefox\", \"bola.com/web-mobile/firefox\", \"bola.net/web-mobile/firefox\", \"brilio.net/web-mobile/firefox\", \"bukalapak.com/web-mobile/firefox\", \"dream.co.id/web-mobile/firefox\", \"fimela.com/web-mobile/firefox\", \"kapanlagi.com/web-mobile/firefox\", \"liputan6.com/web-mobile/firefox\", \"merdeka.com/web-mobile/firefox\", \"vidio.com/web-mobile/firefox\", \"bola.com/web-mobile/miuibrowser\", \"bola.net/web-mobile/miuibrowser\", \"brilio.net/web-mobile/miuibrowser\", \"bukalapak.com/web-mobile/miuibrowser\", \"fimela.com/web-mobile/miuibrowser\", \"kapanlagi.com/web-mobile/miuibrowser\", \"liputan6.com/web-mobile/miuibrowser\", \"merdeka.com/web-mobile/miuibrowser\", \"vidio.com/web-mobile/miuibrowser\", \"bola.net/web-desktop/opera\", \"brilio.net/web-desktop/opera\", \"bukalapak.com/web-desktop/opera\", \"kapanlagi.com/web-desktop/opera\", \"liputan6.com/web-desktop/opera\", \"merdeka.com/web-desktop/opera\", \"bola.com/web-mobile/opera\", \"bola.net/web-mobile/opera\", \"brilio.net/web-mobile/opera\", \"bukalapak.com/web-mobile/opera\", \"dream.co.id/web-mobile/opera\", \"fimela.com/web-mobile/opera\", \"kapanlagi.com/web-mobile/opera\", \"liputan6.com/web-mobile/opera\", \"merdeka.com/web-mobile/opera\", \"others/web-mobile/opera\", \"vidio.com/web-mobile/opera\", \"bola.net/web-desktop/other\", \"brilio.net/web-desktop/other\", \"bukalapak.com/web-desktop/other\", \"dream.co.id/web-desktop/other\", \"kapanlagi.com/web-desktop/other\", \"liputan6.com/web-desktop/other\", \"merdeka.com/web-desktop/other\", \"others/web-desktop/other\", \"vidio.com/web-desktop/other\", \"bola.com/web-mobile/other\", \"bola.net/web-mobile/other\", \"brilio.net/web-mobile/other\", \"bukalapak.com/web-mobile/other\", \"dream.co.id/web-mobile/other\", \"fimela.com/web-mobile/other\", \"kapanlagi.com/web-mobile/other\", \"liputan6.com/web-mobile/other\", \"merdeka.com/web-mobile/other\", \"others/web-mobile/other\", \"vidio.com/web-mobile/other\", \"brilio.net/web-mobile/safari\", \"bola.com/web-mobile/samsung internet\", \"bola.net/web-mobile/samsung internet\", \"brilio.net/web-mobile/samsung internet\", \"fimela.com/web-mobile/samsung internet\", \"liputan6.com/web-mobile/samsung internet\", \"vidio.com/web-mobile/samsung internet\", \"bola.com/web-mobile/uc browser\", \"bola.net/web-mobile/uc browser\", \"brilio.net/web-mobile/uc browser\", \"bukalapak.com/web-mobile/uc browser\", \"dream.co.id/web-mobile/uc browser\", \"fimela.com/web-mobile/uc browser\", \"kapanlagi.com/web-mobile/uc browser\", \"liputan6.com/web-mobile/uc browser\", \"merdeka.com/web-mobile/uc browser\", \"others/web-mobile/uc browser\", \"vidio.com/web-mobile/uc browser\", \"bola.com/web-desktop/chrome\", \"bola.net/web-desktop/chrome\", \"brilio.net/web-desktop/chrome\", \"bukalapak.com/web-desktop/chrome\", \"dream.co.id/web-desktop/chrome\", \"fimela.com/web-desktop/chrome\", \"kapanlagi.com/web-desktop/chrome\", \"liputan6.com/web-desktop/chrome\", \"merdeka.com/web-desktop/chrome\", \"others/web-desktop/chrome\", \"vidio.com/web-desktop/chrome\", \"bola.com/web-mobile/chrome\", \"bola.net/web-mobile/chrome\", \"brilio.net/web-mobile/chrome\", \"bukalapak.com/web-mobile/chrome\", \"dream.co.id/web-mobile/chrome\", \"fimela.com/web-mobile/chrome\", \"kapanlagi.com/web-mobile/chrome\", \"liputan6.com/web-mobile/chrome\", \"merdeka.com/web-mobile/chrome\", \"others/web-mobile/chrome\", \"vidio.com/web-mobile/chrome\", \"bola.net/web-desktop/facebook\", \"brilio.net/web-desktop/facebook\", \"kapanlagi.com/web-desktop/facebook\", \"others/web-desktop/facebook\", \"bola.com/web-mobile/facebook\", \"bola.net/web-mobile/facebook\", \"brilio.net/web-mobile/facebook\", \"bukalapak.com/web-mobile/facebook\", \"dream.co.id/web-mobile/facebook\", \"fimela.com/web-mobile/facebook\", \"kapanlagi.com/web-mobile/facebook\", \"liputan6.com/web-mobile/facebook\", \"merdeka.com/web-mobile/facebook\", \"others/web-mobile/facebook\", \"vidio.com/web-mobile/facebook\", \"bola.com/web-mobile/firefox\", \"bola.net/web-mobile/firefox\", \"brilio.net/web-mobile/firefox\", \"bukalapak.com/web-mobile/firefox\", \"dream.co.id/web-mobile/firefox\", \"fimela.com/web-mobile/firefox\", \"kapanlagi.com/web-mobile/firefox\", \"liputan6.com/web-mobile/firefox\", \"merdeka.com/web-mobile/firefox\", \"others/web-mobile/firefox\", \"vidio.com/web-mobile/firefox\", \"bukalapak.com/web-mobile/miuibrowser\", \"fimela.com/web-mobile/miuibrowser\", \"vidio.com/web-mobile/miuibrowser\", \"bola.com/web-desktop/opera\", \"bukalapak.com/web-desktop/opera\", \"vidio.com/web-desktop/opera\", \"bola.com/web-mobile/opera\", \"bola.net/web-mobile/opera\", \"brilio.net/web-mobile/opera\", \"bukalapak.com/web-mobile/opera\", \"dream.co.id/web-mobile/opera\", \"fimela.com/web-mobile/opera\", \"kapanlagi.com/web-mobile/opera\", \"liputan6.com/web-mobile/opera\", \"merdeka.com/web-mobile/opera\", \"others/web-mobile/opera\", \"vidio.com/web-mobile/opera\", \"brilio.net/web-desktop/other\", \"bukalapak.com/web-desktop/other\", \"others/web-desktop/other\", \"bola.com/web-mobile/other\", \"bola.net/web-mobile/other\", \"brilio.net/web-mobile/other\", \"bukalapak.com/web-mobile/other\", \"dream.co.id/web-mobile/other\", \"fimela.com/web-mobile/other\", \"kapanlagi.com/web-mobile/other\", \"liputan6.com/web-mobile/other\", \"merdeka.com/web-mobile/other\", \"vidio.com/web-mobile/other\", \"bola.net/web-mobile/samsung internet\", \"kapanlagi.com/web-mobile/samsung internet\", \"liputan6.com/web-mobile/samsung internet\", \"vidio.com/web-mobile/samsung internet\", \"liputan6.com/web-desktop/uc browser\", \"bola.com/web-mobile/uc browser\", \"bola.net/web-mobile/uc browser\", \"brilio.net/web-mobile/uc browser\", \"bukalapak.com/web-mobile/uc browser\", \"dream.co.id/web-mobile/uc browser\", \"fimela.com/web-mobile/uc browser\", \"kapanlagi.com/web-mobile/uc browser\", \"liputan6.com/web-mobile/uc browser\", \"merdeka.com/web-mobile/uc browser\", \"others/web-mobile/uc browser\", \"vidio.com/web-mobile/uc browser\", \"merdeka.com/web-desktop/chrome\", \"vidio.com/web-desktop/chrome\", \"bola.com/web-mobile/chrome\", \"bola.net/web-mobile/chrome\", \"brilio.net/web-mobile/chrome\", \"bukalapak.com/web-mobile/chrome\", \"dream.co.id/web-mobile/chrome\", \"fimela.com/web-mobile/chrome\", \"kapanlagi.com/web-mobile/chrome\", \"liputan6.com/web-mobile/chrome\", \"merdeka.com/web-mobile/chrome\", \"others/web-mobile/chrome\", \"vidio.com/web-mobile/chrome\", \"kapanlagi.com/web-desktop/facebook\", \"bola.com/web-mobile/facebook\", \"bola.net/web-mobile/facebook\", \"brilio.net/web-mobile/facebook\", \"bukalapak.com/web-mobile/facebook\", \"dream.co.id/web-mobile/facebook\", \"fimela.com/web-mobile/facebook\", \"kapanlagi.com/web-mobile/facebook\", \"liputan6.com/web-mobile/facebook\", \"merdeka.com/web-mobile/facebook\", \"others/web-mobile/facebook\", \"vidio.com/web-mobile/facebook\", \"bukalapak.com/web-desktop/opera\", \"bola.com/web-mobile/opera\", \"bola.net/web-mobile/opera\", \"brilio.net/web-mobile/opera\", \"bukalapak.com/web-mobile/opera\", \"kapanlagi.com/web-mobile/opera\", \"liputan6.com/web-mobile/opera\", \"merdeka.com/web-mobile/opera\", \"vidio.com/web-mobile/opera\", \"bukalapak.com/web-desktop/other\", \"others/web-desktop/other\", \"brilio.net/web-mobile/other\", \"bukalapak.com/web-mobile/other\", \"kapanlagi.com/web-mobile/other\", \"liputan6.com/web-mobile/other\", \"merdeka.com/web-mobile/other\", \"kapanlagi.com/web-mobile/safari\", \"bola.net/web-mobile/samsung internet\", \"bukalapak.com/web-mobile/samsung internet\", \"liputan6.com/web-mobile/samsung internet\", \"bola.net/web-mobile/uc browser\", \"bukalapak.com/web-mobile/uc browser\", \"dream.co.id/web-mobile/uc browser\", \"kapanlagi.com/web-mobile/uc browser\", \"liputan6.com/web-mobile/uc browser\", \"merdeka.com/web-mobile/uc browser\", \"others/web-mobile/uc browser\", \"vidio.com/web-mobile/uc browser\", \"others/web-desktop/chrome\", \"vidio.com/web-desktop/chrome\", \"bola.com/web-mobile/chrome\", \"bola.net/web-mobile/chrome\", \"brilio.net/web-mobile/chrome\", \"bukalapak.com/web-mobile/chrome\", \"dream.co.id/web-mobile/chrome\", \"fimela.com/web-mobile/chrome\", \"kapanlagi.com/web-mobile/chrome\", \"liputan6.com/web-mobile/chrome\", \"merdeka.com/web-mobile/chrome\", \"others/web-mobile/chrome\", \"vidio.com/web-mobile/chrome\", \"bola.net/web-mobile/facebook\", \"brilio.net/web-mobile/facebook\", \"dream.co.id/web-mobile/facebook\", \"fimela.com/web-mobile/facebook\", \"kapanlagi.com/web-mobile/facebook\", \"liputan6.com/web-mobile/facebook\", \"merdeka.com/web-mobile/facebook\", \"others/web-mobile/facebook\", \"bola.com/web-mobile/opera\", \"bola.net/web-mobile/opera\", \"brilio.net/web-mobile/opera\", \"bukalapak.com/web-mobile/opera\", \"kapanlagi.com/web-mobile/opera\", \"liputan6.com/web-mobile/opera\", \"merdeka.com/web-mobile/opera\", \"vidio.com/web-mobile/opera\", \"bukalapak.com/web-desktop/other\", \"bola.com/web-mobile/other\", \"bola.net/web-mobile/other\", \"brilio.net/web-mobile/other\", \"bukalapak.com/web-mobile/other\", \"fimela.com/web-mobile/other\", \"kapanlagi.com/web-mobile/other\", \"liputan6.com/web-mobile/other\", \"merdeka.com/web-mobile/other\", \"others/web-mobile/other\", \"vidio.com/web-mobile/other\", \"bola.com/web-mobile/uc browser\", \"bola.net/web-mobile/uc browser\", \"merdeka.com/web-mobile/uc browser\", \"vidio.com/web-mobile/uc browser\", \"bola.net/web-desktop/chrome\", \"brilio.net/web-desktop/chrome\", \"bukalapak.com/web-desktop/chrome\", \"fimela.com/web-desktop/chrome\", \"kapanlagi.com/web-desktop/chrome\", \"liputan6.com/web-desktop/chrome\", \"merdeka.com/web-desktop/chrome\", \"others/web-desktop/chrome\", \"vidio.com/web-desktop/chrome\", \"bola.com/web-mobile/chrome\", \"bola.net/web-mobile/chrome\", \"brilio.net/web-mobile/chrome\", \"bukalapak.com/web-mobile/chrome\", \"dream.co.id/web-mobile/chrome\", \"fimela.com/web-mobile/chrome\", \"kapanlagi.com/web-mobile/chrome\", \"liputan6.com/web-mobile/chrome\", \"merdeka.com/web-mobile/chrome\", \"others/web-mobile/chrome\", \"vidio.com/web-mobile/chrome\", \"brilio.net/web-desktop/facebook\", \"kapanlagi.com/web-desktop/facebook\", \"merdeka.com/web-desktop/facebook\", \"bola.com/web-mobile/facebook\", \"bola.net/web-mobile/facebook\", \"brilio.net/web-mobile/facebook\", \"bukalapak.com/web-mobile/facebook\", \"dream.co.id/web-mobile/facebook\", \"fimela.com/web-mobile/facebook\", \"kapanlagi.com/web-mobile/facebook\", \"liputan6.com/web-mobile/facebook\", \"merdeka.com/web-mobile/facebook\", \"others/web-mobile/facebook\", \"vidio.com/web-mobile/facebook\", \"bola.net/web-desktop/opera\", \"kapanlagi.com/web-desktop/opera\", \"liputan6.com/web-desktop/opera\", \"bola.com/web-mobile/opera\", \"bola.net/web-mobile/opera\", \"brilio.net/web-mobile/opera\", \"bukalapak.com/web-mobile/opera\", \"dream.co.id/web-mobile/opera\", \"fimela.com/web-mobile/opera\", \"kapanlagi.com/web-mobile/opera\", \"liputan6.com/web-mobile/opera\", \"merdeka.com/web-mobile/opera\", \"others/web-mobile/opera\", \"vidio.com/web-mobile/opera\", \"brilio.net/web-desktop/other\", \"bukalapak.com/web-desktop/other\", \"liputan6.com/web-desktop/other\", \"merdeka.com/web-desktop/other\", \"others/web-desktop/other\", \"vidio.com/web-desktop/other\", \"bola.com/web-mobile/other\", \"bola.net/web-mobile/other\", \"brilio.net/web-mobile/other\", \"bukalapak.com/web-mobile/other\", \"kapanlagi.com/web-mobile/other\", \"liputan6.com/web-mobile/other\", \"merdeka.com/web-mobile/other\", \"vidio.com/web-mobile/other\", \"vidio.com/web-desktop/safari\", \"liputan6.com/web-mobile/samsung internet\", \"brilio.net/web-desktop/uc browser\", \"bola.com/web-mobile/uc browser\", \"bola.net/web-mobile/uc browser\", \"brilio.net/web-mobile/uc browser\", \"bukalapak.com/web-mobile/uc browser\", \"dream.co.id/web-mobile/uc browser\", \"fimela.com/web-mobile/uc browser\", \"kapanlagi.com/web-mobile/uc browser\", \"liputan6.com/web-mobile/uc browser\", \"merdeka.com/web-mobile/uc browser\", \"others/web-mobile/uc browser\", \"vidio.com/web-mobile/uc browser\", \"bola.com/web-desktop/chrome\", \"bola.net/web-desktop/chrome\", \"brilio.net/web-desktop/chrome\", \"bukalapak.com/web-desktop/chrome\", \"dream.co.id/web-desktop/chrome\", \"fimela.com/web-desktop/chrome\", \"kapanlagi.com/web-desktop/chrome\", \"liputan6.com/web-desktop/chrome\", \"merdeka.com/web-desktop/chrome\", \"others/web-desktop/chrome\", \"vidio.com/web-desktop/chrome\", \"bola.com/web-mobile/chrome\", \"bola.net/web-mobile/chrome\", \"brilio.net/web-mobile/chrome\", \"bukalapak.com/web-mobile/chrome\", \"dream.co.id/web-mobile/chrome\", \"fimela.com/web-mobile/chrome\", \"kapanlagi.com/web-mobile/chrome\", \"liputan6.com/web-mobile/chrome\", \"merdeka.com/web-mobile/chrome\", \"others/web-mobile/chrome\", \"vidio.com/web-mobile/chrome\", \"bola.com/web-desktop/facebook\", \"bola.net/web-desktop/facebook\", \"brilio.net/web-desktop/facebook\", \"dream.co.id/web-desktop/facebook\", \"kapanlagi.com/web-desktop/facebook\", \"liputan6.com/web-desktop/facebook\", \"merdeka.com/web-desktop/facebook\", \"others/web-desktop/facebook\", \"bola.com/web-mobile/facebook\", \"bola.net/web-mobile/facebook\", \"brilio.net/web-mobile/facebook\", \"bukalapak.com/web-mobile/facebook\", \"dream.co.id/web-mobile/facebook\", \"fimela.com/web-mobile/facebook\", \"kapanlagi.com/web-mobile/facebook\", \"liputan6.com/web-mobile/facebook\", \"merdeka.com/web-mobile/facebook\", \"others/web-mobile/facebook\", \"vidio.com/web-mobile/facebook\", \"bola.net/web-mobile/miuibrowser\", \"liputan6.com/web-mobile/miuibrowser\", \"bola.com/web-desktop/opera\", \"bola.net/web-desktop/opera\", \"brilio.net/web-desktop/opera\", \"bukalapak.com/web-desktop/opera\", \"liputan6.com/web-desktop/opera\", \"others/web-desktop/opera\", \"vidio.com/web-desktop/opera\", \"bola.com/web-mobile/opera\", \"bola.net/web-mobile/opera\", \"brilio.net/web-mobile/opera\", \"bukalapak.com/web-mobile/opera\", \"dream.co.id/web-mobile/opera\", \"fimela.com/web-mobile/opera\", \"kapanlagi.com/web-mobile/opera\", \"liputan6.com/web-mobile/opera\", \"merdeka.com/web-mobile/opera\", \"others/web-mobile/opera\", \"vidio.com/web-mobile/opera\", \"bola.com/web-desktop/other\", \"bola.net/web-desktop/other\", \"brilio.net/web-desktop/other\", \"bukalapak.com/web-desktop/other\", \"dream.co.id/web-desktop/other\", \"liputan6.com/web-desktop/other\", \"merdeka.com/web-desktop/other\", \"others/web-desktop/other\", \"bola.com/web-mobile/other\", \"bola.net/web-mobile/other\", \"brilio.net/web-mobile/other\", \"bukalapak.com/web-mobile/other\", \"dream.co.id/web-mobile/other\", \"fimela.com/web-mobile/other\", \"kapanlagi.com/web-mobile/other\", \"liputan6.com/web-mobile/other\", \"merdeka.com/web-mobile/other\", \"others/web-mobile/other\", \"vidio.com/web-mobile/other\", \"bola.com/web-desktop/samsung internet\", \"bola.net/web-desktop/samsung internet\", \"brilio.net/web-desktop/samsung internet\", \"bukalapak.com/web-desktop/samsung internet\", \"dream.co.id/web-desktop/samsung internet\", \"fimela.com/web-desktop/samsung internet\", \"kapanlagi.com/web-desktop/samsung internet\", \"liputan6.com/web-desktop/samsung internet\", \"merdeka.com/web-desktop/samsung internet\", \"others/web-desktop/samsung internet\", \"vidio.com/web-desktop/samsung internet\", \"bola.com/web-mobile/samsung internet\", \"bola.net/web-mobile/samsung internet\", \"brilio.net/web-mobile/samsung internet\", \"bukalapak.com/web-mobile/samsung internet\", \"dream.co.id/web-mobile/samsung internet\", \"fimela.com/web-mobile/samsung internet\", \"kapanlagi.com/web-mobile/samsung internet\", \"liputan6.com/web-mobile/samsung internet\", \"merdeka.com/web-mobile/samsung internet\", \"others/web-mobile/samsung internet\", \"vidio.com/web-mobile/samsung internet\", \"bola.com/web-mobile/uc browser\", \"bola.net/web-mobile/uc browser\", \"brilio.net/web-mobile/uc browser\", \"bukalapak.com/web-mobile/uc browser\", \"dream.co.id/web-mobile/uc browser\", \"fimela.com/web-mobile/uc browser\", \"kapanlagi.com/web-mobile/uc browser\", \"liputan6.com/web-mobile/uc browser\", \"merdeka.com/web-mobile/uc browser\", \"others/web-mobile/uc browser\", \"vidio.com/web-mobile/uc browser\", \"bola.com/web-desktop/chrome\", \"bola.net/web-desktop/chrome\", \"brilio.net/web-desktop/chrome\", \"bukalapak.com/web-desktop/chrome\", \"dream.co.id/web-desktop/chrome\", \"fimela.com/web-desktop/chrome\", \"kapanlagi.com/web-desktop/chrome\", \"liputan6.com/web-desktop/chrome\", \"merdeka.com/web-desktop/chrome\", \"others/web-desktop/chrome\", \"vidio.com/web-desktop/chrome\", \"bola.com/web-mobile/chrome\", \"kapanlagi.com/web-mobile/chrome\", \"brilio.net/web-desktop/facebook\", \"bola.com/web-desktop/firefox\", \"bola.net/web-desktop/firefox\", \"brilio.net/web-desktop/firefox\", \"bukalapak.com/web-desktop/firefox\", \"dream.co.id/web-desktop/firefox\", \"fimela.com/web-desktop/firefox\", \"kapanlagi.com/web-desktop/firefox\", \"liputan6.com/web-desktop/firefox\", \"merdeka.com/web-desktop/firefox\", \"others/web-desktop/firefox\", \"vidio.com/web-desktop/firefox\", \"bukalapak.com/web-mobile/firefox\", \"others/web-mobile/firefox\", \"bola.com/web-desktop/miuibrowser\", \"bola.net/web-desktop/miuibrowser\", \"brilio.net/web-desktop/miuibrowser\", \"bukalapak.com/web-desktop/miuibrowser\", \"dream.co.id/web-desktop/miuibrowser\", \"kapanlagi.com/web-desktop/miuibrowser\", \"liputan6.com/web-desktop/miuibrowser\", \"merdeka.com/web-desktop/miuibrowser\", \"others/web-desktop/miuibrowser\", \"vidio.com/web-desktop/miuibrowser\", \"bola.com/web-desktop/opera\", \"bola.net/web-desktop/opera\", \"brilio.net/web-desktop/opera\", \"bukalapak.com/web-desktop/opera\", \"dream.co.id/web-desktop/opera\", \"fimela.com/web-desktop/opera\", \"kapanlagi.com/web-desktop/opera\", \"liputan6.com/web-desktop/opera\", \"merdeka.com/web-desktop/opera\", \"others/web-desktop/opera\", \"vidio.com/web-desktop/opera\", \"bola.com/web-desktop/other\", \"bola.net/web-desktop/other\", \"brilio.net/web-desktop/other\", \"bukalapak.com/web-desktop/other\", \"dream.co.id/web-desktop/other\", \"fimela.com/web-desktop/other\", \"kapanlagi.com/web-desktop/other\", \"liputan6.com/web-desktop/other\", \"merdeka.com/web-desktop/other\", \"others/web-desktop/other\", \"vidio.com/web-desktop/other\", \"bukalapak.com/web-desktop/pale moon\", \"kapanlagi.com/web-desktop/pale moon\", \"bola.com/web-desktop/safari\", \"bola.net/web-desktop/safari\", \"brilio.net/web-desktop/safari\", \"bukalapak.com/web-desktop/safari\", \"dream.co.id/web-desktop/safari\", \"fimela.com/web-desktop/safari\", \"kapanlagi.com/web-desktop/safari\", \"liputan6.com/web-desktop/safari\", \"merdeka.com/web-desktop/safari\", \"others/web-desktop/safari\", \"vidio.com/web-desktop/safari\", \"bola.com/web-desktop/samsung internet\", \"bola.net/web-desktop/samsung internet\", \"brilio.net/web-desktop/samsung internet\", \"bukalapak.com/web-desktop/samsung internet\", \"dream.co.id/web-desktop/samsung internet\", \"fimela.com/web-desktop/samsung internet\", \"kapanlagi.com/web-desktop/samsung internet\", \"liputan6.com/web-desktop/samsung internet\", \"merdeka.com/web-desktop/samsung internet\", \"vidio.com/web-desktop/samsung internet\", \"bola.com/web-desktop/uc browser\", \"bola.net/web-desktop/uc browser\", \"brilio.net/web-desktop/uc browser\", \"bukalapak.com/web-desktop/uc browser\", \"fimela.com/web-desktop/uc browser\", \"kapanlagi.com/web-desktop/uc browser\", \"liputan6.com/web-desktop/uc browser\", \"merdeka.com/web-desktop/uc browser\", \"others/web-desktop/uc browser\", \"vidio.com/web-desktop/uc browser\", \"liputan6.com/web-desktop/chrome\", \"merdeka.com/web-desktop/chrome\", \"others/web-desktop/chrome\", \"vidio.com/web-desktop/chrome\", \"bola.com/web-mobile/chrome\", \"bola.net/web-mobile/chrome\", \"brilio.net/web-mobile/chrome\", \"bukalapak.com/web-mobile/chrome\", \"dream.co.id/web-mobile/chrome\", \"fimela.com/web-mobile/chrome\", \"kapanlagi.com/web-mobile/chrome\", \"liputan6.com/web-mobile/chrome\", \"merdeka.com/web-mobile/chrome\", \"others/web-mobile/chrome\", \"vidio.com/web-mobile/chrome\", \"bola.com/web-mobile/facebook\", \"bola.net/web-mobile/facebook\", \"brilio.net/web-mobile/facebook\", \"bukalapak.com/web-mobile/facebook\", \"dream.co.id/web-mobile/facebook\", \"fimela.com/web-mobile/facebook\", \"kapanlagi.com/web-mobile/facebook\", \"liputan6.com/web-mobile/facebook\", \"merdeka.com/web-mobile/facebook\", \"others/web-mobile/facebook\", \"vidio.com/web-mobile/facebook\", \"bukalapak.com/web-desktop/opera\", \"bola.com/web-mobile/opera\", \"bola.net/web-mobile/opera\", \"brilio.net/web-mobile/opera\", \"bukalapak.com/web-mobile/opera\", \"dream.co.id/web-mobile/opera\", \"fimela.com/web-mobile/opera\", \"kapanlagi.com/web-mobile/opera\", \"liputan6.com/web-mobile/opera\", \"merdeka.com/web-mobile/opera\", \"others/web-mobile/opera\", \"vidio.com/web-mobile/opera\", \"bukalapak.com/web-desktop/other\", \"others/web-desktop/other\", \"bola.com/web-mobile/other\", \"bola.net/web-mobile/other\", \"brilio.net/web-mobile/other\", \"bukalapak.com/web-mobile/other\", \"dream.co.id/web-mobile/other\", \"fimela.com/web-mobile/other\", \"kapanlagi.com/web-mobile/other\", \"liputan6.com/web-mobile/other\", \"merdeka.com/web-mobile/other\", \"vidio.com/web-mobile/other\", \"bola.com/web-mobile/uc browser\", \"bola.net/web-mobile/uc browser\", \"brilio.net/web-mobile/uc browser\", \"bukalapak.com/web-mobile/uc browser\", \"dream.co.id/web-mobile/uc browser\", \"fimela.com/web-mobile/uc browser\", \"kapanlagi.com/web-mobile/uc browser\", \"liputan6.com/web-mobile/uc browser\", \"merdeka.com/web-mobile/uc browser\", \"others/web-mobile/uc browser\", \"vidio.com/web-mobile/uc browser\", \"bola.com/web-desktop/chrome\", \"brilio.net/web-desktop/chrome\", \"bukalapak.com/web-desktop/chrome\", \"fimela.com/web-desktop/chrome\", \"kapanlagi.com/web-desktop/chrome\", \"liputan6.com/web-desktop/chrome\", \"merdeka.com/web-desktop/chrome\", \"vidio.com/web-desktop/chrome\", \"bola.com/web-mobile/chrome\", \"bola.net/web-mobile/chrome\", \"brilio.net/web-mobile/chrome\", \"bukalapak.com/web-mobile/chrome\", \"dream.co.id/web-mobile/chrome\", \"fimela.com/web-mobile/chrome\", \"kapanlagi.com/web-mobile/chrome\", \"liputan6.com/web-mobile/chrome\", \"merdeka.com/web-mobile/chrome\", \"others/web-mobile/chrome\", \"vidio.com/web-mobile/chrome\", \"brilio.net/web-desktop/facebook\", \"kapanlagi.com/web-desktop/facebook\", \"bola.com/web-mobile/facebook\", \"bola.net/web-mobile/facebook\", \"brilio.net/web-mobile/facebook\", \"bukalapak.com/web-mobile/facebook\", \"dream.co.id/web-mobile/facebook\", \"fimela.com/web-mobile/facebook\", \"kapanlagi.com/web-mobile/facebook\", \"liputan6.com/web-mobile/facebook\", \"merdeka.com/web-mobile/facebook\", \"others/web-mobile/facebook\", \"vidio.com/web-mobile/facebook\", \"bola.com/web-mobile/miuibrowser\", \"bola.net/web-mobile/miuibrowser\", \"brilio.net/web-mobile/miuibrowser\", \"bukalapak.com/web-mobile/miuibrowser\", \"dream.co.id/web-mobile/miuibrowser\", \"fimela.com/web-mobile/miuibrowser\", \"kapanlagi.com/web-mobile/miuibrowser\", \"liputan6.com/web-mobile/miuibrowser\", \"merdeka.com/web-mobile/miuibrowser\", \"others/web-mobile/miuibrowser\", \"vidio.com/web-mobile/miuibrowser\", \"bola.net/web-desktop/opera\", \"bukalapak.com/web-desktop/opera\", \"bola.com/web-mobile/opera\", \"bola.net/web-mobile/opera\", \"brilio.net/web-mobile/opera\", \"bukalapak.com/web-mobile/opera\", \"dream.co.id/web-mobile/opera\", \"fimela.com/web-mobile/opera\", \"kapanlagi.com/web-mobile/opera\", \"liputan6.com/web-mobile/opera\", \"merdeka.com/web-mobile/opera\", \"others/web-mobile/opera\", \"vidio.com/web-mobile/opera\", \"bukalapak.com/web-desktop/other\", \"others/web-desktop/other\", \"bola.net/web-mobile/other\", \"brilio.net/web-mobile/other\", \"bukalapak.com/web-mobile/other\", \"dream.co.id/web-mobile/other\", \"fimela.com/web-mobile/other\", \"kapanlagi.com/web-mobile/other\", \"liputan6.com/web-mobile/other\", \"merdeka.com/web-mobile/other\", \"others/web-mobile/other\", \"vidio.com/web-mobile/other\", \"bola.net/web-mobile/samsung internet\", \"brilio.net/web-mobile/samsung internet\", \"bukalapak.com/web-mobile/samsung internet\", \"fimela.com/web-mobile/samsung internet\", \"liputan6.com/web-mobile/samsung internet\", \"merdeka.com/web-mobile/samsung internet\", \"kapanlagi.com/web-desktop/uc browser\", \"bola.com/web-mobile/uc browser\", \"bola.net/web-mobile/uc browser\", \"brilio.net/web-mobile/uc browser\", \"bukalapak.com/web-mobile/uc browser\", \"dream.co.id/web-mobile/uc browser\", \"fimela.com/web-mobile/uc browser\", \"kapanlagi.com/web-mobile/uc browser\", \"liputan6.com/web-mobile/uc browser\", \"merdeka.com/web-mobile/uc browser\", \"others/web-mobile/uc browser\", \"vidio.com/web-mobile/uc browser\", \"brilio.net/web-mobile\", \"merdeka.com/web-mobile\", \"bola.com/web-desktop\", \"bola.net/web-desktop\", \"brilio.net/web-desktop\", \"bukalapak.com/web-desktop\", \"dream.co.id/web-desktop\", \"fimela.com/web-desktop\", \"kapanlagi.com/web-desktop\", \"liputan6.com/web-desktop\", \"merdeka.com/web-desktop\", \"others/web-desktop\", \"vidio.com/web-desktop\", \"bola.com/web-mobile\", \"bola.net/web-mobile\", \"brilio.net/web-mobile\", \"bukalapak.com/web-mobile\", \"dream.co.id/web-mobile\", \"fimela.com/web-mobile\", \"kapanlagi.com/web-mobile\", \"liputan6.com/web-mobile\", \"merdeka.com/web-mobile\", \"others/web-mobile\", \"vidio.com/web-mobile\", \"bola.com/web-desktop\", \"bola.net/web-desktop\", \"brilio.net/web-desktop\", \"bukalapak.com/web-desktop\", \"dream.co.id/web-desktop\", \"kapanlagi.com/web-desktop\", \"liputan6.com/web-desktop\", \"merdeka.com/web-desktop\", \"others/web-desktop\", \"vidio.com/web-desktop\", \"bola.com/web-mobile\", \"bola.net/web-mobile\", \"brilio.net/web-mobile\", \"bukalapak.com/web-mobile\", \"dream.co.id/web-mobile\", \"fimela.com/web-mobile\", \"kapanlagi.com/web-mobile\", \"liputan6.com/web-mobile\", \"merdeka.com/web-mobile\", \"others/web-mobile\", \"vidio.com/web-mobile\", \"bola.com/web-desktop\", \"bola.net/web-desktop\", \"brilio.net/web-desktop\", \"bukalapak.com/web-desktop\", \"dream.co.id/web-desktop\", \"fimela.com/web-desktop\", \"kapanlagi.com/web-desktop\", \"liputan6.com/web-desktop\", \"merdeka.com/web-desktop\", \"others/web-desktop\", \"vidio.com/web-desktop\", \"bola.com/web-mobile\", \"bola.net/web-mobile\", \"brilio.net/web-mobile\", \"bukalapak.com/web-mobile\", \"dream.co.id/web-mobile\", \"fimela.com/web-mobile\", \"kapanlagi.com/web-mobile\", \"liputan6.com/web-mobile\", \"merdeka.com/web-mobile\", \"others/web-mobile\", \"vidio.com/web-mobile\", \"bola.com/web-desktop\", \"bola.net/web-desktop\", \"brilio.net/web-desktop\", \"bukalapak.com/web-desktop\", \"dream.co.id/web-desktop\", \"kapanlagi.com/web-desktop\", \"liputan6.com/web-desktop\", \"merdeka.com/web-desktop\", \"others/web-desktop\", \"vidio.com/web-desktop\", \"bola.com/web-mobile\", \"bola.net/web-mobile\", \"brilio.net/web-mobile\", \"bukalapak.com/web-mobile\", \"dream.co.id/web-mobile\", \"fimela.com/web-mobile\", \"kapanlagi.com/web-mobile\", \"liputan6.com/web-mobile\", \"merdeka.com/web-mobile\", \"others/web-mobile\", \"vidio.com/web-mobile\", \"bola.com/web-desktop\", \"bola.net/web-desktop\", \"brilio.net/web-desktop\", \"bukalapak.com/web-desktop\", \"dream.co.id/web-desktop\", \"fimela.com/web-desktop\", \"kapanlagi.com/web-desktop\", \"liputan6.com/web-desktop\", \"merdeka.com/web-desktop\", \"others/web-desktop\", \"vidio.com/web-desktop\", \"bola.com/web-mobile\", \"bola.net/web-mobile\", \"brilio.net/web-mobile\", \"bukalapak.com/web-mobile\", \"dream.co.id/web-mobile\", \"fimela.com/web-mobile\", \"kapanlagi.com/web-mobile\", \"liputan6.com/web-mobile\", \"merdeka.com/web-mobile\", \"others/web-mobile\", \"vidio.com/web-mobile\", \"bola.com/web-desktop\", \"bola.net/web-desktop\", \"brilio.net/web-desktop\", \"bukalapak.com/web-desktop\", \"dream.co.id/web-desktop\", \"fimela.com/web-desktop\", \"kapanlagi.com/web-desktop\", \"liputan6.com/web-desktop\", \"merdeka.com/web-desktop\", \"others/web-desktop\", \"vidio.com/web-desktop\", \"bola.com/web-mobile\", \"bola.net/web-mobile\", \"brilio.net/web-mobile\", \"bukalapak.com/web-mobile\", \"dream.co.id/web-mobile\", \"fimela.com/web-mobile\", \"kapanlagi.com/web-mobile\", \"liputan6.com/web-mobile\", \"merdeka.com/web-mobile\", \"others/web-mobile\", \"vidio.com/web-mobile\", \"bukalapak.com/web-desktop\", \"kapanlagi.com/web-desktop\", \"bola.com/web-desktop\", \"bola.net/web-desktop\", \"brilio.net/web-desktop\", \"bukalapak.com/web-desktop\", \"dream.co.id/web-desktop\", \"fimela.com/web-desktop\", \"kapanlagi.com/web-desktop\", \"liputan6.com/web-desktop\", \"merdeka.com/web-desktop\", \"others/web-desktop\", \"vidio.com/web-desktop\", \"bola.com/web-mobile\", \"bola.net/web-mobile\", \"brilio.net/web-mobile\", \"bukalapak.com/web-mobile\", \"dream.co.id/web-mobile\", \"fimela.com/web-mobile\", \"kapanlagi.com/web-mobile\", \"liputan6.com/web-mobile\", \"merdeka.com/web-mobile\", \"others/web-mobile\", \"vidio.com/web-mobile\", \"bola.com/web-desktop\", \"bola.net/web-desktop\", \"brilio.net/web-desktop\", \"bukalapak.com/web-desktop\", \"dream.co.id/web-desktop\", \"fimela.com/web-desktop\", \"kapanlagi.com/web-desktop\", \"liputan6.com/web-desktop\", \"merdeka.com/web-desktop\", \"others/web-desktop\", \"vidio.com/web-desktop\", \"bola.com/web-mobile\", \"bola.net/web-mobile\", \"brilio.net/web-mobile\", \"bukalapak.com/web-mobile\", \"dream.co.id/web-mobile\", \"fimela.com/web-mobile\", \"kapanlagi.com/web-mobile\", \"liputan6.com/web-mobile\", \"merdeka.com/web-mobile\", \"others/web-mobile\", \"vidio.com/web-mobile\", \"bola.com/web-desktop\", \"bola.net/web-desktop\", \"brilio.net/web-desktop\", \"bukalapak.com/web-desktop\", \"fimela.com/web-desktop\", \"kapanlagi.com/web-desktop\", \"liputan6.com/web-desktop\", \"merdeka.com/web-desktop\", \"others/web-desktop\", \"vidio.com/web-desktop\", \"bola.com/web-mobile\", \"bola.net/web-mobile\", \"brilio.net/web-mobile\", \"bukalapak.com/web-mobile\", \"dream.co.id/web-mobile\", \"fimela.com/web-mobile\", \"kapanlagi.com/web-mobile\", \"liputan6.com/web-mobile\", \"merdeka.com/web-mobile\", \"others/web-mobile\", \"vidio.com/web-mobile\", \"bola.com\", \"bola.net\", \"brilio.net\", \"bukalapak.com\", \"dream.co.id\", \"fimela.com\", \"kapanlagi.com\", \"liputan6.com\", \"merdeka.com\", \"others\", \"vidio.com\", \"bola.com\", \"bola.net\", \"brilio.net\", \"bukalapak.com\", \"dream.co.id\", \"fimela.com\", \"kapanlagi.com\", \"liputan6.com\", \"merdeka.com\", \"others\", \"vidio.com\", \"\", \"\", \"\", \"\", \"\", \"\", \"\", \"\", \"\", \"\", \"\"], \"type\": \"treemap\", \"values\": [6, 4, 3, 4, 1, 1, 4, 17, 9, 29, 76, 60, 21, 73, 13, 30, 71, 212, 286, 15, 213, 1, 1, 18, 2, 2, 12, 1, 1, 1, 1, 5, 32, 1499, 49, 114, 18, 1739, 113, 71, 54, 11, 1, 3, 3, 1, 1, 4, 5, 6, 1, 2, 1, 1, 2, 1, 1, 2, 3, 11, 1, 8, 1, 8, 5, 14, 150, 37, 187, 212, 26, 69, 437, 374, 631, 24, 306, 6, 93, 12, 1, 1, 9, 19, 24, 6, 26, 570, 290, 481, 438, 237, 408, 768, 1761, 2470, 156, 1589, 6, 11, 4, 7, 3, 10, 13, 2, 9, 1, 1, 2, 152, 220, 661, 284, 93, 112, 1050, 611, 1156, 42, 453, 1, 1, 1, 16, 670, 16, 38, 2, 443, 65, 31, 13, 2, 1, 1, 4, 10, 14, 10, 1, 2, 6, 17, 18, 3, 1, 74, 3, 4, 1, 7, 14, 1, 1, 6, 1, 7, 1, 2, 1, 1, 1, 1, 4, 21, 7, 20, 2, 3, 12, 22, 32, 3, 44, 4272, 7, 22, 19, 48, 37, 4, 15, 95, 39, 93, 10, 96, 3795, 1970, 6383, 2906, 1045, 1661, 9314, 9045, 15831, 481, 7596, 1, 2, 2, 1, 1, 1, 27, 200, 12904, 132, 904, 73, 9944, 998, 468, 289, 35, 1, 6, 16, 11, 33, 1, 6, 12, 15, 29, 3, 7, 5, 5, 12, 2, 10, 14, 23, 11, 1, 2, 1, 1, 2, 2, 59, 104, 51, 96, 11, 21, 50, 138, 201, 10, 108, 2, 2, 577, 4, 1, 3, 9, 23, 3, 1, 11, 47, 51, 3, 4, 66, 22, 40, 1, 37, 1, 3, 6, 1, 1, 7, 3, 69, 216, 47, 89, 10, 23, 39, 122, 208, 12, 574, 11, 11, 66, 38, 6, 13, 89, 43, 58, 17, 88, 2265, 1127, 5342, 2075, 663, 1041, 6959, 5401, 9391, 324, 5689, 1, 5, 2, 1, 17, 106, 7964, 58, 486, 41, 6125, 553, 253, 164, 32, 4, 4, 8, 14, 2, 1, 5, 19, 12, 1, 4, 3, 1, 6, 1, 2, 2, 41, 83, 72, 88, 18, 24, 55, 96, 169, 3, 124, 1, 251, 2, 2, 1, 40, 14, 1, 1, 42, 7, 18, 20, 1, 1, 1, 1, 1, 39, 142, 53, 74, 13, 16, 24, 101, 116, 8, 437, 1, 9, 84, 104, 160, 128, 35, 44, 318, 272, 510, 14, 221, 1, 2, 12, 328, 7, 21, 2, 200, 25, 14, 15, 2, 1, 2, 12, 1, 2, 1, 4, 5, 1, 53, 3, 1, 6, 3, 1, 2, 1, 1, 1, 2, 9, 4, 1, 3, 4, 4, 1, 15, 1, 2, 30, 15, 47, 122, 6, 79, 69, 496, 894, 9, 112, 1, 30, 1, 1, 39, 3, 3, 1, 1, 1, 1, 1, 3, 1, 1, 1, 9, 3, 1, 1, 2, 1, 3, 3, 1, 2, 2, 1, 1, 3, 1, 2, 6, 2, 2, 13, 10, 11, 4, 8, 107, 108, 286, 189, 50, 61, 466, 299, 550, 27, 239, 2, 4, 1, 1, 10, 1182, 13, 75, 2, 763, 86, 32, 15, 3, 1, 1, 1, 4, 6, 9, 21, 1, 3, 10, 17, 30, 1, 4, 1, 126, 1, 1, 2, 1, 1, 2, 5, 5, 4, 3, 7, 4, 15, 1, 1, 6, 41, 15, 29, 4, 3, 14, 38, 35, 1, 90, 16, 16, 79, 49, 8, 11, 117, 35, 79, 6, 45, 1914, 1722, 5095, 2439, 647, 1191, 10223, 6168, 11649, 386, 4699, 1, 3, 64, 4, 49, 9, 6, 2, 30, 282, 12075, 133, 968, 81, 10717, 1058, 579, 301, 39, 1, 2, 1, 1, 1, 2, 4, 1, 1, 34, 85, 50, 108, 7, 11, 47, 81, 126, 3, 27, 1, 1, 2, 580, 5, 4, 4, 43, 1, 16, 119, 72, 3, 10, 203, 62, 100, 2, 44, 3, 6, 10, 16, 1, 5, 9, 7, 26, 4, 51, 339, 402, 795, 742, 97, 219, 1478, 1076, 1786, 87, 985, 52, 279, 80, 133, 11, 24, 92, 208, 202, 16, 669, 672, 845, 934, 10837, 257, 299, 1494, 2097, 4323, 1911, 8848, 1, 1, 1, 110, 221, 252, 2236, 48, 42, 509, 357, 732, 304, 1416, 1, 2, 2, 1, 7, 29, 3, 4, 12, 17, 5, 15, 9, 19, 34, 321, 9, 3, 41, 90, 85, 47, 203, 28, 48, 39, 426, 19, 8, 62, 242, 126, 95, 397, 5323, 1, 17, 26, 35, 166, 4, 20, 63, 106, 151, 80, 256, 1, 4, 3, 6, 1, 5, 6, 6, 10, 10, 3, 1, 2, 4, 1, 3, 3, 5, 1, 5, 1, 1, 1, 1, 166, 102, 263, 261, 163, 112, 614, 477, 951, 215, 644, 25, 136, 8414, 79, 589, 43, 6717, 546, 275, 173, 42, 1, 11, 41, 17, 30, 6, 13, 11, 24, 36, 3, 20, 274, 1, 1, 1, 33, 14, 4, 2, 40, 18, 11, 35, 34, 110, 27, 48, 7, 15, 17, 81, 85, 7, 321, 1, 1, 2, 1, 4, 1, 9, 4, 1623, 1455, 4081, 1764, 525, 722, 5579, 4305, 7646, 249, 3697, 2, 2, 30, 153, 8003, 94, 518, 33, 4924, 602, 269, 161, 23, 178, 131, 248, 520, 34, 84, 390, 480, 641, 21, 896, 1, 1, 32, 112, 43, 108, 11, 16, 47, 96, 135, 6, 35, 506, 32, 2, 50, 46, 2, 6, 58, 12, 30, 1, 21, 1, 1, 4, 1, 2, 2, 1, 45, 207, 53, 103, 20, 19, 51, 160, 193, 7, 391, 4272, 7, 728, 897, 1137, 10969, 276, 342, 1813, 2231, 4592, 1959, 9132, 10213, 6883, 22339, 10241, 3240, 5053, 34664, 27286, 48864, 1762, 23563, 2, 6, 95, 2, 6, 73, 11, 8, 5, 2, 138, 948, 53069, 581, 3714, 296, 41611, 4049, 1995, 1186, 189, 110, 221, 252, 2236, 48, 42, 509, 357, 733, 304, 1416, 11, 23, 19, 51, 4, 8, 21, 39, 47, 4, 9, 2, 1, 7, 29, 3, 4, 12, 17, 5, 15, 185, 137, 253, 536, 34, 87, 400, 497, 664, 21, 915, 11, 24, 38, 329, 9, 3, 43, 97, 88, 48, 206, 188, 454, 259, 464, 55, 90, 230, 474, 723, 26, 323, 30, 51, 48, 2887, 28, 9, 71, 254, 148, 210, 415, 159, 72, 490, 436, 40, 94, 862, 503, 847, 31, 469, 5323, 1, 17, 32, 128, 178, 5, 21, 72, 125, 175, 86, 297, 570, 290, 482, 438, 237, 408, 769, 1761, 2470, 156, 1589, 4, 10, 13, 22, 2, 10, 15, 13, 36, 4, 61, 342, 413, 798, 747, 97, 221, 1479, 1090, 1789, 87, 990, 3, 1, 3, 4, 1, 4, 4, 5, 1, 5, 256, 1037, 282, 504, 68, 110, 255, 746, 891, 57, 2551, 907, 1243, 1721, 21979, 377, 428, 2605, 3104, 5802, 2622, 11549, 12062, 10257, 82263, 13998, 7489, 6367, 80291, 36445, 58297, 3330, 30598, 12969, 11500, 83984, 35977, 7866, 6795, 82896, 39549, 64099, 5952, 42147]}],                        {\"coloraxis\": {\"colorbar\": {\"title\": {\"text\": \"count\"}}, \"colorscale\": [[0.0, \"#000004\"], [0.1111111111111111, \"#180f3d\"], [0.2222222222222222, \"#440f76\"], [0.3333333333333333, \"#721f81\"], [0.4444444444444444, \"#9e2f7f\"], [0.5555555555555556, \"#cd4071\"], [0.6666666666666666, \"#f1605d\"], [0.7777777777777778, \"#fd9668\"], [0.8888888888888888, \"#feca8d\"], [1.0, \"#fcfdbf\"]]}, \"legend\": {\"tracegroupgap\": 0}, \"template\": {\"data\": {\"bar\": [{\"error_x\": {\"color\": \"#2a3f5f\"}, \"error_y\": {\"color\": \"#2a3f5f\"}, \"marker\": {\"line\": {\"color\": \"#E5ECF6\", \"width\": 0.5}}, \"type\": \"bar\"}], \"barpolar\": [{\"marker\": {\"line\": {\"color\": \"#E5ECF6\", \"width\": 0.5}}, \"type\": \"barpolar\"}], \"carpet\": [{\"aaxis\": {\"endlinecolor\": \"#2a3f5f\", \"gridcolor\": \"white\", \"linecolor\": \"white\", \"minorgridcolor\": \"white\", \"startlinecolor\": \"#2a3f5f\"}, \"baxis\": {\"endlinecolor\": \"#2a3f5f\", \"gridcolor\": \"white\", \"linecolor\": \"white\", \"minorgridcolor\": \"white\", \"startlinecolor\": \"#2a3f5f\"}, \"type\": \"carpet\"}], \"choropleth\": [{\"colorbar\": {\"outlinewidth\": 0, \"ticks\": \"\"}, \"type\": \"choropleth\"}], \"contour\": [{\"colorbar\": {\"outlinewidth\": 0, \"ticks\": \"\"}, \"colorscale\": [[0.0, \"#0d0887\"], [0.1111111111111111, \"#46039f\"], [0.2222222222222222, \"#7201a8\"], [0.3333333333333333, \"#9c179e\"], [0.4444444444444444, \"#bd3786\"], [0.5555555555555556, \"#d8576b\"], [0.6666666666666666, \"#ed7953\"], [0.7777777777777778, \"#fb9f3a\"], [0.8888888888888888, \"#fdca26\"], [1.0, \"#f0f921\"]], \"type\": \"contour\"}], \"contourcarpet\": [{\"colorbar\": {\"outlinewidth\": 0, \"ticks\": \"\"}, \"type\": \"contourcarpet\"}], \"heatmap\": [{\"colorbar\": {\"outlinewidth\": 0, \"ticks\": \"\"}, \"colorscale\": [[0.0, \"#0d0887\"], [0.1111111111111111, \"#46039f\"], [0.2222222222222222, \"#7201a8\"], [0.3333333333333333, \"#9c179e\"], [0.4444444444444444, \"#bd3786\"], [0.5555555555555556, \"#d8576b\"], [0.6666666666666666, \"#ed7953\"], [0.7777777777777778, \"#fb9f3a\"], [0.8888888888888888, \"#fdca26\"], [1.0, \"#f0f921\"]], \"type\": \"heatmap\"}], \"heatmapgl\": [{\"colorbar\": {\"outlinewidth\": 0, \"ticks\": \"\"}, \"colorscale\": [[0.0, \"#0d0887\"], [0.1111111111111111, \"#46039f\"], [0.2222222222222222, \"#7201a8\"], [0.3333333333333333, \"#9c179e\"], [0.4444444444444444, \"#bd3786\"], [0.5555555555555556, \"#d8576b\"], [0.6666666666666666, \"#ed7953\"], [0.7777777777777778, \"#fb9f3a\"], [0.8888888888888888, \"#fdca26\"], [1.0, \"#f0f921\"]], \"type\": \"heatmapgl\"}], \"histogram\": [{\"marker\": {\"colorbar\": {\"outlinewidth\": 0, \"ticks\": \"\"}}, \"type\": \"histogram\"}], \"histogram2d\": [{\"colorbar\": {\"outlinewidth\": 0, \"ticks\": \"\"}, \"colorscale\": [[0.0, \"#0d0887\"], [0.1111111111111111, \"#46039f\"], [0.2222222222222222, \"#7201a8\"], [0.3333333333333333, \"#9c179e\"], [0.4444444444444444, \"#bd3786\"], [0.5555555555555556, \"#d8576b\"], [0.6666666666666666, \"#ed7953\"], [0.7777777777777778, \"#fb9f3a\"], [0.8888888888888888, \"#fdca26\"], [1.0, \"#f0f921\"]], \"type\": \"histogram2d\"}], \"histogram2dcontour\": [{\"colorbar\": {\"outlinewidth\": 0, \"ticks\": \"\"}, \"colorscale\": [[0.0, \"#0d0887\"], [0.1111111111111111, \"#46039f\"], [0.2222222222222222, \"#7201a8\"], [0.3333333333333333, \"#9c179e\"], [0.4444444444444444, \"#bd3786\"], [0.5555555555555556, \"#d8576b\"], [0.6666666666666666, \"#ed7953\"], [0.7777777777777778, \"#fb9f3a\"], [0.8888888888888888, \"#fdca26\"], [1.0, \"#f0f921\"]], \"type\": \"histogram2dcontour\"}], \"mesh3d\": [{\"colorbar\": {\"outlinewidth\": 0, \"ticks\": \"\"}, \"type\": \"mesh3d\"}], \"parcoords\": [{\"line\": {\"colorbar\": {\"outlinewidth\": 0, \"ticks\": \"\"}}, \"type\": \"parcoords\"}], \"pie\": [{\"automargin\": true, \"type\": \"pie\"}], \"scatter\": [{\"marker\": {\"colorbar\": {\"outlinewidth\": 0, \"ticks\": \"\"}}, \"type\": \"scatter\"}], \"scatter3d\": [{\"line\": {\"colorbar\": {\"outlinewidth\": 0, \"ticks\": \"\"}}, \"marker\": {\"colorbar\": {\"outlinewidth\": 0, \"ticks\": \"\"}}, \"type\": \"scatter3d\"}], \"scattercarpet\": [{\"marker\": {\"colorbar\": {\"outlinewidth\": 0, \"ticks\": \"\"}}, \"type\": \"scattercarpet\"}], \"scattergeo\": [{\"marker\": {\"colorbar\": {\"outlinewidth\": 0, \"ticks\": \"\"}}, \"type\": \"scattergeo\"}], \"scattergl\": [{\"marker\": {\"colorbar\": {\"outlinewidth\": 0, \"ticks\": \"\"}}, \"type\": \"scattergl\"}], \"scattermapbox\": [{\"marker\": {\"colorbar\": {\"outlinewidth\": 0, \"ticks\": \"\"}}, \"type\": \"scattermapbox\"}], \"scatterpolar\": [{\"marker\": {\"colorbar\": {\"outlinewidth\": 0, \"ticks\": \"\"}}, \"type\": \"scatterpolar\"}], \"scatterpolargl\": [{\"marker\": {\"colorbar\": {\"outlinewidth\": 0, \"ticks\": \"\"}}, \"type\": \"scatterpolargl\"}], \"scatterternary\": [{\"marker\": {\"colorbar\": {\"outlinewidth\": 0, \"ticks\": \"\"}}, \"type\": \"scatterternary\"}], \"surface\": [{\"colorbar\": {\"outlinewidth\": 0, \"ticks\": \"\"}, \"colorscale\": [[0.0, \"#0d0887\"], [0.1111111111111111, \"#46039f\"], [0.2222222222222222, \"#7201a8\"], [0.3333333333333333, \"#9c179e\"], [0.4444444444444444, \"#bd3786\"], [0.5555555555555556, \"#d8576b\"], [0.6666666666666666, \"#ed7953\"], [0.7777777777777778, \"#fb9f3a\"], [0.8888888888888888, \"#fdca26\"], [1.0, \"#f0f921\"]], \"type\": \"surface\"}], \"table\": [{\"cells\": {\"fill\": {\"color\": \"#EBF0F8\"}, \"line\": {\"color\": \"white\"}}, \"header\": {\"fill\": {\"color\": \"#C8D4E3\"}, \"line\": {\"color\": \"white\"}}, \"type\": \"table\"}]}, \"layout\": {\"annotationdefaults\": {\"arrowcolor\": \"#2a3f5f\", \"arrowhead\": 0, \"arrowwidth\": 1}, \"autotypenumbers\": \"strict\", \"coloraxis\": {\"colorbar\": {\"outlinewidth\": 0, \"ticks\": \"\"}}, \"colorscale\": {\"diverging\": [[0, \"#8e0152\"], [0.1, \"#c51b7d\"], [0.2, \"#de77ae\"], [0.3, \"#f1b6da\"], [0.4, \"#fde0ef\"], [0.5, \"#f7f7f7\"], [0.6, \"#e6f5d0\"], [0.7, \"#b8e186\"], [0.8, \"#7fbc41\"], [0.9, \"#4d9221\"], [1, \"#276419\"]], \"sequential\": [[0.0, \"#0d0887\"], [0.1111111111111111, \"#46039f\"], [0.2222222222222222, \"#7201a8\"], [0.3333333333333333, \"#9c179e\"], [0.4444444444444444, \"#bd3786\"], [0.5555555555555556, \"#d8576b\"], [0.6666666666666666, \"#ed7953\"], [0.7777777777777778, \"#fb9f3a\"], [0.8888888888888888, \"#fdca26\"], [1.0, \"#f0f921\"]], \"sequentialminus\": [[0.0, \"#0d0887\"], [0.1111111111111111, \"#46039f\"], [0.2222222222222222, \"#7201a8\"], [0.3333333333333333, \"#9c179e\"], [0.4444444444444444, \"#bd3786\"], [0.5555555555555556, \"#d8576b\"], [0.6666666666666666, \"#ed7953\"], [0.7777777777777778, \"#fb9f3a\"], [0.8888888888888888, \"#fdca26\"], [1.0, \"#f0f921\"]]}, \"colorway\": [\"#636efa\", \"#EF553B\", \"#00cc96\", \"#ab63fa\", \"#FFA15A\", \"#19d3f3\", \"#FF6692\", \"#B6E880\", \"#FF97FF\", \"#FECB52\"], \"font\": {\"color\": \"#2a3f5f\"}, \"geo\": {\"bgcolor\": \"white\", \"lakecolor\": \"white\", \"landcolor\": \"#E5ECF6\", \"showlakes\": true, \"showland\": true, \"subunitcolor\": \"white\"}, \"hoverlabel\": {\"align\": \"left\"}, \"hovermode\": \"closest\", \"mapbox\": {\"style\": \"light\"}, \"paper_bgcolor\": \"white\", \"plot_bgcolor\": \"#E5ECF6\", \"polar\": {\"angularaxis\": {\"gridcolor\": \"white\", \"linecolor\": \"white\", \"ticks\": \"\"}, \"bgcolor\": \"#E5ECF6\", \"radialaxis\": {\"gridcolor\": \"white\", \"linecolor\": \"white\", \"ticks\": \"\"}}, \"scene\": {\"xaxis\": {\"backgroundcolor\": \"#E5ECF6\", \"gridcolor\": \"white\", \"gridwidth\": 2, \"linecolor\": \"white\", \"showbackground\": true, \"ticks\": \"\", \"zerolinecolor\": \"white\"}, \"yaxis\": {\"backgroundcolor\": \"#E5ECF6\", \"gridcolor\": \"white\", \"gridwidth\": 2, \"linecolor\": \"white\", \"showbackground\": true, \"ticks\": \"\", \"zerolinecolor\": \"white\"}, \"zaxis\": {\"backgroundcolor\": \"#E5ECF6\", \"gridcolor\": \"white\", \"gridwidth\": 2, \"linecolor\": \"white\", \"showbackground\": true, \"ticks\": \"\", \"zerolinecolor\": \"white\"}}, \"shapedefaults\": {\"line\": {\"color\": \"#2a3f5f\"}}, \"ternary\": {\"aaxis\": {\"gridcolor\": \"white\", \"linecolor\": \"white\", \"ticks\": \"\"}, \"baxis\": {\"gridcolor\": \"white\", \"linecolor\": \"white\", \"ticks\": \"\"}, \"bgcolor\": \"#E5ECF6\", \"caxis\": {\"gridcolor\": \"white\", \"linecolor\": \"white\", \"ticks\": \"\"}}, \"title\": {\"x\": 0.05}, \"xaxis\": {\"automargin\": true, \"gridcolor\": \"white\", \"linecolor\": \"white\", \"ticks\": \"\", \"title\": {\"standoff\": 15}, \"zerolinecolor\": \"white\", \"zerolinewidth\": 2}, \"yaxis\": {\"automargin\": true, \"gridcolor\": \"white\", \"linecolor\": \"white\", \"ticks\": \"\", \"title\": {\"standoff\": 15}, \"zerolinecolor\": \"white\", \"zerolinewidth\": 2}}}, \"title\": {\"text\": \"Favorable used platform, domain and device\"}},                        {\"responsive\": true}                    ).then(function(){\n",
       "                            \n",
       "var gd = document.getElementById('b53d1e44-64e2-489c-a032-659ff7e547af');\n",
       "var x = new MutationObserver(function (mutations, observer) {{\n",
       "        var display = window.getComputedStyle(gd).display;\n",
       "        if (!display || display === 'none') {{\n",
       "            console.log([gd, 'removed!']);\n",
       "            Plotly.purge(gd);\n",
       "            observer.disconnect();\n",
       "        }}\n",
       "}});\n",
       "\n",
       "// Listen for the removal of the full notebook cells\n",
       "var notebookContainer = gd.closest('#notebook-container');\n",
       "if (notebookContainer) {{\n",
       "    x.observe(notebookContainer, {childList: true});\n",
       "}}\n",
       "\n",
       "// Listen for the clearing of the current output cell\n",
       "var outputEl = gd.closest('.output');\n",
       "if (outputEl) {{\n",
       "    x.observe(outputEl, {childList: true});\n",
       "}}\n",
       "\n",
       "                        })                };                });            </script>        </div>"
      ]
     },
     "metadata": {},
     "output_type": "display_data"
    }
   ],
   "source": [
    "fig = px.treemap(df_group, path=['domain_top10', 'platform', 'browser_top10', 'device_top10'], values='count', \n",
    "                 color='count', color_continuous_scale='magma',\n",
    "                 title='Favorable used platform, domain and device')\n",
    "fig.show()"
   ]
  },
  {
   "cell_type": "code",
   "execution_count": 38,
   "metadata": {
    "extensions": {
     "jupyter_dashboards": {
      "version": 1,
      "views": {
       "grid_default": {},
       "report_default": {
        "hidden": false
       }
      }
     }
    }
   },
   "outputs": [
    {
     "data": {
      "application/vnd.plotly.v1+json": {
       "config": {
        "plotlyServerURL": "https://plot.ly"
       },
       "data": [
        {
         "branchvalues": "total",
         "domain": {
          "x": [
           0,
           1
          ],
          "y": [
           0,
           1
          ]
         },
         "hovertemplate": "labels=%{label}<br>count=%{value}<br>parent=%{parent}<br>id=%{id}<extra></extra>",
         "ids": [
          "web-desktop/android/amazon",
          "web-desktop/linux/amazon",
          "web-mobile/android/apple",
          "web-desktop/ios/apple",
          "web-mobile/ios/apple",
          "web-desktop/android/asus",
          "web-mobile/android/asus",
          "web-desktop/android/axioo",
          "web-mobile/android/axioo",
          "web-mobile/blackberry os/blackberry",
          "web-mobile/android/celkon",
          "web-desktop/android/coolpad",
          "web-mobile/android/coolpad",
          "web-desktop/android/fujitsu",
          "web-mobile/android/fujitsu",
          "web-mobile/android/galapad",
          "web-desktop/android/generic",
          "web-mobile/android/generic",
          "web-desktop/linux/generic",
          "web-desktop/other/generic",
          "web-mobile/other/generic",
          "web-desktop/android/generic_android",
          "web-mobile/android/generic_android",
          "web-mobile/android/gionee",
          "web-desktop/android/google",
          "web-mobile/android/google",
          "web-desktop/android/hisense",
          "web-mobile/android/hisense",
          "web-desktop/android/htc",
          "web-mobile/android/htc",
          "web-desktop/android/huawei",
          "web-mobile/android/huawei",
          "web-desktop/android/infinix",
          "web-mobile/android/infinix",
          "web-mobile/android/lava",
          "web-desktop/android/lenovo",
          "web-mobile/android/lenovo",
          "web-desktop/android/lg",
          "web-mobile/android/lg",
          "web-desktop/android/meizu",
          "web-mobile/android/meizu",
          "web-desktop/android/micromax",
          "web-mobile/android/micromax",
          "web-desktop/android/mito",
          "web-mobile/android/mito",
          "web-desktop/android/motorola",
          "web-mobile/android/motorola",
          "web-mobile/android/myphone",
          "web-desktop/android/nokia",
          "web-mobile/android/nokia",
          "web-desktop/other/nokia",
          "web-desktop/android/oneplus",
          "web-mobile/android/oneplus",
          "web-desktop/android/oppo",
          "web-mobile/android/oppo",
          "web-desktop/chrome os/other",
          "web-desktop/debian/other",
          "web-desktop/fedora/other",
          "web-desktop/linux/other",
          "web-mobile/linux/other",
          "web-desktop/mac os x/other",
          "web-desktop/other/other",
          "web-desktop/ubuntu/other",
          "web-desktop/windows/other",
          "web-mobile/windows/other",
          "web-mobile/mac os x/palm",
          "web-mobile/android/panasonic",
          "web-mobile/android/philips",
          "web-mobile/android/qmobile",
          "web-desktop/android/samsung",
          "web-mobile/android/samsung",
          "web-desktop/tizen/samsung",
          "web-mobile/android/sharp",
          "web-desktop/android/sony",
          "web-mobile/android/sony",
          "web-desktop/other/sony",
          "web-desktop/android/sonyericsson",
          "web-mobile/android/sonyericsson",
          "web-mobile/android/tecno",
          "web-mobile/android/trekstor",
          "web-mobile/android/umeox",
          "web-desktop/android/vivo",
          "web-mobile/android/vivo",
          "web-desktop/android/xiaomi",
          "web-mobile/android/xiaomi",
          "web-mobile/android/yifang",
          "web-desktop/android/zte",
          "web-mobile/android/zte",
          "web-desktop/android",
          "web-mobile/android",
          "web-mobile/blackberry os",
          "web-desktop/chrome os",
          "web-desktop/debian",
          "web-desktop/fedora",
          "web-desktop/ios",
          "web-mobile/ios",
          "web-desktop/linux",
          "web-mobile/linux",
          "web-desktop/mac os x",
          "web-mobile/mac os x",
          "web-desktop/other",
          "web-mobile/other",
          "web-desktop/tizen",
          "web-desktop/ubuntu",
          "web-desktop/windows",
          "web-mobile/windows",
          "web-desktop",
          "web-mobile"
         ],
         "labels": [
          "amazon",
          "amazon",
          "apple",
          "apple",
          "apple",
          "asus",
          "asus",
          "axioo",
          "axioo",
          "blackberry",
          "celkon",
          "coolpad",
          "coolpad",
          "fujitsu",
          "fujitsu",
          "galapad",
          "generic",
          "generic",
          "generic",
          "generic",
          "generic",
          "generic_android",
          "generic_android",
          "gionee",
          "google",
          "google",
          "hisense",
          "hisense",
          "htc",
          "htc",
          "huawei",
          "huawei",
          "infinix",
          "infinix",
          "lava",
          "lenovo",
          "lenovo",
          "lg",
          "lg",
          "meizu",
          "meizu",
          "micromax",
          "micromax",
          "mito",
          "mito",
          "motorola",
          "motorola",
          "myphone",
          "nokia",
          "nokia",
          "nokia",
          "oneplus",
          "oneplus",
          "oppo",
          "oppo",
          "other",
          "other",
          "other",
          "other",
          "other",
          "other",
          "other",
          "other",
          "other",
          "other",
          "palm",
          "panasonic",
          "philips",
          "qmobile",
          "samsung",
          "samsung",
          "samsung",
          "sharp",
          "sony",
          "sony",
          "sony",
          "sonyericsson",
          "sonyericsson",
          "tecno",
          "trekstor",
          "umeox",
          "vivo",
          "vivo",
          "xiaomi",
          "xiaomi",
          "yifang",
          "zte",
          "zte",
          "android",
          "android",
          "blackberry os",
          "chrome os",
          "debian",
          "fedora",
          "ios",
          "ios",
          "linux",
          "linux",
          "mac os x",
          "mac os x",
          "other",
          "other",
          "tizen",
          "ubuntu",
          "windows",
          "windows",
          "web-desktop",
          "web-mobile"
         ],
         "name": "",
         "parents": [
          "web-desktop/android",
          "web-desktop/linux",
          "web-mobile/android",
          "web-desktop/ios",
          "web-mobile/ios",
          "web-desktop/android",
          "web-mobile/android",
          "web-desktop/android",
          "web-mobile/android",
          "web-mobile/blackberry os",
          "web-mobile/android",
          "web-desktop/android",
          "web-mobile/android",
          "web-desktop/android",
          "web-mobile/android",
          "web-mobile/android",
          "web-desktop/android",
          "web-mobile/android",
          "web-desktop/linux",
          "web-desktop/other",
          "web-mobile/other",
          "web-desktop/android",
          "web-mobile/android",
          "web-mobile/android",
          "web-desktop/android",
          "web-mobile/android",
          "web-desktop/android",
          "web-mobile/android",
          "web-desktop/android",
          "web-mobile/android",
          "web-desktop/android",
          "web-mobile/android",
          "web-desktop/android",
          "web-mobile/android",
          "web-mobile/android",
          "web-desktop/android",
          "web-mobile/android",
          "web-desktop/android",
          "web-mobile/android",
          "web-desktop/android",
          "web-mobile/android",
          "web-desktop/android",
          "web-mobile/android",
          "web-desktop/android",
          "web-mobile/android",
          "web-desktop/android",
          "web-mobile/android",
          "web-mobile/android",
          "web-desktop/android",
          "web-mobile/android",
          "web-desktop/other",
          "web-desktop/android",
          "web-mobile/android",
          "web-desktop/android",
          "web-mobile/android",
          "web-desktop/chrome os",
          "web-desktop/debian",
          "web-desktop/fedora",
          "web-desktop/linux",
          "web-mobile/linux",
          "web-desktop/mac os x",
          "web-desktop/other",
          "web-desktop/ubuntu",
          "web-desktop/windows",
          "web-mobile/windows",
          "web-mobile/mac os x",
          "web-mobile/android",
          "web-mobile/android",
          "web-mobile/android",
          "web-desktop/android",
          "web-mobile/android",
          "web-desktop/tizen",
          "web-mobile/android",
          "web-desktop/android",
          "web-mobile/android",
          "web-desktop/other",
          "web-desktop/android",
          "web-mobile/android",
          "web-mobile/android",
          "web-mobile/android",
          "web-mobile/android",
          "web-desktop/android",
          "web-mobile/android",
          "web-desktop/android",
          "web-mobile/android",
          "web-mobile/android",
          "web-desktop/android",
          "web-mobile/android",
          "web-desktop",
          "web-mobile",
          "web-mobile",
          "web-desktop",
          "web-desktop",
          "web-desktop",
          "web-desktop",
          "web-mobile",
          "web-desktop",
          "web-mobile",
          "web-desktop",
          "web-mobile",
          "web-desktop",
          "web-mobile",
          "web-desktop",
          "web-desktop",
          "web-desktop",
          "web-mobile",
          "",
          ""
         ],
         "type": "sunburst",
         "values": [
          5,
          1,
          1,
          367,
          16494,
          90,
          6431,
          1,
          2,
          1,
          1,
          2,
          56,
          4,
          29,
          3,
          1116,
          93061,
          3,
          1,
          3,
          709,
          58106,
          21,
          1,
          12,
          4,
          49,
          1,
          45,
          68,
          2605,
          53,
          1886,
          214,
          79,
          1221,
          12,
          1993,
          3,
          117,
          3,
          17,
          2,
          60,
          5,
          103,
          1,
          11,
          604,
          1,
          2,
          51,
          4,
          164,
          59,
          1,
          33,
          1321,
          4,
          2130,
          97,
          65,
          43813,
          1,
          2,
          1,
          5,
          2,
          1361,
          83382,
          27,
          17,
          3,
          52,
          15,
          14,
          206,
          19,
          1,
          5,
          280,
          22130,
          568,
          52208,
          4,
          2,
          7,
          4403,
          324892,
          1,
          59,
          1,
          33,
          367,
          16494,
          1325,
          4,
          2130,
          2,
          114,
          3,
          27,
          65,
          43813,
          1,
          52337,
          341397
         ]
        }
       ],
       "layout": {
        "legend": {
         "tracegroupgap": 0
        },
        "template": {
         "data": {
          "bar": [
           {
            "error_x": {
             "color": "#2a3f5f"
            },
            "error_y": {
             "color": "#2a3f5f"
            },
            "marker": {
             "line": {
              "color": "#E5ECF6",
              "width": 0.5
             }
            },
            "type": "bar"
           }
          ],
          "barpolar": [
           {
            "marker": {
             "line": {
              "color": "#E5ECF6",
              "width": 0.5
             }
            },
            "type": "barpolar"
           }
          ],
          "carpet": [
           {
            "aaxis": {
             "endlinecolor": "#2a3f5f",
             "gridcolor": "white",
             "linecolor": "white",
             "minorgridcolor": "white",
             "startlinecolor": "#2a3f5f"
            },
            "baxis": {
             "endlinecolor": "#2a3f5f",
             "gridcolor": "white",
             "linecolor": "white",
             "minorgridcolor": "white",
             "startlinecolor": "#2a3f5f"
            },
            "type": "carpet"
           }
          ],
          "choropleth": [
           {
            "colorbar": {
             "outlinewidth": 0,
             "ticks": ""
            },
            "type": "choropleth"
           }
          ],
          "contour": [
           {
            "colorbar": {
             "outlinewidth": 0,
             "ticks": ""
            },
            "colorscale": [
             [
              0,
              "#0d0887"
             ],
             [
              0.1111111111111111,
              "#46039f"
             ],
             [
              0.2222222222222222,
              "#7201a8"
             ],
             [
              0.3333333333333333,
              "#9c179e"
             ],
             [
              0.4444444444444444,
              "#bd3786"
             ],
             [
              0.5555555555555556,
              "#d8576b"
             ],
             [
              0.6666666666666666,
              "#ed7953"
             ],
             [
              0.7777777777777778,
              "#fb9f3a"
             ],
             [
              0.8888888888888888,
              "#fdca26"
             ],
             [
              1,
              "#f0f921"
             ]
            ],
            "type": "contour"
           }
          ],
          "contourcarpet": [
           {
            "colorbar": {
             "outlinewidth": 0,
             "ticks": ""
            },
            "type": "contourcarpet"
           }
          ],
          "heatmap": [
           {
            "colorbar": {
             "outlinewidth": 0,
             "ticks": ""
            },
            "colorscale": [
             [
              0,
              "#0d0887"
             ],
             [
              0.1111111111111111,
              "#46039f"
             ],
             [
              0.2222222222222222,
              "#7201a8"
             ],
             [
              0.3333333333333333,
              "#9c179e"
             ],
             [
              0.4444444444444444,
              "#bd3786"
             ],
             [
              0.5555555555555556,
              "#d8576b"
             ],
             [
              0.6666666666666666,
              "#ed7953"
             ],
             [
              0.7777777777777778,
              "#fb9f3a"
             ],
             [
              0.8888888888888888,
              "#fdca26"
             ],
             [
              1,
              "#f0f921"
             ]
            ],
            "type": "heatmap"
           }
          ],
          "heatmapgl": [
           {
            "colorbar": {
             "outlinewidth": 0,
             "ticks": ""
            },
            "colorscale": [
             [
              0,
              "#0d0887"
             ],
             [
              0.1111111111111111,
              "#46039f"
             ],
             [
              0.2222222222222222,
              "#7201a8"
             ],
             [
              0.3333333333333333,
              "#9c179e"
             ],
             [
              0.4444444444444444,
              "#bd3786"
             ],
             [
              0.5555555555555556,
              "#d8576b"
             ],
             [
              0.6666666666666666,
              "#ed7953"
             ],
             [
              0.7777777777777778,
              "#fb9f3a"
             ],
             [
              0.8888888888888888,
              "#fdca26"
             ],
             [
              1,
              "#f0f921"
             ]
            ],
            "type": "heatmapgl"
           }
          ],
          "histogram": [
           {
            "marker": {
             "colorbar": {
              "outlinewidth": 0,
              "ticks": ""
             }
            },
            "type": "histogram"
           }
          ],
          "histogram2d": [
           {
            "colorbar": {
             "outlinewidth": 0,
             "ticks": ""
            },
            "colorscale": [
             [
              0,
              "#0d0887"
             ],
             [
              0.1111111111111111,
              "#46039f"
             ],
             [
              0.2222222222222222,
              "#7201a8"
             ],
             [
              0.3333333333333333,
              "#9c179e"
             ],
             [
              0.4444444444444444,
              "#bd3786"
             ],
             [
              0.5555555555555556,
              "#d8576b"
             ],
             [
              0.6666666666666666,
              "#ed7953"
             ],
             [
              0.7777777777777778,
              "#fb9f3a"
             ],
             [
              0.8888888888888888,
              "#fdca26"
             ],
             [
              1,
              "#f0f921"
             ]
            ],
            "type": "histogram2d"
           }
          ],
          "histogram2dcontour": [
           {
            "colorbar": {
             "outlinewidth": 0,
             "ticks": ""
            },
            "colorscale": [
             [
              0,
              "#0d0887"
             ],
             [
              0.1111111111111111,
              "#46039f"
             ],
             [
              0.2222222222222222,
              "#7201a8"
             ],
             [
              0.3333333333333333,
              "#9c179e"
             ],
             [
              0.4444444444444444,
              "#bd3786"
             ],
             [
              0.5555555555555556,
              "#d8576b"
             ],
             [
              0.6666666666666666,
              "#ed7953"
             ],
             [
              0.7777777777777778,
              "#fb9f3a"
             ],
             [
              0.8888888888888888,
              "#fdca26"
             ],
             [
              1,
              "#f0f921"
             ]
            ],
            "type": "histogram2dcontour"
           }
          ],
          "mesh3d": [
           {
            "colorbar": {
             "outlinewidth": 0,
             "ticks": ""
            },
            "type": "mesh3d"
           }
          ],
          "parcoords": [
           {
            "line": {
             "colorbar": {
              "outlinewidth": 0,
              "ticks": ""
             }
            },
            "type": "parcoords"
           }
          ],
          "pie": [
           {
            "automargin": true,
            "type": "pie"
           }
          ],
          "scatter": [
           {
            "marker": {
             "colorbar": {
              "outlinewidth": 0,
              "ticks": ""
             }
            },
            "type": "scatter"
           }
          ],
          "scatter3d": [
           {
            "line": {
             "colorbar": {
              "outlinewidth": 0,
              "ticks": ""
             }
            },
            "marker": {
             "colorbar": {
              "outlinewidth": 0,
              "ticks": ""
             }
            },
            "type": "scatter3d"
           }
          ],
          "scattercarpet": [
           {
            "marker": {
             "colorbar": {
              "outlinewidth": 0,
              "ticks": ""
             }
            },
            "type": "scattercarpet"
           }
          ],
          "scattergeo": [
           {
            "marker": {
             "colorbar": {
              "outlinewidth": 0,
              "ticks": ""
             }
            },
            "type": "scattergeo"
           }
          ],
          "scattergl": [
           {
            "marker": {
             "colorbar": {
              "outlinewidth": 0,
              "ticks": ""
             }
            },
            "type": "scattergl"
           }
          ],
          "scattermapbox": [
           {
            "marker": {
             "colorbar": {
              "outlinewidth": 0,
              "ticks": ""
             }
            },
            "type": "scattermapbox"
           }
          ],
          "scatterpolar": [
           {
            "marker": {
             "colorbar": {
              "outlinewidth": 0,
              "ticks": ""
             }
            },
            "type": "scatterpolar"
           }
          ],
          "scatterpolargl": [
           {
            "marker": {
             "colorbar": {
              "outlinewidth": 0,
              "ticks": ""
             }
            },
            "type": "scatterpolargl"
           }
          ],
          "scatterternary": [
           {
            "marker": {
             "colorbar": {
              "outlinewidth": 0,
              "ticks": ""
             }
            },
            "type": "scatterternary"
           }
          ],
          "surface": [
           {
            "colorbar": {
             "outlinewidth": 0,
             "ticks": ""
            },
            "colorscale": [
             [
              0,
              "#0d0887"
             ],
             [
              0.1111111111111111,
              "#46039f"
             ],
             [
              0.2222222222222222,
              "#7201a8"
             ],
             [
              0.3333333333333333,
              "#9c179e"
             ],
             [
              0.4444444444444444,
              "#bd3786"
             ],
             [
              0.5555555555555556,
              "#d8576b"
             ],
             [
              0.6666666666666666,
              "#ed7953"
             ],
             [
              0.7777777777777778,
              "#fb9f3a"
             ],
             [
              0.8888888888888888,
              "#fdca26"
             ],
             [
              1,
              "#f0f921"
             ]
            ],
            "type": "surface"
           }
          ],
          "table": [
           {
            "cells": {
             "fill": {
              "color": "#EBF0F8"
             },
             "line": {
              "color": "white"
             }
            },
            "header": {
             "fill": {
              "color": "#C8D4E3"
             },
             "line": {
              "color": "white"
             }
            },
            "type": "table"
           }
          ]
         },
         "layout": {
          "annotationdefaults": {
           "arrowcolor": "#2a3f5f",
           "arrowhead": 0,
           "arrowwidth": 1
          },
          "autotypenumbers": "strict",
          "coloraxis": {
           "colorbar": {
            "outlinewidth": 0,
            "ticks": ""
           }
          },
          "colorscale": {
           "diverging": [
            [
             0,
             "#8e0152"
            ],
            [
             0.1,
             "#c51b7d"
            ],
            [
             0.2,
             "#de77ae"
            ],
            [
             0.3,
             "#f1b6da"
            ],
            [
             0.4,
             "#fde0ef"
            ],
            [
             0.5,
             "#f7f7f7"
            ],
            [
             0.6,
             "#e6f5d0"
            ],
            [
             0.7,
             "#b8e186"
            ],
            [
             0.8,
             "#7fbc41"
            ],
            [
             0.9,
             "#4d9221"
            ],
            [
             1,
             "#276419"
            ]
           ],
           "sequential": [
            [
             0,
             "#0d0887"
            ],
            [
             0.1111111111111111,
             "#46039f"
            ],
            [
             0.2222222222222222,
             "#7201a8"
            ],
            [
             0.3333333333333333,
             "#9c179e"
            ],
            [
             0.4444444444444444,
             "#bd3786"
            ],
            [
             0.5555555555555556,
             "#d8576b"
            ],
            [
             0.6666666666666666,
             "#ed7953"
            ],
            [
             0.7777777777777778,
             "#fb9f3a"
            ],
            [
             0.8888888888888888,
             "#fdca26"
            ],
            [
             1,
             "#f0f921"
            ]
           ],
           "sequentialminus": [
            [
             0,
             "#0d0887"
            ],
            [
             0.1111111111111111,
             "#46039f"
            ],
            [
             0.2222222222222222,
             "#7201a8"
            ],
            [
             0.3333333333333333,
             "#9c179e"
            ],
            [
             0.4444444444444444,
             "#bd3786"
            ],
            [
             0.5555555555555556,
             "#d8576b"
            ],
            [
             0.6666666666666666,
             "#ed7953"
            ],
            [
             0.7777777777777778,
             "#fb9f3a"
            ],
            [
             0.8888888888888888,
             "#fdca26"
            ],
            [
             1,
             "#f0f921"
            ]
           ]
          },
          "colorway": [
           "#636efa",
           "#EF553B",
           "#00cc96",
           "#ab63fa",
           "#FFA15A",
           "#19d3f3",
           "#FF6692",
           "#B6E880",
           "#FF97FF",
           "#FECB52"
          ],
          "font": {
           "color": "#2a3f5f"
          },
          "geo": {
           "bgcolor": "white",
           "lakecolor": "white",
           "landcolor": "#E5ECF6",
           "showlakes": true,
           "showland": true,
           "subunitcolor": "white"
          },
          "hoverlabel": {
           "align": "left"
          },
          "hovermode": "closest",
          "mapbox": {
           "style": "light"
          },
          "paper_bgcolor": "white",
          "plot_bgcolor": "#E5ECF6",
          "polar": {
           "angularaxis": {
            "gridcolor": "white",
            "linecolor": "white",
            "ticks": ""
           },
           "bgcolor": "#E5ECF6",
           "radialaxis": {
            "gridcolor": "white",
            "linecolor": "white",
            "ticks": ""
           }
          },
          "scene": {
           "xaxis": {
            "backgroundcolor": "#E5ECF6",
            "gridcolor": "white",
            "gridwidth": 2,
            "linecolor": "white",
            "showbackground": true,
            "ticks": "",
            "zerolinecolor": "white"
           },
           "yaxis": {
            "backgroundcolor": "#E5ECF6",
            "gridcolor": "white",
            "gridwidth": 2,
            "linecolor": "white",
            "showbackground": true,
            "ticks": "",
            "zerolinecolor": "white"
           },
           "zaxis": {
            "backgroundcolor": "#E5ECF6",
            "gridcolor": "white",
            "gridwidth": 2,
            "linecolor": "white",
            "showbackground": true,
            "ticks": "",
            "zerolinecolor": "white"
           }
          },
          "shapedefaults": {
           "line": {
            "color": "#2a3f5f"
           }
          },
          "ternary": {
           "aaxis": {
            "gridcolor": "white",
            "linecolor": "white",
            "ticks": ""
           },
           "baxis": {
            "gridcolor": "white",
            "linecolor": "white",
            "ticks": ""
           },
           "bgcolor": "#E5ECF6",
           "caxis": {
            "gridcolor": "white",
            "linecolor": "white",
            "ticks": ""
           }
          },
          "title": {
           "x": 0.05
          },
          "xaxis": {
           "automargin": true,
           "gridcolor": "white",
           "linecolor": "white",
           "ticks": "",
           "title": {
            "standoff": 15
           },
           "zerolinecolor": "white",
           "zerolinewidth": 2
          },
          "yaxis": {
           "automargin": true,
           "gridcolor": "white",
           "linecolor": "white",
           "ticks": "",
           "title": {
            "standoff": 15
           },
           "zerolinecolor": "white",
           "zerolinewidth": 2
          }
         }
        },
        "title": {
         "text": "Favorable used platform, os, and device"
        }
       }
      },
      "text/html": [
       "<div>                            <div id=\"2087a424-bf9d-4c44-a706-ec10da63f8de\" class=\"plotly-graph-div\" style=\"height:525px; width:100%;\"></div>            <script type=\"text/javascript\">                require([\"plotly\"], function(Plotly) {                    window.PLOTLYENV=window.PLOTLYENV || {};                                    if (document.getElementById(\"2087a424-bf9d-4c44-a706-ec10da63f8de\")) {                    Plotly.newPlot(                        \"2087a424-bf9d-4c44-a706-ec10da63f8de\",                        [{\"branchvalues\": \"total\", \"domain\": {\"x\": [0.0, 1.0], \"y\": [0.0, 1.0]}, \"hovertemplate\": \"labels=%{label}<br>count=%{value}<br>parent=%{parent}<br>id=%{id}<extra></extra>\", \"ids\": [\"web-desktop/android/amazon\", \"web-desktop/linux/amazon\", \"web-mobile/android/apple\", \"web-desktop/ios/apple\", \"web-mobile/ios/apple\", \"web-desktop/android/asus\", \"web-mobile/android/asus\", \"web-desktop/android/axioo\", \"web-mobile/android/axioo\", \"web-mobile/blackberry os/blackberry\", \"web-mobile/android/celkon\", \"web-desktop/android/coolpad\", \"web-mobile/android/coolpad\", \"web-desktop/android/fujitsu\", \"web-mobile/android/fujitsu\", \"web-mobile/android/galapad\", \"web-desktop/android/generic\", \"web-mobile/android/generic\", \"web-desktop/linux/generic\", \"web-desktop/other/generic\", \"web-mobile/other/generic\", \"web-desktop/android/generic_android\", \"web-mobile/android/generic_android\", \"web-mobile/android/gionee\", \"web-desktop/android/google\", \"web-mobile/android/google\", \"web-desktop/android/hisense\", \"web-mobile/android/hisense\", \"web-desktop/android/htc\", \"web-mobile/android/htc\", \"web-desktop/android/huawei\", \"web-mobile/android/huawei\", \"web-desktop/android/infinix\", \"web-mobile/android/infinix\", \"web-mobile/android/lava\", \"web-desktop/android/lenovo\", \"web-mobile/android/lenovo\", \"web-desktop/android/lg\", \"web-mobile/android/lg\", \"web-desktop/android/meizu\", \"web-mobile/android/meizu\", \"web-desktop/android/micromax\", \"web-mobile/android/micromax\", \"web-desktop/android/mito\", \"web-mobile/android/mito\", \"web-desktop/android/motorola\", \"web-mobile/android/motorola\", \"web-mobile/android/myphone\", \"web-desktop/android/nokia\", \"web-mobile/android/nokia\", \"web-desktop/other/nokia\", \"web-desktop/android/oneplus\", \"web-mobile/android/oneplus\", \"web-desktop/android/oppo\", \"web-mobile/android/oppo\", \"web-desktop/chrome os/other\", \"web-desktop/debian/other\", \"web-desktop/fedora/other\", \"web-desktop/linux/other\", \"web-mobile/linux/other\", \"web-desktop/mac os x/other\", \"web-desktop/other/other\", \"web-desktop/ubuntu/other\", \"web-desktop/windows/other\", \"web-mobile/windows/other\", \"web-mobile/mac os x/palm\", \"web-mobile/android/panasonic\", \"web-mobile/android/philips\", \"web-mobile/android/qmobile\", \"web-desktop/android/samsung\", \"web-mobile/android/samsung\", \"web-desktop/tizen/samsung\", \"web-mobile/android/sharp\", \"web-desktop/android/sony\", \"web-mobile/android/sony\", \"web-desktop/other/sony\", \"web-desktop/android/sonyericsson\", \"web-mobile/android/sonyericsson\", \"web-mobile/android/tecno\", \"web-mobile/android/trekstor\", \"web-mobile/android/umeox\", \"web-desktop/android/vivo\", \"web-mobile/android/vivo\", \"web-desktop/android/xiaomi\", \"web-mobile/android/xiaomi\", \"web-mobile/android/yifang\", \"web-desktop/android/zte\", \"web-mobile/android/zte\", \"web-desktop/android\", \"web-mobile/android\", \"web-mobile/blackberry os\", \"web-desktop/chrome os\", \"web-desktop/debian\", \"web-desktop/fedora\", \"web-desktop/ios\", \"web-mobile/ios\", \"web-desktop/linux\", \"web-mobile/linux\", \"web-desktop/mac os x\", \"web-mobile/mac os x\", \"web-desktop/other\", \"web-mobile/other\", \"web-desktop/tizen\", \"web-desktop/ubuntu\", \"web-desktop/windows\", \"web-mobile/windows\", \"web-desktop\", \"web-mobile\"], \"labels\": [\"amazon\", \"amazon\", \"apple\", \"apple\", \"apple\", \"asus\", \"asus\", \"axioo\", \"axioo\", \"blackberry\", \"celkon\", \"coolpad\", \"coolpad\", \"fujitsu\", \"fujitsu\", \"galapad\", \"generic\", \"generic\", \"generic\", \"generic\", \"generic\", \"generic_android\", \"generic_android\", \"gionee\", \"google\", \"google\", \"hisense\", \"hisense\", \"htc\", \"htc\", \"huawei\", \"huawei\", \"infinix\", \"infinix\", \"lava\", \"lenovo\", \"lenovo\", \"lg\", \"lg\", \"meizu\", \"meizu\", \"micromax\", \"micromax\", \"mito\", \"mito\", \"motorola\", \"motorola\", \"myphone\", \"nokia\", \"nokia\", \"nokia\", \"oneplus\", \"oneplus\", \"oppo\", \"oppo\", \"other\", \"other\", \"other\", \"other\", \"other\", \"other\", \"other\", \"other\", \"other\", \"other\", \"palm\", \"panasonic\", \"philips\", \"qmobile\", \"samsung\", \"samsung\", \"samsung\", \"sharp\", \"sony\", \"sony\", \"sony\", \"sonyericsson\", \"sonyericsson\", \"tecno\", \"trekstor\", \"umeox\", \"vivo\", \"vivo\", \"xiaomi\", \"xiaomi\", \"yifang\", \"zte\", \"zte\", \"android\", \"android\", \"blackberry os\", \"chrome os\", \"debian\", \"fedora\", \"ios\", \"ios\", \"linux\", \"linux\", \"mac os x\", \"mac os x\", \"other\", \"other\", \"tizen\", \"ubuntu\", \"windows\", \"windows\", \"web-desktop\", \"web-mobile\"], \"name\": \"\", \"parents\": [\"web-desktop/android\", \"web-desktop/linux\", \"web-mobile/android\", \"web-desktop/ios\", \"web-mobile/ios\", \"web-desktop/android\", \"web-mobile/android\", \"web-desktop/android\", \"web-mobile/android\", \"web-mobile/blackberry os\", \"web-mobile/android\", \"web-desktop/android\", \"web-mobile/android\", \"web-desktop/android\", \"web-mobile/android\", \"web-mobile/android\", \"web-desktop/android\", \"web-mobile/android\", \"web-desktop/linux\", \"web-desktop/other\", \"web-mobile/other\", \"web-desktop/android\", \"web-mobile/android\", \"web-mobile/android\", \"web-desktop/android\", \"web-mobile/android\", \"web-desktop/android\", \"web-mobile/android\", \"web-desktop/android\", \"web-mobile/android\", \"web-desktop/android\", \"web-mobile/android\", \"web-desktop/android\", \"web-mobile/android\", \"web-mobile/android\", \"web-desktop/android\", \"web-mobile/android\", \"web-desktop/android\", \"web-mobile/android\", \"web-desktop/android\", \"web-mobile/android\", \"web-desktop/android\", \"web-mobile/android\", \"web-desktop/android\", \"web-mobile/android\", \"web-desktop/android\", \"web-mobile/android\", \"web-mobile/android\", \"web-desktop/android\", \"web-mobile/android\", \"web-desktop/other\", \"web-desktop/android\", \"web-mobile/android\", \"web-desktop/android\", \"web-mobile/android\", \"web-desktop/chrome os\", \"web-desktop/debian\", \"web-desktop/fedora\", \"web-desktop/linux\", \"web-mobile/linux\", \"web-desktop/mac os x\", \"web-desktop/other\", \"web-desktop/ubuntu\", \"web-desktop/windows\", \"web-mobile/windows\", \"web-mobile/mac os x\", \"web-mobile/android\", \"web-mobile/android\", \"web-mobile/android\", \"web-desktop/android\", \"web-mobile/android\", \"web-desktop/tizen\", \"web-mobile/android\", \"web-desktop/android\", \"web-mobile/android\", \"web-desktop/other\", \"web-desktop/android\", \"web-mobile/android\", \"web-mobile/android\", \"web-mobile/android\", \"web-mobile/android\", \"web-desktop/android\", \"web-mobile/android\", \"web-desktop/android\", \"web-mobile/android\", \"web-mobile/android\", \"web-desktop/android\", \"web-mobile/android\", \"web-desktop\", \"web-mobile\", \"web-mobile\", \"web-desktop\", \"web-desktop\", \"web-desktop\", \"web-desktop\", \"web-mobile\", \"web-desktop\", \"web-mobile\", \"web-desktop\", \"web-mobile\", \"web-desktop\", \"web-mobile\", \"web-desktop\", \"web-desktop\", \"web-desktop\", \"web-mobile\", \"\", \"\"], \"type\": \"sunburst\", \"values\": [5, 1, 1, 367, 16494, 90, 6431, 1, 2, 1, 1, 2, 56, 4, 29, 3, 1116, 93061, 3, 1, 3, 709, 58106, 21, 1, 12, 4, 49, 1, 45, 68, 2605, 53, 1886, 214, 79, 1221, 12, 1993, 3, 117, 3, 17, 2, 60, 5, 103, 1, 11, 604, 1, 2, 51, 4, 164, 59, 1, 33, 1321, 4, 2130, 97, 65, 43813, 1, 2, 1, 5, 2, 1361, 83382, 27, 17, 3, 52, 15, 14, 206, 19, 1, 5, 280, 22130, 568, 52208, 4, 2, 7, 4403, 324892, 1, 59, 1, 33, 367, 16494, 1325, 4, 2130, 2, 114, 3, 27, 65, 43813, 1, 52337, 341397]}],                        {\"legend\": {\"tracegroupgap\": 0}, \"template\": {\"data\": {\"bar\": [{\"error_x\": {\"color\": \"#2a3f5f\"}, \"error_y\": {\"color\": \"#2a3f5f\"}, \"marker\": {\"line\": {\"color\": \"#E5ECF6\", \"width\": 0.5}}, \"type\": \"bar\"}], \"barpolar\": [{\"marker\": {\"line\": {\"color\": \"#E5ECF6\", \"width\": 0.5}}, \"type\": \"barpolar\"}], \"carpet\": [{\"aaxis\": {\"endlinecolor\": \"#2a3f5f\", \"gridcolor\": \"white\", \"linecolor\": \"white\", \"minorgridcolor\": \"white\", \"startlinecolor\": \"#2a3f5f\"}, \"baxis\": {\"endlinecolor\": \"#2a3f5f\", \"gridcolor\": \"white\", \"linecolor\": \"white\", \"minorgridcolor\": \"white\", \"startlinecolor\": \"#2a3f5f\"}, \"type\": \"carpet\"}], \"choropleth\": [{\"colorbar\": {\"outlinewidth\": 0, \"ticks\": \"\"}, \"type\": \"choropleth\"}], \"contour\": [{\"colorbar\": {\"outlinewidth\": 0, \"ticks\": \"\"}, \"colorscale\": [[0.0, \"#0d0887\"], [0.1111111111111111, \"#46039f\"], [0.2222222222222222, \"#7201a8\"], [0.3333333333333333, \"#9c179e\"], [0.4444444444444444, \"#bd3786\"], [0.5555555555555556, \"#d8576b\"], [0.6666666666666666, \"#ed7953\"], [0.7777777777777778, \"#fb9f3a\"], [0.8888888888888888, \"#fdca26\"], [1.0, \"#f0f921\"]], \"type\": \"contour\"}], \"contourcarpet\": [{\"colorbar\": {\"outlinewidth\": 0, \"ticks\": \"\"}, \"type\": \"contourcarpet\"}], \"heatmap\": [{\"colorbar\": {\"outlinewidth\": 0, \"ticks\": \"\"}, \"colorscale\": [[0.0, \"#0d0887\"], [0.1111111111111111, \"#46039f\"], [0.2222222222222222, \"#7201a8\"], [0.3333333333333333, \"#9c179e\"], [0.4444444444444444, \"#bd3786\"], [0.5555555555555556, \"#d8576b\"], [0.6666666666666666, \"#ed7953\"], [0.7777777777777778, \"#fb9f3a\"], [0.8888888888888888, \"#fdca26\"], [1.0, \"#f0f921\"]], \"type\": \"heatmap\"}], \"heatmapgl\": [{\"colorbar\": {\"outlinewidth\": 0, \"ticks\": \"\"}, \"colorscale\": [[0.0, \"#0d0887\"], [0.1111111111111111, \"#46039f\"], [0.2222222222222222, \"#7201a8\"], [0.3333333333333333, \"#9c179e\"], [0.4444444444444444, \"#bd3786\"], [0.5555555555555556, \"#d8576b\"], [0.6666666666666666, \"#ed7953\"], [0.7777777777777778, \"#fb9f3a\"], [0.8888888888888888, \"#fdca26\"], [1.0, \"#f0f921\"]], \"type\": \"heatmapgl\"}], \"histogram\": [{\"marker\": {\"colorbar\": {\"outlinewidth\": 0, \"ticks\": \"\"}}, \"type\": \"histogram\"}], \"histogram2d\": [{\"colorbar\": {\"outlinewidth\": 0, \"ticks\": \"\"}, \"colorscale\": [[0.0, \"#0d0887\"], [0.1111111111111111, \"#46039f\"], [0.2222222222222222, \"#7201a8\"], [0.3333333333333333, \"#9c179e\"], [0.4444444444444444, \"#bd3786\"], [0.5555555555555556, \"#d8576b\"], [0.6666666666666666, \"#ed7953\"], [0.7777777777777778, \"#fb9f3a\"], [0.8888888888888888, \"#fdca26\"], [1.0, \"#f0f921\"]], \"type\": \"histogram2d\"}], \"histogram2dcontour\": [{\"colorbar\": {\"outlinewidth\": 0, \"ticks\": \"\"}, \"colorscale\": [[0.0, \"#0d0887\"], [0.1111111111111111, \"#46039f\"], [0.2222222222222222, \"#7201a8\"], [0.3333333333333333, \"#9c179e\"], [0.4444444444444444, \"#bd3786\"], [0.5555555555555556, \"#d8576b\"], [0.6666666666666666, \"#ed7953\"], [0.7777777777777778, \"#fb9f3a\"], [0.8888888888888888, \"#fdca26\"], [1.0, \"#f0f921\"]], \"type\": \"histogram2dcontour\"}], \"mesh3d\": [{\"colorbar\": {\"outlinewidth\": 0, \"ticks\": \"\"}, \"type\": \"mesh3d\"}], \"parcoords\": [{\"line\": {\"colorbar\": {\"outlinewidth\": 0, \"ticks\": \"\"}}, \"type\": \"parcoords\"}], \"pie\": [{\"automargin\": true, \"type\": \"pie\"}], \"scatter\": [{\"marker\": {\"colorbar\": {\"outlinewidth\": 0, \"ticks\": \"\"}}, \"type\": \"scatter\"}], \"scatter3d\": [{\"line\": {\"colorbar\": {\"outlinewidth\": 0, \"ticks\": \"\"}}, \"marker\": {\"colorbar\": {\"outlinewidth\": 0, \"ticks\": \"\"}}, \"type\": \"scatter3d\"}], \"scattercarpet\": [{\"marker\": {\"colorbar\": {\"outlinewidth\": 0, \"ticks\": \"\"}}, \"type\": \"scattercarpet\"}], \"scattergeo\": [{\"marker\": {\"colorbar\": {\"outlinewidth\": 0, \"ticks\": \"\"}}, \"type\": \"scattergeo\"}], \"scattergl\": [{\"marker\": {\"colorbar\": {\"outlinewidth\": 0, \"ticks\": \"\"}}, \"type\": \"scattergl\"}], \"scattermapbox\": [{\"marker\": {\"colorbar\": {\"outlinewidth\": 0, \"ticks\": \"\"}}, \"type\": \"scattermapbox\"}], \"scatterpolar\": [{\"marker\": {\"colorbar\": {\"outlinewidth\": 0, \"ticks\": \"\"}}, \"type\": \"scatterpolar\"}], \"scatterpolargl\": [{\"marker\": {\"colorbar\": {\"outlinewidth\": 0, \"ticks\": \"\"}}, \"type\": \"scatterpolargl\"}], \"scatterternary\": [{\"marker\": {\"colorbar\": {\"outlinewidth\": 0, \"ticks\": \"\"}}, \"type\": \"scatterternary\"}], \"surface\": [{\"colorbar\": {\"outlinewidth\": 0, \"ticks\": \"\"}, \"colorscale\": [[0.0, \"#0d0887\"], [0.1111111111111111, \"#46039f\"], [0.2222222222222222, \"#7201a8\"], [0.3333333333333333, \"#9c179e\"], [0.4444444444444444, \"#bd3786\"], [0.5555555555555556, \"#d8576b\"], [0.6666666666666666, \"#ed7953\"], [0.7777777777777778, \"#fb9f3a\"], [0.8888888888888888, \"#fdca26\"], [1.0, \"#f0f921\"]], \"type\": \"surface\"}], \"table\": [{\"cells\": {\"fill\": {\"color\": \"#EBF0F8\"}, \"line\": {\"color\": \"white\"}}, \"header\": {\"fill\": {\"color\": \"#C8D4E3\"}, \"line\": {\"color\": \"white\"}}, \"type\": \"table\"}]}, \"layout\": {\"annotationdefaults\": {\"arrowcolor\": \"#2a3f5f\", \"arrowhead\": 0, \"arrowwidth\": 1}, \"autotypenumbers\": \"strict\", \"coloraxis\": {\"colorbar\": {\"outlinewidth\": 0, \"ticks\": \"\"}}, \"colorscale\": {\"diverging\": [[0, \"#8e0152\"], [0.1, \"#c51b7d\"], [0.2, \"#de77ae\"], [0.3, \"#f1b6da\"], [0.4, \"#fde0ef\"], [0.5, \"#f7f7f7\"], [0.6, \"#e6f5d0\"], [0.7, \"#b8e186\"], [0.8, \"#7fbc41\"], [0.9, \"#4d9221\"], [1, \"#276419\"]], \"sequential\": [[0.0, \"#0d0887\"], [0.1111111111111111, \"#46039f\"], [0.2222222222222222, \"#7201a8\"], [0.3333333333333333, \"#9c179e\"], [0.4444444444444444, \"#bd3786\"], [0.5555555555555556, \"#d8576b\"], [0.6666666666666666, \"#ed7953\"], [0.7777777777777778, \"#fb9f3a\"], [0.8888888888888888, \"#fdca26\"], [1.0, \"#f0f921\"]], \"sequentialminus\": [[0.0, \"#0d0887\"], [0.1111111111111111, \"#46039f\"], [0.2222222222222222, \"#7201a8\"], [0.3333333333333333, \"#9c179e\"], [0.4444444444444444, \"#bd3786\"], [0.5555555555555556, \"#d8576b\"], [0.6666666666666666, \"#ed7953\"], [0.7777777777777778, \"#fb9f3a\"], [0.8888888888888888, \"#fdca26\"], [1.0, \"#f0f921\"]]}, \"colorway\": [\"#636efa\", \"#EF553B\", \"#00cc96\", \"#ab63fa\", \"#FFA15A\", \"#19d3f3\", \"#FF6692\", \"#B6E880\", \"#FF97FF\", \"#FECB52\"], \"font\": {\"color\": \"#2a3f5f\"}, \"geo\": {\"bgcolor\": \"white\", \"lakecolor\": \"white\", \"landcolor\": \"#E5ECF6\", \"showlakes\": true, \"showland\": true, \"subunitcolor\": \"white\"}, \"hoverlabel\": {\"align\": \"left\"}, \"hovermode\": \"closest\", \"mapbox\": {\"style\": \"light\"}, \"paper_bgcolor\": \"white\", \"plot_bgcolor\": \"#E5ECF6\", \"polar\": {\"angularaxis\": {\"gridcolor\": \"white\", \"linecolor\": \"white\", \"ticks\": \"\"}, \"bgcolor\": \"#E5ECF6\", \"radialaxis\": {\"gridcolor\": \"white\", \"linecolor\": \"white\", \"ticks\": \"\"}}, \"scene\": {\"xaxis\": {\"backgroundcolor\": \"#E5ECF6\", \"gridcolor\": \"white\", \"gridwidth\": 2, \"linecolor\": \"white\", \"showbackground\": true, \"ticks\": \"\", \"zerolinecolor\": \"white\"}, \"yaxis\": {\"backgroundcolor\": \"#E5ECF6\", \"gridcolor\": \"white\", \"gridwidth\": 2, \"linecolor\": \"white\", \"showbackground\": true, \"ticks\": \"\", \"zerolinecolor\": \"white\"}, \"zaxis\": {\"backgroundcolor\": \"#E5ECF6\", \"gridcolor\": \"white\", \"gridwidth\": 2, \"linecolor\": \"white\", \"showbackground\": true, \"ticks\": \"\", \"zerolinecolor\": \"white\"}}, \"shapedefaults\": {\"line\": {\"color\": \"#2a3f5f\"}}, \"ternary\": {\"aaxis\": {\"gridcolor\": \"white\", \"linecolor\": \"white\", \"ticks\": \"\"}, \"baxis\": {\"gridcolor\": \"white\", \"linecolor\": \"white\", \"ticks\": \"\"}, \"bgcolor\": \"#E5ECF6\", \"caxis\": {\"gridcolor\": \"white\", \"linecolor\": \"white\", \"ticks\": \"\"}}, \"title\": {\"x\": 0.05}, \"xaxis\": {\"automargin\": true, \"gridcolor\": \"white\", \"linecolor\": \"white\", \"ticks\": \"\", \"title\": {\"standoff\": 15}, \"zerolinecolor\": \"white\", \"zerolinewidth\": 2}, \"yaxis\": {\"automargin\": true, \"gridcolor\": \"white\", \"linecolor\": \"white\", \"ticks\": \"\", \"title\": {\"standoff\": 15}, \"zerolinecolor\": \"white\", \"zerolinewidth\": 2}}}, \"title\": {\"text\": \"Favorable used platform, os, and device\"}},                        {\"responsive\": true}                    ).then(function(){\n",
       "                            \n",
       "var gd = document.getElementById('2087a424-bf9d-4c44-a706-ec10da63f8de');\n",
       "var x = new MutationObserver(function (mutations, observer) {{\n",
       "        var display = window.getComputedStyle(gd).display;\n",
       "        if (!display || display === 'none') {{\n",
       "            console.log([gd, 'removed!']);\n",
       "            Plotly.purge(gd);\n",
       "            observer.disconnect();\n",
       "        }}\n",
       "}});\n",
       "\n",
       "// Listen for the removal of the full notebook cells\n",
       "var notebookContainer = gd.closest('#notebook-container');\n",
       "if (notebookContainer) {{\n",
       "    x.observe(notebookContainer, {childList: true});\n",
       "}}\n",
       "\n",
       "// Listen for the clearing of the current output cell\n",
       "var outputEl = gd.closest('.output');\n",
       "if (outputEl) {{\n",
       "    x.observe(outputEl, {childList: true});\n",
       "}}\n",
       "\n",
       "                        })                };                });            </script>        </div>"
      ]
     },
     "metadata": {},
     "output_type": "display_data"
    }
   ],
   "source": [
    "# create dataframe\n",
    "df_group = (df_new.groupby(['platform', 'os', 'device'])['login_status']\n",
    "            .count()\n",
    "            .reset_index()\n",
    "            .rename(columns={'login_status':'count'}))\n",
    "df_group = df_group.sort_values(by='count', ascending=False).reset_index(drop=True)\n",
    "\n",
    "# plot sunburst\n",
    "fig = px.sunburst(df_group, path=['platform', 'os', 'device'], values='count', \n",
    "                  #color='count', color_continuous_scale='magma',\n",
    "                  title='Favorable used platform, os, and device')\n",
    "fig.show()"
   ]
  },
  {
   "cell_type": "code",
   "execution_count": 171,
   "metadata": {},
   "outputs": [
    {
     "data": {
      "image/png": "[encoded data removed]",
      "text/plain": [
       "<Figure size 864x504 with 1 Axes>"
      ]
     },
     "metadata": {
      "needs_background": "light"
     },
     "output_type": "display_data"
    }
   ],
   "source": [
    "ax = df_new.groupby(['date', 'domain_top10'])['date'].count().unstack().plot(marker='.', legend=False)\n",
    "plt.title('Domain Count by Date', fontsize=14)\n",
    "for line, name in zip(ax.lines, df_new['domain_top10'].value_counts().index):\n",
    "    y = line.get_ydata()[-1]\n",
    "    ax.annotate(name, xy=(1,y), xytext=(6,0), color=line.get_color(), \n",
    "                xycoords = ax.get_yaxis_transform(), textcoords=\"offset points\",\n",
    "                va=\"center\")\n",
    "\n",
    "plt.gcf().set_size_inches(12, 7)\n",
    "plt.tight_layout()\n",
    "plt.show()"
   ]
  },
  {
   "cell_type": "code",
   "execution_count": 130,
   "metadata": {
    "extensions": {
     "jupyter_dashboards": {
      "version": 1,
      "views": {
       "grid_default": {},
       "report_default": {
        "hidden": true
       }
      }
     }
    }
   },
   "outputs": [
    {
     "data": {
      "image/png": "[encoded data removed]",
      "text/plain": [
       "<Figure size 1080x720 with 6 Axes>"
      ]
     },
     "metadata": {
      "needs_background": "light"
     },
     "output_type": "display_data"
    }
   ],
   "source": [
    "fig, ax = plt.subplots(2, 3, figsize=(15,10))\n",
    "date = 8\n",
    "for x in range(2):\n",
    "    for y in range(3):\n",
    "        data = df_new[df_new['date'] == date]\n",
    "        sns.countplot(data=data, x='login_status', hue='platform', palette=['lightskyblue', 'gold'], \n",
    "                      ax=ax[x][y])\n",
    "        ax[x][y].set_xlabel(f'Data distribution at {date}-2-2021')\n",
    "        date+=1\n",
    "plt.show()"
   ]
  },
  {
   "cell_type": "code",
   "execution_count": 169,
   "metadata": {},
   "outputs": [
    {
     "data": {
      "image/png": "[encoded data removed]",
      "text/plain": [
       "<Figure size 1080x504 with 1 Axes>"
      ]
     },
     "metadata": {
      "needs_background": "light"
     },
     "output_type": "display_data"
    }
   ],
   "source": [
    "plt.figure(figsize=(15,7))\n",
    "sns.countplot(data=df_new, x='domain_top10', hue='login_status', \n",
    "              order = df_new['domain_top10'].value_counts().index, palette=['lightskyblue', 'gold'])\n",
    "plt.title('Distribution of [login_status] at [domain_top10]')\n",
    "plt.show()"
   ]
  },
  {
   "cell_type": "code",
   "execution_count": 170,
   "metadata": {},
   "outputs": [
    {
     "data": {
      "image/png": "[encoded data removed]",
      "text/plain": [
       "<Figure size 1080x504 with 1 Axes>"
      ]
     },
     "metadata": {
      "needs_background": "light"
     },
     "output_type": "display_data"
    }
   ],
   "source": [
    "plt.figure(figsize=(15,7))\n",
    "sns.countplot(data=df_new, x='domain_top10', hue='platform', \n",
    "              order = df_new['domain_top10'].value_counts().index, palette=['lightskyblue', 'gold'])\n",
    "plt.title('Distribution of [platform] at [domain_top10]')\n",
    "plt.show()"
   ]
  },
  {
   "cell_type": "code",
   "execution_count": null,
   "metadata": {},
   "outputs": [],
   "source": []
  }
 ],
 "metadata": {
  "extensions": {
   "jupyter_dashboards": {
    "activeView": "report_default",
    "version": 1,
    "views": {
     "grid_default": {
      "cellMargin": 10,
      "defaultCellHeight": 20,
      "maxColumns": 12,
      "name": "grid",
      "type": "grid"
     },
     "report_default": {
      "name": "report",
      "type": "report"
     }
    }
   }
  },
  "kernelspec": {
   "display_name": "Python 3",
   "language": "python",
   "name": "python3"
  },
  "language_info": {
   "codemirror_mode": {
    "name": "ipython",
    "version": 3
   },
   "file_extension": ".py",
   "mimetype": "text/x-python",
   "name": "python",
   "nbconvert_exporter": "python",
   "pygments_lexer": "ipython3",
   "version": "3.8.3"
  }
 },
 "nbformat": 4,
 "nbformat_minor": 4
}
