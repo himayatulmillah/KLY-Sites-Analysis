{
 "cells": [
  {
   "cell_type": "markdown",
   "metadata": {},
   "source": [
    "<img src='./Resources/img/logo_footer_kly.png' alt='Kapanlagi Youniverse'>"
   ]
  },
  {
   "cell_type": "markdown",
   "metadata": {},
   "source": [
    "<h1 style='text-align:center'>Kapanlagi Youniverse Sites Analysis</h1>\n",
    "<p style='text-align:center'>Test submission for Data Analyst at Kapanlagi Youniverse</p>\n",
    "<hr>"
   ]
  },
  {
   "cell_type": "markdown",
   "metadata": {},
   "source": [
    "<h2>Content:</h2>\n",
    "\n",
    "<div class=\"alert alert-block alert-info\" style=\"margin-top: 20px\">\n",
    "    <ol>\n",
    "        <li><a href=\"#Introduction\">Introduction</a>\n",
    "            <ul>\n",
    "                <li><a href=\"#Business-Understanding\">Business Understanding</a></li>\n",
    "                <li><a href=\"#Problem-Defining\">Problem Defining</a></li>\n",
    "                <li><a href=\"#Necessary-Libraries\">Necessary Libraries</a></li>\n",
    "            </ul></li><br>\n",
    "        <li><a href=\"#Data-Understanding\">Data Understanding</a>\n",
    "            <ul>\n",
    "                <li><a href=\"#Dataset-Import\">Dataset Import</a></li>\n",
    "                <li><a href=\"#Dataset-Information\">Dataset Information</a></li>\n",
    "            </ul></li><br>\n",
    "        <li><a href=\"#Data-Preprocessing\">Data Preprocessing</a>\n",
    "            <ul>\n",
    "                <li><a href=\"#Handling-Missing-Values\">Handling Missing Values</a></li>\n",
    "                <li><a href=\"#Feature-Engineering\">Feature Engineering</a></li>\n",
    "                <li><a href=\"#Unnecessary-Features\">Unnecessary Features</a></li>\n",
    "            </ul></li><br>\n",
    "        <li><a href=\"#Exploratory-Data-Analysis\">Exploratory Data Analysis</a>\n",
    "            <ul>\n",
    "                <li><a href=\"#\"></a></li>\n",
    "                <li><a href=\"#\"></a></li>\n",
    "            </ul></li><br>\n",
    "        <li><a href=\"#Questions\">Questions</a>\n",
    "            <ul>\n",
    "                <li><a href=\"#Domain-Retention\">How could we know the retention % of the users on each domain ?</a></li>\n",
    "                <li><a href=\"#Favorable-Used\">Can you give insight on favorable used browsers, devices, OS and platform ?</a></li>\n",
    "                <li><a href=\"#Overlapping-Users\">Could you show the method on how to get the numbers & describe the overlapping users between each domain ?</a></li>\n",
    "            </ul></li><br>\n",
    "        <li><a href=\"#Reference\">Reference</a></li>\n",
    "    </ol>\n",
    "</div>"
   ]
  },
  {
   "cell_type": "markdown",
   "metadata": {},
   "source": [
    "<h2><a name='Introduction'>1. Introduction</a></h2>"
   ]
  },
  {
   "cell_type": "markdown",
   "metadata": {},
   "source": [
    "<h3><a name='Business-Understanding'>1.1. Business Understanding</a></h3>"
   ]
  },
  {
   "cell_type": "markdown",
   "metadata": {},
   "source": [
    "Sites analysis also known as web analytics is the measurement, collection, analysis, and reporting of web data to understand and optimize web usage. Web analytics is not just a process for measuring web traffic but can be used as a tool for business and market research and assess and improve website effectiveness<a href='#1'>[1]</a>.\n",
    "\n",
    "Kapanlagi Youniverse (KLY) is a digital media network that cover a wide range of content from breaking news, lifestyle, entertainment, health, sport and social-media-hyped content<a href='#2'>[2]</a>.\n",
    "\n",
    "Kapanlagi Youniverse (KLY) is the result of a merger between PT. Coverage of Six Dot Com and PT. Kapanlagi Dot Com Networks (KLN), which is currently part of the Emtek Group as the Largest Media Group in Indonesia. Media that are members of Kapanlagi Youniverse are Liputan6.com, Bola.com, Kapanlagi.com, Merdeka.com, Bola.net, Fimela.com, Brilio.com, Famous.id, Otosia.com and Dream.co.id<a href='#3'>[3]</a>.\n",
    "\n",
    "As a digital media network KLY wants to improve website effectiveness with site analysis by processing a visit dataset which contains a sample of users visit activity on KLY sites for 7 days. Dataset sources:\n",
    "<ul>\n",
    "    <li>sampling 1% visit dataset: <code>https://drive.google.com/drive/folders/1DxWkG29Kv7ozU2l5Xm7VDpLGhKdM9elV?usp=sharing</code></li>\n",
    "    <li>sampling 2% visit dataset: <code>https://drive.google.com/drive/folders/1f1dYIBMSqzsrjrawuJMClUoAbHHl4S5q?usp=sharing</code></li>\n",
    "    <li>sampling 5% visit dataset: <code>https://drive.google.com/drive/folders/1dcacIQeZAltjFvKnuzKqq3kwwYmp3eQE?usp=sharing</code></li>\n",
    "    <li>sampling 10% visit dataset: <code>https://drive.google.com/drive/folders/1_6KSTkYCC3FGJnpP09rw5NceFdtsiGoL?usp=sharing</code></li>\n",
    "    <li>Full Dataset: <code>https://drive.google.com/drive/folders/1CZxFknarzDLLmHt5VnHJ97Yro6QxWxFn?usp=sharing</code></li>\n",
    "</ul>\n",
    "\n",
    "It is not necessary to work with the entire dataset but working with larger dataset is more challenging and more interesting.\n"
   ]
  },
  {
   "cell_type": "markdown",
   "metadata": {},
   "source": [
    "<h3><a name='Problem-Defining'>1.2. Problem Defining</a></h3>"
   ]
  },
  {
   "cell_type": "markdown",
   "metadata": {},
   "source": [
    "There is some of the questions that will be answered in the analysis process of this KLY website:\n",
    "<ol>\n",
    "    <li>How could we know the retention % of the users on each domain ?</li>\n",
    "    <li>Can you give insight on favorable used browsers, devices, OS and platform ?</li>\n",
    "    <li>Could you show the method on how to get the numbers & describe the overlapping users between each domain ?</li>\n",
    "</ol>"
   ]
  },
  {
   "cell_type": "markdown",
   "metadata": {},
   "source": [
    "<h3><a name='Necessary-Libraries'>1.3. Necessary Libraries</a></h3>"
   ]
  },
  {
   "cell_type": "markdown",
   "metadata": {},
   "source": [
    "In this analysis, several packages will be used that assist in data analysis:\n",
    "<ul>\n",
    "    <li><a herf='https://pandas.pydata.org/pandas-docs/stable/index.html'>Pandas</a> for data processing\n",
    "        <ul>\n",
    "            <li>Pip: <code>pip install pandas</code></li>\n",
    "            <li>Conda: <code>conda install pandas</code></li>\n",
    "        </ul></li>\n",
    "    <li><a herf='https://matplotlib.org/stable/contents.html'>Matplotlib</a> for visualization\n",
    "        <ul>\n",
    "            <li>Pip: <code>pip install matplotlib</code></li>\n",
    "            <li>Conda: <code>conda install -c conda-forge matplotlib</code></li>\n",
    "        </ul></li>\n",
    "    <li><a herf='https://seaborn.pydata.org/index.html'>Seaborn</a> for visualization\n",
    "        <ul>\n",
    "            <li>Pip: <code>pip install seaborn</code></li>\n",
    "            <li>Conda: <code>conda install seaborn</code></li>\n",
    "        </ul></li>\n",
    "    <li><a herf='https://plotly.com/python/'>Plotly</a> for visualization\n",
    "        <ul>\n",
    "            <li>Pip: <code>pip install plotly==4.14.3</code></li>\n",
    "            <li>Conda: <code>conda install -c plotly plotly=4.14.3</code></li>\n",
    "        </ul></li>\n",
    "</ul>"
   ]
  },
  {
   "cell_type": "code",
   "execution_count": 1,
   "metadata": {},
   "outputs": [],
   "source": [
    "import os\n",
    "import pandas as pd\n",
    "import matplotlib.pyplot as plt\n",
    "import seaborn as sns\n",
    "import plotly.express as px"
   ]
  },
  {
   "cell_type": "markdown",
   "metadata": {},
   "source": [
    "<h2><a name='Data-Understanding'>2. Data Understanding</a></h2>"
   ]
  },
  {
   "cell_type": "markdown",
   "metadata": {},
   "source": [
    "<h3><a name='Dataset-Import'>2.1. Dataset Import</a></h3>"
   ]
  },
  {
   "cell_type": "markdown",
   "metadata": {},
   "source": [
    "This project using sampling 1% visit dataset that downloaded from <a herf='https://drive.google.com/drive/folders/1DxWkG29Kv7ozU2l5Xm7VDpLGhKdM9elV?usp=sharing'>google drive</a> and store it to the /Resource folder, this dataset consists of 7 csv files, each of which contains a history of visits from the 8th to the 14th February 2021 sequentially.\n",
    "\n",
    "Create <code>for</code> looping to load all the dataset from /Resource folder. Before importing all of the dataset, get the column name by reading first row data using <code>open()</code> python function and <code>.split()</code> the column name with comma (,) as separator. Use <code>.read_csv()</code> function to import the dataset by given parameters <code>names</code> for list of column names and <code>skiprows=1</code> for skip first row that contain the column name. Lastly merge all of the dataset with <code>.concat()</code> from pandas then store the merge data to <code>all_data</code> dataframe."
   ]
  },
  {
   "cell_type": "code",
   "execution_count": 2,
   "metadata": {},
   "outputs": [
    {
     "name": "stdout",
     "output_type": "stream",
     "text": [
      "Shape of 10.csv (56250, 19)\n",
      "Shape of 11.csv (56250, 19)\n",
      "Shape of 12.csv (56250, 19)\n",
      "Shape of 13.csv (56250, 19)\n",
      "Shape of 14.csv (56250, 19)\n",
      "Shape of 8.csv (56250, 19)\n",
      "Shape of 9.csv (56250, 19)\n",
      "Shape of all_data: (393750, 19)\n"
     ]
    }
   ],
   "source": [
    "# Get all dataset name in directory\n",
    "files = [file for file in os.listdir('./Resources')]\n",
    "all_data = pd.DataFrame()\n",
    "\n",
    "# Looping to read all dataset\n",
    "for file in files[1:-1]:\n",
    "    # Get column name\n",
    "    f = open('./Resources/'+file, \"r\")\n",
    "    col_names = f.readline().split(\",\")\n",
    "    \n",
    "    # Load dataset\n",
    "    df = pd.read_csv('./Resources/'+file, names=col_names, skiprows=1, low_memory=False)\n",
    "    print(f'Shape of {file}', df.shape)\n",
    "    \n",
    "    # Merge dataset\n",
    "    all_data = pd.concat([all_data, df])\n",
    "    \n",
    "all_data.reset_index(drop=True, inplace=True)\n",
    "print('Shape of all_data:', all_data.shape)"
   ]
  },
  {
   "cell_type": "markdown",
   "metadata": {},
   "source": [
    "<h3><a name='Dataset-Information'>2.2. Dataset Information</a></h3>"
   ]
  },
  {
   "cell_type": "code",
   "execution_count": 3,
   "metadata": {},
   "outputs": [
    {
     "data": {
      "text/html": [
       "<div>\n",
       "<style scoped>\n",
       "    .dataframe tbody tr th:only-of-type {\n",
       "        vertical-align: middle;\n",
       "    }\n",
       "\n",
       "    .dataframe tbody tr th {\n",
       "        vertical-align: top;\n",
       "    }\n",
       "\n",
       "    .dataframe thead th {\n",
       "        text-align: right;\n",
       "    }\n",
       "</style>\n",
       "<table border=\"1\" class=\"dataframe\">\n",
       "  <thead>\n",
       "    <tr style=\"text-align: right;\">\n",
       "      <th></th>\n",
       "      <th>id</th>\n",
       "      <th>browser_id</th>\n",
       "      <th>os_id</th>\n",
       "      <th>domain_id</th>\n",
       "      <th>device_info_id</th>\n",
       "      <th>visit_id</th>\n",
       "      <th>visitor_id</th>\n",
       "      <th>user_id</th>\n",
       "      <th>device_id</th>\n",
       "      <th>login_status</th>\n",
       "      <th>user_agent</th>\n",
       "      <th>platform</th>\n",
       "      <th>referrer</th>\n",
       "      <th>time</th>\n",
       "      <th>event_time</th>\n",
       "      <th>connection</th>\n",
       "      <th>year</th>\n",
       "      <th>month</th>\n",
       "      <th>day\\n</th>\n",
       "    </tr>\n",
       "  </thead>\n",
       "  <tbody>\n",
       "    <tr>\n",
       "      <th>0</th>\n",
       "      <td>cc8d7394-8fa2-480d-bc5f-2362177e9061</td>\n",
       "      <td>pale moon;28.16.0</td>\n",
       "      <td>windows;7</td>\n",
       "      <td>bukalapak.com</td>\n",
       "      <td>;other</td>\n",
       "      <td>162eb0cb-92d4-4bfd-a49f-666e8c8761ff</td>\n",
       "      <td>8eca0aa0-f83d-4f37-92f4-fecd5169c4f0</td>\n",
       "      <td>NaN</td>\n",
       "      <td>NaN</td>\n",
       "      <td>False</td>\n",
       "      <td>Mozilla/5.0 (Windows NT 6.1; Win64; x64; rv:68...</td>\n",
       "      <td>web-desktop</td>\n",
       "      <td>https://www.bukalapak.com/payment/transactions...</td>\n",
       "      <td>2021-02-10T09:12:45.000Z</td>\n",
       "      <td>2021-02-10T09:12:45.000Z</td>\n",
       "      <td>NaN</td>\n",
       "      <td>2021</td>\n",
       "      <td>2</td>\n",
       "      <td>10</td>\n",
       "    </tr>\n",
       "    <tr>\n",
       "      <th>1</th>\n",
       "      <td>0beb15cb-ff11-4e05-9d12-9c06b4d7acd3</td>\n",
       "      <td>chrome mobile;80.0.3987</td>\n",
       "      <td>android;10</td>\n",
       "      <td>m.liputan6.com</td>\n",
       "      <td>generic;generic smartphone</td>\n",
       "      <td>a00d0354-d67a-4c0c-89fc-3f3b0faceb10</td>\n",
       "      <td>f81a4b87-af9b-4e97-9ebc-b3c1f81e6280</td>\n",
       "      <td>NaN</td>\n",
       "      <td>NaN</td>\n",
       "      <td>False</td>\n",
       "      <td>Mozilla/5.0 (Linux; Android 10; V2026) AppleWe...</td>\n",
       "      <td>web-mobile</td>\n",
       "      <td>https://m.liputan6.com/showbiz/read/4479253/al...</td>\n",
       "      <td>2021-02-10T23:23:55.000Z</td>\n",
       "      <td>2021-02-10T23:23:55.000Z</td>\n",
       "      <td>NaN</td>\n",
       "      <td>2021</td>\n",
       "      <td>2</td>\n",
       "      <td>10</td>\n",
       "    </tr>\n",
       "    <tr>\n",
       "      <th>2</th>\n",
       "      <td>ccad1699-30c9-40b3-8a33-cda4df0613ec</td>\n",
       "      <td>pale moon;28.15.0</td>\n",
       "      <td>windows;10</td>\n",
       "      <td>bukalapak.com</td>\n",
       "      <td>;other</td>\n",
       "      <td>1065b1eb-8b54-4b91-9d32-ac9238809f32</td>\n",
       "      <td>59166c52-b4e8-40b2-8641-6a445394e257</td>\n",
       "      <td>NaN</td>\n",
       "      <td>NaN</td>\n",
       "      <td>False</td>\n",
       "      <td>Mozilla/5.0 (Windows NT 10.0; Win64; x64; rv:6...</td>\n",
       "      <td>web-desktop</td>\n",
       "      <td>https://www.bukalapak.com/payment/purchases/BL...</td>\n",
       "      <td>2021-02-10T10:13:53.000Z</td>\n",
       "      <td>2021-02-10T10:13:53.000Z</td>\n",
       "      <td>NaN</td>\n",
       "      <td>2021</td>\n",
       "      <td>2</td>\n",
       "      <td>10</td>\n",
       "    </tr>\n",
       "    <tr>\n",
       "      <th>3</th>\n",
       "      <td>e53eac79-8bf5-4508-8925-d056b281060b</td>\n",
       "      <td>chrome mobile;87.0.4280</td>\n",
       "      <td>android;10</td>\n",
       "      <td>m.bukalapak.com</td>\n",
       "      <td>generic;generic smartphone</td>\n",
       "      <td>68dcbff1-123d-4e80-a887-13dc76e28077</td>\n",
       "      <td>1c74afb2-6893-4167-9d1e-c1f4ec90f0d6</td>\n",
       "      <td>NaN</td>\n",
       "      <td>NaN</td>\n",
       "      <td>False</td>\n",
       "      <td>Mozilla/5.0 (Linux; Android 10; RMX1821) Apple...</td>\n",
       "      <td>web-mobile</td>\n",
       "      <td>https://m.bukalapak.com/p-gs/rumah-tangga/furn...</td>\n",
       "      <td>2021-02-10T22:18:02.000Z</td>\n",
       "      <td>2021-02-10T22:18:02.000Z</td>\n",
       "      <td>NaN</td>\n",
       "      <td>2021</td>\n",
       "      <td>2</td>\n",
       "      <td>10</td>\n",
       "    </tr>\n",
       "    <tr>\n",
       "      <th>4</th>\n",
       "      <td>7fac143e-9556-4d1b-bfa9-9ea5e31fab2f</td>\n",
       "      <td>chrome mobile;88.0.4324</td>\n",
       "      <td>android;10</td>\n",
       "      <td>m.merdeka.com</td>\n",
       "      <td>samsung;samsung sm-g965f</td>\n",
       "      <td>119694d8-86e7-457a-8083-8a4d4b3a424e</td>\n",
       "      <td>81613709-e89d-4796-8260-89170bd40fa0</td>\n",
       "      <td>NaN</td>\n",
       "      <td>NaN</td>\n",
       "      <td>False</td>\n",
       "      <td>Mozilla/5.0 (Linux; Android 10; SM-G965F) Appl...</td>\n",
       "      <td>web-mobile</td>\n",
       "      <td>https://m.merdeka.com/foto/artis/1272931/20210...</td>\n",
       "      <td>2021-02-10T14:14:59.000Z</td>\n",
       "      <td>2021-02-10T14:14:59.000Z</td>\n",
       "      <td>NaN</td>\n",
       "      <td>2021</td>\n",
       "      <td>2</td>\n",
       "      <td>10</td>\n",
       "    </tr>\n",
       "  </tbody>\n",
       "</table>\n",
       "</div>"
      ],
      "text/plain": [
       "                                     id               browser_id       os_id  \\\n",
       "0  cc8d7394-8fa2-480d-bc5f-2362177e9061        pale moon;28.16.0   windows;7   \n",
       "1  0beb15cb-ff11-4e05-9d12-9c06b4d7acd3  chrome mobile;80.0.3987  android;10   \n",
       "2  ccad1699-30c9-40b3-8a33-cda4df0613ec        pale moon;28.15.0  windows;10   \n",
       "3  e53eac79-8bf5-4508-8925-d056b281060b  chrome mobile;87.0.4280  android;10   \n",
       "4  7fac143e-9556-4d1b-bfa9-9ea5e31fab2f  chrome mobile;88.0.4324  android;10   \n",
       "\n",
       "         domain_id              device_info_id  \\\n",
       "0    bukalapak.com                      ;other   \n",
       "1   m.liputan6.com  generic;generic smartphone   \n",
       "2    bukalapak.com                      ;other   \n",
       "3  m.bukalapak.com  generic;generic smartphone   \n",
       "4    m.merdeka.com    samsung;samsung sm-g965f   \n",
       "\n",
       "                               visit_id                            visitor_id  \\\n",
       "0  162eb0cb-92d4-4bfd-a49f-666e8c8761ff  8eca0aa0-f83d-4f37-92f4-fecd5169c4f0   \n",
       "1  a00d0354-d67a-4c0c-89fc-3f3b0faceb10  f81a4b87-af9b-4e97-9ebc-b3c1f81e6280   \n",
       "2  1065b1eb-8b54-4b91-9d32-ac9238809f32  59166c52-b4e8-40b2-8641-6a445394e257   \n",
       "3  68dcbff1-123d-4e80-a887-13dc76e28077  1c74afb2-6893-4167-9d1e-c1f4ec90f0d6   \n",
       "4  119694d8-86e7-457a-8083-8a4d4b3a424e  81613709-e89d-4796-8260-89170bd40fa0   \n",
       "\n",
       "   user_id  device_id  login_status  \\\n",
       "0      NaN        NaN         False   \n",
       "1      NaN        NaN         False   \n",
       "2      NaN        NaN         False   \n",
       "3      NaN        NaN         False   \n",
       "4      NaN        NaN         False   \n",
       "\n",
       "                                          user_agent     platform  \\\n",
       "0  Mozilla/5.0 (Windows NT 6.1; Win64; x64; rv:68...  web-desktop   \n",
       "1  Mozilla/5.0 (Linux; Android 10; V2026) AppleWe...   web-mobile   \n",
       "2  Mozilla/5.0 (Windows NT 10.0; Win64; x64; rv:6...  web-desktop   \n",
       "3  Mozilla/5.0 (Linux; Android 10; RMX1821) Apple...   web-mobile   \n",
       "4  Mozilla/5.0 (Linux; Android 10; SM-G965F) Appl...   web-mobile   \n",
       "\n",
       "                                            referrer  \\\n",
       "0  https://www.bukalapak.com/payment/transactions...   \n",
       "1  https://m.liputan6.com/showbiz/read/4479253/al...   \n",
       "2  https://www.bukalapak.com/payment/purchases/BL...   \n",
       "3  https://m.bukalapak.com/p-gs/rumah-tangga/furn...   \n",
       "4  https://m.merdeka.com/foto/artis/1272931/20210...   \n",
       "\n",
       "                       time                event_time connection  year month  \\\n",
       "0  2021-02-10T09:12:45.000Z  2021-02-10T09:12:45.000Z        NaN  2021     2   \n",
       "1  2021-02-10T23:23:55.000Z  2021-02-10T23:23:55.000Z        NaN  2021     2   \n",
       "2  2021-02-10T10:13:53.000Z  2021-02-10T10:13:53.000Z        NaN  2021     2   \n",
       "3  2021-02-10T22:18:02.000Z  2021-02-10T22:18:02.000Z        NaN  2021     2   \n",
       "4  2021-02-10T14:14:59.000Z  2021-02-10T14:14:59.000Z        NaN  2021     2   \n",
       "\n",
       "  day\\n  \n",
       "0    10  \n",
       "1    10  \n",
       "2    10  \n",
       "3    10  \n",
       "4    10  "
      ]
     },
     "execution_count": 3,
     "metadata": {},
     "output_type": "execute_result"
    }
   ],
   "source": [
    "# Check the first five rows of all dataset\n",
    "all_data.head()"
   ]
  },
  {
   "cell_type": "markdown",
   "metadata": {},
   "source": [
    "Glossaries for details of each field attributes (in sequences):\n",
    "<li><code>id</code> : record ID</li>\n",
    "<li><code>browser_id</code> : browser type</li>\n",
    "<li><code>os_id</code> : Operating System type</li>\n",
    "<li><code>domain_id</code> : domain or subdomain of webpage</li>\n",
    "<li><code>device_info_id</code> : device detail information</li>\n",
    "<li><code>visit_id</code>: users session id</li>\n",
    "<li><code>visitor_id</code> : unique user id</li>\n",
    "<li><code>user_id</code> : user login id</li>\n",
    "<li><code>device_id</code> : device ID</li>\n",
    "<li><code>login_status</code> : boolean status of user login</li>\n",
    "<li><code>user_agent</code> : browsers user agent details</li>\n",
    "<li><code>platform</code> : device platform, ie desktop or mobile</li>\n",
    "<li><code>referrer</code> : attribution of the visit, source of visitor coming from</li>\n",
    "<li><code>time</code> : users visit time</li>\n",
    "<li><code>event_time</code> : logging time</li>\n",
    "<li><code>connection</code> : type of user connection</li>\n",
    "<li><code>year</code> : year number</li>\n",
    "<li><code>month</code> : month number</li>\n",
    "<li><code>day</code> : day number</li>"
   ]
  },
  {
   "cell_type": "markdown",
   "metadata": {},
   "source": [
    "Prints information about <code>all_data</code> dataframe including the index dtype and columns, non-null values and memory usage using <code>.info()</code> method."
   ]
  },
  {
   "cell_type": "code",
   "execution_count": 4,
   "metadata": {
    "scrolled": false
   },
   "outputs": [
    {
     "name": "stdout",
     "output_type": "stream",
     "text": [
      "<class 'pandas.core.frame.DataFrame'>\n",
      "RangeIndex: 393750 entries, 0 to 393749\n",
      "Data columns (total 19 columns):\n",
      " #   Column          Non-Null Count   Dtype  \n",
      "---  ------          --------------   -----  \n",
      " 0   id              393750 non-null  object \n",
      " 1   browser_id      393750 non-null  object \n",
      " 2   os_id           393750 non-null  object \n",
      " 3   domain_id       393735 non-null  object \n",
      " 4   device_info_id  393750 non-null  object \n",
      " 5   visit_id        393750 non-null  object \n",
      " 6   visitor_id      393750 non-null  object \n",
      " 7   user_id         16898 non-null   float64\n",
      " 8   device_id       0 non-null       float64\n",
      " 9   login_status    393750 non-null  bool   \n",
      " 10  user_agent      393750 non-null  object \n",
      " 11  platform        393750 non-null  object \n",
      " 12  referrer        393736 non-null  object \n",
      " 13  time            393750 non-null  object \n",
      " 14  event_time      393750 non-null  object \n",
      " 15  connection      14 non-null      object \n",
      " 16  year            393750 non-null  object \n",
      " 17  month           393750 non-null  object \n",
      " 18  day\n",
      "            393750 non-null  object \n",
      "dtypes: bool(1), float64(2), object(16)\n",
      "memory usage: 54.4+ MB\n"
     ]
    }
   ],
   "source": [
    "all_data.info()"
   ]
  },
  {
   "cell_type": "markdown",
   "metadata": {},
   "source": [
    "As the information provided above, there are missing values in the dataset, precisely in the <code>domain_id</code>, <code>user_id</code>, <code>device_id</code>, <code>referrer</code>, and <code>connection</code> columns that will be handled along with other process in the next step, namely data preprocessing."
   ]
  },
  {
   "cell_type": "markdown",
   "metadata": {},
   "source": [
    "<h2><a name='Data-Preprocessing'>3. Data Preprocessing</a></h2>"
   ]
  },
  {
   "cell_type": "markdown",
   "metadata": {},
   "source": [
    "<h3><a name='Handling-Missing-Values'>3.1. Handling Missing Values</a></h3>"
   ]
  },
  {
   "cell_type": "markdown",
   "metadata": {},
   "source": [
    "<h3><a name='Feature-Engineering'>3.2. Feature Engineering</a></h3>"
   ]
  },
  {
   "cell_type": "markdown",
   "metadata": {},
   "source": [
    "<h3><a name='Unnecessary-Features'>3.3. Unnecessary Features</a></h3>"
   ]
  },
  {
   "cell_type": "markdown",
   "metadata": {},
   "source": [
    "<h2><a name='Exploratory-Data-Analysis'>4. Exploratory Data Analysis</a></h2>"
   ]
  },
  {
   "cell_type": "markdown",
   "metadata": {},
   "source": [
    "<h2><a name='Questions'>5. Questions</a></h2>"
   ]
  },
  {
   "cell_type": "markdown",
   "metadata": {},
   "source": [
    "<h3><a name='Domain-Retention'>5.1. How could we know the retention % of the users on each domain ?</a></h3>"
   ]
  },
  {
   "cell_type": "markdown",
   "metadata": {},
   "source": [
    "<h3><a name='Favorable-Used'>5.2. Can you give insight on favorable used browsers, devices, OS and platform ?</a></h3>"
   ]
  },
  {
   "cell_type": "markdown",
   "metadata": {},
   "source": [
    "<h3><a name='Overlapping-Users'>5.3. Could you show the method on how to get the numbers & describe the overlapping users between each domain ?</a></h3>"
   ]
  },
  {
   "cell_type": "markdown",
   "metadata": {},
   "source": [
    "<h2><a name='Reference'>6. Reference</a></h2>"
   ]
  },
  {
   "cell_type": "markdown",
   "metadata": {},
   "source": [
    "<a name='1' herf='https://en.wikipedia.org/wiki/Web_analytics'>[1] Web Analytics</a><br>\n",
    "<a name='2' herf='https://www.kly.id/product'>[2] Kapanlagi Youniverse</a><br>\n",
    "<a name='3' herf='https://www.bola.com/asian-para-games/read/3658308/kapanlagi-youniverse-official-online-media-asian-para-games-2018'>[3] KLY Media Online</a><br>"
   ]
  },
  {
   "cell_type": "code",
   "execution_count": null,
   "metadata": {},
   "outputs": [],
   "source": []
  }
 ],
 "metadata": {
  "kernelspec": {
   "display_name": "Python 3",
   "language": "python",
   "name": "python3"
  },
  "language_info": {
   "codemirror_mode": {
    "name": "ipython",
    "version": 3
   },
   "file_extension": ".py",
   "mimetype": "text/x-python",
   "name": "python",
   "nbconvert_exporter": "python",
   "pygments_lexer": "ipython3",
   "version": "3.8.3"
  }
 },
 "nbformat": 4,
 "nbformat_minor": 4
}
